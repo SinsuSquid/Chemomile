{
 "cells": [
  {
   "cell_type": "markdown",
   "id": "9f2e2ffc-a9a2-40ed-8195-83c77f9fb3ee",
   "metadata": {},
   "source": [
    "# Hyperparameters"
   ]
  },
  {
   "cell_type": "code",
   "execution_count": 1,
   "id": "a2def048-a588-45a7-a583-6f18aba9d8f8",
   "metadata": {},
   "outputs": [],
   "source": [
    "parameters = dict(\n",
    "    target = 'FLVL',\n",
    "    subfrag_size = 4,\n",
    "    edge_size = 1,\n",
    "    out_size = 1,\n",
    "    seed = 42,\n",
    "    batch_size = 32,\n",
    "    max_epoch = 200,\n",
    "    verbose = True,\n",
    "    \n",
    "    hidden_size = 50,\n",
    "    dropout = 0.20,\n",
    "    num_layers = 3,\n",
    "    num_timesteps = 3,\n",
    "    lr_init = 0.001,\n",
    "    gamma = 0.998,\n",
    ")"
   ]
  },
  {
   "cell_type": "markdown",
   "id": "5dcdf158-c73b-44c6-9f1a-2113ac1a1cbf",
   "metadata": {},
   "source": [
    "# Dataset"
   ]
  },
  {
   "cell_type": "code",
   "execution_count": 2,
   "id": "795e2cf9-172f-4617-9123-6e85a5a4c82c",
   "metadata": {},
   "outputs": [
    {
     "name": "stdout",
     "output_type": "stream",
     "text": [
      "\tDataDump found for 'FLVL'. Loading dumped data.\n",
      "Training : 372 | Validation : 46 | Test : 47\n",
      "Total : 465\n"
     ]
    }
   ],
   "source": [
    "from src.data import Dataset\n",
    "\n",
    "dataset = Dataset(\n",
    "    target = parameters['target'],\n",
    "    seed = parameters['seed'],\n",
    "    batch_size = parameters['batch_size'],\n",
    "    verbose = parameters['verbose']\n",
    ")"
   ]
  },
  {
   "cell_type": "markdown",
   "id": "e2251aae-7470-489c-a8c3-69a8236ea3de",
   "metadata": {},
   "source": [
    "# Training"
   ]
  },
  {
   "cell_type": "code",
   "execution_count": 3,
   "id": "a11e87bf-53d0-4040-9230-84dbc3f0426f",
   "metadata": {
    "scrolled": true
   },
   "outputs": [
    {
     "data": {
      "application/vnd.jupyter.widget-view+json": {
       "model_id": "1b4bf15ca2554a4b95abd8af5446eff8",
       "version_major": 2,
       "version_minor": 0
      },
      "text/plain": [
       "Output()"
      ]
     },
     "metadata": {},
     "output_type": "display_data"
    },
    {
     "data": {
      "text/html": [
       "<pre style=\"white-space:pre;overflow-x:auto;line-height:normal;font-family:Menlo,'DejaVu Sans Mono',consolas,'Courier New',monospace\">| Epoch :    0 | Trn. Loss : 1.002e+00 | Val. Loss : 9.123e-01 | LR : 1.000e-03 |\n",
       "</pre>\n"
      ],
      "text/plain": [
       "| Epoch :    0 | Trn. Loss : 1.002e+00 | Val. Loss : 9.123e-01 | LR : 1.000e-03 |\n"
      ]
     },
     "metadata": {},
     "output_type": "display_data"
    },
    {
     "data": {
      "text/html": [
       "<pre style=\"white-space:pre;overflow-x:auto;line-height:normal;font-family:Menlo,'DejaVu Sans Mono',consolas,'Courier New',monospace\">        Saving the best model with valLoss : 0.912\n",
       "</pre>\n"
      ],
      "text/plain": [
       "        Saving the best model with valLoss : 0.912\n"
      ]
     },
     "metadata": {},
     "output_type": "display_data"
    },
    {
     "data": {
      "text/html": [
       "<pre style=\"white-space:pre;overflow-x:auto;line-height:normal;font-family:Menlo,'DejaVu Sans Mono',consolas,'Courier New',monospace\">| Epoch :    1 | Trn. Loss : 8.005e-01 | Val. Loss : 6.670e-01 | LR : 9.980e-04 |\n",
       "</pre>\n"
      ],
      "text/plain": [
       "| Epoch :    1 | Trn. Loss : 8.005e-01 | Val. Loss : 6.670e-01 | LR : 9.980e-04 |\n"
      ]
     },
     "metadata": {},
     "output_type": "display_data"
    },
    {
     "data": {
      "text/html": [
       "<pre style=\"white-space:pre;overflow-x:auto;line-height:normal;font-family:Menlo,'DejaVu Sans Mono',consolas,'Courier New',monospace\">        Saving the best model with valLoss : 0.667\n",
       "</pre>\n"
      ],
      "text/plain": [
       "        Saving the best model with valLoss : 0.667\n"
      ]
     },
     "metadata": {},
     "output_type": "display_data"
    },
    {
     "data": {
      "text/html": [
       "<pre style=\"white-space:pre;overflow-x:auto;line-height:normal;font-family:Menlo,'DejaVu Sans Mono',consolas,'Courier New',monospace\">| Epoch :    2 | Trn. Loss : 5.574e-01 | Val. Loss : 5.489e-01 | LR : 9.960e-04 |\n",
       "</pre>\n"
      ],
      "text/plain": [
       "| Epoch :    2 | Trn. Loss : 5.574e-01 | Val. Loss : 5.489e-01 | LR : 9.960e-04 |\n"
      ]
     },
     "metadata": {},
     "output_type": "display_data"
    },
    {
     "data": {
      "text/html": [
       "<pre style=\"white-space:pre;overflow-x:auto;line-height:normal;font-family:Menlo,'DejaVu Sans Mono',consolas,'Courier New',monospace\">        Saving the best model with valLoss : 0.549\n",
       "</pre>\n"
      ],
      "text/plain": [
       "        Saving the best model with valLoss : 0.549\n"
      ]
     },
     "metadata": {},
     "output_type": "display_data"
    },
    {
     "data": {
      "text/html": [
       "<pre style=\"white-space:pre;overflow-x:auto;line-height:normal;font-family:Menlo,'DejaVu Sans Mono',consolas,'Courier New',monospace\">| Epoch :    3 | Trn. Loss : 4.352e-01 | Val. Loss : 5.374e-01 | LR : 9.940e-04 |\n",
       "</pre>\n"
      ],
      "text/plain": [
       "| Epoch :    3 | Trn. Loss : 4.352e-01 | Val. Loss : 5.374e-01 | LR : 9.940e-04 |\n"
      ]
     },
     "metadata": {},
     "output_type": "display_data"
    },
    {
     "data": {
      "text/html": [
       "<pre style=\"white-space:pre;overflow-x:auto;line-height:normal;font-family:Menlo,'DejaVu Sans Mono',consolas,'Courier New',monospace\">        Saving the best model with valLoss : 0.537\n",
       "</pre>\n"
      ],
      "text/plain": [
       "        Saving the best model with valLoss : 0.537\n"
      ]
     },
     "metadata": {},
     "output_type": "display_data"
    },
    {
     "data": {
      "text/html": [
       "<pre style=\"white-space:pre;overflow-x:auto;line-height:normal;font-family:Menlo,'DejaVu Sans Mono',consolas,'Courier New',monospace\">| Epoch :    4 | Trn. Loss : 3.998e-01 | Val. Loss : 6.147e-01 | LR : 9.920e-04 |\n",
       "</pre>\n"
      ],
      "text/plain": [
       "| Epoch :    4 | Trn. Loss : 3.998e-01 | Val. Loss : 6.147e-01 | LR : 9.920e-04 |\n"
      ]
     },
     "metadata": {},
     "output_type": "display_data"
    },
    {
     "data": {
      "text/html": [
       "<pre style=\"white-space:pre;overflow-x:auto;line-height:normal;font-family:Menlo,'DejaVu Sans Mono',consolas,'Courier New',monospace\">| Epoch :    5 | Trn. Loss : 4.101e-01 | Val. Loss : 4.517e-01 | LR : 9.900e-04 |\n",
       "</pre>\n"
      ],
      "text/plain": [
       "| Epoch :    5 | Trn. Loss : 4.101e-01 | Val. Loss : 4.517e-01 | LR : 9.900e-04 |\n"
      ]
     },
     "metadata": {},
     "output_type": "display_data"
    },
    {
     "data": {
      "text/html": [
       "<pre style=\"white-space:pre;overflow-x:auto;line-height:normal;font-family:Menlo,'DejaVu Sans Mono',consolas,'Courier New',monospace\">        Saving the best model with valLoss : 0.452\n",
       "</pre>\n"
      ],
      "text/plain": [
       "        Saving the best model with valLoss : 0.452\n"
      ]
     },
     "metadata": {},
     "output_type": "display_data"
    },
    {
     "data": {
      "text/html": [
       "<pre style=\"white-space:pre;overflow-x:auto;line-height:normal;font-family:Menlo,'DejaVu Sans Mono',consolas,'Courier New',monospace\">| Epoch :    6 | Trn. Loss : 3.518e-01 | Val. Loss : 1.092e+00 | LR : 9.881e-04 |\n",
       "</pre>\n"
      ],
      "text/plain": [
       "| Epoch :    6 | Trn. Loss : 3.518e-01 | Val. Loss : 1.092e+00 | LR : 9.881e-04 |\n"
      ]
     },
     "metadata": {},
     "output_type": "display_data"
    },
    {
     "data": {
      "text/html": [
       "<pre style=\"white-space:pre;overflow-x:auto;line-height:normal;font-family:Menlo,'DejaVu Sans Mono',consolas,'Courier New',monospace\">| Epoch :    7 | Trn. Loss : 4.785e-01 | Val. Loss : 6.350e-01 | LR : 9.861e-04 |\n",
       "</pre>\n"
      ],
      "text/plain": [
       "| Epoch :    7 | Trn. Loss : 4.785e-01 | Val. Loss : 6.350e-01 | LR : 9.861e-04 |\n"
      ]
     },
     "metadata": {},
     "output_type": "display_data"
    },
    {
     "data": {
      "text/html": [
       "<pre style=\"white-space:pre;overflow-x:auto;line-height:normal;font-family:Menlo,'DejaVu Sans Mono',consolas,'Courier New',monospace\">| Epoch :    8 | Trn. Loss : 4.648e-01 | Val. Loss : 7.074e-01 | LR : 9.841e-04 |\n",
       "</pre>\n"
      ],
      "text/plain": [
       "| Epoch :    8 | Trn. Loss : 4.648e-01 | Val. Loss : 7.074e-01 | LR : 9.841e-04 |\n"
      ]
     },
     "metadata": {},
     "output_type": "display_data"
    },
    {
     "data": {
      "text/html": [
       "<pre style=\"white-space:pre;overflow-x:auto;line-height:normal;font-family:Menlo,'DejaVu Sans Mono',consolas,'Courier New',monospace\">| Epoch :    9 | Trn. Loss : 4.112e-01 | Val. Loss : 6.012e-01 | LR : 9.821e-04 |\n",
       "</pre>\n"
      ],
      "text/plain": [
       "| Epoch :    9 | Trn. Loss : 4.112e-01 | Val. Loss : 6.012e-01 | LR : 9.821e-04 |\n"
      ]
     },
     "metadata": {},
     "output_type": "display_data"
    },
    {
     "data": {
      "text/html": [
       "<pre style=\"white-space:pre;overflow-x:auto;line-height:normal;font-family:Menlo,'DejaVu Sans Mono',consolas,'Courier New',monospace\">| Epoch :   10 | Trn. Loss : 3.251e-01 | Val. Loss : 4.736e-01 | LR : 9.802e-04 |\n",
       "</pre>\n"
      ],
      "text/plain": [
       "| Epoch :   10 | Trn. Loss : 3.251e-01 | Val. Loss : 4.736e-01 | LR : 9.802e-04 |\n"
      ]
     },
     "metadata": {},
     "output_type": "display_data"
    },
    {
     "data": {
      "text/html": [
       "<pre style=\"white-space:pre;overflow-x:auto;line-height:normal;font-family:Menlo,'DejaVu Sans Mono',consolas,'Courier New',monospace\">| Epoch :   11 | Trn. Loss : 2.502e-01 | Val. Loss : 4.786e-01 | LR : 9.782e-04 |\n",
       "</pre>\n"
      ],
      "text/plain": [
       "| Epoch :   11 | Trn. Loss : 2.502e-01 | Val. Loss : 4.786e-01 | LR : 9.782e-04 |\n"
      ]
     },
     "metadata": {},
     "output_type": "display_data"
    },
    {
     "data": {
      "text/html": [
       "<pre style=\"white-space:pre;overflow-x:auto;line-height:normal;font-family:Menlo,'DejaVu Sans Mono',consolas,'Courier New',monospace\">| Epoch :   12 | Trn. Loss : 3.228e-01 | Val. Loss : 5.351e-01 | LR : 9.763e-04 |\n",
       "</pre>\n"
      ],
      "text/plain": [
       "| Epoch :   12 | Trn. Loss : 3.228e-01 | Val. Loss : 5.351e-01 | LR : 9.763e-04 |\n"
      ]
     },
     "metadata": {},
     "output_type": "display_data"
    },
    {
     "data": {
      "text/html": [
       "<pre style=\"white-space:pre;overflow-x:auto;line-height:normal;font-family:Menlo,'DejaVu Sans Mono',consolas,'Courier New',monospace\">| Epoch :   13 | Trn. Loss : 2.801e-01 | Val. Loss : 5.150e-01 | LR : 9.743e-04 |\n",
       "</pre>\n"
      ],
      "text/plain": [
       "| Epoch :   13 | Trn. Loss : 2.801e-01 | Val. Loss : 5.150e-01 | LR : 9.743e-04 |\n"
      ]
     },
     "metadata": {},
     "output_type": "display_data"
    },
    {
     "data": {
      "text/html": [
       "<pre style=\"white-space:pre;overflow-x:auto;line-height:normal;font-family:Menlo,'DejaVu Sans Mono',consolas,'Courier New',monospace\">| Epoch :   14 | Trn. Loss : 2.775e-01 | Val. Loss : 5.368e-01 | LR : 9.724e-04 |\n",
       "</pre>\n"
      ],
      "text/plain": [
       "| Epoch :   14 | Trn. Loss : 2.775e-01 | Val. Loss : 5.368e-01 | LR : 9.724e-04 |\n"
      ]
     },
     "metadata": {},
     "output_type": "display_data"
    },
    {
     "data": {
      "text/html": [
       "<pre style=\"white-space:pre;overflow-x:auto;line-height:normal;font-family:Menlo,'DejaVu Sans Mono',consolas,'Courier New',monospace\">| Epoch :   15 | Trn. Loss : 2.773e-01 | Val. Loss : 4.842e-01 | LR : 9.704e-04 |\n",
       "</pre>\n"
      ],
      "text/plain": [
       "| Epoch :   15 | Trn. Loss : 2.773e-01 | Val. Loss : 4.842e-01 | LR : 9.704e-04 |\n"
      ]
     },
     "metadata": {},
     "output_type": "display_data"
    },
    {
     "data": {
      "text/html": [
       "<pre style=\"white-space:pre;overflow-x:auto;line-height:normal;font-family:Menlo,'DejaVu Sans Mono',consolas,'Courier New',monospace\">| Epoch :   16 | Trn. Loss : 2.491e-01 | Val. Loss : 4.721e-01 | LR : 9.685e-04 |\n",
       "</pre>\n"
      ],
      "text/plain": [
       "| Epoch :   16 | Trn. Loss : 2.491e-01 | Val. Loss : 4.721e-01 | LR : 9.685e-04 |\n"
      ]
     },
     "metadata": {},
     "output_type": "display_data"
    },
    {
     "data": {
      "text/html": [
       "<pre style=\"white-space:pre;overflow-x:auto;line-height:normal;font-family:Menlo,'DejaVu Sans Mono',consolas,'Courier New',monospace\">| Epoch :   17 | Trn. Loss : 3.018e-01 | Val. Loss : 4.890e-01 | LR : 9.665e-04 |\n",
       "</pre>\n"
      ],
      "text/plain": [
       "| Epoch :   17 | Trn. Loss : 3.018e-01 | Val. Loss : 4.890e-01 | LR : 9.665e-04 |\n"
      ]
     },
     "metadata": {},
     "output_type": "display_data"
    },
    {
     "data": {
      "text/html": [
       "<pre style=\"white-space:pre;overflow-x:auto;line-height:normal;font-family:Menlo,'DejaVu Sans Mono',consolas,'Courier New',monospace\">| Epoch :   18 | Trn. Loss : 2.400e-01 | Val. Loss : 5.861e-01 | LR : 9.646e-04 |\n",
       "</pre>\n"
      ],
      "text/plain": [
       "| Epoch :   18 | Trn. Loss : 2.400e-01 | Val. Loss : 5.861e-01 | LR : 9.646e-04 |\n"
      ]
     },
     "metadata": {},
     "output_type": "display_data"
    },
    {
     "data": {
      "text/html": [
       "<pre style=\"white-space:pre;overflow-x:auto;line-height:normal;font-family:Menlo,'DejaVu Sans Mono',consolas,'Courier New',monospace\">| Epoch :   19 | Trn. Loss : 2.390e-01 | Val. Loss : 4.649e-01 | LR : 9.627e-04 |\n",
       "</pre>\n"
      ],
      "text/plain": [
       "| Epoch :   19 | Trn. Loss : 2.390e-01 | Val. Loss : 4.649e-01 | LR : 9.627e-04 |\n"
      ]
     },
     "metadata": {},
     "output_type": "display_data"
    },
    {
     "data": {
      "text/html": [
       "<pre style=\"white-space:pre;overflow-x:auto;line-height:normal;font-family:Menlo,'DejaVu Sans Mono',consolas,'Courier New',monospace\">| Epoch :   20 | Trn. Loss : 2.140e-01 | Val. Loss : 4.455e-01 | LR : 9.608e-04 |\n",
       "</pre>\n"
      ],
      "text/plain": [
       "| Epoch :   20 | Trn. Loss : 2.140e-01 | Val. Loss : 4.455e-01 | LR : 9.608e-04 |\n"
      ]
     },
     "metadata": {},
     "output_type": "display_data"
    },
    {
     "data": {
      "text/html": [
       "<pre style=\"white-space:pre;overflow-x:auto;line-height:normal;font-family:Menlo,'DejaVu Sans Mono',consolas,'Courier New',monospace\">        Saving the best model with valLoss : 0.445\n",
       "</pre>\n"
      ],
      "text/plain": [
       "        Saving the best model with valLoss : 0.445\n"
      ]
     },
     "metadata": {},
     "output_type": "display_data"
    },
    {
     "data": {
      "text/html": [
       "<pre style=\"white-space:pre;overflow-x:auto;line-height:normal;font-family:Menlo,'DejaVu Sans Mono',consolas,'Courier New',monospace\">| Epoch :   21 | Trn. Loss : 2.376e-01 | Val. Loss : 5.676e-01 | LR : 9.588e-04 |\n",
       "</pre>\n"
      ],
      "text/plain": [
       "| Epoch :   21 | Trn. Loss : 2.376e-01 | Val. Loss : 5.676e-01 | LR : 9.588e-04 |\n"
      ]
     },
     "metadata": {},
     "output_type": "display_data"
    },
    {
     "data": {
      "text/html": [
       "<pre style=\"white-space:pre;overflow-x:auto;line-height:normal;font-family:Menlo,'DejaVu Sans Mono',consolas,'Courier New',monospace\">| Epoch :   22 | Trn. Loss : 2.708e-01 | Val. Loss : 5.245e-01 | LR : 9.569e-04 |\n",
       "</pre>\n"
      ],
      "text/plain": [
       "| Epoch :   22 | Trn. Loss : 2.708e-01 | Val. Loss : 5.245e-01 | LR : 9.569e-04 |\n"
      ]
     },
     "metadata": {},
     "output_type": "display_data"
    },
    {
     "data": {
      "text/html": [
       "<pre style=\"white-space:pre;overflow-x:auto;line-height:normal;font-family:Menlo,'DejaVu Sans Mono',consolas,'Courier New',monospace\">| Epoch :   23 | Trn. Loss : 2.526e-01 | Val. Loss : 4.881e-01 | LR : 9.550e-04 |\n",
       "</pre>\n"
      ],
      "text/plain": [
       "| Epoch :   23 | Trn. Loss : 2.526e-01 | Val. Loss : 4.881e-01 | LR : 9.550e-04 |\n"
      ]
     },
     "metadata": {},
     "output_type": "display_data"
    },
    {
     "data": {
      "text/html": [
       "<pre style=\"white-space:pre;overflow-x:auto;line-height:normal;font-family:Menlo,'DejaVu Sans Mono',consolas,'Courier New',monospace\">| Epoch :   24 | Trn. Loss : 2.033e-01 | Val. Loss : 4.572e-01 | LR : 9.531e-04 |\n",
       "</pre>\n"
      ],
      "text/plain": [
       "| Epoch :   24 | Trn. Loss : 2.033e-01 | Val. Loss : 4.572e-01 | LR : 9.531e-04 |\n"
      ]
     },
     "metadata": {},
     "output_type": "display_data"
    },
    {
     "data": {
      "text/html": [
       "<pre style=\"white-space:pre;overflow-x:auto;line-height:normal;font-family:Menlo,'DejaVu Sans Mono',consolas,'Courier New',monospace\">| Epoch :   25 | Trn. Loss : 2.099e-01 | Val. Loss : 4.522e-01 | LR : 9.512e-04 |\n",
       "</pre>\n"
      ],
      "text/plain": [
       "| Epoch :   25 | Trn. Loss : 2.099e-01 | Val. Loss : 4.522e-01 | LR : 9.512e-04 |\n"
      ]
     },
     "metadata": {},
     "output_type": "display_data"
    },
    {
     "data": {
      "text/html": [
       "<pre style=\"white-space:pre;overflow-x:auto;line-height:normal;font-family:Menlo,'DejaVu Sans Mono',consolas,'Courier New',monospace\">| Epoch :   26 | Trn. Loss : 2.065e-01 | Val. Loss : 4.792e-01 | LR : 9.493e-04 |\n",
       "</pre>\n"
      ],
      "text/plain": [
       "| Epoch :   26 | Trn. Loss : 2.065e-01 | Val. Loss : 4.792e-01 | LR : 9.493e-04 |\n"
      ]
     },
     "metadata": {},
     "output_type": "display_data"
    },
    {
     "data": {
      "text/html": [
       "<pre style=\"white-space:pre;overflow-x:auto;line-height:normal;font-family:Menlo,'DejaVu Sans Mono',consolas,'Courier New',monospace\">| Epoch :   27 | Trn. Loss : 1.743e-01 | Val. Loss : 4.286e-01 | LR : 9.474e-04 |\n",
       "</pre>\n"
      ],
      "text/plain": [
       "| Epoch :   27 | Trn. Loss : 1.743e-01 | Val. Loss : 4.286e-01 | LR : 9.474e-04 |\n"
      ]
     },
     "metadata": {},
     "output_type": "display_data"
    },
    {
     "data": {
      "text/html": [
       "<pre style=\"white-space:pre;overflow-x:auto;line-height:normal;font-family:Menlo,'DejaVu Sans Mono',consolas,'Courier New',monospace\">        Saving the best model with valLoss : 0.429\n",
       "</pre>\n"
      ],
      "text/plain": [
       "        Saving the best model with valLoss : 0.429\n"
      ]
     },
     "metadata": {},
     "output_type": "display_data"
    },
    {
     "data": {
      "text/html": [
       "<pre style=\"white-space:pre;overflow-x:auto;line-height:normal;font-family:Menlo,'DejaVu Sans Mono',consolas,'Courier New',monospace\">| Epoch :   28 | Trn. Loss : 2.286e-01 | Val. Loss : 4.695e-01 | LR : 9.455e-04 |\n",
       "</pre>\n"
      ],
      "text/plain": [
       "| Epoch :   28 | Trn. Loss : 2.286e-01 | Val. Loss : 4.695e-01 | LR : 9.455e-04 |\n"
      ]
     },
     "metadata": {},
     "output_type": "display_data"
    },
    {
     "data": {
      "text/html": [
       "<pre style=\"white-space:pre;overflow-x:auto;line-height:normal;font-family:Menlo,'DejaVu Sans Mono',consolas,'Courier New',monospace\">| Epoch :   29 | Trn. Loss : 2.061e-01 | Val. Loss : 4.978e-01 | LR : 9.436e-04 |\n",
       "</pre>\n"
      ],
      "text/plain": [
       "| Epoch :   29 | Trn. Loss : 2.061e-01 | Val. Loss : 4.978e-01 | LR : 9.436e-04 |\n"
      ]
     },
     "metadata": {},
     "output_type": "display_data"
    },
    {
     "data": {
      "text/html": [
       "<pre style=\"white-space:pre;overflow-x:auto;line-height:normal;font-family:Menlo,'DejaVu Sans Mono',consolas,'Courier New',monospace\">| Epoch :   30 | Trn. Loss : 1.551e-01 | Val. Loss : 4.282e-01 | LR : 9.417e-04 |\n",
       "</pre>\n"
      ],
      "text/plain": [
       "| Epoch :   30 | Trn. Loss : 1.551e-01 | Val. Loss : 4.282e-01 | LR : 9.417e-04 |\n"
      ]
     },
     "metadata": {},
     "output_type": "display_data"
    },
    {
     "data": {
      "text/html": [
       "<pre style=\"white-space:pre;overflow-x:auto;line-height:normal;font-family:Menlo,'DejaVu Sans Mono',consolas,'Courier New',monospace\">        Saving the best model with valLoss : 0.428\n",
       "</pre>\n"
      ],
      "text/plain": [
       "        Saving the best model with valLoss : 0.428\n"
      ]
     },
     "metadata": {},
     "output_type": "display_data"
    },
    {
     "data": {
      "text/html": [
       "<pre style=\"white-space:pre;overflow-x:auto;line-height:normal;font-family:Menlo,'DejaVu Sans Mono',consolas,'Courier New',monospace\">| Epoch :   31 | Trn. Loss : 1.171e-01 | Val. Loss : 3.448e-01 | LR : 9.398e-04 |\n",
       "</pre>\n"
      ],
      "text/plain": [
       "| Epoch :   31 | Trn. Loss : 1.171e-01 | Val. Loss : 3.448e-01 | LR : 9.398e-04 |\n"
      ]
     },
     "metadata": {},
     "output_type": "display_data"
    },
    {
     "data": {
      "text/html": [
       "<pre style=\"white-space:pre;overflow-x:auto;line-height:normal;font-family:Menlo,'DejaVu Sans Mono',consolas,'Courier New',monospace\">        Saving the best model with valLoss : 0.345\n",
       "</pre>\n"
      ],
      "text/plain": [
       "        Saving the best model with valLoss : 0.345\n"
      ]
     },
     "metadata": {},
     "output_type": "display_data"
    },
    {
     "data": {
      "text/html": [
       "<pre style=\"white-space:pre;overflow-x:auto;line-height:normal;font-family:Menlo,'DejaVu Sans Mono',consolas,'Courier New',monospace\">| Epoch :   32 | Trn. Loss : 1.470e-01 | Val. Loss : 3.406e-01 | LR : 9.379e-04 |\n",
       "</pre>\n"
      ],
      "text/plain": [
       "| Epoch :   32 | Trn. Loss : 1.470e-01 | Val. Loss : 3.406e-01 | LR : 9.379e-04 |\n"
      ]
     },
     "metadata": {},
     "output_type": "display_data"
    },
    {
     "data": {
      "text/html": [
       "<pre style=\"white-space:pre;overflow-x:auto;line-height:normal;font-family:Menlo,'DejaVu Sans Mono',consolas,'Courier New',monospace\">        Saving the best model with valLoss : 0.341\n",
       "</pre>\n"
      ],
      "text/plain": [
       "        Saving the best model with valLoss : 0.341\n"
      ]
     },
     "metadata": {},
     "output_type": "display_data"
    },
    {
     "data": {
      "text/html": [
       "<pre style=\"white-space:pre;overflow-x:auto;line-height:normal;font-family:Menlo,'DejaVu Sans Mono',consolas,'Courier New',monospace\">| Epoch :   33 | Trn. Loss : 2.459e-01 | Val. Loss : 4.788e-01 | LR : 9.361e-04 |\n",
       "</pre>\n"
      ],
      "text/plain": [
       "| Epoch :   33 | Trn. Loss : 2.459e-01 | Val. Loss : 4.788e-01 | LR : 9.361e-04 |\n"
      ]
     },
     "metadata": {},
     "output_type": "display_data"
    },
    {
     "data": {
      "text/html": [
       "<pre style=\"white-space:pre;overflow-x:auto;line-height:normal;font-family:Menlo,'DejaVu Sans Mono',consolas,'Courier New',monospace\">| Epoch :   34 | Trn. Loss : 1.876e-01 | Val. Loss : 4.445e-01 | LR : 9.342e-04 |\n",
       "</pre>\n"
      ],
      "text/plain": [
       "| Epoch :   34 | Trn. Loss : 1.876e-01 | Val. Loss : 4.445e-01 | LR : 9.342e-04 |\n"
      ]
     },
     "metadata": {},
     "output_type": "display_data"
    },
    {
     "data": {
      "text/html": [
       "<pre style=\"white-space:pre;overflow-x:auto;line-height:normal;font-family:Menlo,'DejaVu Sans Mono',consolas,'Courier New',monospace\">| Epoch :   35 | Trn. Loss : 1.647e-01 | Val. Loss : 4.291e-01 | LR : 9.323e-04 |\n",
       "</pre>\n"
      ],
      "text/plain": [
       "| Epoch :   35 | Trn. Loss : 1.647e-01 | Val. Loss : 4.291e-01 | LR : 9.323e-04 |\n"
      ]
     },
     "metadata": {},
     "output_type": "display_data"
    },
    {
     "data": {
      "text/html": [
       "<pre style=\"white-space:pre;overflow-x:auto;line-height:normal;font-family:Menlo,'DejaVu Sans Mono',consolas,'Courier New',monospace\">| Epoch :   36 | Trn. Loss : 1.664e-01 | Val. Loss : 3.767e-01 | LR : 9.305e-04 |\n",
       "</pre>\n"
      ],
      "text/plain": [
       "| Epoch :   36 | Trn. Loss : 1.664e-01 | Val. Loss : 3.767e-01 | LR : 9.305e-04 |\n"
      ]
     },
     "metadata": {},
     "output_type": "display_data"
    },
    {
     "data": {
      "text/html": [
       "<pre style=\"white-space:pre;overflow-x:auto;line-height:normal;font-family:Menlo,'DejaVu Sans Mono',consolas,'Courier New',monospace\">| Epoch :   37 | Trn. Loss : 1.480e-01 | Val. Loss : 4.209e-01 | LR : 9.286e-04 |\n",
       "</pre>\n"
      ],
      "text/plain": [
       "| Epoch :   37 | Trn. Loss : 1.480e-01 | Val. Loss : 4.209e-01 | LR : 9.286e-04 |\n"
      ]
     },
     "metadata": {},
     "output_type": "display_data"
    },
    {
     "data": {
      "text/html": [
       "<pre style=\"white-space:pre;overflow-x:auto;line-height:normal;font-family:Menlo,'DejaVu Sans Mono',consolas,'Courier New',monospace\">| Epoch :   38 | Trn. Loss : 1.370e-01 | Val. Loss : 3.831e-01 | LR : 9.267e-04 |\n",
       "</pre>\n"
      ],
      "text/plain": [
       "| Epoch :   38 | Trn. Loss : 1.370e-01 | Val. Loss : 3.831e-01 | LR : 9.267e-04 |\n"
      ]
     },
     "metadata": {},
     "output_type": "display_data"
    },
    {
     "data": {
      "text/html": [
       "<pre style=\"white-space:pre;overflow-x:auto;line-height:normal;font-family:Menlo,'DejaVu Sans Mono',consolas,'Courier New',monospace\">| Epoch :   39 | Trn. Loss : 1.020e-01 | Val. Loss : 3.905e-01 | LR : 9.249e-04 |\n",
       "</pre>\n"
      ],
      "text/plain": [
       "| Epoch :   39 | Trn. Loss : 1.020e-01 | Val. Loss : 3.905e-01 | LR : 9.249e-04 |\n"
      ]
     },
     "metadata": {},
     "output_type": "display_data"
    },
    {
     "data": {
      "text/html": [
       "<pre style=\"white-space:pre;overflow-x:auto;line-height:normal;font-family:Menlo,'DejaVu Sans Mono',consolas,'Courier New',monospace\">| Epoch :   40 | Trn. Loss : 1.352e-01 | Val. Loss : 3.995e-01 | LR : 9.230e-04 |\n",
       "</pre>\n"
      ],
      "text/plain": [
       "| Epoch :   40 | Trn. Loss : 1.352e-01 | Val. Loss : 3.995e-01 | LR : 9.230e-04 |\n"
      ]
     },
     "metadata": {},
     "output_type": "display_data"
    },
    {
     "data": {
      "text/html": [
       "<pre style=\"white-space:pre;overflow-x:auto;line-height:normal;font-family:Menlo,'DejaVu Sans Mono',consolas,'Courier New',monospace\">| Epoch :   41 | Trn. Loss : 1.313e-01 | Val. Loss : 3.736e-01 | LR : 9.212e-04 |\n",
       "</pre>\n"
      ],
      "text/plain": [
       "| Epoch :   41 | Trn. Loss : 1.313e-01 | Val. Loss : 3.736e-01 | LR : 9.212e-04 |\n"
      ]
     },
     "metadata": {},
     "output_type": "display_data"
    },
    {
     "data": {
      "text/html": [
       "<pre style=\"white-space:pre;overflow-x:auto;line-height:normal;font-family:Menlo,'DejaVu Sans Mono',consolas,'Courier New',monospace\">| Epoch :   42 | Trn. Loss : 1.353e-01 | Val. Loss : 2.952e-01 | LR : 9.194e-04 |\n",
       "</pre>\n"
      ],
      "text/plain": [
       "| Epoch :   42 | Trn. Loss : 1.353e-01 | Val. Loss : 2.952e-01 | LR : 9.194e-04 |\n"
      ]
     },
     "metadata": {},
     "output_type": "display_data"
    },
    {
     "data": {
      "text/html": [
       "<pre style=\"white-space:pre;overflow-x:auto;line-height:normal;font-family:Menlo,'DejaVu Sans Mono',consolas,'Courier New',monospace\">        Saving the best model with valLoss : 0.295\n",
       "</pre>\n"
      ],
      "text/plain": [
       "        Saving the best model with valLoss : 0.295\n"
      ]
     },
     "metadata": {},
     "output_type": "display_data"
    },
    {
     "data": {
      "text/html": [
       "<pre style=\"white-space:pre;overflow-x:auto;line-height:normal;font-family:Menlo,'DejaVu Sans Mono',consolas,'Courier New',monospace\">| Epoch :   43 | Trn. Loss : 1.423e-01 | Val. Loss : 3.506e-01 | LR : 9.175e-04 |\n",
       "</pre>\n"
      ],
      "text/plain": [
       "| Epoch :   43 | Trn. Loss : 1.423e-01 | Val. Loss : 3.506e-01 | LR : 9.175e-04 |\n"
      ]
     },
     "metadata": {},
     "output_type": "display_data"
    },
    {
     "data": {
      "text/html": [
       "<pre style=\"white-space:pre;overflow-x:auto;line-height:normal;font-family:Menlo,'DejaVu Sans Mono',consolas,'Courier New',monospace\">| Epoch :   44 | Trn. Loss : 1.285e-01 | Val. Loss : 3.875e-01 | LR : 9.157e-04 |\n",
       "</pre>\n"
      ],
      "text/plain": [
       "| Epoch :   44 | Trn. Loss : 1.285e-01 | Val. Loss : 3.875e-01 | LR : 9.157e-04 |\n"
      ]
     },
     "metadata": {},
     "output_type": "display_data"
    },
    {
     "data": {
      "text/html": [
       "<pre style=\"white-space:pre;overflow-x:auto;line-height:normal;font-family:Menlo,'DejaVu Sans Mono',consolas,'Courier New',monospace\">| Epoch :   45 | Trn. Loss : 1.081e-01 | Val. Loss : 3.013e-01 | LR : 9.138e-04 |\n",
       "</pre>\n"
      ],
      "text/plain": [
       "| Epoch :   45 | Trn. Loss : 1.081e-01 | Val. Loss : 3.013e-01 | LR : 9.138e-04 |\n"
      ]
     },
     "metadata": {},
     "output_type": "display_data"
    },
    {
     "data": {
      "text/html": [
       "<pre style=\"white-space:pre;overflow-x:auto;line-height:normal;font-family:Menlo,'DejaVu Sans Mono',consolas,'Courier New',monospace\">| Epoch :   46 | Trn. Loss : 1.122e-01 | Val. Loss : 3.141e-01 | LR : 9.120e-04 |\n",
       "</pre>\n"
      ],
      "text/plain": [
       "| Epoch :   46 | Trn. Loss : 1.122e-01 | Val. Loss : 3.141e-01 | LR : 9.120e-04 |\n"
      ]
     },
     "metadata": {},
     "output_type": "display_data"
    },
    {
     "data": {
      "text/html": [
       "<pre style=\"white-space:pre;overflow-x:auto;line-height:normal;font-family:Menlo,'DejaVu Sans Mono',consolas,'Courier New',monospace\">| Epoch :   47 | Trn. Loss : 1.227e-01 | Val. Loss : 3.137e-01 | LR : 9.102e-04 |\n",
       "</pre>\n"
      ],
      "text/plain": [
       "| Epoch :   47 | Trn. Loss : 1.227e-01 | Val. Loss : 3.137e-01 | LR : 9.102e-04 |\n"
      ]
     },
     "metadata": {},
     "output_type": "display_data"
    },
    {
     "data": {
      "text/html": [
       "<pre style=\"white-space:pre;overflow-x:auto;line-height:normal;font-family:Menlo,'DejaVu Sans Mono',consolas,'Courier New',monospace\">| Epoch :   48 | Trn. Loss : 1.224e-01 | Val. Loss : 3.326e-01 | LR : 9.084e-04 |\n",
       "</pre>\n"
      ],
      "text/plain": [
       "| Epoch :   48 | Trn. Loss : 1.224e-01 | Val. Loss : 3.326e-01 | LR : 9.084e-04 |\n"
      ]
     },
     "metadata": {},
     "output_type": "display_data"
    },
    {
     "data": {
      "text/html": [
       "<pre style=\"white-space:pre;overflow-x:auto;line-height:normal;font-family:Menlo,'DejaVu Sans Mono',consolas,'Courier New',monospace\">| Epoch :   49 | Trn. Loss : 1.422e-01 | Val. Loss : 3.514e-01 | LR : 9.066e-04 |\n",
       "</pre>\n"
      ],
      "text/plain": [
       "| Epoch :   49 | Trn. Loss : 1.422e-01 | Val. Loss : 3.514e-01 | LR : 9.066e-04 |\n"
      ]
     },
     "metadata": {},
     "output_type": "display_data"
    },
    {
     "data": {
      "text/html": [
       "<pre style=\"white-space:pre;overflow-x:auto;line-height:normal;font-family:Menlo,'DejaVu Sans Mono',consolas,'Courier New',monospace\">| Epoch :   50 | Trn. Loss : 1.533e-01 | Val. Loss : 4.197e-01 | LR : 9.047e-04 |\n",
       "</pre>\n"
      ],
      "text/plain": [
       "| Epoch :   50 | Trn. Loss : 1.533e-01 | Val. Loss : 4.197e-01 | LR : 9.047e-04 |\n"
      ]
     },
     "metadata": {},
     "output_type": "display_data"
    },
    {
     "data": {
      "text/html": [
       "<pre style=\"white-space:pre;overflow-x:auto;line-height:normal;font-family:Menlo,'DejaVu Sans Mono',consolas,'Courier New',monospace\">| Epoch :   51 | Trn. Loss : 9.487e-02 | Val. Loss : 3.846e-01 | LR : 9.029e-04 |\n",
       "</pre>\n"
      ],
      "text/plain": [
       "| Epoch :   51 | Trn. Loss : 9.487e-02 | Val. Loss : 3.846e-01 | LR : 9.029e-04 |\n"
      ]
     },
     "metadata": {},
     "output_type": "display_data"
    },
    {
     "data": {
      "text/html": [
       "<pre style=\"white-space:pre;overflow-x:auto;line-height:normal;font-family:Menlo,'DejaVu Sans Mono',consolas,'Courier New',monospace\">| Epoch :   52 | Trn. Loss : 1.394e-01 | Val. Loss : 3.466e-01 | LR : 9.011e-04 |\n",
       "</pre>\n"
      ],
      "text/plain": [
       "| Epoch :   52 | Trn. Loss : 1.394e-01 | Val. Loss : 3.466e-01 | LR : 9.011e-04 |\n"
      ]
     },
     "metadata": {},
     "output_type": "display_data"
    },
    {
     "data": {
      "text/html": [
       "<pre style=\"white-space:pre;overflow-x:auto;line-height:normal;font-family:Menlo,'DejaVu Sans Mono',consolas,'Courier New',monospace\">| Epoch :   53 | Trn. Loss : 1.506e-01 | Val. Loss : 4.066e-01 | LR : 8.993e-04 |\n",
       "</pre>\n"
      ],
      "text/plain": [
       "| Epoch :   53 | Trn. Loss : 1.506e-01 | Val. Loss : 4.066e-01 | LR : 8.993e-04 |\n"
      ]
     },
     "metadata": {},
     "output_type": "display_data"
    },
    {
     "data": {
      "text/html": [
       "<pre style=\"white-space:pre;overflow-x:auto;line-height:normal;font-family:Menlo,'DejaVu Sans Mono',consolas,'Courier New',monospace\">| Epoch :   54 | Trn. Loss : 1.090e-01 | Val. Loss : 3.189e-01 | LR : 8.975e-04 |\n",
       "</pre>\n"
      ],
      "text/plain": [
       "| Epoch :   54 | Trn. Loss : 1.090e-01 | Val. Loss : 3.189e-01 | LR : 8.975e-04 |\n"
      ]
     },
     "metadata": {},
     "output_type": "display_data"
    },
    {
     "data": {
      "text/html": [
       "<pre style=\"white-space:pre;overflow-x:auto;line-height:normal;font-family:Menlo,'DejaVu Sans Mono',consolas,'Courier New',monospace\">| Epoch :   55 | Trn. Loss : 9.902e-02 | Val. Loss : 3.000e-01 | LR : 8.957e-04 |\n",
       "</pre>\n"
      ],
      "text/plain": [
       "| Epoch :   55 | Trn. Loss : 9.902e-02 | Val. Loss : 3.000e-01 | LR : 8.957e-04 |\n"
      ]
     },
     "metadata": {},
     "output_type": "display_data"
    },
    {
     "data": {
      "text/html": [
       "<pre style=\"white-space:pre;overflow-x:auto;line-height:normal;font-family:Menlo,'DejaVu Sans Mono',consolas,'Courier New',monospace\">| Epoch :   56 | Trn. Loss : 1.023e-01 | Val. Loss : 3.242e-01 | LR : 8.939e-04 |\n",
       "</pre>\n"
      ],
      "text/plain": [
       "| Epoch :   56 | Trn. Loss : 1.023e-01 | Val. Loss : 3.242e-01 | LR : 8.939e-04 |\n"
      ]
     },
     "metadata": {},
     "output_type": "display_data"
    },
    {
     "data": {
      "text/html": [
       "<pre style=\"white-space:pre;overflow-x:auto;line-height:normal;font-family:Menlo,'DejaVu Sans Mono',consolas,'Courier New',monospace\">| Epoch :   57 | Trn. Loss : 1.125e-01 | Val. Loss : 2.894e-01 | LR : 8.922e-04 |\n",
       "</pre>\n"
      ],
      "text/plain": [
       "| Epoch :   57 | Trn. Loss : 1.125e-01 | Val. Loss : 2.894e-01 | LR : 8.922e-04 |\n"
      ]
     },
     "metadata": {},
     "output_type": "display_data"
    },
    {
     "data": {
      "text/html": [
       "<pre style=\"white-space:pre;overflow-x:auto;line-height:normal;font-family:Menlo,'DejaVu Sans Mono',consolas,'Courier New',monospace\">        Saving the best model with valLoss : 0.289\n",
       "</pre>\n"
      ],
      "text/plain": [
       "        Saving the best model with valLoss : 0.289\n"
      ]
     },
     "metadata": {},
     "output_type": "display_data"
    },
    {
     "data": {
      "text/html": [
       "<pre style=\"white-space:pre;overflow-x:auto;line-height:normal;font-family:Menlo,'DejaVu Sans Mono',consolas,'Courier New',monospace\">| Epoch :   58 | Trn. Loss : 1.347e-01 | Val. Loss : 5.083e-01 | LR : 8.904e-04 |\n",
       "</pre>\n"
      ],
      "text/plain": [
       "| Epoch :   58 | Trn. Loss : 1.347e-01 | Val. Loss : 5.083e-01 | LR : 8.904e-04 |\n"
      ]
     },
     "metadata": {},
     "output_type": "display_data"
    },
    {
     "data": {
      "text/html": [
       "<pre style=\"white-space:pre;overflow-x:auto;line-height:normal;font-family:Menlo,'DejaVu Sans Mono',consolas,'Courier New',monospace\">| Epoch :   59 | Trn. Loss : 1.745e-01 | Val. Loss : 3.493e-01 | LR : 8.886e-04 |\n",
       "</pre>\n"
      ],
      "text/plain": [
       "| Epoch :   59 | Trn. Loss : 1.745e-01 | Val. Loss : 3.493e-01 | LR : 8.886e-04 |\n"
      ]
     },
     "metadata": {},
     "output_type": "display_data"
    },
    {
     "data": {
      "text/html": [
       "<pre style=\"white-space:pre;overflow-x:auto;line-height:normal;font-family:Menlo,'DejaVu Sans Mono',consolas,'Courier New',monospace\">| Epoch :   60 | Trn. Loss : 1.414e-01 | Val. Loss : 4.363e-01 | LR : 8.868e-04 |\n",
       "</pre>\n"
      ],
      "text/plain": [
       "| Epoch :   60 | Trn. Loss : 1.414e-01 | Val. Loss : 4.363e-01 | LR : 8.868e-04 |\n"
      ]
     },
     "metadata": {},
     "output_type": "display_data"
    },
    {
     "data": {
      "text/html": [
       "<pre style=\"white-space:pre;overflow-x:auto;line-height:normal;font-family:Menlo,'DejaVu Sans Mono',consolas,'Courier New',monospace\">| Epoch :   61 | Trn. Loss : 1.358e-01 | Val. Loss : 4.313e-01 | LR : 8.850e-04 |\n",
       "</pre>\n"
      ],
      "text/plain": [
       "| Epoch :   61 | Trn. Loss : 1.358e-01 | Val. Loss : 4.313e-01 | LR : 8.850e-04 |\n"
      ]
     },
     "metadata": {},
     "output_type": "display_data"
    },
    {
     "data": {
      "text/html": [
       "<pre style=\"white-space:pre;overflow-x:auto;line-height:normal;font-family:Menlo,'DejaVu Sans Mono',consolas,'Courier New',monospace\">| Epoch :   62 | Trn. Loss : 8.546e-02 | Val. Loss : 2.737e-01 | LR : 8.833e-04 |\n",
       "</pre>\n"
      ],
      "text/plain": [
       "| Epoch :   62 | Trn. Loss : 8.546e-02 | Val. Loss : 2.737e-01 | LR : 8.833e-04 |\n"
      ]
     },
     "metadata": {},
     "output_type": "display_data"
    },
    {
     "data": {
      "text/html": [
       "<pre style=\"white-space:pre;overflow-x:auto;line-height:normal;font-family:Menlo,'DejaVu Sans Mono',consolas,'Courier New',monospace\">        Saving the best model with valLoss : 0.274\n",
       "</pre>\n"
      ],
      "text/plain": [
       "        Saving the best model with valLoss : 0.274\n"
      ]
     },
     "metadata": {},
     "output_type": "display_data"
    },
    {
     "data": {
      "text/html": [
       "<pre style=\"white-space:pre;overflow-x:auto;line-height:normal;font-family:Menlo,'DejaVu Sans Mono',consolas,'Courier New',monospace\">| Epoch :   63 | Trn. Loss : 8.325e-02 | Val. Loss : 2.743e-01 | LR : 8.815e-04 |\n",
       "</pre>\n"
      ],
      "text/plain": [
       "| Epoch :   63 | Trn. Loss : 8.325e-02 | Val. Loss : 2.743e-01 | LR : 8.815e-04 |\n"
      ]
     },
     "metadata": {},
     "output_type": "display_data"
    },
    {
     "data": {
      "text/html": [
       "<pre style=\"white-space:pre;overflow-x:auto;line-height:normal;font-family:Menlo,'DejaVu Sans Mono',consolas,'Courier New',monospace\">| Epoch :   64 | Trn. Loss : 1.258e-01 | Val. Loss : 2.912e-01 | LR : 8.797e-04 |\n",
       "</pre>\n"
      ],
      "text/plain": [
       "| Epoch :   64 | Trn. Loss : 1.258e-01 | Val. Loss : 2.912e-01 | LR : 8.797e-04 |\n"
      ]
     },
     "metadata": {},
     "output_type": "display_data"
    },
    {
     "data": {
      "text/html": [
       "<pre style=\"white-space:pre;overflow-x:auto;line-height:normal;font-family:Menlo,'DejaVu Sans Mono',consolas,'Courier New',monospace\">| Epoch :   65 | Trn. Loss : 1.137e-01 | Val. Loss : 2.914e-01 | LR : 8.780e-04 |\n",
       "</pre>\n"
      ],
      "text/plain": [
       "| Epoch :   65 | Trn. Loss : 1.137e-01 | Val. Loss : 2.914e-01 | LR : 8.780e-04 |\n"
      ]
     },
     "metadata": {},
     "output_type": "display_data"
    },
    {
     "data": {
      "text/html": [
       "<pre style=\"white-space:pre;overflow-x:auto;line-height:normal;font-family:Menlo,'DejaVu Sans Mono',consolas,'Courier New',monospace\">| Epoch :   66 | Trn. Loss : 1.463e-01 | Val. Loss : 4.160e-01 | LR : 8.762e-04 |\n",
       "</pre>\n"
      ],
      "text/plain": [
       "| Epoch :   66 | Trn. Loss : 1.463e-01 | Val. Loss : 4.160e-01 | LR : 8.762e-04 |\n"
      ]
     },
     "metadata": {},
     "output_type": "display_data"
    },
    {
     "data": {
      "text/html": [
       "<pre style=\"white-space:pre;overflow-x:auto;line-height:normal;font-family:Menlo,'DejaVu Sans Mono',consolas,'Courier New',monospace\">| Epoch :   67 | Trn. Loss : 1.101e-01 | Val. Loss : 3.726e-01 | LR : 8.745e-04 |\n",
       "</pre>\n"
      ],
      "text/plain": [
       "| Epoch :   67 | Trn. Loss : 1.101e-01 | Val. Loss : 3.726e-01 | LR : 8.745e-04 |\n"
      ]
     },
     "metadata": {},
     "output_type": "display_data"
    },
    {
     "data": {
      "text/html": [
       "<pre style=\"white-space:pre;overflow-x:auto;line-height:normal;font-family:Menlo,'DejaVu Sans Mono',consolas,'Courier New',monospace\">| Epoch :   68 | Trn. Loss : 8.962e-02 | Val. Loss : 3.965e-01 | LR : 8.727e-04 |\n",
       "</pre>\n"
      ],
      "text/plain": [
       "| Epoch :   68 | Trn. Loss : 8.962e-02 | Val. Loss : 3.965e-01 | LR : 8.727e-04 |\n"
      ]
     },
     "metadata": {},
     "output_type": "display_data"
    },
    {
     "data": {
      "text/html": [
       "<pre style=\"white-space:pre;overflow-x:auto;line-height:normal;font-family:Menlo,'DejaVu Sans Mono',consolas,'Courier New',monospace\">| Epoch :   69 | Trn. Loss : 1.060e-01 | Val. Loss : 4.407e-01 | LR : 8.710e-04 |\n",
       "</pre>\n"
      ],
      "text/plain": [
       "| Epoch :   69 | Trn. Loss : 1.060e-01 | Val. Loss : 4.407e-01 | LR : 8.710e-04 |\n"
      ]
     },
     "metadata": {},
     "output_type": "display_data"
    },
    {
     "data": {
      "text/html": [
       "<pre style=\"white-space:pre;overflow-x:auto;line-height:normal;font-family:Menlo,'DejaVu Sans Mono',consolas,'Courier New',monospace\">| Epoch :   70 | Trn. Loss : 6.339e-02 | Val. Loss : 4.077e-01 | LR : 8.692e-04 |\n",
       "</pre>\n"
      ],
      "text/plain": [
       "| Epoch :   70 | Trn. Loss : 6.339e-02 | Val. Loss : 4.077e-01 | LR : 8.692e-04 |\n"
      ]
     },
     "metadata": {},
     "output_type": "display_data"
    },
    {
     "data": {
      "text/html": [
       "<pre style=\"white-space:pre;overflow-x:auto;line-height:normal;font-family:Menlo,'DejaVu Sans Mono',consolas,'Courier New',monospace\">| Epoch :   71 | Trn. Loss : 8.784e-02 | Val. Loss : 3.850e-01 | LR : 8.675e-04 |\n",
       "</pre>\n"
      ],
      "text/plain": [
       "| Epoch :   71 | Trn. Loss : 8.784e-02 | Val. Loss : 3.850e-01 | LR : 8.675e-04 |\n"
      ]
     },
     "metadata": {},
     "output_type": "display_data"
    },
    {
     "data": {
      "text/html": [
       "<pre style=\"white-space:pre;overflow-x:auto;line-height:normal;font-family:Menlo,'DejaVu Sans Mono',consolas,'Courier New',monospace\">| Epoch :   72 | Trn. Loss : 9.907e-02 | Val. Loss : 4.830e-01 | LR : 8.658e-04 |\n",
       "</pre>\n"
      ],
      "text/plain": [
       "| Epoch :   72 | Trn. Loss : 9.907e-02 | Val. Loss : 4.830e-01 | LR : 8.658e-04 |\n"
      ]
     },
     "metadata": {},
     "output_type": "display_data"
    },
    {
     "data": {
      "text/html": [
       "<pre style=\"white-space:pre;overflow-x:auto;line-height:normal;font-family:Menlo,'DejaVu Sans Mono',consolas,'Courier New',monospace\">| Epoch :   73 | Trn. Loss : 8.794e-02 | Val. Loss : 4.173e-01 | LR : 8.640e-04 |\n",
       "</pre>\n"
      ],
      "text/plain": [
       "| Epoch :   73 | Trn. Loss : 8.794e-02 | Val. Loss : 4.173e-01 | LR : 8.640e-04 |\n"
      ]
     },
     "metadata": {},
     "output_type": "display_data"
    },
    {
     "data": {
      "text/html": [
       "<pre style=\"white-space:pre;overflow-x:auto;line-height:normal;font-family:Menlo,'DejaVu Sans Mono',consolas,'Courier New',monospace\">| Epoch :   74 | Trn. Loss : 9.816e-02 | Val. Loss : 4.052e-01 | LR : 8.623e-04 |\n",
       "</pre>\n"
      ],
      "text/plain": [
       "| Epoch :   74 | Trn. Loss : 9.816e-02 | Val. Loss : 4.052e-01 | LR : 8.623e-04 |\n"
      ]
     },
     "metadata": {},
     "output_type": "display_data"
    },
    {
     "data": {
      "text/html": [
       "<pre style=\"white-space:pre;overflow-x:auto;line-height:normal;font-family:Menlo,'DejaVu Sans Mono',consolas,'Courier New',monospace\">| Epoch :   75 | Trn. Loss : 9.077e-02 | Val. Loss : 4.287e-01 | LR : 8.606e-04 |\n",
       "</pre>\n"
      ],
      "text/plain": [
       "| Epoch :   75 | Trn. Loss : 9.077e-02 | Val. Loss : 4.287e-01 | LR : 8.606e-04 |\n"
      ]
     },
     "metadata": {},
     "output_type": "display_data"
    },
    {
     "data": {
      "text/html": [
       "<pre style=\"white-space:pre;overflow-x:auto;line-height:normal;font-family:Menlo,'DejaVu Sans Mono',consolas,'Courier New',monospace\">| Epoch :   76 | Trn. Loss : 7.211e-02 | Val. Loss : 4.474e-01 | LR : 8.589e-04 |\n",
       "</pre>\n"
      ],
      "text/plain": [
       "| Epoch :   76 | Trn. Loss : 7.211e-02 | Val. Loss : 4.474e-01 | LR : 8.589e-04 |\n"
      ]
     },
     "metadata": {},
     "output_type": "display_data"
    },
    {
     "data": {
      "text/html": [
       "<pre style=\"white-space:pre;overflow-x:auto;line-height:normal;font-family:Menlo,'DejaVu Sans Mono',consolas,'Courier New',monospace\">| Epoch :   77 | Trn. Loss : 8.550e-02 | Val. Loss : 4.556e-01 | LR : 8.571e-04 |\n",
       "</pre>\n"
      ],
      "text/plain": [
       "| Epoch :   77 | Trn. Loss : 8.550e-02 | Val. Loss : 4.556e-01 | LR : 8.571e-04 |\n"
      ]
     },
     "metadata": {},
     "output_type": "display_data"
    },
    {
     "data": {
      "text/html": [
       "<pre style=\"white-space:pre;overflow-x:auto;line-height:normal;font-family:Menlo,'DejaVu Sans Mono',consolas,'Courier New',monospace\">| Epoch :   78 | Trn. Loss : 6.966e-02 | Val. Loss : 4.139e-01 | LR : 8.554e-04 |\n",
       "</pre>\n"
      ],
      "text/plain": [
       "| Epoch :   78 | Trn. Loss : 6.966e-02 | Val. Loss : 4.139e-01 | LR : 8.554e-04 |\n"
      ]
     },
     "metadata": {},
     "output_type": "display_data"
    },
    {
     "data": {
      "text/html": [
       "<pre style=\"white-space:pre;overflow-x:auto;line-height:normal;font-family:Menlo,'DejaVu Sans Mono',consolas,'Courier New',monospace\">| Epoch :   79 | Trn. Loss : 8.415e-02 | Val. Loss : 3.143e-01 | LR : 8.537e-04 |\n",
       "</pre>\n"
      ],
      "text/plain": [
       "| Epoch :   79 | Trn. Loss : 8.415e-02 | Val. Loss : 3.143e-01 | LR : 8.537e-04 |\n"
      ]
     },
     "metadata": {},
     "output_type": "display_data"
    },
    {
     "data": {
      "text/html": [
       "<pre style=\"white-space:pre;overflow-x:auto;line-height:normal;font-family:Menlo,'DejaVu Sans Mono',consolas,'Courier New',monospace\">| Epoch :   80 | Trn. Loss : 7.131e-02 | Val. Loss : 3.457e-01 | LR : 8.520e-04 |\n",
       "</pre>\n"
      ],
      "text/plain": [
       "| Epoch :   80 | Trn. Loss : 7.131e-02 | Val. Loss : 3.457e-01 | LR : 8.520e-04 |\n"
      ]
     },
     "metadata": {},
     "output_type": "display_data"
    },
    {
     "data": {
      "text/html": [
       "<pre style=\"white-space:pre;overflow-x:auto;line-height:normal;font-family:Menlo,'DejaVu Sans Mono',consolas,'Courier New',monospace\">| Epoch :   81 | Trn. Loss : 6.836e-02 | Val. Loss : 3.840e-01 | LR : 8.503e-04 |\n",
       "</pre>\n"
      ],
      "text/plain": [
       "| Epoch :   81 | Trn. Loss : 6.836e-02 | Val. Loss : 3.840e-01 | LR : 8.503e-04 |\n"
      ]
     },
     "metadata": {},
     "output_type": "display_data"
    },
    {
     "data": {
      "text/html": [
       "<pre style=\"white-space:pre;overflow-x:auto;line-height:normal;font-family:Menlo,'DejaVu Sans Mono',consolas,'Courier New',monospace\">| Epoch :   82 | Trn. Loss : 1.011e-01 | Val. Loss : 4.033e-01 | LR : 8.486e-04 |\n",
       "</pre>\n"
      ],
      "text/plain": [
       "| Epoch :   82 | Trn. Loss : 1.011e-01 | Val. Loss : 4.033e-01 | LR : 8.486e-04 |\n"
      ]
     },
     "metadata": {},
     "output_type": "display_data"
    },
    {
     "data": {
      "text/html": [
       "<pre style=\"white-space:pre;overflow-x:auto;line-height:normal;font-family:Menlo,'DejaVu Sans Mono',consolas,'Courier New',monospace\">| Epoch :   83 | Trn. Loss : 9.154e-02 | Val. Loss : 3.775e-01 | LR : 8.469e-04 |\n",
       "</pre>\n"
      ],
      "text/plain": [
       "| Epoch :   83 | Trn. Loss : 9.154e-02 | Val. Loss : 3.775e-01 | LR : 8.469e-04 |\n"
      ]
     },
     "metadata": {},
     "output_type": "display_data"
    },
    {
     "data": {
      "text/html": [
       "<pre style=\"white-space:pre;overflow-x:auto;line-height:normal;font-family:Menlo,'DejaVu Sans Mono',consolas,'Courier New',monospace\">| Epoch :   84 | Trn. Loss : 7.941e-02 | Val. Loss : 3.601e-01 | LR : 8.452e-04 |\n",
       "</pre>\n"
      ],
      "text/plain": [
       "| Epoch :   84 | Trn. Loss : 7.941e-02 | Val. Loss : 3.601e-01 | LR : 8.452e-04 |\n"
      ]
     },
     "metadata": {},
     "output_type": "display_data"
    },
    {
     "data": {
      "text/html": [
       "<pre style=\"white-space:pre;overflow-x:auto;line-height:normal;font-family:Menlo,'DejaVu Sans Mono',consolas,'Courier New',monospace\">| Epoch :   85 | Trn. Loss : 6.251e-02 | Val. Loss : 3.447e-01 | LR : 8.435e-04 |\n",
       "</pre>\n"
      ],
      "text/plain": [
       "| Epoch :   85 | Trn. Loss : 6.251e-02 | Val. Loss : 3.447e-01 | LR : 8.435e-04 |\n"
      ]
     },
     "metadata": {},
     "output_type": "display_data"
    },
    {
     "data": {
      "text/html": [
       "<pre style=\"white-space:pre;overflow-x:auto;line-height:normal;font-family:Menlo,'DejaVu Sans Mono',consolas,'Courier New',monospace\">| Epoch :   86 | Trn. Loss : 7.115e-02 | Val. Loss : 3.626e-01 | LR : 8.418e-04 |\n",
       "</pre>\n"
      ],
      "text/plain": [
       "| Epoch :   86 | Trn. Loss : 7.115e-02 | Val. Loss : 3.626e-01 | LR : 8.418e-04 |\n"
      ]
     },
     "metadata": {},
     "output_type": "display_data"
    },
    {
     "data": {
      "text/html": [
       "<pre style=\"white-space:pre;overflow-x:auto;line-height:normal;font-family:Menlo,'DejaVu Sans Mono',consolas,'Courier New',monospace\">| Epoch :   87 | Trn. Loss : 7.530e-02 | Val. Loss : 3.421e-01 | LR : 8.402e-04 |\n",
       "</pre>\n"
      ],
      "text/plain": [
       "| Epoch :   87 | Trn. Loss : 7.530e-02 | Val. Loss : 3.421e-01 | LR : 8.402e-04 |\n"
      ]
     },
     "metadata": {},
     "output_type": "display_data"
    },
    {
     "data": {
      "text/html": [
       "<pre style=\"white-space:pre;overflow-x:auto;line-height:normal;font-family:Menlo,'DejaVu Sans Mono',consolas,'Courier New',monospace\">| Epoch :   88 | Trn. Loss : 6.600e-02 | Val. Loss : 3.352e-01 | LR : 8.385e-04 |\n",
       "</pre>\n"
      ],
      "text/plain": [
       "| Epoch :   88 | Trn. Loss : 6.600e-02 | Val. Loss : 3.352e-01 | LR : 8.385e-04 |\n"
      ]
     },
     "metadata": {},
     "output_type": "display_data"
    },
    {
     "data": {
      "text/html": [
       "<pre style=\"white-space:pre;overflow-x:auto;line-height:normal;font-family:Menlo,'DejaVu Sans Mono',consolas,'Courier New',monospace\">| Epoch :   89 | Trn. Loss : 8.593e-02 | Val. Loss : 3.978e-01 | LR : 8.368e-04 |\n",
       "</pre>\n"
      ],
      "text/plain": [
       "| Epoch :   89 | Trn. Loss : 8.593e-02 | Val. Loss : 3.978e-01 | LR : 8.368e-04 |\n"
      ]
     },
     "metadata": {},
     "output_type": "display_data"
    },
    {
     "data": {
      "text/html": [
       "<pre style=\"white-space:pre;overflow-x:auto;line-height:normal;font-family:Menlo,'DejaVu Sans Mono',consolas,'Courier New',monospace\">| Epoch :   90 | Trn. Loss : 7.712e-02 | Val. Loss : 3.915e-01 | LR : 8.351e-04 |\n",
       "</pre>\n"
      ],
      "text/plain": [
       "| Epoch :   90 | Trn. Loss : 7.712e-02 | Val. Loss : 3.915e-01 | LR : 8.351e-04 |\n"
      ]
     },
     "metadata": {},
     "output_type": "display_data"
    },
    {
     "data": {
      "text/html": [
       "<pre style=\"white-space:pre;overflow-x:auto;line-height:normal;font-family:Menlo,'DejaVu Sans Mono',consolas,'Courier New',monospace\">| Epoch :   91 | Trn. Loss : 7.513e-02 | Val. Loss : 4.066e-01 | LR : 8.334e-04 |\n",
       "</pre>\n"
      ],
      "text/plain": [
       "| Epoch :   91 | Trn. Loss : 7.513e-02 | Val. Loss : 4.066e-01 | LR : 8.334e-04 |\n"
      ]
     },
     "metadata": {},
     "output_type": "display_data"
    },
    {
     "data": {
      "text/html": [
       "<pre style=\"white-space:pre;overflow-x:auto;line-height:normal;font-family:Menlo,'DejaVu Sans Mono',consolas,'Courier New',monospace\">| Epoch :   92 | Trn. Loss : 7.758e-02 | Val. Loss : 3.644e-01 | LR : 8.318e-04 |\n",
       "</pre>\n"
      ],
      "text/plain": [
       "| Epoch :   92 | Trn. Loss : 7.758e-02 | Val. Loss : 3.644e-01 | LR : 8.318e-04 |\n"
      ]
     },
     "metadata": {},
     "output_type": "display_data"
    },
    {
     "data": {
      "text/html": [
       "<pre style=\"white-space:pre;overflow-x:auto;line-height:normal;font-family:Menlo,'DejaVu Sans Mono',consolas,'Courier New',monospace\">| Epoch :   93 | Trn. Loss : 5.603e-02 | Val. Loss : 4.053e-01 | LR : 8.301e-04 |\n",
       "</pre>\n"
      ],
      "text/plain": [
       "| Epoch :   93 | Trn. Loss : 5.603e-02 | Val. Loss : 4.053e-01 | LR : 8.301e-04 |\n"
      ]
     },
     "metadata": {},
     "output_type": "display_data"
    },
    {
     "data": {
      "text/html": [
       "<pre style=\"white-space:pre;overflow-x:auto;line-height:normal;font-family:Menlo,'DejaVu Sans Mono',consolas,'Courier New',monospace\">| Epoch :   94 | Trn. Loss : 6.610e-02 | Val. Loss : 4.310e-01 | LR : 8.285e-04 |\n",
       "</pre>\n"
      ],
      "text/plain": [
       "| Epoch :   94 | Trn. Loss : 6.610e-02 | Val. Loss : 4.310e-01 | LR : 8.285e-04 |\n"
      ]
     },
     "metadata": {},
     "output_type": "display_data"
    },
    {
     "data": {
      "text/html": [
       "<pre style=\"white-space:pre;overflow-x:auto;line-height:normal;font-family:Menlo,'DejaVu Sans Mono',consolas,'Courier New',monospace\">| Epoch :   95 | Trn. Loss : 6.388e-02 | Val. Loss : 3.968e-01 | LR : 8.268e-04 |\n",
       "</pre>\n"
      ],
      "text/plain": [
       "| Epoch :   95 | Trn. Loss : 6.388e-02 | Val. Loss : 3.968e-01 | LR : 8.268e-04 |\n"
      ]
     },
     "metadata": {},
     "output_type": "display_data"
    },
    {
     "data": {
      "text/html": [
       "<pre style=\"white-space:pre;overflow-x:auto;line-height:normal;font-family:Menlo,'DejaVu Sans Mono',consolas,'Courier New',monospace\">| Epoch :   96 | Trn. Loss : 7.102e-02 | Val. Loss : 4.608e-01 | LR : 8.251e-04 |\n",
       "</pre>\n"
      ],
      "text/plain": [
       "| Epoch :   96 | Trn. Loss : 7.102e-02 | Val. Loss : 4.608e-01 | LR : 8.251e-04 |\n"
      ]
     },
     "metadata": {},
     "output_type": "display_data"
    },
    {
     "data": {
      "text/html": [
       "<pre style=\"white-space:pre;overflow-x:auto;line-height:normal;font-family:Menlo,'DejaVu Sans Mono',consolas,'Courier New',monospace\">| Epoch :   97 | Trn. Loss : 7.846e-02 | Val. Loss : 5.149e-01 | LR : 8.235e-04 |\n",
       "</pre>\n"
      ],
      "text/plain": [
       "| Epoch :   97 | Trn. Loss : 7.846e-02 | Val. Loss : 5.149e-01 | LR : 8.235e-04 |\n"
      ]
     },
     "metadata": {},
     "output_type": "display_data"
    },
    {
     "data": {
      "text/html": [
       "<pre style=\"white-space:pre;overflow-x:auto;line-height:normal;font-family:Menlo,'DejaVu Sans Mono',consolas,'Courier New',monospace\">| Epoch :   98 | Trn. Loss : 6.244e-02 | Val. Loss : 4.165e-01 | LR : 8.219e-04 |\n",
       "</pre>\n"
      ],
      "text/plain": [
       "| Epoch :   98 | Trn. Loss : 6.244e-02 | Val. Loss : 4.165e-01 | LR : 8.219e-04 |\n"
      ]
     },
     "metadata": {},
     "output_type": "display_data"
    },
    {
     "data": {
      "text/html": [
       "<pre style=\"white-space:pre;overflow-x:auto;line-height:normal;font-family:Menlo,'DejaVu Sans Mono',consolas,'Courier New',monospace\">| Epoch :   99 | Trn. Loss : 9.432e-02 | Val. Loss : 4.759e-01 | LR : 8.202e-04 |\n",
       "</pre>\n"
      ],
      "text/plain": [
       "| Epoch :   99 | Trn. Loss : 9.432e-02 | Val. Loss : 4.759e-01 | LR : 8.202e-04 |\n"
      ]
     },
     "metadata": {},
     "output_type": "display_data"
    },
    {
     "data": {
      "text/html": [
       "<pre style=\"white-space:pre;overflow-x:auto;line-height:normal;font-family:Menlo,'DejaVu Sans Mono',consolas,'Courier New',monospace\">| Epoch :  100 | Trn. Loss : 7.765e-02 | Val. Loss : 4.706e-01 | LR : 8.186e-04 |\n",
       "</pre>\n"
      ],
      "text/plain": [
       "| Epoch :  100 | Trn. Loss : 7.765e-02 | Val. Loss : 4.706e-01 | LR : 8.186e-04 |\n"
      ]
     },
     "metadata": {},
     "output_type": "display_data"
    },
    {
     "data": {
      "text/html": [
       "<pre style=\"white-space:pre;overflow-x:auto;line-height:normal;font-family:Menlo,'DejaVu Sans Mono',consolas,'Courier New',monospace\">| Epoch :  101 | Trn. Loss : 6.349e-02 | Val. Loss : 4.126e-01 | LR : 8.169e-04 |\n",
       "</pre>\n"
      ],
      "text/plain": [
       "| Epoch :  101 | Trn. Loss : 6.349e-02 | Val. Loss : 4.126e-01 | LR : 8.169e-04 |\n"
      ]
     },
     "metadata": {},
     "output_type": "display_data"
    },
    {
     "data": {
      "text/html": [
       "<pre style=\"white-space:pre;overflow-x:auto;line-height:normal;font-family:Menlo,'DejaVu Sans Mono',consolas,'Courier New',monospace\">| Epoch :  102 | Trn. Loss : 5.608e-02 | Val. Loss : 3.692e-01 | LR : 8.153e-04 |\n",
       "</pre>\n"
      ],
      "text/plain": [
       "| Epoch :  102 | Trn. Loss : 5.608e-02 | Val. Loss : 3.692e-01 | LR : 8.153e-04 |\n"
      ]
     },
     "metadata": {},
     "output_type": "display_data"
    },
    {
     "data": {
      "text/html": [
       "<pre style=\"white-space:pre;overflow-x:auto;line-height:normal;font-family:Menlo,'DejaVu Sans Mono',consolas,'Courier New',monospace\">| Epoch :  103 | Trn. Loss : 7.234e-02 | Val. Loss : 4.183e-01 | LR : 8.137e-04 |\n",
       "</pre>\n"
      ],
      "text/plain": [
       "| Epoch :  103 | Trn. Loss : 7.234e-02 | Val. Loss : 4.183e-01 | LR : 8.137e-04 |\n"
      ]
     },
     "metadata": {},
     "output_type": "display_data"
    },
    {
     "data": {
      "text/html": [
       "<pre style=\"white-space:pre;overflow-x:auto;line-height:normal;font-family:Menlo,'DejaVu Sans Mono',consolas,'Courier New',monospace\">| Epoch :  104 | Trn. Loss : 5.129e-02 | Val. Loss : 6.194e-01 | LR : 8.120e-04 |\n",
       "</pre>\n"
      ],
      "text/plain": [
       "| Epoch :  104 | Trn. Loss : 5.129e-02 | Val. Loss : 6.194e-01 | LR : 8.120e-04 |\n"
      ]
     },
     "metadata": {},
     "output_type": "display_data"
    },
    {
     "data": {
      "text/html": [
       "<pre style=\"white-space:pre;overflow-x:auto;line-height:normal;font-family:Menlo,'DejaVu Sans Mono',consolas,'Courier New',monospace\">| Epoch :  105 | Trn. Loss : 5.557e-02 | Val. Loss : 5.382e-01 | LR : 8.104e-04 |\n",
       "</pre>\n"
      ],
      "text/plain": [
       "| Epoch :  105 | Trn. Loss : 5.557e-02 | Val. Loss : 5.382e-01 | LR : 8.104e-04 |\n"
      ]
     },
     "metadata": {},
     "output_type": "display_data"
    },
    {
     "data": {
      "text/html": [
       "<pre style=\"white-space:pre;overflow-x:auto;line-height:normal;font-family:Menlo,'DejaVu Sans Mono',consolas,'Courier New',monospace\">| Epoch :  106 | Trn. Loss : 7.268e-02 | Val. Loss : 5.327e-01 | LR : 8.088e-04 |\n",
       "</pre>\n"
      ],
      "text/plain": [
       "| Epoch :  106 | Trn. Loss : 7.268e-02 | Val. Loss : 5.327e-01 | LR : 8.088e-04 |\n"
      ]
     },
     "metadata": {},
     "output_type": "display_data"
    },
    {
     "data": {
      "text/html": [
       "<pre style=\"white-space:pre;overflow-x:auto;line-height:normal;font-family:Menlo,'DejaVu Sans Mono',consolas,'Courier New',monospace\">| Epoch :  107 | Trn. Loss : 5.247e-02 | Val. Loss : 4.350e-01 | LR : 8.072e-04 |\n",
       "</pre>\n"
      ],
      "text/plain": [
       "| Epoch :  107 | Trn. Loss : 5.247e-02 | Val. Loss : 4.350e-01 | LR : 8.072e-04 |\n"
      ]
     },
     "metadata": {},
     "output_type": "display_data"
    },
    {
     "data": {
      "text/html": [
       "<pre style=\"white-space:pre;overflow-x:auto;line-height:normal;font-family:Menlo,'DejaVu Sans Mono',consolas,'Courier New',monospace\">| Epoch :  108 | Trn. Loss : 5.082e-02 | Val. Loss : 4.385e-01 | LR : 8.056e-04 |\n",
       "</pre>\n"
      ],
      "text/plain": [
       "| Epoch :  108 | Trn. Loss : 5.082e-02 | Val. Loss : 4.385e-01 | LR : 8.056e-04 |\n"
      ]
     },
     "metadata": {},
     "output_type": "display_data"
    },
    {
     "data": {
      "text/html": [
       "<pre style=\"white-space:pre;overflow-x:auto;line-height:normal;font-family:Menlo,'DejaVu Sans Mono',consolas,'Courier New',monospace\">| Epoch :  109 | Trn. Loss : 5.629e-02 | Val. Loss : 4.218e-01 | LR : 8.039e-04 |\n",
       "</pre>\n"
      ],
      "text/plain": [
       "| Epoch :  109 | Trn. Loss : 5.629e-02 | Val. Loss : 4.218e-01 | LR : 8.039e-04 |\n"
      ]
     },
     "metadata": {},
     "output_type": "display_data"
    },
    {
     "data": {
      "text/html": [
       "<pre style=\"white-space:pre;overflow-x:auto;line-height:normal;font-family:Menlo,'DejaVu Sans Mono',consolas,'Courier New',monospace\">| Epoch :  110 | Trn. Loss : 4.285e-02 | Val. Loss : 4.284e-01 | LR : 8.023e-04 |\n",
       "</pre>\n"
      ],
      "text/plain": [
       "| Epoch :  110 | Trn. Loss : 4.285e-02 | Val. Loss : 4.284e-01 | LR : 8.023e-04 |\n"
      ]
     },
     "metadata": {},
     "output_type": "display_data"
    },
    {
     "data": {
      "text/html": [
       "<pre style=\"white-space:pre;overflow-x:auto;line-height:normal;font-family:Menlo,'DejaVu Sans Mono',consolas,'Courier New',monospace\">| Epoch :  111 | Trn. Loss : 5.015e-02 | Val. Loss : 4.824e-01 | LR : 8.007e-04 |\n",
       "</pre>\n"
      ],
      "text/plain": [
       "| Epoch :  111 | Trn. Loss : 5.015e-02 | Val. Loss : 4.824e-01 | LR : 8.007e-04 |\n"
      ]
     },
     "metadata": {},
     "output_type": "display_data"
    },
    {
     "data": {
      "text/html": [
       "<pre style=\"white-space:pre;overflow-x:auto;line-height:normal;font-family:Menlo,'DejaVu Sans Mono',consolas,'Courier New',monospace\">| Epoch :  112 | Trn. Loss : 5.188e-02 | Val. Loss : 5.715e-01 | LR : 7.991e-04 |\n",
       "</pre>\n"
      ],
      "text/plain": [
       "| Epoch :  112 | Trn. Loss : 5.188e-02 | Val. Loss : 5.715e-01 | LR : 7.991e-04 |\n"
      ]
     },
     "metadata": {},
     "output_type": "display_data"
    },
    {
     "data": {
      "text/html": [
       "<pre style=\"white-space:pre;overflow-x:auto;line-height:normal;font-family:Menlo,'DejaVu Sans Mono',consolas,'Courier New',monospace\">| Epoch :  113 | Trn. Loss : 5.565e-02 | Val. Loss : 4.493e-01 | LR : 7.975e-04 |\n",
       "</pre>\n"
      ],
      "text/plain": [
       "| Epoch :  113 | Trn. Loss : 5.565e-02 | Val. Loss : 4.493e-01 | LR : 7.975e-04 |\n"
      ]
     },
     "metadata": {},
     "output_type": "display_data"
    },
    {
     "data": {
      "text/html": [
       "<pre style=\"white-space:pre;overflow-x:auto;line-height:normal;font-family:Menlo,'DejaVu Sans Mono',consolas,'Courier New',monospace\">| Epoch :  114 | Trn. Loss : 6.434e-02 | Val. Loss : 4.353e-01 | LR : 7.959e-04 |\n",
       "</pre>\n"
      ],
      "text/plain": [
       "| Epoch :  114 | Trn. Loss : 6.434e-02 | Val. Loss : 4.353e-01 | LR : 7.959e-04 |\n"
      ]
     },
     "metadata": {},
     "output_type": "display_data"
    },
    {
     "data": {
      "text/html": [
       "<pre style=\"white-space:pre;overflow-x:auto;line-height:normal;font-family:Menlo,'DejaVu Sans Mono',consolas,'Courier New',monospace\">| Epoch :  115 | Trn. Loss : 5.580e-02 | Val. Loss : 4.180e-01 | LR : 7.944e-04 |\n",
       "</pre>\n"
      ],
      "text/plain": [
       "| Epoch :  115 | Trn. Loss : 5.580e-02 | Val. Loss : 4.180e-01 | LR : 7.944e-04 |\n"
      ]
     },
     "metadata": {},
     "output_type": "display_data"
    },
    {
     "data": {
      "text/html": [
       "<pre style=\"white-space:pre;overflow-x:auto;line-height:normal;font-family:Menlo,'DejaVu Sans Mono',consolas,'Courier New',monospace\">| Epoch :  116 | Trn. Loss : 5.975e-02 | Val. Loss : 4.807e-01 | LR : 7.928e-04 |\n",
       "</pre>\n"
      ],
      "text/plain": [
       "| Epoch :  116 | Trn. Loss : 5.975e-02 | Val. Loss : 4.807e-01 | LR : 7.928e-04 |\n"
      ]
     },
     "metadata": {},
     "output_type": "display_data"
    },
    {
     "data": {
      "text/html": [
       "<pre style=\"white-space:pre;overflow-x:auto;line-height:normal;font-family:Menlo,'DejaVu Sans Mono',consolas,'Courier New',monospace\">| Epoch :  117 | Trn. Loss : 5.895e-02 | Val. Loss : 5.250e-01 | LR : 7.912e-04 |\n",
       "</pre>\n"
      ],
      "text/plain": [
       "| Epoch :  117 | Trn. Loss : 5.895e-02 | Val. Loss : 5.250e-01 | LR : 7.912e-04 |\n"
      ]
     },
     "metadata": {},
     "output_type": "display_data"
    },
    {
     "data": {
      "text/html": [
       "<pre style=\"white-space:pre;overflow-x:auto;line-height:normal;font-family:Menlo,'DejaVu Sans Mono',consolas,'Courier New',monospace\">| Epoch :  118 | Trn. Loss : 4.516e-02 | Val. Loss : 3.676e-01 | LR : 7.896e-04 |\n",
       "</pre>\n"
      ],
      "text/plain": [
       "| Epoch :  118 | Trn. Loss : 4.516e-02 | Val. Loss : 3.676e-01 | LR : 7.896e-04 |\n"
      ]
     },
     "metadata": {},
     "output_type": "display_data"
    },
    {
     "data": {
      "text/html": [
       "<pre style=\"white-space:pre;overflow-x:auto;line-height:normal;font-family:Menlo,'DejaVu Sans Mono',consolas,'Courier New',monospace\">| Epoch :  119 | Trn. Loss : 5.709e-02 | Val. Loss : 3.404e-01 | LR : 7.880e-04 |\n",
       "</pre>\n"
      ],
      "text/plain": [
       "| Epoch :  119 | Trn. Loss : 5.709e-02 | Val. Loss : 3.404e-01 | LR : 7.880e-04 |\n"
      ]
     },
     "metadata": {},
     "output_type": "display_data"
    },
    {
     "data": {
      "text/html": [
       "<pre style=\"white-space:pre;overflow-x:auto;line-height:normal;font-family:Menlo,'DejaVu Sans Mono',consolas,'Courier New',monospace\">| Epoch :  120 | Trn. Loss : 5.123e-02 | Val. Loss : 3.019e-01 | LR : 7.864e-04 |\n",
       "</pre>\n"
      ],
      "text/plain": [
       "| Epoch :  120 | Trn. Loss : 5.123e-02 | Val. Loss : 3.019e-01 | LR : 7.864e-04 |\n"
      ]
     },
     "metadata": {},
     "output_type": "display_data"
    },
    {
     "data": {
      "text/html": [
       "<pre style=\"white-space:pre;overflow-x:auto;line-height:normal;font-family:Menlo,'DejaVu Sans Mono',consolas,'Courier New',monospace\">| Epoch :  121 | Trn. Loss : 4.199e-02 | Val. Loss : 3.853e-01 | LR : 7.849e-04 |\n",
       "</pre>\n"
      ],
      "text/plain": [
       "| Epoch :  121 | Trn. Loss : 4.199e-02 | Val. Loss : 3.853e-01 | LR : 7.849e-04 |\n"
      ]
     },
     "metadata": {},
     "output_type": "display_data"
    },
    {
     "data": {
      "text/html": [
       "<pre style=\"white-space:pre;overflow-x:auto;line-height:normal;font-family:Menlo,'DejaVu Sans Mono',consolas,'Courier New',monospace\">| Epoch :  122 | Trn. Loss : 6.494e-02 | Val. Loss : 4.412e-01 | LR : 7.833e-04 |\n",
       "</pre>\n"
      ],
      "text/plain": [
       "| Epoch :  122 | Trn. Loss : 6.494e-02 | Val. Loss : 4.412e-01 | LR : 7.833e-04 |\n"
      ]
     },
     "metadata": {},
     "output_type": "display_data"
    },
    {
     "data": {
      "text/html": [
       "<pre style=\"white-space:pre;overflow-x:auto;line-height:normal;font-family:Menlo,'DejaVu Sans Mono',consolas,'Courier New',monospace\">| Epoch :  123 | Trn. Loss : 6.854e-02 | Val. Loss : 4.972e-01 | LR : 7.817e-04 |\n",
       "</pre>\n"
      ],
      "text/plain": [
       "| Epoch :  123 | Trn. Loss : 6.854e-02 | Val. Loss : 4.972e-01 | LR : 7.817e-04 |\n"
      ]
     },
     "metadata": {},
     "output_type": "display_data"
    },
    {
     "data": {
      "text/html": [
       "<pre style=\"white-space:pre;overflow-x:auto;line-height:normal;font-family:Menlo,'DejaVu Sans Mono',consolas,'Courier New',monospace\">| Epoch :  124 | Trn. Loss : 7.001e-02 | Val. Loss : 3.644e-01 | LR : 7.802e-04 |\n",
       "</pre>\n"
      ],
      "text/plain": [
       "| Epoch :  124 | Trn. Loss : 7.001e-02 | Val. Loss : 3.644e-01 | LR : 7.802e-04 |\n"
      ]
     },
     "metadata": {},
     "output_type": "display_data"
    },
    {
     "data": {
      "text/html": [
       "<pre style=\"white-space:pre;overflow-x:auto;line-height:normal;font-family:Menlo,'DejaVu Sans Mono',consolas,'Courier New',monospace\">| Epoch :  125 | Trn. Loss : 5.872e-02 | Val. Loss : 4.408e-01 | LR : 7.786e-04 |\n",
       "</pre>\n"
      ],
      "text/plain": [
       "| Epoch :  125 | Trn. Loss : 5.872e-02 | Val. Loss : 4.408e-01 | LR : 7.786e-04 |\n"
      ]
     },
     "metadata": {},
     "output_type": "display_data"
    },
    {
     "data": {
      "text/html": [
       "<pre style=\"white-space:pre;overflow-x:auto;line-height:normal;font-family:Menlo,'DejaVu Sans Mono',consolas,'Courier New',monospace\">| Epoch :  126 | Trn. Loss : 5.159e-02 | Val. Loss : 4.229e-01 | LR : 7.770e-04 |\n",
       "</pre>\n"
      ],
      "text/plain": [
       "| Epoch :  126 | Trn. Loss : 5.159e-02 | Val. Loss : 4.229e-01 | LR : 7.770e-04 |\n"
      ]
     },
     "metadata": {},
     "output_type": "display_data"
    },
    {
     "data": {
      "text/html": [
       "<pre style=\"white-space:pre;overflow-x:auto;line-height:normal;font-family:Menlo,'DejaVu Sans Mono',consolas,'Courier New',monospace\">| Epoch :  127 | Trn. Loss : 5.151e-02 | Val. Loss : 4.037e-01 | LR : 7.755e-04 |\n",
       "</pre>\n"
      ],
      "text/plain": [
       "| Epoch :  127 | Trn. Loss : 5.151e-02 | Val. Loss : 4.037e-01 | LR : 7.755e-04 |\n"
      ]
     },
     "metadata": {},
     "output_type": "display_data"
    },
    {
     "data": {
      "text/html": [
       "<pre style=\"white-space:pre;overflow-x:auto;line-height:normal;font-family:Menlo,'DejaVu Sans Mono',consolas,'Courier New',monospace\">| Epoch :  128 | Trn. Loss : 5.513e-02 | Val. Loss : 4.580e-01 | LR : 7.739e-04 |\n",
       "</pre>\n"
      ],
      "text/plain": [
       "| Epoch :  128 | Trn. Loss : 5.513e-02 | Val. Loss : 4.580e-01 | LR : 7.739e-04 |\n"
      ]
     },
     "metadata": {},
     "output_type": "display_data"
    },
    {
     "data": {
      "text/html": [
       "<pre style=\"white-space:pre;overflow-x:auto;line-height:normal;font-family:Menlo,'DejaVu Sans Mono',consolas,'Courier New',monospace\">| Epoch :  129 | Trn. Loss : 5.658e-02 | Val. Loss : 5.558e-01 | LR : 7.724e-04 |\n",
       "</pre>\n"
      ],
      "text/plain": [
       "| Epoch :  129 | Trn. Loss : 5.658e-02 | Val. Loss : 5.558e-01 | LR : 7.724e-04 |\n"
      ]
     },
     "metadata": {},
     "output_type": "display_data"
    },
    {
     "data": {
      "text/html": [
       "<pre style=\"white-space:pre;overflow-x:auto;line-height:normal;font-family:Menlo,'DejaVu Sans Mono',consolas,'Courier New',monospace\">| Epoch :  130 | Trn. Loss : 5.790e-02 | Val. Loss : 4.087e-01 | LR : 7.709e-04 |\n",
       "</pre>\n"
      ],
      "text/plain": [
       "| Epoch :  130 | Trn. Loss : 5.790e-02 | Val. Loss : 4.087e-01 | LR : 7.709e-04 |\n"
      ]
     },
     "metadata": {},
     "output_type": "display_data"
    },
    {
     "data": {
      "text/html": [
       "<pre style=\"white-space:pre;overflow-x:auto;line-height:normal;font-family:Menlo,'DejaVu Sans Mono',consolas,'Courier New',monospace\">| Epoch :  131 | Trn. Loss : 4.104e-02 | Val. Loss : 3.718e-01 | LR : 7.693e-04 |\n",
       "</pre>\n"
      ],
      "text/plain": [
       "| Epoch :  131 | Trn. Loss : 4.104e-02 | Val. Loss : 3.718e-01 | LR : 7.693e-04 |\n"
      ]
     },
     "metadata": {},
     "output_type": "display_data"
    },
    {
     "data": {
      "text/html": [
       "<pre style=\"white-space:pre;overflow-x:auto;line-height:normal;font-family:Menlo,'DejaVu Sans Mono',consolas,'Courier New',monospace\">| Epoch :  132 | Trn. Loss : 6.562e-02 | Val. Loss : 4.476e-01 | LR : 7.678e-04 |\n",
       "</pre>\n"
      ],
      "text/plain": [
       "| Epoch :  132 | Trn. Loss : 6.562e-02 | Val. Loss : 4.476e-01 | LR : 7.678e-04 |\n"
      ]
     },
     "metadata": {},
     "output_type": "display_data"
    },
    {
     "data": {
      "text/html": [
       "<pre style=\"white-space:pre;overflow-x:auto;line-height:normal;font-family:Menlo,'DejaVu Sans Mono',consolas,'Courier New',monospace\">| Epoch :  133 | Trn. Loss : 5.602e-02 | Val. Loss : 5.084e-01 | LR : 7.662e-04 |\n",
       "</pre>\n"
      ],
      "text/plain": [
       "| Epoch :  133 | Trn. Loss : 5.602e-02 | Val. Loss : 5.084e-01 | LR : 7.662e-04 |\n"
      ]
     },
     "metadata": {},
     "output_type": "display_data"
    },
    {
     "data": {
      "text/html": [
       "<pre style=\"white-space:pre;overflow-x:auto;line-height:normal;font-family:Menlo,'DejaVu Sans Mono',consolas,'Courier New',monospace\">| Epoch :  134 | Trn. Loss : 4.856e-02 | Val. Loss : 4.375e-01 | LR : 7.647e-04 |\n",
       "</pre>\n"
      ],
      "text/plain": [
       "| Epoch :  134 | Trn. Loss : 4.856e-02 | Val. Loss : 4.375e-01 | LR : 7.647e-04 |\n"
      ]
     },
     "metadata": {},
     "output_type": "display_data"
    },
    {
     "data": {
      "text/html": [
       "<pre style=\"white-space:pre;overflow-x:auto;line-height:normal;font-family:Menlo,'DejaVu Sans Mono',consolas,'Courier New',monospace\">| Epoch :  135 | Trn. Loss : 5.850e-02 | Val. Loss : 3.826e-01 | LR : 7.632e-04 |\n",
       "</pre>\n"
      ],
      "text/plain": [
       "| Epoch :  135 | Trn. Loss : 5.850e-02 | Val. Loss : 3.826e-01 | LR : 7.632e-04 |\n"
      ]
     },
     "metadata": {},
     "output_type": "display_data"
    },
    {
     "data": {
      "text/html": [
       "<pre style=\"white-space:pre;overflow-x:auto;line-height:normal;font-family:Menlo,'DejaVu Sans Mono',consolas,'Courier New',monospace\">| Epoch :  136 | Trn. Loss : 6.472e-02 | Val. Loss : 5.065e-01 | LR : 7.616e-04 |\n",
       "</pre>\n"
      ],
      "text/plain": [
       "| Epoch :  136 | Trn. Loss : 6.472e-02 | Val. Loss : 5.065e-01 | LR : 7.616e-04 |\n"
      ]
     },
     "metadata": {},
     "output_type": "display_data"
    },
    {
     "data": {
      "text/html": [
       "<pre style=\"white-space:pre;overflow-x:auto;line-height:normal;font-family:Menlo,'DejaVu Sans Mono',consolas,'Courier New',monospace\">| Epoch :  137 | Trn. Loss : 4.193e-02 | Val. Loss : 5.485e-01 | LR : 7.601e-04 |\n",
       "</pre>\n"
      ],
      "text/plain": [
       "| Epoch :  137 | Trn. Loss : 4.193e-02 | Val. Loss : 5.485e-01 | LR : 7.601e-04 |\n"
      ]
     },
     "metadata": {},
     "output_type": "display_data"
    },
    {
     "data": {
      "text/html": [
       "<pre style=\"white-space:pre;overflow-x:auto;line-height:normal;font-family:Menlo,'DejaVu Sans Mono',consolas,'Courier New',monospace\">| Epoch :  138 | Trn. Loss : 4.832e-02 | Val. Loss : 4.963e-01 | LR : 7.586e-04 |\n",
       "</pre>\n"
      ],
      "text/plain": [
       "| Epoch :  138 | Trn. Loss : 4.832e-02 | Val. Loss : 4.963e-01 | LR : 7.586e-04 |\n"
      ]
     },
     "metadata": {},
     "output_type": "display_data"
    },
    {
     "data": {
      "text/html": [
       "<pre style=\"white-space:pre;overflow-x:auto;line-height:normal;font-family:Menlo,'DejaVu Sans Mono',consolas,'Courier New',monospace\">| Epoch :  139 | Trn. Loss : 4.247e-02 | Val. Loss : 5.232e-01 | LR : 7.571e-04 |\n",
       "</pre>\n"
      ],
      "text/plain": [
       "| Epoch :  139 | Trn. Loss : 4.247e-02 | Val. Loss : 5.232e-01 | LR : 7.571e-04 |\n"
      ]
     },
     "metadata": {},
     "output_type": "display_data"
    },
    {
     "data": {
      "text/html": [
       "<pre style=\"white-space:pre;overflow-x:auto;line-height:normal;font-family:Menlo,'DejaVu Sans Mono',consolas,'Courier New',monospace\">| Epoch :  140 | Trn. Loss : 5.012e-02 | Val. Loss : 5.039e-01 | LR : 7.556e-04 |\n",
       "</pre>\n"
      ],
      "text/plain": [
       "| Epoch :  140 | Trn. Loss : 5.012e-02 | Val. Loss : 5.039e-01 | LR : 7.556e-04 |\n"
      ]
     },
     "metadata": {},
     "output_type": "display_data"
    },
    {
     "data": {
      "text/html": [
       "<pre style=\"white-space:pre;overflow-x:auto;line-height:normal;font-family:Menlo,'DejaVu Sans Mono',consolas,'Courier New',monospace\">| Epoch :  141 | Trn. Loss : 5.629e-02 | Val. Loss : 6.734e-01 | LR : 7.541e-04 |\n",
       "</pre>\n"
      ],
      "text/plain": [
       "| Epoch :  141 | Trn. Loss : 5.629e-02 | Val. Loss : 6.734e-01 | LR : 7.541e-04 |\n"
      ]
     },
     "metadata": {},
     "output_type": "display_data"
    },
    {
     "data": {
      "text/html": [
       "<pre style=\"white-space:pre;overflow-x:auto;line-height:normal;font-family:Menlo,'DejaVu Sans Mono',consolas,'Courier New',monospace\">| Epoch :  142 | Trn. Loss : 6.140e-02 | Val. Loss : 4.777e-01 | LR : 7.526e-04 |\n",
       "</pre>\n"
      ],
      "text/plain": [
       "| Epoch :  142 | Trn. Loss : 6.140e-02 | Val. Loss : 4.777e-01 | LR : 7.526e-04 |\n"
      ]
     },
     "metadata": {},
     "output_type": "display_data"
    },
    {
     "data": {
      "text/html": [
       "<pre style=\"white-space:pre;overflow-x:auto;line-height:normal;font-family:Menlo,'DejaVu Sans Mono',consolas,'Courier New',monospace\">| Epoch :  143 | Trn. Loss : 6.400e-02 | Val. Loss : 3.394e-01 | LR : 7.510e-04 |\n",
       "</pre>\n"
      ],
      "text/plain": [
       "| Epoch :  143 | Trn. Loss : 6.400e-02 | Val. Loss : 3.394e-01 | LR : 7.510e-04 |\n"
      ]
     },
     "metadata": {},
     "output_type": "display_data"
    },
    {
     "data": {
      "text/html": [
       "<pre style=\"white-space:pre;overflow-x:auto;line-height:normal;font-family:Menlo,'DejaVu Sans Mono',consolas,'Courier New',monospace\">| Epoch :  144 | Trn. Loss : 5.719e-02 | Val. Loss : 3.898e-01 | LR : 7.495e-04 |\n",
       "</pre>\n"
      ],
      "text/plain": [
       "| Epoch :  144 | Trn. Loss : 5.719e-02 | Val. Loss : 3.898e-01 | LR : 7.495e-04 |\n"
      ]
     },
     "metadata": {},
     "output_type": "display_data"
    },
    {
     "data": {
      "text/html": [
       "<pre style=\"white-space:pre;overflow-x:auto;line-height:normal;font-family:Menlo,'DejaVu Sans Mono',consolas,'Courier New',monospace\">| Epoch :  145 | Trn. Loss : 7.325e-02 | Val. Loss : 4.536e-01 | LR : 7.480e-04 |\n",
       "</pre>\n"
      ],
      "text/plain": [
       "| Epoch :  145 | Trn. Loss : 7.325e-02 | Val. Loss : 4.536e-01 | LR : 7.480e-04 |\n"
      ]
     },
     "metadata": {},
     "output_type": "display_data"
    },
    {
     "data": {
      "text/html": [
       "<pre style=\"white-space:pre;overflow-x:auto;line-height:normal;font-family:Menlo,'DejaVu Sans Mono',consolas,'Courier New',monospace\">| Epoch :  146 | Trn. Loss : 6.221e-02 | Val. Loss : 3.545e-01 | LR : 7.466e-04 |\n",
       "</pre>\n"
      ],
      "text/plain": [
       "| Epoch :  146 | Trn. Loss : 6.221e-02 | Val. Loss : 3.545e-01 | LR : 7.466e-04 |\n"
      ]
     },
     "metadata": {},
     "output_type": "display_data"
    },
    {
     "data": {
      "text/html": [
       "<pre style=\"white-space:pre;overflow-x:auto;line-height:normal;font-family:Menlo,'DejaVu Sans Mono',consolas,'Courier New',monospace\">| Epoch :  147 | Trn. Loss : 6.358e-02 | Val. Loss : 3.900e-01 | LR : 7.451e-04 |\n",
       "</pre>\n"
      ],
      "text/plain": [
       "| Epoch :  147 | Trn. Loss : 6.358e-02 | Val. Loss : 3.900e-01 | LR : 7.451e-04 |\n"
      ]
     },
     "metadata": {},
     "output_type": "display_data"
    },
    {
     "data": {
      "text/html": [
       "<pre style=\"white-space:pre;overflow-x:auto;line-height:normal;font-family:Menlo,'DejaVu Sans Mono',consolas,'Courier New',monospace\">| Epoch :  148 | Trn. Loss : 4.522e-02 | Val. Loss : 4.071e-01 | LR : 7.436e-04 |\n",
       "</pre>\n"
      ],
      "text/plain": [
       "| Epoch :  148 | Trn. Loss : 4.522e-02 | Val. Loss : 4.071e-01 | LR : 7.436e-04 |\n"
      ]
     },
     "metadata": {},
     "output_type": "display_data"
    },
    {
     "data": {
      "text/html": [
       "<pre style=\"white-space:pre;overflow-x:auto;line-height:normal;font-family:Menlo,'DejaVu Sans Mono',consolas,'Courier New',monospace\">| Epoch :  149 | Trn. Loss : 5.190e-02 | Val. Loss : 5.078e-01 | LR : 7.421e-04 |\n",
       "</pre>\n"
      ],
      "text/plain": [
       "| Epoch :  149 | Trn. Loss : 5.190e-02 | Val. Loss : 5.078e-01 | LR : 7.421e-04 |\n"
      ]
     },
     "metadata": {},
     "output_type": "display_data"
    },
    {
     "data": {
      "text/html": [
       "<pre style=\"white-space:pre;overflow-x:auto;line-height:normal;font-family:Menlo,'DejaVu Sans Mono',consolas,'Courier New',monospace\">| Epoch :  150 | Trn. Loss : 5.070e-02 | Val. Loss : 5.031e-01 | LR : 7.406e-04 |\n",
       "</pre>\n"
      ],
      "text/plain": [
       "| Epoch :  150 | Trn. Loss : 5.070e-02 | Val. Loss : 5.031e-01 | LR : 7.406e-04 |\n"
      ]
     },
     "metadata": {},
     "output_type": "display_data"
    },
    {
     "data": {
      "text/html": [
       "<pre style=\"white-space:pre;overflow-x:auto;line-height:normal;font-family:Menlo,'DejaVu Sans Mono',consolas,'Courier New',monospace\">| Epoch :  151 | Trn. Loss : 5.552e-02 | Val. Loss : 4.361e-01 | LR : 7.391e-04 |\n",
       "</pre>\n"
      ],
      "text/plain": [
       "| Epoch :  151 | Trn. Loss : 5.552e-02 | Val. Loss : 4.361e-01 | LR : 7.391e-04 |\n"
      ]
     },
     "metadata": {},
     "output_type": "display_data"
    },
    {
     "data": {
      "text/html": [
       "<pre style=\"white-space:pre;overflow-x:auto;line-height:normal;font-family:Menlo,'DejaVu Sans Mono',consolas,'Courier New',monospace\">| Epoch :  152 | Trn. Loss : 5.768e-02 | Val. Loss : 3.942e-01 | LR : 7.376e-04 |\n",
       "</pre>\n"
      ],
      "text/plain": [
       "| Epoch :  152 | Trn. Loss : 5.768e-02 | Val. Loss : 3.942e-01 | LR : 7.376e-04 |\n"
      ]
     },
     "metadata": {},
     "output_type": "display_data"
    },
    {
     "data": {
      "text/html": [
       "<pre style=\"white-space:pre;overflow-x:auto;line-height:normal;font-family:Menlo,'DejaVu Sans Mono',consolas,'Courier New',monospace\">| Epoch :  153 | Trn. Loss : 3.466e-02 | Val. Loss : 4.228e-01 | LR : 7.362e-04 |\n",
       "</pre>\n"
      ],
      "text/plain": [
       "| Epoch :  153 | Trn. Loss : 3.466e-02 | Val. Loss : 4.228e-01 | LR : 7.362e-04 |\n"
      ]
     },
     "metadata": {},
     "output_type": "display_data"
    },
    {
     "data": {
      "text/html": [
       "<pre style=\"white-space:pre;overflow-x:auto;line-height:normal;font-family:Menlo,'DejaVu Sans Mono',consolas,'Courier New',monospace\">| Epoch :  154 | Trn. Loss : 4.315e-02 | Val. Loss : 4.600e-01 | LR : 7.347e-04 |\n",
       "</pre>\n"
      ],
      "text/plain": [
       "| Epoch :  154 | Trn. Loss : 4.315e-02 | Val. Loss : 4.600e-01 | LR : 7.347e-04 |\n"
      ]
     },
     "metadata": {},
     "output_type": "display_data"
    },
    {
     "data": {
      "text/html": [
       "<pre style=\"white-space:pre;overflow-x:auto;line-height:normal;font-family:Menlo,'DejaVu Sans Mono',consolas,'Courier New',monospace\">| Epoch :  155 | Trn. Loss : 5.211e-02 | Val. Loss : 4.400e-01 | LR : 7.332e-04 |\n",
       "</pre>\n"
      ],
      "text/plain": [
       "| Epoch :  155 | Trn. Loss : 5.211e-02 | Val. Loss : 4.400e-01 | LR : 7.332e-04 |\n"
      ]
     },
     "metadata": {},
     "output_type": "display_data"
    },
    {
     "data": {
      "text/html": [
       "<pre style=\"white-space:pre;overflow-x:auto;line-height:normal;font-family:Menlo,'DejaVu Sans Mono',consolas,'Courier New',monospace\">| Epoch :  156 | Trn. Loss : 5.159e-02 | Val. Loss : 5.189e-01 | LR : 7.318e-04 |\n",
       "</pre>\n"
      ],
      "text/plain": [
       "| Epoch :  156 | Trn. Loss : 5.159e-02 | Val. Loss : 5.189e-01 | LR : 7.318e-04 |\n"
      ]
     },
     "metadata": {},
     "output_type": "display_data"
    },
    {
     "data": {
      "text/html": [
       "<pre style=\"white-space:pre;overflow-x:auto;line-height:normal;font-family:Menlo,'DejaVu Sans Mono',consolas,'Courier New',monospace\">| Epoch :  157 | Trn. Loss : 4.503e-02 | Val. Loss : 4.978e-01 | LR : 7.303e-04 |\n",
       "</pre>\n"
      ],
      "text/plain": [
       "| Epoch :  157 | Trn. Loss : 4.503e-02 | Val. Loss : 4.978e-01 | LR : 7.303e-04 |\n"
      ]
     },
     "metadata": {},
     "output_type": "display_data"
    },
    {
     "data": {
      "text/html": [
       "<pre style=\"white-space:pre;overflow-x:auto;line-height:normal;font-family:Menlo,'DejaVu Sans Mono',consolas,'Courier New',monospace\">| Epoch :  158 | Trn. Loss : 4.499e-02 | Val. Loss : 5.851e-01 | LR : 7.288e-04 |\n",
       "</pre>\n"
      ],
      "text/plain": [
       "| Epoch :  158 | Trn. Loss : 4.499e-02 | Val. Loss : 5.851e-01 | LR : 7.288e-04 |\n"
      ]
     },
     "metadata": {},
     "output_type": "display_data"
    },
    {
     "data": {
      "text/html": [
       "<pre style=\"white-space:pre;overflow-x:auto;line-height:normal;font-family:Menlo,'DejaVu Sans Mono',consolas,'Courier New',monospace\">| Epoch :  159 | Trn. Loss : 6.447e-02 | Val. Loss : 4.659e-01 | LR : 7.274e-04 |\n",
       "</pre>\n"
      ],
      "text/plain": [
       "| Epoch :  159 | Trn. Loss : 6.447e-02 | Val. Loss : 4.659e-01 | LR : 7.274e-04 |\n"
      ]
     },
     "metadata": {},
     "output_type": "display_data"
    },
    {
     "data": {
      "text/html": [
       "<pre style=\"white-space:pre;overflow-x:auto;line-height:normal;font-family:Menlo,'DejaVu Sans Mono',consolas,'Courier New',monospace\">| Epoch :  160 | Trn. Loss : 4.546e-02 | Val. Loss : 4.412e-01 | LR : 7.259e-04 |\n",
       "</pre>\n"
      ],
      "text/plain": [
       "| Epoch :  160 | Trn. Loss : 4.546e-02 | Val. Loss : 4.412e-01 | LR : 7.259e-04 |\n"
      ]
     },
     "metadata": {},
     "output_type": "display_data"
    },
    {
     "data": {
      "text/html": [
       "<pre style=\"white-space:pre;overflow-x:auto;line-height:normal;font-family:Menlo,'DejaVu Sans Mono',consolas,'Courier New',monospace\">| Epoch :  161 | Trn. Loss : 5.401e-02 | Val. Loss : 3.707e-01 | LR : 7.245e-04 |\n",
       "</pre>\n"
      ],
      "text/plain": [
       "| Epoch :  161 | Trn. Loss : 5.401e-02 | Val. Loss : 3.707e-01 | LR : 7.245e-04 |\n"
      ]
     },
     "metadata": {},
     "output_type": "display_data"
    },
    {
     "data": {
      "text/html": [
       "<pre style=\"white-space:pre;overflow-x:auto;line-height:normal;font-family:Menlo,'DejaVu Sans Mono',consolas,'Courier New',monospace\">| Epoch :  162 | Trn. Loss : 4.083e-02 | Val. Loss : 3.333e-01 | LR : 7.230e-04 |\n",
       "</pre>\n"
      ],
      "text/plain": [
       "| Epoch :  162 | Trn. Loss : 4.083e-02 | Val. Loss : 3.333e-01 | LR : 7.230e-04 |\n"
      ]
     },
     "metadata": {},
     "output_type": "display_data"
    },
    {
     "data": {
      "text/html": [
       "<pre style=\"white-space:pre;overflow-x:auto;line-height:normal;font-family:Menlo,'DejaVu Sans Mono',consolas,'Courier New',monospace\">| Epoch :  163 | Trn. Loss : 4.329e-02 | Val. Loss : 3.533e-01 | LR : 7.216e-04 |\n",
       "</pre>\n"
      ],
      "text/plain": [
       "| Epoch :  163 | Trn. Loss : 4.329e-02 | Val. Loss : 3.533e-01 | LR : 7.216e-04 |\n"
      ]
     },
     "metadata": {},
     "output_type": "display_data"
    },
    {
     "data": {
      "text/html": [
       "<pre style=\"white-space:pre;overflow-x:auto;line-height:normal;font-family:Menlo,'DejaVu Sans Mono',consolas,'Courier New',monospace\">| Epoch :  164 | Trn. Loss : 5.243e-02 | Val. Loss : 4.111e-01 | LR : 7.201e-04 |\n",
       "</pre>\n"
      ],
      "text/plain": [
       "| Epoch :  164 | Trn. Loss : 5.243e-02 | Val. Loss : 4.111e-01 | LR : 7.201e-04 |\n"
      ]
     },
     "metadata": {},
     "output_type": "display_data"
    },
    {
     "data": {
      "text/html": [
       "<pre style=\"white-space:pre;overflow-x:auto;line-height:normal;font-family:Menlo,'DejaVu Sans Mono',consolas,'Courier New',monospace\">| Epoch :  165 | Trn. Loss : 4.817e-02 | Val. Loss : 4.060e-01 | LR : 7.187e-04 |\n",
       "</pre>\n"
      ],
      "text/plain": [
       "| Epoch :  165 | Trn. Loss : 4.817e-02 | Val. Loss : 4.060e-01 | LR : 7.187e-04 |\n"
      ]
     },
     "metadata": {},
     "output_type": "display_data"
    },
    {
     "data": {
      "text/html": [
       "<pre style=\"white-space:pre;overflow-x:auto;line-height:normal;font-family:Menlo,'DejaVu Sans Mono',consolas,'Courier New',monospace\">| Epoch :  166 | Trn. Loss : 5.122e-02 | Val. Loss : 4.479e-01 | LR : 7.172e-04 |\n",
       "</pre>\n"
      ],
      "text/plain": [
       "| Epoch :  166 | Trn. Loss : 5.122e-02 | Val. Loss : 4.479e-01 | LR : 7.172e-04 |\n"
      ]
     },
     "metadata": {},
     "output_type": "display_data"
    },
    {
     "data": {
      "text/html": [
       "<pre style=\"white-space:pre;overflow-x:auto;line-height:normal;font-family:Menlo,'DejaVu Sans Mono',consolas,'Courier New',monospace\">| Epoch :  167 | Trn. Loss : 5.304e-02 | Val. Loss : 5.618e-01 | LR : 7.158e-04 |\n",
       "</pre>\n"
      ],
      "text/plain": [
       "| Epoch :  167 | Trn. Loss : 5.304e-02 | Val. Loss : 5.618e-01 | LR : 7.158e-04 |\n"
      ]
     },
     "metadata": {},
     "output_type": "display_data"
    },
    {
     "data": {
      "text/html": [
       "<pre style=\"white-space:pre;overflow-x:auto;line-height:normal;font-family:Menlo,'DejaVu Sans Mono',consolas,'Courier New',monospace\">| Epoch :  168 | Trn. Loss : 4.442e-02 | Val. Loss : 4.649e-01 | LR : 7.144e-04 |\n",
       "</pre>\n"
      ],
      "text/plain": [
       "| Epoch :  168 | Trn. Loss : 4.442e-02 | Val. Loss : 4.649e-01 | LR : 7.144e-04 |\n"
      ]
     },
     "metadata": {},
     "output_type": "display_data"
    },
    {
     "data": {
      "text/html": [
       "<pre style=\"white-space:pre;overflow-x:auto;line-height:normal;font-family:Menlo,'DejaVu Sans Mono',consolas,'Courier New',monospace\">| Epoch :  169 | Trn. Loss : 3.915e-02 | Val. Loss : 5.611e-01 | LR : 7.130e-04 |\n",
       "</pre>\n"
      ],
      "text/plain": [
       "| Epoch :  169 | Trn. Loss : 3.915e-02 | Val. Loss : 5.611e-01 | LR : 7.130e-04 |\n"
      ]
     },
     "metadata": {},
     "output_type": "display_data"
    },
    {
     "data": {
      "text/html": [
       "<pre style=\"white-space:pre;overflow-x:auto;line-height:normal;font-family:Menlo,'DejaVu Sans Mono',consolas,'Courier New',monospace\">| Epoch :  170 | Trn. Loss : 3.703e-02 | Val. Loss : 6.082e-01 | LR : 7.115e-04 |\n",
       "</pre>\n"
      ],
      "text/plain": [
       "| Epoch :  170 | Trn. Loss : 3.703e-02 | Val. Loss : 6.082e-01 | LR : 7.115e-04 |\n"
      ]
     },
     "metadata": {},
     "output_type": "display_data"
    },
    {
     "data": {
      "text/html": [
       "<pre style=\"white-space:pre;overflow-x:auto;line-height:normal;font-family:Menlo,'DejaVu Sans Mono',consolas,'Courier New',monospace\">| Epoch :  171 | Trn. Loss : 3.764e-02 | Val. Loss : 4.520e-01 | LR : 7.101e-04 |\n",
       "</pre>\n"
      ],
      "text/plain": [
       "| Epoch :  171 | Trn. Loss : 3.764e-02 | Val. Loss : 4.520e-01 | LR : 7.101e-04 |\n"
      ]
     },
     "metadata": {},
     "output_type": "display_data"
    },
    {
     "data": {
      "text/html": [
       "<pre style=\"white-space:pre;overflow-x:auto;line-height:normal;font-family:Menlo,'DejaVu Sans Mono',consolas,'Courier New',monospace\">| Epoch :  172 | Trn. Loss : 3.879e-02 | Val. Loss : 4.713e-01 | LR : 7.087e-04 |\n",
       "</pre>\n"
      ],
      "text/plain": [
       "| Epoch :  172 | Trn. Loss : 3.879e-02 | Val. Loss : 4.713e-01 | LR : 7.087e-04 |\n"
      ]
     },
     "metadata": {},
     "output_type": "display_data"
    },
    {
     "data": {
      "text/html": [
       "<pre style=\"white-space:pre;overflow-x:auto;line-height:normal;font-family:Menlo,'DejaVu Sans Mono',consolas,'Courier New',monospace\">| Epoch :  173 | Trn. Loss : 4.318e-02 | Val. Loss : 4.271e-01 | LR : 7.073e-04 |\n",
       "</pre>\n"
      ],
      "text/plain": [
       "| Epoch :  173 | Trn. Loss : 4.318e-02 | Val. Loss : 4.271e-01 | LR : 7.073e-04 |\n"
      ]
     },
     "metadata": {},
     "output_type": "display_data"
    },
    {
     "data": {
      "text/html": [
       "<pre style=\"white-space:pre;overflow-x:auto;line-height:normal;font-family:Menlo,'DejaVu Sans Mono',consolas,'Courier New',monospace\">| Epoch :  174 | Trn. Loss : 4.405e-02 | Val. Loss : 3.934e-01 | LR : 7.059e-04 |\n",
       "</pre>\n"
      ],
      "text/plain": [
       "| Epoch :  174 | Trn. Loss : 4.405e-02 | Val. Loss : 3.934e-01 | LR : 7.059e-04 |\n"
      ]
     },
     "metadata": {},
     "output_type": "display_data"
    },
    {
     "data": {
      "text/html": [
       "<pre style=\"white-space:pre;overflow-x:auto;line-height:normal;font-family:Menlo,'DejaVu Sans Mono',consolas,'Courier New',monospace\">| Epoch :  175 | Trn. Loss : 5.323e-02 | Val. Loss : 4.106e-01 | LR : 7.044e-04 |\n",
       "</pre>\n"
      ],
      "text/plain": [
       "| Epoch :  175 | Trn. Loss : 5.323e-02 | Val. Loss : 4.106e-01 | LR : 7.044e-04 |\n"
      ]
     },
     "metadata": {},
     "output_type": "display_data"
    },
    {
     "data": {
      "text/html": [
       "<pre style=\"white-space:pre;overflow-x:auto;line-height:normal;font-family:Menlo,'DejaVu Sans Mono',consolas,'Courier New',monospace\">| Epoch :  176 | Trn. Loss : 4.782e-02 | Val. Loss : 3.555e-01 | LR : 7.030e-04 |\n",
       "</pre>\n"
      ],
      "text/plain": [
       "| Epoch :  176 | Trn. Loss : 4.782e-02 | Val. Loss : 3.555e-01 | LR : 7.030e-04 |\n"
      ]
     },
     "metadata": {},
     "output_type": "display_data"
    },
    {
     "data": {
      "text/html": [
       "<pre style=\"white-space:pre;overflow-x:auto;line-height:normal;font-family:Menlo,'DejaVu Sans Mono',consolas,'Courier New',monospace\">| Epoch :  177 | Trn. Loss : 4.365e-02 | Val. Loss : 3.675e-01 | LR : 7.016e-04 |\n",
       "</pre>\n"
      ],
      "text/plain": [
       "| Epoch :  177 | Trn. Loss : 4.365e-02 | Val. Loss : 3.675e-01 | LR : 7.016e-04 |\n"
      ]
     },
     "metadata": {},
     "output_type": "display_data"
    },
    {
     "data": {
      "text/html": [
       "<pre style=\"white-space:pre;overflow-x:auto;line-height:normal;font-family:Menlo,'DejaVu Sans Mono',consolas,'Courier New',monospace\">| Epoch :  178 | Trn. Loss : 4.775e-02 | Val. Loss : 3.952e-01 | LR : 7.002e-04 |\n",
       "</pre>\n"
      ],
      "text/plain": [
       "| Epoch :  178 | Trn. Loss : 4.775e-02 | Val. Loss : 3.952e-01 | LR : 7.002e-04 |\n"
      ]
     },
     "metadata": {},
     "output_type": "display_data"
    },
    {
     "data": {
      "text/html": [
       "<pre style=\"white-space:pre;overflow-x:auto;line-height:normal;font-family:Menlo,'DejaVu Sans Mono',consolas,'Courier New',monospace\">| Epoch :  179 | Trn. Loss : 4.143e-02 | Val. Loss : 4.222e-01 | LR : 6.988e-04 |\n",
       "</pre>\n"
      ],
      "text/plain": [
       "| Epoch :  179 | Trn. Loss : 4.143e-02 | Val. Loss : 4.222e-01 | LR : 6.988e-04 |\n"
      ]
     },
     "metadata": {},
     "output_type": "display_data"
    },
    {
     "data": {
      "text/html": [
       "<pre style=\"white-space:pre;overflow-x:auto;line-height:normal;font-family:Menlo,'DejaVu Sans Mono',consolas,'Courier New',monospace\">| Epoch :  180 | Trn. Loss : 4.565e-02 | Val. Loss : 4.029e-01 | LR : 6.974e-04 |\n",
       "</pre>\n"
      ],
      "text/plain": [
       "| Epoch :  180 | Trn. Loss : 4.565e-02 | Val. Loss : 4.029e-01 | LR : 6.974e-04 |\n"
      ]
     },
     "metadata": {},
     "output_type": "display_data"
    },
    {
     "data": {
      "text/html": [
       "<pre style=\"white-space:pre;overflow-x:auto;line-height:normal;font-family:Menlo,'DejaVu Sans Mono',consolas,'Courier New',monospace\">| Epoch :  181 | Trn. Loss : 3.717e-02 | Val. Loss : 3.806e-01 | LR : 6.960e-04 |\n",
       "</pre>\n"
      ],
      "text/plain": [
       "| Epoch :  181 | Trn. Loss : 3.717e-02 | Val. Loss : 3.806e-01 | LR : 6.960e-04 |\n"
      ]
     },
     "metadata": {},
     "output_type": "display_data"
    },
    {
     "data": {
      "text/html": [
       "<pre style=\"white-space:pre;overflow-x:auto;line-height:normal;font-family:Menlo,'DejaVu Sans Mono',consolas,'Courier New',monospace\">| Epoch :  182 | Trn. Loss : 4.563e-02 | Val. Loss : 4.295e-01 | LR : 6.946e-04 |\n",
       "</pre>\n"
      ],
      "text/plain": [
       "| Epoch :  182 | Trn. Loss : 4.563e-02 | Val. Loss : 4.295e-01 | LR : 6.946e-04 |\n"
      ]
     },
     "metadata": {},
     "output_type": "display_data"
    },
    {
     "data": {
      "text/html": [
       "<pre style=\"white-space:pre;overflow-x:auto;line-height:normal;font-family:Menlo,'DejaVu Sans Mono',consolas,'Courier New',monospace\">| Epoch :  183 | Trn. Loss : 4.352e-02 | Val. Loss : 4.282e-01 | LR : 6.932e-04 |\n",
       "</pre>\n"
      ],
      "text/plain": [
       "| Epoch :  183 | Trn. Loss : 4.352e-02 | Val. Loss : 4.282e-01 | LR : 6.932e-04 |\n"
      ]
     },
     "metadata": {},
     "output_type": "display_data"
    },
    {
     "data": {
      "text/html": [
       "<pre style=\"white-space:pre;overflow-x:auto;line-height:normal;font-family:Menlo,'DejaVu Sans Mono',consolas,'Courier New',monospace\">| Epoch :  184 | Trn. Loss : 4.161e-02 | Val. Loss : 4.352e-01 | LR : 6.919e-04 |\n",
       "</pre>\n"
      ],
      "text/plain": [
       "| Epoch :  184 | Trn. Loss : 4.161e-02 | Val. Loss : 4.352e-01 | LR : 6.919e-04 |\n"
      ]
     },
     "metadata": {},
     "output_type": "display_data"
    },
    {
     "data": {
      "text/html": [
       "<pre style=\"white-space:pre;overflow-x:auto;line-height:normal;font-family:Menlo,'DejaVu Sans Mono',consolas,'Courier New',monospace\">| Epoch :  185 | Trn. Loss : 3.704e-02 | Val. Loss : 3.889e-01 | LR : 6.905e-04 |\n",
       "</pre>\n"
      ],
      "text/plain": [
       "| Epoch :  185 | Trn. Loss : 3.704e-02 | Val. Loss : 3.889e-01 | LR : 6.905e-04 |\n"
      ]
     },
     "metadata": {},
     "output_type": "display_data"
    },
    {
     "data": {
      "text/html": [
       "<pre style=\"white-space:pre;overflow-x:auto;line-height:normal;font-family:Menlo,'DejaVu Sans Mono',consolas,'Courier New',monospace\">| Epoch :  186 | Trn. Loss : 3.634e-02 | Val. Loss : 3.755e-01 | LR : 6.891e-04 |\n",
       "</pre>\n"
      ],
      "text/plain": [
       "| Epoch :  186 | Trn. Loss : 3.634e-02 | Val. Loss : 3.755e-01 | LR : 6.891e-04 |\n"
      ]
     },
     "metadata": {},
     "output_type": "display_data"
    },
    {
     "data": {
      "text/html": [
       "<pre style=\"white-space:pre;overflow-x:auto;line-height:normal;font-family:Menlo,'DejaVu Sans Mono',consolas,'Courier New',monospace\">| Epoch :  187 | Trn. Loss : 2.883e-02 | Val. Loss : 3.909e-01 | LR : 6.877e-04 |\n",
       "</pre>\n"
      ],
      "text/plain": [
       "| Epoch :  187 | Trn. Loss : 2.883e-02 | Val. Loss : 3.909e-01 | LR : 6.877e-04 |\n"
      ]
     },
     "metadata": {},
     "output_type": "display_data"
    },
    {
     "data": {
      "text/html": [
       "<pre style=\"white-space:pre;overflow-x:auto;line-height:normal;font-family:Menlo,'DejaVu Sans Mono',consolas,'Courier New',monospace\">| Epoch :  188 | Trn. Loss : 3.655e-02 | Val. Loss : 4.057e-01 | LR : 6.863e-04 |\n",
       "</pre>\n"
      ],
      "text/plain": [
       "| Epoch :  188 | Trn. Loss : 3.655e-02 | Val. Loss : 4.057e-01 | LR : 6.863e-04 |\n"
      ]
     },
     "metadata": {},
     "output_type": "display_data"
    },
    {
     "data": {
      "text/html": [
       "<pre style=\"white-space:pre;overflow-x:auto;line-height:normal;font-family:Menlo,'DejaVu Sans Mono',consolas,'Courier New',monospace\">| Epoch :  189 | Trn. Loss : 3.990e-02 | Val. Loss : 4.654e-01 | LR : 6.850e-04 |\n",
       "</pre>\n"
      ],
      "text/plain": [
       "| Epoch :  189 | Trn. Loss : 3.990e-02 | Val. Loss : 4.654e-01 | LR : 6.850e-04 |\n"
      ]
     },
     "metadata": {},
     "output_type": "display_data"
    },
    {
     "data": {
      "text/html": [
       "<pre style=\"white-space:pre;overflow-x:auto;line-height:normal;font-family:Menlo,'DejaVu Sans Mono',consolas,'Courier New',monospace\">| Epoch :  190 | Trn. Loss : 4.153e-02 | Val. Loss : 4.372e-01 | LR : 6.836e-04 |\n",
       "</pre>\n"
      ],
      "text/plain": [
       "| Epoch :  190 | Trn. Loss : 4.153e-02 | Val. Loss : 4.372e-01 | LR : 6.836e-04 |\n"
      ]
     },
     "metadata": {},
     "output_type": "display_data"
    },
    {
     "data": {
      "text/html": [
       "<pre style=\"white-space:pre;overflow-x:auto;line-height:normal;font-family:Menlo,'DejaVu Sans Mono',consolas,'Courier New',monospace\">| Epoch :  191 | Trn. Loss : 5.393e-02 | Val. Loss : 4.877e-01 | LR : 6.822e-04 |\n",
       "</pre>\n"
      ],
      "text/plain": [
       "| Epoch :  191 | Trn. Loss : 5.393e-02 | Val. Loss : 4.877e-01 | LR : 6.822e-04 |\n"
      ]
     },
     "metadata": {},
     "output_type": "display_data"
    },
    {
     "data": {
      "text/html": [
       "<pre style=\"white-space:pre;overflow-x:auto;line-height:normal;font-family:Menlo,'DejaVu Sans Mono',consolas,'Courier New',monospace\">| Epoch :  192 | Trn. Loss : 3.880e-02 | Val. Loss : 4.653e-01 | LR : 6.809e-04 |\n",
       "</pre>\n"
      ],
      "text/plain": [
       "| Epoch :  192 | Trn. Loss : 3.880e-02 | Val. Loss : 4.653e-01 | LR : 6.809e-04 |\n"
      ]
     },
     "metadata": {},
     "output_type": "display_data"
    },
    {
     "data": {
      "text/html": [
       "<pre style=\"white-space:pre;overflow-x:auto;line-height:normal;font-family:Menlo,'DejaVu Sans Mono',consolas,'Courier New',monospace\">| Epoch :  193 | Trn. Loss : 3.687e-02 | Val. Loss : 3.694e-01 | LR : 6.795e-04 |\n",
       "</pre>\n"
      ],
      "text/plain": [
       "| Epoch :  193 | Trn. Loss : 3.687e-02 | Val. Loss : 3.694e-01 | LR : 6.795e-04 |\n"
      ]
     },
     "metadata": {},
     "output_type": "display_data"
    },
    {
     "data": {
      "text/html": [
       "<pre style=\"white-space:pre;overflow-x:auto;line-height:normal;font-family:Menlo,'DejaVu Sans Mono',consolas,'Courier New',monospace\">| Epoch :  194 | Trn. Loss : 4.702e-02 | Val. Loss : 3.793e-01 | LR : 6.781e-04 |\n",
       "</pre>\n"
      ],
      "text/plain": [
       "| Epoch :  194 | Trn. Loss : 4.702e-02 | Val. Loss : 3.793e-01 | LR : 6.781e-04 |\n"
      ]
     },
     "metadata": {},
     "output_type": "display_data"
    },
    {
     "data": {
      "text/html": [
       "<pre style=\"white-space:pre;overflow-x:auto;line-height:normal;font-family:Menlo,'DejaVu Sans Mono',consolas,'Courier New',monospace\">| Epoch :  195 | Trn. Loss : 3.345e-02 | Val. Loss : 3.853e-01 | LR : 6.768e-04 |\n",
       "</pre>\n"
      ],
      "text/plain": [
       "| Epoch :  195 | Trn. Loss : 3.345e-02 | Val. Loss : 3.853e-01 | LR : 6.768e-04 |\n"
      ]
     },
     "metadata": {},
     "output_type": "display_data"
    },
    {
     "data": {
      "text/html": [
       "<pre style=\"white-space:pre;overflow-x:auto;line-height:normal;font-family:Menlo,'DejaVu Sans Mono',consolas,'Courier New',monospace\">| Epoch :  196 | Trn. Loss : 3.606e-02 | Val. Loss : 3.280e-01 | LR : 6.754e-04 |\n",
       "</pre>\n"
      ],
      "text/plain": [
       "| Epoch :  196 | Trn. Loss : 3.606e-02 | Val. Loss : 3.280e-01 | LR : 6.754e-04 |\n"
      ]
     },
     "metadata": {},
     "output_type": "display_data"
    },
    {
     "data": {
      "text/html": [
       "<pre style=\"white-space:pre;overflow-x:auto;line-height:normal;font-family:Menlo,'DejaVu Sans Mono',consolas,'Courier New',monospace\">| Epoch :  197 | Trn. Loss : 3.311e-02 | Val. Loss : 3.448e-01 | LR : 6.741e-04 |\n",
       "</pre>\n"
      ],
      "text/plain": [
       "| Epoch :  197 | Trn. Loss : 3.311e-02 | Val. Loss : 3.448e-01 | LR : 6.741e-04 |\n"
      ]
     },
     "metadata": {},
     "output_type": "display_data"
    },
    {
     "data": {
      "text/html": [
       "<pre style=\"white-space:pre;overflow-x:auto;line-height:normal;font-family:Menlo,'DejaVu Sans Mono',consolas,'Courier New',monospace\">| Epoch :  198 | Trn. Loss : 5.209e-02 | Val. Loss : 3.709e-01 | LR : 6.727e-04 |\n",
       "</pre>\n"
      ],
      "text/plain": [
       "| Epoch :  198 | Trn. Loss : 5.209e-02 | Val. Loss : 3.709e-01 | LR : 6.727e-04 |\n"
      ]
     },
     "metadata": {},
     "output_type": "display_data"
    },
    {
     "data": {
      "text/html": [
       "<pre style=\"white-space:pre;overflow-x:auto;line-height:normal;font-family:Menlo,'DejaVu Sans Mono',consolas,'Courier New',monospace\">| Epoch :  199 | Trn. Loss : 3.224e-02 | Val. Loss : 4.454e-01 | LR : 6.714e-04 |\n",
       "</pre>\n"
      ],
      "text/plain": [
       "| Epoch :  199 | Trn. Loss : 3.224e-02 | Val. Loss : 4.454e-01 | LR : 6.714e-04 |\n"
      ]
     },
     "metadata": {},
     "output_type": "display_data"
    },
    {
     "data": {
      "text/html": [
       "<pre style=\"white-space:pre;overflow-x:auto;line-height:normal;font-family:Menlo,'DejaVu Sans Mono',consolas,'Courier New',monospace\"></pre>\n"
      ],
      "text/plain": []
     },
     "metadata": {},
     "output_type": "display_data"
    },
    {
     "data": {
      "text/html": [
       "<pre style=\"white-space:pre;overflow-x:auto;line-height:normal;font-family:Menlo,'DejaVu Sans Mono',consolas,'Courier New',monospace\">\n",
       "</pre>\n"
      ],
      "text/plain": [
       "\n"
      ]
     },
     "metadata": {},
     "output_type": "display_data"
    }
   ],
   "source": [
    "from src.train import Training\n",
    "\n",
    "train = Training(parameters, dataset = dataset)\n",
    "train.run()"
   ]
  },
  {
   "cell_type": "markdown",
   "id": "48bdf321-77d0-41d1-9dab-aeb1cb328023",
   "metadata": {},
   "source": [
    "# Loss Curve"
   ]
  },
  {
   "cell_type": "code",
   "execution_count": 4,
   "id": "f7a4ac29-94ef-4472-9d01-3dd32fb8ee6d",
   "metadata": {},
   "outputs": [
    {
     "data": {
      "image/png": "[encoded data removed]",
      "text/plain": [
       "<Figure size 1600x1200 with 2 Axes>"
      ]
     },
     "metadata": {},
     "output_type": "display_data"
    }
   ],
   "source": [
    "train.lossCurve()"
   ]
  },
  {
   "cell_type": "markdown",
   "id": "d8c41867-6a3e-4541-b521-432863ff556d",
   "metadata": {},
   "source": [
    "# Test"
   ]
  },
  {
   "cell_type": "code",
   "execution_count": 5,
   "id": "55c3179e-583e-4763-bef5-f4238c28fea7",
   "metadata": {},
   "outputs": [
    {
     "data": {
      "image/png": "[encoded data removed]",
      "text/plain": [
       "<Figure size 1200x1200 with 1 Axes>"
      ]
     },
     "metadata": {},
     "output_type": "display_data"
    }
   ],
   "source": [
    "train.TPPlot()"
   ]
  }
 ],
 "metadata": {
  "kernelspec": {
   "display_name": "Python 3 (ipykernel)",
   "language": "python",
   "name": "python3"
  },
  "language_info": {
   "codemirror_mode": {
    "name": "ipython",
    "version": 3
   },
   "file_extension": ".py",
   "mimetype": "text/x-python",
   "name": "python",
   "nbconvert_exporter": "python",
   "pygments_lexer": "ipython3",
   "version": "3.10.13"
  }
 },
 "nbformat": 4,
 "nbformat_minor": 5
}
