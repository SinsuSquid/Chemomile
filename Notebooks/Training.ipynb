{
 "cells": [
  {
   "cell_type": "markdown",
   "id": "9f2e2ffc-a9a2-40ed-8195-83c77f9fb3ee",
   "metadata": {},
   "source": [
    "# Hyperparameters"
   ]
  },
  {
   "cell_type": "code",
   "execution_count": 1,
   "id": "a2def048-a588-45a7-a583-6f18aba9d8f8",
   "metadata": {},
   "outputs": [],
   "source": [
    "parameters = dict(\n",
    "    target = 'FP',\n",
    "    subfrag_size = 4,\n",
    "    edge_size = 1,\n",
    "    out_size = 1,\n",
    "    seed = 42,\n",
    "    batch_size = 32,\n",
    "    max_epoch = 200,\n",
    "    verbose = True,\n",
    "    \n",
    "    hidden_size = 50,\n",
    "    dropout = 0.20,\n",
    "    num_layers = 3,\n",
    "    num_timesteps = 3,\n",
    "    lr_init = 0.001,\n",
    "    gamma = 0.998,\n",
    ")\n",
    "DATAPATH = \"/SSD2/bgkang/GeometryInput\""
   ]
  },
  {
   "cell_type": "markdown",
   "id": "5dcdf158-c73b-44c6-9f1a-2113ac1a1cbf",
   "metadata": {},
   "source": [
    "# Dataset"
   ]
  },
  {
   "cell_type": "code",
   "execution_count": 2,
   "id": "795e2cf9-172f-4617-9123-6e85a5a4c82c",
   "metadata": {},
   "outputs": [
    {
     "name": "stdout",
     "output_type": "stream",
     "text": [
      "\tDataDump found for 'FP'. Loading dumped data.\n",
      "Training : 754 | Validation : 94 | Test : 95\n",
      "Total : 943\n"
     ]
    }
   ],
   "source": [
    "import sys\n",
    "sys.path.append(DATAPATH)\n",
    "from src.data import Dataset\n",
    "\n",
    "dataset = Dataset(\n",
    "    target = parameters['target'],\n",
    "    seed = parameters['seed'],\n",
    "    batch_size = parameters['batch_size'],\n",
    "    verbose = parameters['verbose'],\n",
    "    root = DATAPATH\n",
    ")"
   ]
  },
  {
   "cell_type": "markdown",
   "id": "e2251aae-7470-489c-a8c3-69a8236ea3de",
   "metadata": {},
   "source": [
    "# Training"
   ]
  },
  {
   "cell_type": "code",
   "execution_count": 3,
   "id": "a11e87bf-53d0-4040-9230-84dbc3f0426f",
   "metadata": {
    "scrolled": true
   },
   "outputs": [
    {
     "data": {
      "application/vnd.jupyter.widget-view+json": {
       "model_id": "eef535c320574ba7882eb80c7d3280d8",
       "version_major": 2,
       "version_minor": 0
      },
      "text/plain": [
       "Output()"
      ]
     },
     "metadata": {},
     "output_type": "display_data"
    },
    {
     "data": {
      "text/html": [
       "<pre style=\"white-space:pre;overflow-x:auto;line-height:normal;font-family:Menlo,'DejaVu Sans Mono',consolas,'Courier New',monospace\">| Epoch :    0 | Trn. Loss : 8.979e-01 | Val. Loss : 4.757e-01 | LR : 1.000e-03 |\n",
       "</pre>\n"
      ],
      "text/plain": [
       "| Epoch :    0 | Trn. Loss : 8.979e-01 | Val. Loss : 4.757e-01 | LR : 1.000e-03 |\n"
      ]
     },
     "metadata": {},
     "output_type": "display_data"
    },
    {
     "data": {
      "text/html": [
       "<pre style=\"white-space:pre;overflow-x:auto;line-height:normal;font-family:Menlo,'DejaVu Sans Mono',consolas,'Courier New',monospace\">        Saving the best model with valLoss : 0.476\n",
       "</pre>\n"
      ],
      "text/plain": [
       "        Saving the best model with valLoss : 0.476\n"
      ]
     },
     "metadata": {},
     "output_type": "display_data"
    },
    {
     "data": {
      "text/html": [
       "<pre style=\"white-space:pre;overflow-x:auto;line-height:normal;font-family:Menlo,'DejaVu Sans Mono',consolas,'Courier New',monospace\">| Epoch :    1 | Trn. Loss : 6.452e-01 | Val. Loss : 3.683e-01 | LR : 9.980e-04 |\n",
       "</pre>\n"
      ],
      "text/plain": [
       "| Epoch :    1 | Trn. Loss : 6.452e-01 | Val. Loss : 3.683e-01 | LR : 9.980e-04 |\n"
      ]
     },
     "metadata": {},
     "output_type": "display_data"
    },
    {
     "data": {
      "text/html": [
       "<pre style=\"white-space:pre;overflow-x:auto;line-height:normal;font-family:Menlo,'DejaVu Sans Mono',consolas,'Courier New',monospace\">        Saving the best model with valLoss : 0.368\n",
       "</pre>\n"
      ],
      "text/plain": [
       "        Saving the best model with valLoss : 0.368\n"
      ]
     },
     "metadata": {},
     "output_type": "display_data"
    },
    {
     "data": {
      "text/html": [
       "<pre style=\"white-space:pre;overflow-x:auto;line-height:normal;font-family:Menlo,'DejaVu Sans Mono',consolas,'Courier New',monospace\">| Epoch :    2 | Trn. Loss : 5.502e-01 | Val. Loss : 3.894e-01 | LR : 9.960e-04 |\n",
       "</pre>\n"
      ],
      "text/plain": [
       "| Epoch :    2 | Trn. Loss : 5.502e-01 | Val. Loss : 3.894e-01 | LR : 9.960e-04 |\n"
      ]
     },
     "metadata": {},
     "output_type": "display_data"
    },
    {
     "data": {
      "text/html": [
       "<pre style=\"white-space:pre;overflow-x:auto;line-height:normal;font-family:Menlo,'DejaVu Sans Mono',consolas,'Courier New',monospace\">| Epoch :    3 | Trn. Loss : 5.687e-01 | Val. Loss : 4.175e-01 | LR : 9.940e-04 |\n",
       "</pre>\n"
      ],
      "text/plain": [
       "| Epoch :    3 | Trn. Loss : 5.687e-01 | Val. Loss : 4.175e-01 | LR : 9.940e-04 |\n"
      ]
     },
     "metadata": {},
     "output_type": "display_data"
    },
    {
     "data": {
      "text/html": [
       "<pre style=\"white-space:pre;overflow-x:auto;line-height:normal;font-family:Menlo,'DejaVu Sans Mono',consolas,'Courier New',monospace\">| Epoch :    4 | Trn. Loss : 5.599e-01 | Val. Loss : 3.439e-01 | LR : 9.920e-04 |\n",
       "</pre>\n"
      ],
      "text/plain": [
       "| Epoch :    4 | Trn. Loss : 5.599e-01 | Val. Loss : 3.439e-01 | LR : 9.920e-04 |\n"
      ]
     },
     "metadata": {},
     "output_type": "display_data"
    },
    {
     "data": {
      "text/html": [
       "<pre style=\"white-space:pre;overflow-x:auto;line-height:normal;font-family:Menlo,'DejaVu Sans Mono',consolas,'Courier New',monospace\">        Saving the best model with valLoss : 0.344\n",
       "</pre>\n"
      ],
      "text/plain": [
       "        Saving the best model with valLoss : 0.344\n"
      ]
     },
     "metadata": {},
     "output_type": "display_data"
    },
    {
     "data": {
      "text/html": [
       "<pre style=\"white-space:pre;overflow-x:auto;line-height:normal;font-family:Menlo,'DejaVu Sans Mono',consolas,'Courier New',monospace\">| Epoch :    5 | Trn. Loss : 5.144e-01 | Val. Loss : 3.275e-01 | LR : 9.900e-04 |\n",
       "</pre>\n"
      ],
      "text/plain": [
       "| Epoch :    5 | Trn. Loss : 5.144e-01 | Val. Loss : 3.275e-01 | LR : 9.900e-04 |\n"
      ]
     },
     "metadata": {},
     "output_type": "display_data"
    },
    {
     "data": {
      "text/html": [
       "<pre style=\"white-space:pre;overflow-x:auto;line-height:normal;font-family:Menlo,'DejaVu Sans Mono',consolas,'Courier New',monospace\">        Saving the best model with valLoss : 0.328\n",
       "</pre>\n"
      ],
      "text/plain": [
       "        Saving the best model with valLoss : 0.328\n"
      ]
     },
     "metadata": {},
     "output_type": "display_data"
    },
    {
     "data": {
      "text/html": [
       "<pre style=\"white-space:pre;overflow-x:auto;line-height:normal;font-family:Menlo,'DejaVu Sans Mono',consolas,'Courier New',monospace\">| Epoch :    6 | Trn. Loss : 4.766e-01 | Val. Loss : 3.289e-01 | LR : 9.881e-04 |\n",
       "</pre>\n"
      ],
      "text/plain": [
       "| Epoch :    6 | Trn. Loss : 4.766e-01 | Val. Loss : 3.289e-01 | LR : 9.881e-04 |\n"
      ]
     },
     "metadata": {},
     "output_type": "display_data"
    },
    {
     "data": {
      "text/html": [
       "<pre style=\"white-space:pre;overflow-x:auto;line-height:normal;font-family:Menlo,'DejaVu Sans Mono',consolas,'Courier New',monospace\">| Epoch :    7 | Trn. Loss : 4.371e-01 | Val. Loss : 3.528e-01 | LR : 9.861e-04 |\n",
       "</pre>\n"
      ],
      "text/plain": [
       "| Epoch :    7 | Trn. Loss : 4.371e-01 | Val. Loss : 3.528e-01 | LR : 9.861e-04 |\n"
      ]
     },
     "metadata": {},
     "output_type": "display_data"
    },
    {
     "data": {
      "text/html": [
       "<pre style=\"white-space:pre;overflow-x:auto;line-height:normal;font-family:Menlo,'DejaVu Sans Mono',consolas,'Courier New',monospace\">| Epoch :    8 | Trn. Loss : 4.421e-01 | Val. Loss : 3.044e-01 | LR : 9.841e-04 |\n",
       "</pre>\n"
      ],
      "text/plain": [
       "| Epoch :    8 | Trn. Loss : 4.421e-01 | Val. Loss : 3.044e-01 | LR : 9.841e-04 |\n"
      ]
     },
     "metadata": {},
     "output_type": "display_data"
    },
    {
     "data": {
      "text/html": [
       "<pre style=\"white-space:pre;overflow-x:auto;line-height:normal;font-family:Menlo,'DejaVu Sans Mono',consolas,'Courier New',monospace\">        Saving the best model with valLoss : 0.304\n",
       "</pre>\n"
      ],
      "text/plain": [
       "        Saving the best model with valLoss : 0.304\n"
      ]
     },
     "metadata": {},
     "output_type": "display_data"
    },
    {
     "data": {
      "text/html": [
       "<pre style=\"white-space:pre;overflow-x:auto;line-height:normal;font-family:Menlo,'DejaVu Sans Mono',consolas,'Courier New',monospace\">| Epoch :    9 | Trn. Loss : 4.061e-01 | Val. Loss : 2.929e-01 | LR : 9.821e-04 |\n",
       "</pre>\n"
      ],
      "text/plain": [
       "| Epoch :    9 | Trn. Loss : 4.061e-01 | Val. Loss : 2.929e-01 | LR : 9.821e-04 |\n"
      ]
     },
     "metadata": {},
     "output_type": "display_data"
    },
    {
     "data": {
      "text/html": [
       "<pre style=\"white-space:pre;overflow-x:auto;line-height:normal;font-family:Menlo,'DejaVu Sans Mono',consolas,'Courier New',monospace\">        Saving the best model with valLoss : 0.293\n",
       "</pre>\n"
      ],
      "text/plain": [
       "        Saving the best model with valLoss : 0.293\n"
      ]
     },
     "metadata": {},
     "output_type": "display_data"
    },
    {
     "data": {
      "text/html": [
       "<pre style=\"white-space:pre;overflow-x:auto;line-height:normal;font-family:Menlo,'DejaVu Sans Mono',consolas,'Courier New',monospace\">| Epoch :   10 | Trn. Loss : 3.754e-01 | Val. Loss : 2.748e-01 | LR : 9.802e-04 |\n",
       "</pre>\n"
      ],
      "text/plain": [
       "| Epoch :   10 | Trn. Loss : 3.754e-01 | Val. Loss : 2.748e-01 | LR : 9.802e-04 |\n"
      ]
     },
     "metadata": {},
     "output_type": "display_data"
    },
    {
     "data": {
      "text/html": [
       "<pre style=\"white-space:pre;overflow-x:auto;line-height:normal;font-family:Menlo,'DejaVu Sans Mono',consolas,'Courier New',monospace\">        Saving the best model with valLoss : 0.275\n",
       "</pre>\n"
      ],
      "text/plain": [
       "        Saving the best model with valLoss : 0.275\n"
      ]
     },
     "metadata": {},
     "output_type": "display_data"
    },
    {
     "data": {
      "text/html": [
       "<pre style=\"white-space:pre;overflow-x:auto;line-height:normal;font-family:Menlo,'DejaVu Sans Mono',consolas,'Courier New',monospace\">| Epoch :   11 | Trn. Loss : 3.325e-01 | Val. Loss : 1.907e-01 | LR : 9.782e-04 |\n",
       "</pre>\n"
      ],
      "text/plain": [
       "| Epoch :   11 | Trn. Loss : 3.325e-01 | Val. Loss : 1.907e-01 | LR : 9.782e-04 |\n"
      ]
     },
     "metadata": {},
     "output_type": "display_data"
    },
    {
     "data": {
      "text/html": [
       "<pre style=\"white-space:pre;overflow-x:auto;line-height:normal;font-family:Menlo,'DejaVu Sans Mono',consolas,'Courier New',monospace\">        Saving the best model with valLoss : 0.191\n",
       "</pre>\n"
      ],
      "text/plain": [
       "        Saving the best model with valLoss : 0.191\n"
      ]
     },
     "metadata": {},
     "output_type": "display_data"
    },
    {
     "data": {
      "text/html": [
       "<pre style=\"white-space:pre;overflow-x:auto;line-height:normal;font-family:Menlo,'DejaVu Sans Mono',consolas,'Courier New',monospace\">| Epoch :   12 | Trn. Loss : 3.198e-01 | Val. Loss : 2.160e-01 | LR : 9.763e-04 |\n",
       "</pre>\n"
      ],
      "text/plain": [
       "| Epoch :   12 | Trn. Loss : 3.198e-01 | Val. Loss : 2.160e-01 | LR : 9.763e-04 |\n"
      ]
     },
     "metadata": {},
     "output_type": "display_data"
    },
    {
     "data": {
      "text/html": [
       "<pre style=\"white-space:pre;overflow-x:auto;line-height:normal;font-family:Menlo,'DejaVu Sans Mono',consolas,'Courier New',monospace\">| Epoch :   13 | Trn. Loss : 2.964e-01 | Val. Loss : 2.020e-01 | LR : 9.743e-04 |\n",
       "</pre>\n"
      ],
      "text/plain": [
       "| Epoch :   13 | Trn. Loss : 2.964e-01 | Val. Loss : 2.020e-01 | LR : 9.743e-04 |\n"
      ]
     },
     "metadata": {},
     "output_type": "display_data"
    },
    {
     "data": {
      "text/html": [
       "<pre style=\"white-space:pre;overflow-x:auto;line-height:normal;font-family:Menlo,'DejaVu Sans Mono',consolas,'Courier New',monospace\">| Epoch :   14 | Trn. Loss : 2.859e-01 | Val. Loss : 1.875e-01 | LR : 9.724e-04 |\n",
       "</pre>\n"
      ],
      "text/plain": [
       "| Epoch :   14 | Trn. Loss : 2.859e-01 | Val. Loss : 1.875e-01 | LR : 9.724e-04 |\n"
      ]
     },
     "metadata": {},
     "output_type": "display_data"
    },
    {
     "data": {
      "text/html": [
       "<pre style=\"white-space:pre;overflow-x:auto;line-height:normal;font-family:Menlo,'DejaVu Sans Mono',consolas,'Courier New',monospace\">        Saving the best model with valLoss : 0.188\n",
       "</pre>\n"
      ],
      "text/plain": [
       "        Saving the best model with valLoss : 0.188\n"
      ]
     },
     "metadata": {},
     "output_type": "display_data"
    },
    {
     "data": {
      "text/html": [
       "<pre style=\"white-space:pre;overflow-x:auto;line-height:normal;font-family:Menlo,'DejaVu Sans Mono',consolas,'Courier New',monospace\">| Epoch :   15 | Trn. Loss : 2.517e-01 | Val. Loss : 1.884e-01 | LR : 9.704e-04 |\n",
       "</pre>\n"
      ],
      "text/plain": [
       "| Epoch :   15 | Trn. Loss : 2.517e-01 | Val. Loss : 1.884e-01 | LR : 9.704e-04 |\n"
      ]
     },
     "metadata": {},
     "output_type": "display_data"
    },
    {
     "data": {
      "text/html": [
       "<pre style=\"white-space:pre;overflow-x:auto;line-height:normal;font-family:Menlo,'DejaVu Sans Mono',consolas,'Courier New',monospace\">| Epoch :   16 | Trn. Loss : 2.811e-01 | Val. Loss : 1.565e-01 | LR : 9.685e-04 |\n",
       "</pre>\n"
      ],
      "text/plain": [
       "| Epoch :   16 | Trn. Loss : 2.811e-01 | Val. Loss : 1.565e-01 | LR : 9.685e-04 |\n"
      ]
     },
     "metadata": {},
     "output_type": "display_data"
    },
    {
     "data": {
      "text/html": [
       "<pre style=\"white-space:pre;overflow-x:auto;line-height:normal;font-family:Menlo,'DejaVu Sans Mono',consolas,'Courier New',monospace\">        Saving the best model with valLoss : 0.157\n",
       "</pre>\n"
      ],
      "text/plain": [
       "        Saving the best model with valLoss : 0.157\n"
      ]
     },
     "metadata": {},
     "output_type": "display_data"
    },
    {
     "data": {
      "text/html": [
       "<pre style=\"white-space:pre;overflow-x:auto;line-height:normal;font-family:Menlo,'DejaVu Sans Mono',consolas,'Courier New',monospace\">| Epoch :   17 | Trn. Loss : 2.429e-01 | Val. Loss : 1.512e-01 | LR : 9.665e-04 |\n",
       "</pre>\n"
      ],
      "text/plain": [
       "| Epoch :   17 | Trn. Loss : 2.429e-01 | Val. Loss : 1.512e-01 | LR : 9.665e-04 |\n"
      ]
     },
     "metadata": {},
     "output_type": "display_data"
    },
    {
     "data": {
      "text/html": [
       "<pre style=\"white-space:pre;overflow-x:auto;line-height:normal;font-family:Menlo,'DejaVu Sans Mono',consolas,'Courier New',monospace\">        Saving the best model with valLoss : 0.151\n",
       "</pre>\n"
      ],
      "text/plain": [
       "        Saving the best model with valLoss : 0.151\n"
      ]
     },
     "metadata": {},
     "output_type": "display_data"
    },
    {
     "data": {
      "text/html": [
       "<pre style=\"white-space:pre;overflow-x:auto;line-height:normal;font-family:Menlo,'DejaVu Sans Mono',consolas,'Courier New',monospace\">| Epoch :   18 | Trn. Loss : 2.317e-01 | Val. Loss : 1.747e-01 | LR : 9.646e-04 |\n",
       "</pre>\n"
      ],
      "text/plain": [
       "| Epoch :   18 | Trn. Loss : 2.317e-01 | Val. Loss : 1.747e-01 | LR : 9.646e-04 |\n"
      ]
     },
     "metadata": {},
     "output_type": "display_data"
    },
    {
     "data": {
      "text/html": [
       "<pre style=\"white-space:pre;overflow-x:auto;line-height:normal;font-family:Menlo,'DejaVu Sans Mono',consolas,'Courier New',monospace\">| Epoch :   19 | Trn. Loss : 2.451e-01 | Val. Loss : 2.167e-01 | LR : 9.627e-04 |\n",
       "</pre>\n"
      ],
      "text/plain": [
       "| Epoch :   19 | Trn. Loss : 2.451e-01 | Val. Loss : 2.167e-01 | LR : 9.627e-04 |\n"
      ]
     },
     "metadata": {},
     "output_type": "display_data"
    },
    {
     "data": {
      "text/html": [
       "<pre style=\"white-space:pre;overflow-x:auto;line-height:normal;font-family:Menlo,'DejaVu Sans Mono',consolas,'Courier New',monospace\">| Epoch :   20 | Trn. Loss : 2.391e-01 | Val. Loss : 1.319e-01 | LR : 9.608e-04 |\n",
       "</pre>\n"
      ],
      "text/plain": [
       "| Epoch :   20 | Trn. Loss : 2.391e-01 | Val. Loss : 1.319e-01 | LR : 9.608e-04 |\n"
      ]
     },
     "metadata": {},
     "output_type": "display_data"
    },
    {
     "data": {
      "text/html": [
       "<pre style=\"white-space:pre;overflow-x:auto;line-height:normal;font-family:Menlo,'DejaVu Sans Mono',consolas,'Courier New',monospace\">        Saving the best model with valLoss : 0.132\n",
       "</pre>\n"
      ],
      "text/plain": [
       "        Saving the best model with valLoss : 0.132\n"
      ]
     },
     "metadata": {},
     "output_type": "display_data"
    },
    {
     "data": {
      "text/html": [
       "<pre style=\"white-space:pre;overflow-x:auto;line-height:normal;font-family:Menlo,'DejaVu Sans Mono',consolas,'Courier New',monospace\">| Epoch :   21 | Trn. Loss : 2.302e-01 | Val. Loss : 1.350e-01 | LR : 9.588e-04 |\n",
       "</pre>\n"
      ],
      "text/plain": [
       "| Epoch :   21 | Trn. Loss : 2.302e-01 | Val. Loss : 1.350e-01 | LR : 9.588e-04 |\n"
      ]
     },
     "metadata": {},
     "output_type": "display_data"
    },
    {
     "data": {
      "text/html": [
       "<pre style=\"white-space:pre;overflow-x:auto;line-height:normal;font-family:Menlo,'DejaVu Sans Mono',consolas,'Courier New',monospace\">| Epoch :   22 | Trn. Loss : 1.868e-01 | Val. Loss : 1.177e-01 | LR : 9.569e-04 |\n",
       "</pre>\n"
      ],
      "text/plain": [
       "| Epoch :   22 | Trn. Loss : 1.868e-01 | Val. Loss : 1.177e-01 | LR : 9.569e-04 |\n"
      ]
     },
     "metadata": {},
     "output_type": "display_data"
    },
    {
     "data": {
      "text/html": [
       "<pre style=\"white-space:pre;overflow-x:auto;line-height:normal;font-family:Menlo,'DejaVu Sans Mono',consolas,'Courier New',monospace\">        Saving the best model with valLoss : 0.118\n",
       "</pre>\n"
      ],
      "text/plain": [
       "        Saving the best model with valLoss : 0.118\n"
      ]
     },
     "metadata": {},
     "output_type": "display_data"
    },
    {
     "data": {
      "text/html": [
       "<pre style=\"white-space:pre;overflow-x:auto;line-height:normal;font-family:Menlo,'DejaVu Sans Mono',consolas,'Courier New',monospace\">| Epoch :   23 | Trn. Loss : 2.008e-01 | Val. Loss : 1.099e-01 | LR : 9.550e-04 |\n",
       "</pre>\n"
      ],
      "text/plain": [
       "| Epoch :   23 | Trn. Loss : 2.008e-01 | Val. Loss : 1.099e-01 | LR : 9.550e-04 |\n"
      ]
     },
     "metadata": {},
     "output_type": "display_data"
    },
    {
     "data": {
      "text/html": [
       "<pre style=\"white-space:pre;overflow-x:auto;line-height:normal;font-family:Menlo,'DejaVu Sans Mono',consolas,'Courier New',monospace\">        Saving the best model with valLoss : 0.110\n",
       "</pre>\n"
      ],
      "text/plain": [
       "        Saving the best model with valLoss : 0.110\n"
      ]
     },
     "metadata": {},
     "output_type": "display_data"
    },
    {
     "data": {
      "text/html": [
       "<pre style=\"white-space:pre;overflow-x:auto;line-height:normal;font-family:Menlo,'DejaVu Sans Mono',consolas,'Courier New',monospace\">| Epoch :   24 | Trn. Loss : 2.075e-01 | Val. Loss : 2.040e-01 | LR : 9.531e-04 |\n",
       "</pre>\n"
      ],
      "text/plain": [
       "| Epoch :   24 | Trn. Loss : 2.075e-01 | Val. Loss : 2.040e-01 | LR : 9.531e-04 |\n"
      ]
     },
     "metadata": {},
     "output_type": "display_data"
    },
    {
     "data": {
      "text/html": [
       "<pre style=\"white-space:pre;overflow-x:auto;line-height:normal;font-family:Menlo,'DejaVu Sans Mono',consolas,'Courier New',monospace\">| Epoch :   25 | Trn. Loss : 2.204e-01 | Val. Loss : 9.709e-02 | LR : 9.512e-04 |\n",
       "</pre>\n"
      ],
      "text/plain": [
       "| Epoch :   25 | Trn. Loss : 2.204e-01 | Val. Loss : 9.709e-02 | LR : 9.512e-04 |\n"
      ]
     },
     "metadata": {},
     "output_type": "display_data"
    },
    {
     "data": {
      "text/html": [
       "<pre style=\"white-space:pre;overflow-x:auto;line-height:normal;font-family:Menlo,'DejaVu Sans Mono',consolas,'Courier New',monospace\">        Saving the best model with valLoss : 0.097\n",
       "</pre>\n"
      ],
      "text/plain": [
       "        Saving the best model with valLoss : 0.097\n"
      ]
     },
     "metadata": {},
     "output_type": "display_data"
    },
    {
     "data": {
      "text/html": [
       "<pre style=\"white-space:pre;overflow-x:auto;line-height:normal;font-family:Menlo,'DejaVu Sans Mono',consolas,'Courier New',monospace\">| Epoch :   26 | Trn. Loss : 1.726e-01 | Val. Loss : 1.214e-01 | LR : 9.493e-04 |\n",
       "</pre>\n"
      ],
      "text/plain": [
       "| Epoch :   26 | Trn. Loss : 1.726e-01 | Val. Loss : 1.214e-01 | LR : 9.493e-04 |\n"
      ]
     },
     "metadata": {},
     "output_type": "display_data"
    },
    {
     "data": {
      "text/html": [
       "<pre style=\"white-space:pre;overflow-x:auto;line-height:normal;font-family:Menlo,'DejaVu Sans Mono',consolas,'Courier New',monospace\">| Epoch :   27 | Trn. Loss : 1.760e-01 | Val. Loss : 1.115e-01 | LR : 9.474e-04 |\n",
       "</pre>\n"
      ],
      "text/plain": [
       "| Epoch :   27 | Trn. Loss : 1.760e-01 | Val. Loss : 1.115e-01 | LR : 9.474e-04 |\n"
      ]
     },
     "metadata": {},
     "output_type": "display_data"
    },
    {
     "data": {
      "text/html": [
       "<pre style=\"white-space:pre;overflow-x:auto;line-height:normal;font-family:Menlo,'DejaVu Sans Mono',consolas,'Courier New',monospace\">| Epoch :   28 | Trn. Loss : 1.608e-01 | Val. Loss : 1.129e-01 | LR : 9.455e-04 |\n",
       "</pre>\n"
      ],
      "text/plain": [
       "| Epoch :   28 | Trn. Loss : 1.608e-01 | Val. Loss : 1.129e-01 | LR : 9.455e-04 |\n"
      ]
     },
     "metadata": {},
     "output_type": "display_data"
    },
    {
     "data": {
      "text/html": [
       "<pre style=\"white-space:pre;overflow-x:auto;line-height:normal;font-family:Menlo,'DejaVu Sans Mono',consolas,'Courier New',monospace\">| Epoch :   29 | Trn. Loss : 1.737e-01 | Val. Loss : 1.052e-01 | LR : 9.436e-04 |\n",
       "</pre>\n"
      ],
      "text/plain": [
       "| Epoch :   29 | Trn. Loss : 1.737e-01 | Val. Loss : 1.052e-01 | LR : 9.436e-04 |\n"
      ]
     },
     "metadata": {},
     "output_type": "display_data"
    },
    {
     "data": {
      "text/html": [
       "<pre style=\"white-space:pre;overflow-x:auto;line-height:normal;font-family:Menlo,'DejaVu Sans Mono',consolas,'Courier New',monospace\">| Epoch :   30 | Trn. Loss : 1.631e-01 | Val. Loss : 1.473e-01 | LR : 9.417e-04 |\n",
       "</pre>\n"
      ],
      "text/plain": [
       "| Epoch :   30 | Trn. Loss : 1.631e-01 | Val. Loss : 1.473e-01 | LR : 9.417e-04 |\n"
      ]
     },
     "metadata": {},
     "output_type": "display_data"
    },
    {
     "data": {
      "text/html": [
       "<pre style=\"white-space:pre;overflow-x:auto;line-height:normal;font-family:Menlo,'DejaVu Sans Mono',consolas,'Courier New',monospace\">| Epoch :   31 | Trn. Loss : 1.702e-01 | Val. Loss : 1.097e-01 | LR : 9.398e-04 |\n",
       "</pre>\n"
      ],
      "text/plain": [
       "| Epoch :   31 | Trn. Loss : 1.702e-01 | Val. Loss : 1.097e-01 | LR : 9.398e-04 |\n"
      ]
     },
     "metadata": {},
     "output_type": "display_data"
    },
    {
     "data": {
      "text/html": [
       "<pre style=\"white-space:pre;overflow-x:auto;line-height:normal;font-family:Menlo,'DejaVu Sans Mono',consolas,'Courier New',monospace\">| Epoch :   32 | Trn. Loss : 1.511e-01 | Val. Loss : 1.282e-01 | LR : 9.379e-04 |\n",
       "</pre>\n"
      ],
      "text/plain": [
       "| Epoch :   32 | Trn. Loss : 1.511e-01 | Val. Loss : 1.282e-01 | LR : 9.379e-04 |\n"
      ]
     },
     "metadata": {},
     "output_type": "display_data"
    },
    {
     "data": {
      "text/html": [
       "<pre style=\"white-space:pre;overflow-x:auto;line-height:normal;font-family:Menlo,'DejaVu Sans Mono',consolas,'Courier New',monospace\">| Epoch :   33 | Trn. Loss : 1.580e-01 | Val. Loss : 8.541e-02 | LR : 9.361e-04 |\n",
       "</pre>\n"
      ],
      "text/plain": [
       "| Epoch :   33 | Trn. Loss : 1.580e-01 | Val. Loss : 8.541e-02 | LR : 9.361e-04 |\n"
      ]
     },
     "metadata": {},
     "output_type": "display_data"
    },
    {
     "data": {
      "text/html": [
       "<pre style=\"white-space:pre;overflow-x:auto;line-height:normal;font-family:Menlo,'DejaVu Sans Mono',consolas,'Courier New',monospace\">        Saving the best model with valLoss : 0.085\n",
       "</pre>\n"
      ],
      "text/plain": [
       "        Saving the best model with valLoss : 0.085\n"
      ]
     },
     "metadata": {},
     "output_type": "display_data"
    },
    {
     "data": {
      "text/html": [
       "<pre style=\"white-space:pre;overflow-x:auto;line-height:normal;font-family:Menlo,'DejaVu Sans Mono',consolas,'Courier New',monospace\">| Epoch :   34 | Trn. Loss : 1.739e-01 | Val. Loss : 1.078e-01 | LR : 9.342e-04 |\n",
       "</pre>\n"
      ],
      "text/plain": [
       "| Epoch :   34 | Trn. Loss : 1.739e-01 | Val. Loss : 1.078e-01 | LR : 9.342e-04 |\n"
      ]
     },
     "metadata": {},
     "output_type": "display_data"
    },
    {
     "data": {
      "text/html": [
       "<pre style=\"white-space:pre;overflow-x:auto;line-height:normal;font-family:Menlo,'DejaVu Sans Mono',consolas,'Courier New',monospace\">| Epoch :   35 | Trn. Loss : 1.725e-01 | Val. Loss : 1.105e-01 | LR : 9.323e-04 |\n",
       "</pre>\n"
      ],
      "text/plain": [
       "| Epoch :   35 | Trn. Loss : 1.725e-01 | Val. Loss : 1.105e-01 | LR : 9.323e-04 |\n"
      ]
     },
     "metadata": {},
     "output_type": "display_data"
    },
    {
     "data": {
      "text/html": [
       "<pre style=\"white-space:pre;overflow-x:auto;line-height:normal;font-family:Menlo,'DejaVu Sans Mono',consolas,'Courier New',monospace\">| Epoch :   36 | Trn. Loss : 1.501e-01 | Val. Loss : 1.394e-01 | LR : 9.305e-04 |\n",
       "</pre>\n"
      ],
      "text/plain": [
       "| Epoch :   36 | Trn. Loss : 1.501e-01 | Val. Loss : 1.394e-01 | LR : 9.305e-04 |\n"
      ]
     },
     "metadata": {},
     "output_type": "display_data"
    },
    {
     "data": {
      "text/html": [
       "<pre style=\"white-space:pre;overflow-x:auto;line-height:normal;font-family:Menlo,'DejaVu Sans Mono',consolas,'Courier New',monospace\">| Epoch :   37 | Trn. Loss : 1.635e-01 | Val. Loss : 9.086e-02 | LR : 9.286e-04 |\n",
       "</pre>\n"
      ],
      "text/plain": [
       "| Epoch :   37 | Trn. Loss : 1.635e-01 | Val. Loss : 9.086e-02 | LR : 9.286e-04 |\n"
      ]
     },
     "metadata": {},
     "output_type": "display_data"
    },
    {
     "data": {
      "text/html": [
       "<pre style=\"white-space:pre;overflow-x:auto;line-height:normal;font-family:Menlo,'DejaVu Sans Mono',consolas,'Courier New',monospace\">| Epoch :   38 | Trn. Loss : 1.474e-01 | Val. Loss : 1.665e-01 | LR : 9.267e-04 |\n",
       "</pre>\n"
      ],
      "text/plain": [
       "| Epoch :   38 | Trn. Loss : 1.474e-01 | Val. Loss : 1.665e-01 | LR : 9.267e-04 |\n"
      ]
     },
     "metadata": {},
     "output_type": "display_data"
    },
    {
     "data": {
      "text/html": [
       "<pre style=\"white-space:pre;overflow-x:auto;line-height:normal;font-family:Menlo,'DejaVu Sans Mono',consolas,'Courier New',monospace\">| Epoch :   39 | Trn. Loss : 1.609e-01 | Val. Loss : 1.302e-01 | LR : 9.249e-04 |\n",
       "</pre>\n"
      ],
      "text/plain": [
       "| Epoch :   39 | Trn. Loss : 1.609e-01 | Val. Loss : 1.302e-01 | LR : 9.249e-04 |\n"
      ]
     },
     "metadata": {},
     "output_type": "display_data"
    },
    {
     "data": {
      "text/html": [
       "<pre style=\"white-space:pre;overflow-x:auto;line-height:normal;font-family:Menlo,'DejaVu Sans Mono',consolas,'Courier New',monospace\">| Epoch :   40 | Trn. Loss : 1.335e-01 | Val. Loss : 1.023e-01 | LR : 9.230e-04 |\n",
       "</pre>\n"
      ],
      "text/plain": [
       "| Epoch :   40 | Trn. Loss : 1.335e-01 | Val. Loss : 1.023e-01 | LR : 9.230e-04 |\n"
      ]
     },
     "metadata": {},
     "output_type": "display_data"
    },
    {
     "data": {
      "text/html": [
       "<pre style=\"white-space:pre;overflow-x:auto;line-height:normal;font-family:Menlo,'DejaVu Sans Mono',consolas,'Courier New',monospace\">| Epoch :   41 | Trn. Loss : 1.384e-01 | Val. Loss : 1.059e-01 | LR : 9.212e-04 |\n",
       "</pre>\n"
      ],
      "text/plain": [
       "| Epoch :   41 | Trn. Loss : 1.384e-01 | Val. Loss : 1.059e-01 | LR : 9.212e-04 |\n"
      ]
     },
     "metadata": {},
     "output_type": "display_data"
    },
    {
     "data": {
      "text/html": [
       "<pre style=\"white-space:pre;overflow-x:auto;line-height:normal;font-family:Menlo,'DejaVu Sans Mono',consolas,'Courier New',monospace\">| Epoch :   42 | Trn. Loss : 1.350e-01 | Val. Loss : 9.841e-02 | LR : 9.194e-04 |\n",
       "</pre>\n"
      ],
      "text/plain": [
       "| Epoch :   42 | Trn. Loss : 1.350e-01 | Val. Loss : 9.841e-02 | LR : 9.194e-04 |\n"
      ]
     },
     "metadata": {},
     "output_type": "display_data"
    },
    {
     "data": {
      "text/html": [
       "<pre style=\"white-space:pre;overflow-x:auto;line-height:normal;font-family:Menlo,'DejaVu Sans Mono',consolas,'Courier New',monospace\">| Epoch :   43 | Trn. Loss : 1.634e-01 | Val. Loss : 9.904e-02 | LR : 9.175e-04 |\n",
       "</pre>\n"
      ],
      "text/plain": [
       "| Epoch :   43 | Trn. Loss : 1.634e-01 | Val. Loss : 9.904e-02 | LR : 9.175e-04 |\n"
      ]
     },
     "metadata": {},
     "output_type": "display_data"
    },
    {
     "data": {
      "text/html": [
       "<pre style=\"white-space:pre;overflow-x:auto;line-height:normal;font-family:Menlo,'DejaVu Sans Mono',consolas,'Courier New',monospace\">| Epoch :   44 | Trn. Loss : 1.473e-01 | Val. Loss : 9.336e-02 | LR : 9.157e-04 |\n",
       "</pre>\n"
      ],
      "text/plain": [
       "| Epoch :   44 | Trn. Loss : 1.473e-01 | Val. Loss : 9.336e-02 | LR : 9.157e-04 |\n"
      ]
     },
     "metadata": {},
     "output_type": "display_data"
    },
    {
     "data": {
      "text/html": [
       "<pre style=\"white-space:pre;overflow-x:auto;line-height:normal;font-family:Menlo,'DejaVu Sans Mono',consolas,'Courier New',monospace\">| Epoch :   45 | Trn. Loss : 1.358e-01 | Val. Loss : 8.736e-02 | LR : 9.138e-04 |\n",
       "</pre>\n"
      ],
      "text/plain": [
       "| Epoch :   45 | Trn. Loss : 1.358e-01 | Val. Loss : 8.736e-02 | LR : 9.138e-04 |\n"
      ]
     },
     "metadata": {},
     "output_type": "display_data"
    },
    {
     "data": {
      "text/html": [
       "<pre style=\"white-space:pre;overflow-x:auto;line-height:normal;font-family:Menlo,'DejaVu Sans Mono',consolas,'Courier New',monospace\">| Epoch :   46 | Trn. Loss : 1.581e-01 | Val. Loss : 1.437e-01 | LR : 9.120e-04 |\n",
       "</pre>\n"
      ],
      "text/plain": [
       "| Epoch :   46 | Trn. Loss : 1.581e-01 | Val. Loss : 1.437e-01 | LR : 9.120e-04 |\n"
      ]
     },
     "metadata": {},
     "output_type": "display_data"
    },
    {
     "data": {
      "text/html": [
       "<pre style=\"white-space:pre;overflow-x:auto;line-height:normal;font-family:Menlo,'DejaVu Sans Mono',consolas,'Courier New',monospace\">| Epoch :   47 | Trn. Loss : 1.576e-01 | Val. Loss : 1.040e-01 | LR : 9.102e-04 |\n",
       "</pre>\n"
      ],
      "text/plain": [
       "| Epoch :   47 | Trn. Loss : 1.576e-01 | Val. Loss : 1.040e-01 | LR : 9.102e-04 |\n"
      ]
     },
     "metadata": {},
     "output_type": "display_data"
    },
    {
     "data": {
      "text/html": [
       "<pre style=\"white-space:pre;overflow-x:auto;line-height:normal;font-family:Menlo,'DejaVu Sans Mono',consolas,'Courier New',monospace\">| Epoch :   48 | Trn. Loss : 1.342e-01 | Val. Loss : 9.217e-02 | LR : 9.084e-04 |\n",
       "</pre>\n"
      ],
      "text/plain": [
       "| Epoch :   48 | Trn. Loss : 1.342e-01 | Val. Loss : 9.217e-02 | LR : 9.084e-04 |\n"
      ]
     },
     "metadata": {},
     "output_type": "display_data"
    },
    {
     "data": {
      "text/html": [
       "<pre style=\"white-space:pre;overflow-x:auto;line-height:normal;font-family:Menlo,'DejaVu Sans Mono',consolas,'Courier New',monospace\">| Epoch :   49 | Trn. Loss : 1.243e-01 | Val. Loss : 8.702e-02 | LR : 9.066e-04 |\n",
       "</pre>\n"
      ],
      "text/plain": [
       "| Epoch :   49 | Trn. Loss : 1.243e-01 | Val. Loss : 8.702e-02 | LR : 9.066e-04 |\n"
      ]
     },
     "metadata": {},
     "output_type": "display_data"
    },
    {
     "data": {
      "text/html": [
       "<pre style=\"white-space:pre;overflow-x:auto;line-height:normal;font-family:Menlo,'DejaVu Sans Mono',consolas,'Courier New',monospace\">| Epoch :   50 | Trn. Loss : 1.186e-01 | Val. Loss : 7.707e-02 | LR : 9.047e-04 |\n",
       "</pre>\n"
      ],
      "text/plain": [
       "| Epoch :   50 | Trn. Loss : 1.186e-01 | Val. Loss : 7.707e-02 | LR : 9.047e-04 |\n"
      ]
     },
     "metadata": {},
     "output_type": "display_data"
    },
    {
     "data": {
      "text/html": [
       "<pre style=\"white-space:pre;overflow-x:auto;line-height:normal;font-family:Menlo,'DejaVu Sans Mono',consolas,'Courier New',monospace\">        Saving the best model with valLoss : 0.077\n",
       "</pre>\n"
      ],
      "text/plain": [
       "        Saving the best model with valLoss : 0.077\n"
      ]
     },
     "metadata": {},
     "output_type": "display_data"
    },
    {
     "data": {
      "text/html": [
       "<pre style=\"white-space:pre;overflow-x:auto;line-height:normal;font-family:Menlo,'DejaVu Sans Mono',consolas,'Courier New',monospace\">| Epoch :   51 | Trn. Loss : 1.118e-01 | Val. Loss : 8.893e-02 | LR : 9.029e-04 |\n",
       "</pre>\n"
      ],
      "text/plain": [
       "| Epoch :   51 | Trn. Loss : 1.118e-01 | Val. Loss : 8.893e-02 | LR : 9.029e-04 |\n"
      ]
     },
     "metadata": {},
     "output_type": "display_data"
    },
    {
     "data": {
      "text/html": [
       "<pre style=\"white-space:pre;overflow-x:auto;line-height:normal;font-family:Menlo,'DejaVu Sans Mono',consolas,'Courier New',monospace\">| Epoch :   52 | Trn. Loss : 1.201e-01 | Val. Loss : 9.523e-02 | LR : 9.011e-04 |\n",
       "</pre>\n"
      ],
      "text/plain": [
       "| Epoch :   52 | Trn. Loss : 1.201e-01 | Val. Loss : 9.523e-02 | LR : 9.011e-04 |\n"
      ]
     },
     "metadata": {},
     "output_type": "display_data"
    },
    {
     "data": {
      "text/html": [
       "<pre style=\"white-space:pre;overflow-x:auto;line-height:normal;font-family:Menlo,'DejaVu Sans Mono',consolas,'Courier New',monospace\">| Epoch :   53 | Trn. Loss : 1.164e-01 | Val. Loss : 9.836e-02 | LR : 8.993e-04 |\n",
       "</pre>\n"
      ],
      "text/plain": [
       "| Epoch :   53 | Trn. Loss : 1.164e-01 | Val. Loss : 9.836e-02 | LR : 8.993e-04 |\n"
      ]
     },
     "metadata": {},
     "output_type": "display_data"
    },
    {
     "data": {
      "text/html": [
       "<pre style=\"white-space:pre;overflow-x:auto;line-height:normal;font-family:Menlo,'DejaVu Sans Mono',consolas,'Courier New',monospace\">| Epoch :   54 | Trn. Loss : 1.178e-01 | Val. Loss : 1.207e-01 | LR : 8.975e-04 |\n",
       "</pre>\n"
      ],
      "text/plain": [
       "| Epoch :   54 | Trn. Loss : 1.178e-01 | Val. Loss : 1.207e-01 | LR : 8.975e-04 |\n"
      ]
     },
     "metadata": {},
     "output_type": "display_data"
    },
    {
     "data": {
      "text/html": [
       "<pre style=\"white-space:pre;overflow-x:auto;line-height:normal;font-family:Menlo,'DejaVu Sans Mono',consolas,'Courier New',monospace\">| Epoch :   55 | Trn. Loss : 1.280e-01 | Val. Loss : 8.707e-02 | LR : 8.957e-04 |\n",
       "</pre>\n"
      ],
      "text/plain": [
       "| Epoch :   55 | Trn. Loss : 1.280e-01 | Val. Loss : 8.707e-02 | LR : 8.957e-04 |\n"
      ]
     },
     "metadata": {},
     "output_type": "display_data"
    },
    {
     "data": {
      "text/html": [
       "<pre style=\"white-space:pre;overflow-x:auto;line-height:normal;font-family:Menlo,'DejaVu Sans Mono',consolas,'Courier New',monospace\">| Epoch :   56 | Trn. Loss : 1.100e-01 | Val. Loss : 8.792e-02 | LR : 8.939e-04 |\n",
       "</pre>\n"
      ],
      "text/plain": [
       "| Epoch :   56 | Trn. Loss : 1.100e-01 | Val. Loss : 8.792e-02 | LR : 8.939e-04 |\n"
      ]
     },
     "metadata": {},
     "output_type": "display_data"
    },
    {
     "data": {
      "text/html": [
       "<pre style=\"white-space:pre;overflow-x:auto;line-height:normal;font-family:Menlo,'DejaVu Sans Mono',consolas,'Courier New',monospace\">| Epoch :   57 | Trn. Loss : 1.171e-01 | Val. Loss : 1.128e-01 | LR : 8.922e-04 |\n",
       "</pre>\n"
      ],
      "text/plain": [
       "| Epoch :   57 | Trn. Loss : 1.171e-01 | Val. Loss : 1.128e-01 | LR : 8.922e-04 |\n"
      ]
     },
     "metadata": {},
     "output_type": "display_data"
    },
    {
     "data": {
      "text/html": [
       "<pre style=\"white-space:pre;overflow-x:auto;line-height:normal;font-family:Menlo,'DejaVu Sans Mono',consolas,'Courier New',monospace\">| Epoch :   58 | Trn. Loss : 1.155e-01 | Val. Loss : 8.255e-02 | LR : 8.904e-04 |\n",
       "</pre>\n"
      ],
      "text/plain": [
       "| Epoch :   58 | Trn. Loss : 1.155e-01 | Val. Loss : 8.255e-02 | LR : 8.904e-04 |\n"
      ]
     },
     "metadata": {},
     "output_type": "display_data"
    },
    {
     "data": {
      "text/html": [
       "<pre style=\"white-space:pre;overflow-x:auto;line-height:normal;font-family:Menlo,'DejaVu Sans Mono',consolas,'Courier New',monospace\">| Epoch :   59 | Trn. Loss : 1.151e-01 | Val. Loss : 9.014e-02 | LR : 8.886e-04 |\n",
       "</pre>\n"
      ],
      "text/plain": [
       "| Epoch :   59 | Trn. Loss : 1.151e-01 | Val. Loss : 9.014e-02 | LR : 8.886e-04 |\n"
      ]
     },
     "metadata": {},
     "output_type": "display_data"
    },
    {
     "data": {
      "text/html": [
       "<pre style=\"white-space:pre;overflow-x:auto;line-height:normal;font-family:Menlo,'DejaVu Sans Mono',consolas,'Courier New',monospace\">| Epoch :   60 | Trn. Loss : 1.092e-01 | Val. Loss : 1.027e-01 | LR : 8.868e-04 |\n",
       "</pre>\n"
      ],
      "text/plain": [
       "| Epoch :   60 | Trn. Loss : 1.092e-01 | Val. Loss : 1.027e-01 | LR : 8.868e-04 |\n"
      ]
     },
     "metadata": {},
     "output_type": "display_data"
    },
    {
     "data": {
      "text/html": [
       "<pre style=\"white-space:pre;overflow-x:auto;line-height:normal;font-family:Menlo,'DejaVu Sans Mono',consolas,'Courier New',monospace\">| Epoch :   61 | Trn. Loss : 1.094e-01 | Val. Loss : 9.608e-02 | LR : 8.850e-04 |\n",
       "</pre>\n"
      ],
      "text/plain": [
       "| Epoch :   61 | Trn. Loss : 1.094e-01 | Val. Loss : 9.608e-02 | LR : 8.850e-04 |\n"
      ]
     },
     "metadata": {},
     "output_type": "display_data"
    },
    {
     "data": {
      "text/html": [
       "<pre style=\"white-space:pre;overflow-x:auto;line-height:normal;font-family:Menlo,'DejaVu Sans Mono',consolas,'Courier New',monospace\">| Epoch :   62 | Trn. Loss : 1.068e-01 | Val. Loss : 9.373e-02 | LR : 8.833e-04 |\n",
       "</pre>\n"
      ],
      "text/plain": [
       "| Epoch :   62 | Trn. Loss : 1.068e-01 | Val. Loss : 9.373e-02 | LR : 8.833e-04 |\n"
      ]
     },
     "metadata": {},
     "output_type": "display_data"
    },
    {
     "data": {
      "text/html": [
       "<pre style=\"white-space:pre;overflow-x:auto;line-height:normal;font-family:Menlo,'DejaVu Sans Mono',consolas,'Courier New',monospace\">| Epoch :   63 | Trn. Loss : 1.018e-01 | Val. Loss : 8.832e-02 | LR : 8.815e-04 |\n",
       "</pre>\n"
      ],
      "text/plain": [
       "| Epoch :   63 | Trn. Loss : 1.018e-01 | Val. Loss : 8.832e-02 | LR : 8.815e-04 |\n"
      ]
     },
     "metadata": {},
     "output_type": "display_data"
    },
    {
     "data": {
      "text/html": [
       "<pre style=\"white-space:pre;overflow-x:auto;line-height:normal;font-family:Menlo,'DejaVu Sans Mono',consolas,'Courier New',monospace\">| Epoch :   64 | Trn. Loss : 1.133e-01 | Val. Loss : 1.211e-01 | LR : 8.797e-04 |\n",
       "</pre>\n"
      ],
      "text/plain": [
       "| Epoch :   64 | Trn. Loss : 1.133e-01 | Val. Loss : 1.211e-01 | LR : 8.797e-04 |\n"
      ]
     },
     "metadata": {},
     "output_type": "display_data"
    },
    {
     "data": {
      "text/html": [
       "<pre style=\"white-space:pre;overflow-x:auto;line-height:normal;font-family:Menlo,'DejaVu Sans Mono',consolas,'Courier New',monospace\">| Epoch :   65 | Trn. Loss : 1.160e-01 | Val. Loss : 9.564e-02 | LR : 8.780e-04 |\n",
       "</pre>\n"
      ],
      "text/plain": [
       "| Epoch :   65 | Trn. Loss : 1.160e-01 | Val. Loss : 9.564e-02 | LR : 8.780e-04 |\n"
      ]
     },
     "metadata": {},
     "output_type": "display_data"
    },
    {
     "data": {
      "text/html": [
       "<pre style=\"white-space:pre;overflow-x:auto;line-height:normal;font-family:Menlo,'DejaVu Sans Mono',consolas,'Courier New',monospace\">| Epoch :   66 | Trn. Loss : 9.515e-02 | Val. Loss : 8.183e-02 | LR : 8.762e-04 |\n",
       "</pre>\n"
      ],
      "text/plain": [
       "| Epoch :   66 | Trn. Loss : 9.515e-02 | Val. Loss : 8.183e-02 | LR : 8.762e-04 |\n"
      ]
     },
     "metadata": {},
     "output_type": "display_data"
    },
    {
     "data": {
      "text/html": [
       "<pre style=\"white-space:pre;overflow-x:auto;line-height:normal;font-family:Menlo,'DejaVu Sans Mono',consolas,'Courier New',monospace\">| Epoch :   67 | Trn. Loss : 9.257e-02 | Val. Loss : 8.980e-02 | LR : 8.745e-04 |\n",
       "</pre>\n"
      ],
      "text/plain": [
       "| Epoch :   67 | Trn. Loss : 9.257e-02 | Val. Loss : 8.980e-02 | LR : 8.745e-04 |\n"
      ]
     },
     "metadata": {},
     "output_type": "display_data"
    },
    {
     "data": {
      "text/html": [
       "<pre style=\"white-space:pre;overflow-x:auto;line-height:normal;font-family:Menlo,'DejaVu Sans Mono',consolas,'Courier New',monospace\">| Epoch :   68 | Trn. Loss : 9.869e-02 | Val. Loss : 8.475e-02 | LR : 8.727e-04 |\n",
       "</pre>\n"
      ],
      "text/plain": [
       "| Epoch :   68 | Trn. Loss : 9.869e-02 | Val. Loss : 8.475e-02 | LR : 8.727e-04 |\n"
      ]
     },
     "metadata": {},
     "output_type": "display_data"
    },
    {
     "data": {
      "text/html": [
       "<pre style=\"white-space:pre;overflow-x:auto;line-height:normal;font-family:Menlo,'DejaVu Sans Mono',consolas,'Courier New',monospace\">| Epoch :   69 | Trn. Loss : 1.170e-01 | Val. Loss : 7.725e-02 | LR : 8.710e-04 |\n",
       "</pre>\n"
      ],
      "text/plain": [
       "| Epoch :   69 | Trn. Loss : 1.170e-01 | Val. Loss : 7.725e-02 | LR : 8.710e-04 |\n"
      ]
     },
     "metadata": {},
     "output_type": "display_data"
    },
    {
     "data": {
      "text/html": [
       "<pre style=\"white-space:pre;overflow-x:auto;line-height:normal;font-family:Menlo,'DejaVu Sans Mono',consolas,'Courier New',monospace\">| Epoch :   70 | Trn. Loss : 8.711e-02 | Val. Loss : 7.704e-02 | LR : 8.692e-04 |\n",
       "</pre>\n"
      ],
      "text/plain": [
       "| Epoch :   70 | Trn. Loss : 8.711e-02 | Val. Loss : 7.704e-02 | LR : 8.692e-04 |\n"
      ]
     },
     "metadata": {},
     "output_type": "display_data"
    },
    {
     "data": {
      "text/html": [
       "<pre style=\"white-space:pre;overflow-x:auto;line-height:normal;font-family:Menlo,'DejaVu Sans Mono',consolas,'Courier New',monospace\">        Saving the best model with valLoss : 0.077\n",
       "</pre>\n"
      ],
      "text/plain": [
       "        Saving the best model with valLoss : 0.077\n"
      ]
     },
     "metadata": {},
     "output_type": "display_data"
    },
    {
     "data": {
      "text/html": [
       "<pre style=\"white-space:pre;overflow-x:auto;line-height:normal;font-family:Menlo,'DejaVu Sans Mono',consolas,'Courier New',monospace\">| Epoch :   71 | Trn. Loss : 8.846e-02 | Val. Loss : 7.923e-02 | LR : 8.675e-04 |\n",
       "</pre>\n"
      ],
      "text/plain": [
       "| Epoch :   71 | Trn. Loss : 8.846e-02 | Val. Loss : 7.923e-02 | LR : 8.675e-04 |\n"
      ]
     },
     "metadata": {},
     "output_type": "display_data"
    },
    {
     "data": {
      "text/html": [
       "<pre style=\"white-space:pre;overflow-x:auto;line-height:normal;font-family:Menlo,'DejaVu Sans Mono',consolas,'Courier New',monospace\">| Epoch :   72 | Trn. Loss : 9.084e-02 | Val. Loss : 7.756e-02 | LR : 8.658e-04 |\n",
       "</pre>\n"
      ],
      "text/plain": [
       "| Epoch :   72 | Trn. Loss : 9.084e-02 | Val. Loss : 7.756e-02 | LR : 8.658e-04 |\n"
      ]
     },
     "metadata": {},
     "output_type": "display_data"
    },
    {
     "data": {
      "text/html": [
       "<pre style=\"white-space:pre;overflow-x:auto;line-height:normal;font-family:Menlo,'DejaVu Sans Mono',consolas,'Courier New',monospace\">| Epoch :   73 | Trn. Loss : 1.018e-01 | Val. Loss : 9.563e-02 | LR : 8.640e-04 |\n",
       "</pre>\n"
      ],
      "text/plain": [
       "| Epoch :   73 | Trn. Loss : 1.018e-01 | Val. Loss : 9.563e-02 | LR : 8.640e-04 |\n"
      ]
     },
     "metadata": {},
     "output_type": "display_data"
    },
    {
     "data": {
      "text/html": [
       "<pre style=\"white-space:pre;overflow-x:auto;line-height:normal;font-family:Menlo,'DejaVu Sans Mono',consolas,'Courier New',monospace\">| Epoch :   74 | Trn. Loss : 9.859e-02 | Val. Loss : 8.339e-02 | LR : 8.623e-04 |\n",
       "</pre>\n"
      ],
      "text/plain": [
       "| Epoch :   74 | Trn. Loss : 9.859e-02 | Val. Loss : 8.339e-02 | LR : 8.623e-04 |\n"
      ]
     },
     "metadata": {},
     "output_type": "display_data"
    },
    {
     "data": {
      "text/html": [
       "<pre style=\"white-space:pre;overflow-x:auto;line-height:normal;font-family:Menlo,'DejaVu Sans Mono',consolas,'Courier New',monospace\">| Epoch :   75 | Trn. Loss : 1.078e-01 | Val. Loss : 1.455e-01 | LR : 8.606e-04 |\n",
       "</pre>\n"
      ],
      "text/plain": [
       "| Epoch :   75 | Trn. Loss : 1.078e-01 | Val. Loss : 1.455e-01 | LR : 8.606e-04 |\n"
      ]
     },
     "metadata": {},
     "output_type": "display_data"
    },
    {
     "data": {
      "text/html": [
       "<pre style=\"white-space:pre;overflow-x:auto;line-height:normal;font-family:Menlo,'DejaVu Sans Mono',consolas,'Courier New',monospace\">| Epoch :   76 | Trn. Loss : 1.260e-01 | Val. Loss : 9.280e-02 | LR : 8.589e-04 |\n",
       "</pre>\n"
      ],
      "text/plain": [
       "| Epoch :   76 | Trn. Loss : 1.260e-01 | Val. Loss : 9.280e-02 | LR : 8.589e-04 |\n"
      ]
     },
     "metadata": {},
     "output_type": "display_data"
    },
    {
     "data": {
      "text/html": [
       "<pre style=\"white-space:pre;overflow-x:auto;line-height:normal;font-family:Menlo,'DejaVu Sans Mono',consolas,'Courier New',monospace\">| Epoch :   77 | Trn. Loss : 9.361e-02 | Val. Loss : 1.010e-01 | LR : 8.571e-04 |\n",
       "</pre>\n"
      ],
      "text/plain": [
       "| Epoch :   77 | Trn. Loss : 9.361e-02 | Val. Loss : 1.010e-01 | LR : 8.571e-04 |\n"
      ]
     },
     "metadata": {},
     "output_type": "display_data"
    },
    {
     "data": {
      "text/html": [
       "<pre style=\"white-space:pre;overflow-x:auto;line-height:normal;font-family:Menlo,'DejaVu Sans Mono',consolas,'Courier New',monospace\">| Epoch :   78 | Trn. Loss : 9.293e-02 | Val. Loss : 8.927e-02 | LR : 8.554e-04 |\n",
       "</pre>\n"
      ],
      "text/plain": [
       "| Epoch :   78 | Trn. Loss : 9.293e-02 | Val. Loss : 8.927e-02 | LR : 8.554e-04 |\n"
      ]
     },
     "metadata": {},
     "output_type": "display_data"
    },
    {
     "data": {
      "text/html": [
       "<pre style=\"white-space:pre;overflow-x:auto;line-height:normal;font-family:Menlo,'DejaVu Sans Mono',consolas,'Courier New',monospace\">| Epoch :   79 | Trn. Loss : 9.385e-02 | Val. Loss : 6.845e-02 | LR : 8.537e-04 |\n",
       "</pre>\n"
      ],
      "text/plain": [
       "| Epoch :   79 | Trn. Loss : 9.385e-02 | Val. Loss : 6.845e-02 | LR : 8.537e-04 |\n"
      ]
     },
     "metadata": {},
     "output_type": "display_data"
    },
    {
     "data": {
      "text/html": [
       "<pre style=\"white-space:pre;overflow-x:auto;line-height:normal;font-family:Menlo,'DejaVu Sans Mono',consolas,'Courier New',monospace\">        Saving the best model with valLoss : 0.068\n",
       "</pre>\n"
      ],
      "text/plain": [
       "        Saving the best model with valLoss : 0.068\n"
      ]
     },
     "metadata": {},
     "output_type": "display_data"
    },
    {
     "data": {
      "text/html": [
       "<pre style=\"white-space:pre;overflow-x:auto;line-height:normal;font-family:Menlo,'DejaVu Sans Mono',consolas,'Courier New',monospace\">| Epoch :   80 | Trn. Loss : 8.020e-02 | Val. Loss : 8.350e-02 | LR : 8.520e-04 |\n",
       "</pre>\n"
      ],
      "text/plain": [
       "| Epoch :   80 | Trn. Loss : 8.020e-02 | Val. Loss : 8.350e-02 | LR : 8.520e-04 |\n"
      ]
     },
     "metadata": {},
     "output_type": "display_data"
    },
    {
     "data": {
      "text/html": [
       "<pre style=\"white-space:pre;overflow-x:auto;line-height:normal;font-family:Menlo,'DejaVu Sans Mono',consolas,'Courier New',monospace\">| Epoch :   81 | Trn. Loss : 9.113e-02 | Val. Loss : 8.876e-02 | LR : 8.503e-04 |\n",
       "</pre>\n"
      ],
      "text/plain": [
       "| Epoch :   81 | Trn. Loss : 9.113e-02 | Val. Loss : 8.876e-02 | LR : 8.503e-04 |\n"
      ]
     },
     "metadata": {},
     "output_type": "display_data"
    },
    {
     "data": {
      "text/html": [
       "<pre style=\"white-space:pre;overflow-x:auto;line-height:normal;font-family:Menlo,'DejaVu Sans Mono',consolas,'Courier New',monospace\">| Epoch :   82 | Trn. Loss : 9.163e-02 | Val. Loss : 1.090e-01 | LR : 8.486e-04 |\n",
       "</pre>\n"
      ],
      "text/plain": [
       "| Epoch :   82 | Trn. Loss : 9.163e-02 | Val. Loss : 1.090e-01 | LR : 8.486e-04 |\n"
      ]
     },
     "metadata": {},
     "output_type": "display_data"
    },
    {
     "data": {
      "text/html": [
       "<pre style=\"white-space:pre;overflow-x:auto;line-height:normal;font-family:Menlo,'DejaVu Sans Mono',consolas,'Courier New',monospace\">| Epoch :   83 | Trn. Loss : 9.977e-02 | Val. Loss : 8.002e-02 | LR : 8.469e-04 |\n",
       "</pre>\n"
      ],
      "text/plain": [
       "| Epoch :   83 | Trn. Loss : 9.977e-02 | Val. Loss : 8.002e-02 | LR : 8.469e-04 |\n"
      ]
     },
     "metadata": {},
     "output_type": "display_data"
    },
    {
     "data": {
      "text/html": [
       "<pre style=\"white-space:pre;overflow-x:auto;line-height:normal;font-family:Menlo,'DejaVu Sans Mono',consolas,'Courier New',monospace\">| Epoch :   84 | Trn. Loss : 7.834e-02 | Val. Loss : 7.019e-02 | LR : 8.452e-04 |\n",
       "</pre>\n"
      ],
      "text/plain": [
       "| Epoch :   84 | Trn. Loss : 7.834e-02 | Val. Loss : 7.019e-02 | LR : 8.452e-04 |\n"
      ]
     },
     "metadata": {},
     "output_type": "display_data"
    },
    {
     "data": {
      "text/html": [
       "<pre style=\"white-space:pre;overflow-x:auto;line-height:normal;font-family:Menlo,'DejaVu Sans Mono',consolas,'Courier New',monospace\">| Epoch :   85 | Trn. Loss : 8.789e-02 | Val. Loss : 8.460e-02 | LR : 8.435e-04 |\n",
       "</pre>\n"
      ],
      "text/plain": [
       "| Epoch :   85 | Trn. Loss : 8.789e-02 | Val. Loss : 8.460e-02 | LR : 8.435e-04 |\n"
      ]
     },
     "metadata": {},
     "output_type": "display_data"
    },
    {
     "data": {
      "text/html": [
       "<pre style=\"white-space:pre;overflow-x:auto;line-height:normal;font-family:Menlo,'DejaVu Sans Mono',consolas,'Courier New',monospace\">| Epoch :   86 | Trn. Loss : 7.497e-02 | Val. Loss : 6.558e-02 | LR : 8.418e-04 |\n",
       "</pre>\n"
      ],
      "text/plain": [
       "| Epoch :   86 | Trn. Loss : 7.497e-02 | Val. Loss : 6.558e-02 | LR : 8.418e-04 |\n"
      ]
     },
     "metadata": {},
     "output_type": "display_data"
    },
    {
     "data": {
      "text/html": [
       "<pre style=\"white-space:pre;overflow-x:auto;line-height:normal;font-family:Menlo,'DejaVu Sans Mono',consolas,'Courier New',monospace\">        Saving the best model with valLoss : 0.066\n",
       "</pre>\n"
      ],
      "text/plain": [
       "        Saving the best model with valLoss : 0.066\n"
      ]
     },
     "metadata": {},
     "output_type": "display_data"
    },
    {
     "data": {
      "text/html": [
       "<pre style=\"white-space:pre;overflow-x:auto;line-height:normal;font-family:Menlo,'DejaVu Sans Mono',consolas,'Courier New',monospace\">| Epoch :   87 | Trn. Loss : 7.951e-02 | Val. Loss : 7.458e-02 | LR : 8.402e-04 |\n",
       "</pre>\n"
      ],
      "text/plain": [
       "| Epoch :   87 | Trn. Loss : 7.951e-02 | Val. Loss : 7.458e-02 | LR : 8.402e-04 |\n"
      ]
     },
     "metadata": {},
     "output_type": "display_data"
    },
    {
     "data": {
      "text/html": [
       "<pre style=\"white-space:pre;overflow-x:auto;line-height:normal;font-family:Menlo,'DejaVu Sans Mono',consolas,'Courier New',monospace\">| Epoch :   88 | Trn. Loss : 7.497e-02 | Val. Loss : 6.694e-02 | LR : 8.385e-04 |\n",
       "</pre>\n"
      ],
      "text/plain": [
       "| Epoch :   88 | Trn. Loss : 7.497e-02 | Val. Loss : 6.694e-02 | LR : 8.385e-04 |\n"
      ]
     },
     "metadata": {},
     "output_type": "display_data"
    },
    {
     "data": {
      "text/html": [
       "<pre style=\"white-space:pre;overflow-x:auto;line-height:normal;font-family:Menlo,'DejaVu Sans Mono',consolas,'Courier New',monospace\">| Epoch :   89 | Trn. Loss : 8.258e-02 | Val. Loss : 6.555e-02 | LR : 8.368e-04 |\n",
       "</pre>\n"
      ],
      "text/plain": [
       "| Epoch :   89 | Trn. Loss : 8.258e-02 | Val. Loss : 6.555e-02 | LR : 8.368e-04 |\n"
      ]
     },
     "metadata": {},
     "output_type": "display_data"
    },
    {
     "data": {
      "text/html": [
       "<pre style=\"white-space:pre;overflow-x:auto;line-height:normal;font-family:Menlo,'DejaVu Sans Mono',consolas,'Courier New',monospace\">        Saving the best model with valLoss : 0.066\n",
       "</pre>\n"
      ],
      "text/plain": [
       "        Saving the best model with valLoss : 0.066\n"
      ]
     },
     "metadata": {},
     "output_type": "display_data"
    },
    {
     "data": {
      "text/html": [
       "<pre style=\"white-space:pre;overflow-x:auto;line-height:normal;font-family:Menlo,'DejaVu Sans Mono',consolas,'Courier New',monospace\">| Epoch :   90 | Trn. Loss : 7.219e-02 | Val. Loss : 6.662e-02 | LR : 8.351e-04 |\n",
       "</pre>\n"
      ],
      "text/plain": [
       "| Epoch :   90 | Trn. Loss : 7.219e-02 | Val. Loss : 6.662e-02 | LR : 8.351e-04 |\n"
      ]
     },
     "metadata": {},
     "output_type": "display_data"
    },
    {
     "data": {
      "text/html": [
       "<pre style=\"white-space:pre;overflow-x:auto;line-height:normal;font-family:Menlo,'DejaVu Sans Mono',consolas,'Courier New',monospace\">| Epoch :   91 | Trn. Loss : 8.072e-02 | Val. Loss : 7.201e-02 | LR : 8.334e-04 |\n",
       "</pre>\n"
      ],
      "text/plain": [
       "| Epoch :   91 | Trn. Loss : 8.072e-02 | Val. Loss : 7.201e-02 | LR : 8.334e-04 |\n"
      ]
     },
     "metadata": {},
     "output_type": "display_data"
    },
    {
     "data": {
      "text/html": [
       "<pre style=\"white-space:pre;overflow-x:auto;line-height:normal;font-family:Menlo,'DejaVu Sans Mono',consolas,'Courier New',monospace\">| Epoch :   92 | Trn. Loss : 7.886e-02 | Val. Loss : 7.570e-02 | LR : 8.318e-04 |\n",
       "</pre>\n"
      ],
      "text/plain": [
       "| Epoch :   92 | Trn. Loss : 7.886e-02 | Val. Loss : 7.570e-02 | LR : 8.318e-04 |\n"
      ]
     },
     "metadata": {},
     "output_type": "display_data"
    },
    {
     "data": {
      "text/html": [
       "<pre style=\"white-space:pre;overflow-x:auto;line-height:normal;font-family:Menlo,'DejaVu Sans Mono',consolas,'Courier New',monospace\">| Epoch :   93 | Trn. Loss : 7.884e-02 | Val. Loss : 7.435e-02 | LR : 8.301e-04 |\n",
       "</pre>\n"
      ],
      "text/plain": [
       "| Epoch :   93 | Trn. Loss : 7.884e-02 | Val. Loss : 7.435e-02 | LR : 8.301e-04 |\n"
      ]
     },
     "metadata": {},
     "output_type": "display_data"
    },
    {
     "data": {
      "text/html": [
       "<pre style=\"white-space:pre;overflow-x:auto;line-height:normal;font-family:Menlo,'DejaVu Sans Mono',consolas,'Courier New',monospace\">| Epoch :   94 | Trn. Loss : 8.587e-02 | Val. Loss : 7.784e-02 | LR : 8.285e-04 |\n",
       "</pre>\n"
      ],
      "text/plain": [
       "| Epoch :   94 | Trn. Loss : 8.587e-02 | Val. Loss : 7.784e-02 | LR : 8.285e-04 |\n"
      ]
     },
     "metadata": {},
     "output_type": "display_data"
    },
    {
     "data": {
      "text/html": [
       "<pre style=\"white-space:pre;overflow-x:auto;line-height:normal;font-family:Menlo,'DejaVu Sans Mono',consolas,'Courier New',monospace\">| Epoch :   95 | Trn. Loss : 7.896e-02 | Val. Loss : 7.216e-02 | LR : 8.268e-04 |\n",
       "</pre>\n"
      ],
      "text/plain": [
       "| Epoch :   95 | Trn. Loss : 7.896e-02 | Val. Loss : 7.216e-02 | LR : 8.268e-04 |\n"
      ]
     },
     "metadata": {},
     "output_type": "display_data"
    },
    {
     "data": {
      "text/html": [
       "<pre style=\"white-space:pre;overflow-x:auto;line-height:normal;font-family:Menlo,'DejaVu Sans Mono',consolas,'Courier New',monospace\">| Epoch :   96 | Trn. Loss : 8.243e-02 | Val. Loss : 8.971e-02 | LR : 8.251e-04 |\n",
       "</pre>\n"
      ],
      "text/plain": [
       "| Epoch :   96 | Trn. Loss : 8.243e-02 | Val. Loss : 8.971e-02 | LR : 8.251e-04 |\n"
      ]
     },
     "metadata": {},
     "output_type": "display_data"
    },
    {
     "data": {
      "text/html": [
       "<pre style=\"white-space:pre;overflow-x:auto;line-height:normal;font-family:Menlo,'DejaVu Sans Mono',consolas,'Courier New',monospace\">| Epoch :   97 | Trn. Loss : 8.789e-02 | Val. Loss : 9.200e-02 | LR : 8.235e-04 |\n",
       "</pre>\n"
      ],
      "text/plain": [
       "| Epoch :   97 | Trn. Loss : 8.789e-02 | Val. Loss : 9.200e-02 | LR : 8.235e-04 |\n"
      ]
     },
     "metadata": {},
     "output_type": "display_data"
    },
    {
     "data": {
      "text/html": [
       "<pre style=\"white-space:pre;overflow-x:auto;line-height:normal;font-family:Menlo,'DejaVu Sans Mono',consolas,'Courier New',monospace\">| Epoch :   98 | Trn. Loss : 8.768e-02 | Val. Loss : 1.005e-01 | LR : 8.219e-04 |\n",
       "</pre>\n"
      ],
      "text/plain": [
       "| Epoch :   98 | Trn. Loss : 8.768e-02 | Val. Loss : 1.005e-01 | LR : 8.219e-04 |\n"
      ]
     },
     "metadata": {},
     "output_type": "display_data"
    },
    {
     "data": {
      "text/html": [
       "<pre style=\"white-space:pre;overflow-x:auto;line-height:normal;font-family:Menlo,'DejaVu Sans Mono',consolas,'Courier New',monospace\">| Epoch :   99 | Trn. Loss : 7.484e-02 | Val. Loss : 9.807e-02 | LR : 8.202e-04 |\n",
       "</pre>\n"
      ],
      "text/plain": [
       "| Epoch :   99 | Trn. Loss : 7.484e-02 | Val. Loss : 9.807e-02 | LR : 8.202e-04 |\n"
      ]
     },
     "metadata": {},
     "output_type": "display_data"
    },
    {
     "data": {
      "text/html": [
       "<pre style=\"white-space:pre;overflow-x:auto;line-height:normal;font-family:Menlo,'DejaVu Sans Mono',consolas,'Courier New',monospace\">| Epoch :  100 | Trn. Loss : 9.141e-02 | Val. Loss : 7.098e-02 | LR : 8.186e-04 |\n",
       "</pre>\n"
      ],
      "text/plain": [
       "| Epoch :  100 | Trn. Loss : 9.141e-02 | Val. Loss : 7.098e-02 | LR : 8.186e-04 |\n"
      ]
     },
     "metadata": {},
     "output_type": "display_data"
    },
    {
     "data": {
      "text/html": [
       "<pre style=\"white-space:pre;overflow-x:auto;line-height:normal;font-family:Menlo,'DejaVu Sans Mono',consolas,'Courier New',monospace\">| Epoch :  101 | Trn. Loss : 9.008e-02 | Val. Loss : 1.222e-01 | LR : 8.169e-04 |\n",
       "</pre>\n"
      ],
      "text/plain": [
       "| Epoch :  101 | Trn. Loss : 9.008e-02 | Val. Loss : 1.222e-01 | LR : 8.169e-04 |\n"
      ]
     },
     "metadata": {},
     "output_type": "display_data"
    },
    {
     "data": {
      "text/html": [
       "<pre style=\"white-space:pre;overflow-x:auto;line-height:normal;font-family:Menlo,'DejaVu Sans Mono',consolas,'Courier New',monospace\">| Epoch :  102 | Trn. Loss : 1.031e-01 | Val. Loss : 7.844e-02 | LR : 8.153e-04 |\n",
       "</pre>\n"
      ],
      "text/plain": [
       "| Epoch :  102 | Trn. Loss : 1.031e-01 | Val. Loss : 7.844e-02 | LR : 8.153e-04 |\n"
      ]
     },
     "metadata": {},
     "output_type": "display_data"
    },
    {
     "data": {
      "text/html": [
       "<pre style=\"white-space:pre;overflow-x:auto;line-height:normal;font-family:Menlo,'DejaVu Sans Mono',consolas,'Courier New',monospace\">| Epoch :  103 | Trn. Loss : 7.867e-02 | Val. Loss : 7.619e-02 | LR : 8.137e-04 |\n",
       "</pre>\n"
      ],
      "text/plain": [
       "| Epoch :  103 | Trn. Loss : 7.867e-02 | Val. Loss : 7.619e-02 | LR : 8.137e-04 |\n"
      ]
     },
     "metadata": {},
     "output_type": "display_data"
    },
    {
     "data": {
      "text/html": [
       "<pre style=\"white-space:pre;overflow-x:auto;line-height:normal;font-family:Menlo,'DejaVu Sans Mono',consolas,'Courier New',monospace\">| Epoch :  104 | Trn. Loss : 8.243e-02 | Val. Loss : 7.266e-02 | LR : 8.120e-04 |\n",
       "</pre>\n"
      ],
      "text/plain": [
       "| Epoch :  104 | Trn. Loss : 8.243e-02 | Val. Loss : 7.266e-02 | LR : 8.120e-04 |\n"
      ]
     },
     "metadata": {},
     "output_type": "display_data"
    },
    {
     "data": {
      "text/html": [
       "<pre style=\"white-space:pre;overflow-x:auto;line-height:normal;font-family:Menlo,'DejaVu Sans Mono',consolas,'Courier New',monospace\">| Epoch :  105 | Trn. Loss : 7.647e-02 | Val. Loss : 7.309e-02 | LR : 8.104e-04 |\n",
       "</pre>\n"
      ],
      "text/plain": [
       "| Epoch :  105 | Trn. Loss : 7.647e-02 | Val. Loss : 7.309e-02 | LR : 8.104e-04 |\n"
      ]
     },
     "metadata": {},
     "output_type": "display_data"
    },
    {
     "data": {
      "text/html": [
       "<pre style=\"white-space:pre;overflow-x:auto;line-height:normal;font-family:Menlo,'DejaVu Sans Mono',consolas,'Courier New',monospace\">| Epoch :  106 | Trn. Loss : 6.946e-02 | Val. Loss : 7.390e-02 | LR : 8.088e-04 |\n",
       "</pre>\n"
      ],
      "text/plain": [
       "| Epoch :  106 | Trn. Loss : 6.946e-02 | Val. Loss : 7.390e-02 | LR : 8.088e-04 |\n"
      ]
     },
     "metadata": {},
     "output_type": "display_data"
    },
    {
     "data": {
      "text/html": [
       "<pre style=\"white-space:pre;overflow-x:auto;line-height:normal;font-family:Menlo,'DejaVu Sans Mono',consolas,'Courier New',monospace\">| Epoch :  107 | Trn. Loss : 6.983e-02 | Val. Loss : 7.916e-02 | LR : 8.072e-04 |\n",
       "</pre>\n"
      ],
      "text/plain": [
       "| Epoch :  107 | Trn. Loss : 6.983e-02 | Val. Loss : 7.916e-02 | LR : 8.072e-04 |\n"
      ]
     },
     "metadata": {},
     "output_type": "display_data"
    },
    {
     "data": {
      "text/html": [
       "<pre style=\"white-space:pre;overflow-x:auto;line-height:normal;font-family:Menlo,'DejaVu Sans Mono',consolas,'Courier New',monospace\">| Epoch :  108 | Trn. Loss : 8.041e-02 | Val. Loss : 8.607e-02 | LR : 8.056e-04 |\n",
       "</pre>\n"
      ],
      "text/plain": [
       "| Epoch :  108 | Trn. Loss : 8.041e-02 | Val. Loss : 8.607e-02 | LR : 8.056e-04 |\n"
      ]
     },
     "metadata": {},
     "output_type": "display_data"
    },
    {
     "data": {
      "text/html": [
       "<pre style=\"white-space:pre;overflow-x:auto;line-height:normal;font-family:Menlo,'DejaVu Sans Mono',consolas,'Courier New',monospace\">| Epoch :  109 | Trn. Loss : 6.722e-02 | Val. Loss : 7.577e-02 | LR : 8.039e-04 |\n",
       "</pre>\n"
      ],
      "text/plain": [
       "| Epoch :  109 | Trn. Loss : 6.722e-02 | Val. Loss : 7.577e-02 | LR : 8.039e-04 |\n"
      ]
     },
     "metadata": {},
     "output_type": "display_data"
    },
    {
     "data": {
      "text/html": [
       "<pre style=\"white-space:pre;overflow-x:auto;line-height:normal;font-family:Menlo,'DejaVu Sans Mono',consolas,'Courier New',monospace\">| Epoch :  110 | Trn. Loss : 7.240e-02 | Val. Loss : 7.761e-02 | LR : 8.023e-04 |\n",
       "</pre>\n"
      ],
      "text/plain": [
       "| Epoch :  110 | Trn. Loss : 7.240e-02 | Val. Loss : 7.761e-02 | LR : 8.023e-04 |\n"
      ]
     },
     "metadata": {},
     "output_type": "display_data"
    },
    {
     "data": {
      "text/html": [
       "<pre style=\"white-space:pre;overflow-x:auto;line-height:normal;font-family:Menlo,'DejaVu Sans Mono',consolas,'Courier New',monospace\">| Epoch :  111 | Trn. Loss : 8.615e-02 | Val. Loss : 7.105e-02 | LR : 8.007e-04 |\n",
       "</pre>\n"
      ],
      "text/plain": [
       "| Epoch :  111 | Trn. Loss : 8.615e-02 | Val. Loss : 7.105e-02 | LR : 8.007e-04 |\n"
      ]
     },
     "metadata": {},
     "output_type": "display_data"
    },
    {
     "data": {
      "text/html": [
       "<pre style=\"white-space:pre;overflow-x:auto;line-height:normal;font-family:Menlo,'DejaVu Sans Mono',consolas,'Courier New',monospace\">| Epoch :  112 | Trn. Loss : 6.591e-02 | Val. Loss : 6.150e-02 | LR : 7.991e-04 |\n",
       "</pre>\n"
      ],
      "text/plain": [
       "| Epoch :  112 | Trn. Loss : 6.591e-02 | Val. Loss : 6.150e-02 | LR : 7.991e-04 |\n"
      ]
     },
     "metadata": {},
     "output_type": "display_data"
    },
    {
     "data": {
      "text/html": [
       "<pre style=\"white-space:pre;overflow-x:auto;line-height:normal;font-family:Menlo,'DejaVu Sans Mono',consolas,'Courier New',monospace\">        Saving the best model with valLoss : 0.061\n",
       "</pre>\n"
      ],
      "text/plain": [
       "        Saving the best model with valLoss : 0.061\n"
      ]
     },
     "metadata": {},
     "output_type": "display_data"
    },
    {
     "data": {
      "text/html": [
       "<pre style=\"white-space:pre;overflow-x:auto;line-height:normal;font-family:Menlo,'DejaVu Sans Mono',consolas,'Courier New',monospace\">| Epoch :  113 | Trn. Loss : 7.218e-02 | Val. Loss : 5.634e-02 | LR : 7.975e-04 |\n",
       "</pre>\n"
      ],
      "text/plain": [
       "| Epoch :  113 | Trn. Loss : 7.218e-02 | Val. Loss : 5.634e-02 | LR : 7.975e-04 |\n"
      ]
     },
     "metadata": {},
     "output_type": "display_data"
    },
    {
     "data": {
      "text/html": [
       "<pre style=\"white-space:pre;overflow-x:auto;line-height:normal;font-family:Menlo,'DejaVu Sans Mono',consolas,'Courier New',monospace\">        Saving the best model with valLoss : 0.056\n",
       "</pre>\n"
      ],
      "text/plain": [
       "        Saving the best model with valLoss : 0.056\n"
      ]
     },
     "metadata": {},
     "output_type": "display_data"
    },
    {
     "data": {
      "text/html": [
       "<pre style=\"white-space:pre;overflow-x:auto;line-height:normal;font-family:Menlo,'DejaVu Sans Mono',consolas,'Courier New',monospace\">| Epoch :  114 | Trn. Loss : 7.184e-02 | Val. Loss : 7.488e-02 | LR : 7.959e-04 |\n",
       "</pre>\n"
      ],
      "text/plain": [
       "| Epoch :  114 | Trn. Loss : 7.184e-02 | Val. Loss : 7.488e-02 | LR : 7.959e-04 |\n"
      ]
     },
     "metadata": {},
     "output_type": "display_data"
    },
    {
     "data": {
      "text/html": [
       "<pre style=\"white-space:pre;overflow-x:auto;line-height:normal;font-family:Menlo,'DejaVu Sans Mono',consolas,'Courier New',monospace\">| Epoch :  115 | Trn. Loss : 7.440e-02 | Val. Loss : 6.688e-02 | LR : 7.944e-04 |\n",
       "</pre>\n"
      ],
      "text/plain": [
       "| Epoch :  115 | Trn. Loss : 7.440e-02 | Val. Loss : 6.688e-02 | LR : 7.944e-04 |\n"
      ]
     },
     "metadata": {},
     "output_type": "display_data"
    },
    {
     "data": {
      "text/html": [
       "<pre style=\"white-space:pre;overflow-x:auto;line-height:normal;font-family:Menlo,'DejaVu Sans Mono',consolas,'Courier New',monospace\">| Epoch :  116 | Trn. Loss : 7.169e-02 | Val. Loss : 8.161e-02 | LR : 7.928e-04 |\n",
       "</pre>\n"
      ],
      "text/plain": [
       "| Epoch :  116 | Trn. Loss : 7.169e-02 | Val. Loss : 8.161e-02 | LR : 7.928e-04 |\n"
      ]
     },
     "metadata": {},
     "output_type": "display_data"
    },
    {
     "data": {
      "text/html": [
       "<pre style=\"white-space:pre;overflow-x:auto;line-height:normal;font-family:Menlo,'DejaVu Sans Mono',consolas,'Courier New',monospace\">| Epoch :  117 | Trn. Loss : 6.487e-02 | Val. Loss : 7.121e-02 | LR : 7.912e-04 |\n",
       "</pre>\n"
      ],
      "text/plain": [
       "| Epoch :  117 | Trn. Loss : 6.487e-02 | Val. Loss : 7.121e-02 | LR : 7.912e-04 |\n"
      ]
     },
     "metadata": {},
     "output_type": "display_data"
    },
    {
     "data": {
      "text/html": [
       "<pre style=\"white-space:pre;overflow-x:auto;line-height:normal;font-family:Menlo,'DejaVu Sans Mono',consolas,'Courier New',monospace\">| Epoch :  118 | Trn. Loss : 6.250e-02 | Val. Loss : 8.886e-02 | LR : 7.896e-04 |\n",
       "</pre>\n"
      ],
      "text/plain": [
       "| Epoch :  118 | Trn. Loss : 6.250e-02 | Val. Loss : 8.886e-02 | LR : 7.896e-04 |\n"
      ]
     },
     "metadata": {},
     "output_type": "display_data"
    },
    {
     "data": {
      "text/html": [
       "<pre style=\"white-space:pre;overflow-x:auto;line-height:normal;font-family:Menlo,'DejaVu Sans Mono',consolas,'Courier New',monospace\">| Epoch :  119 | Trn. Loss : 7.090e-02 | Val. Loss : 7.157e-02 | LR : 7.880e-04 |\n",
       "</pre>\n"
      ],
      "text/plain": [
       "| Epoch :  119 | Trn. Loss : 7.090e-02 | Val. Loss : 7.157e-02 | LR : 7.880e-04 |\n"
      ]
     },
     "metadata": {},
     "output_type": "display_data"
    },
    {
     "data": {
      "text/html": [
       "<pre style=\"white-space:pre;overflow-x:auto;line-height:normal;font-family:Menlo,'DejaVu Sans Mono',consolas,'Courier New',monospace\">| Epoch :  120 | Trn. Loss : 7.103e-02 | Val. Loss : 6.124e-02 | LR : 7.864e-04 |\n",
       "</pre>\n"
      ],
      "text/plain": [
       "| Epoch :  120 | Trn. Loss : 7.103e-02 | Val. Loss : 6.124e-02 | LR : 7.864e-04 |\n"
      ]
     },
     "metadata": {},
     "output_type": "display_data"
    },
    {
     "data": {
      "text/html": [
       "<pre style=\"white-space:pre;overflow-x:auto;line-height:normal;font-family:Menlo,'DejaVu Sans Mono',consolas,'Courier New',monospace\">| Epoch :  121 | Trn. Loss : 7.373e-02 | Val. Loss : 7.631e-02 | LR : 7.849e-04 |\n",
       "</pre>\n"
      ],
      "text/plain": [
       "| Epoch :  121 | Trn. Loss : 7.373e-02 | Val. Loss : 7.631e-02 | LR : 7.849e-04 |\n"
      ]
     },
     "metadata": {},
     "output_type": "display_data"
    },
    {
     "data": {
      "text/html": [
       "<pre style=\"white-space:pre;overflow-x:auto;line-height:normal;font-family:Menlo,'DejaVu Sans Mono',consolas,'Courier New',monospace\">| Epoch :  122 | Trn. Loss : 6.326e-02 | Val. Loss : 7.130e-02 | LR : 7.833e-04 |\n",
       "</pre>\n"
      ],
      "text/plain": [
       "| Epoch :  122 | Trn. Loss : 6.326e-02 | Val. Loss : 7.130e-02 | LR : 7.833e-04 |\n"
      ]
     },
     "metadata": {},
     "output_type": "display_data"
    },
    {
     "data": {
      "text/html": [
       "<pre style=\"white-space:pre;overflow-x:auto;line-height:normal;font-family:Menlo,'DejaVu Sans Mono',consolas,'Courier New',monospace\">| Epoch :  123 | Trn. Loss : 7.141e-02 | Val. Loss : 7.222e-02 | LR : 7.817e-04 |\n",
       "</pre>\n"
      ],
      "text/plain": [
       "| Epoch :  123 | Trn. Loss : 7.141e-02 | Val. Loss : 7.222e-02 | LR : 7.817e-04 |\n"
      ]
     },
     "metadata": {},
     "output_type": "display_data"
    },
    {
     "data": {
      "text/html": [
       "<pre style=\"white-space:pre;overflow-x:auto;line-height:normal;font-family:Menlo,'DejaVu Sans Mono',consolas,'Courier New',monospace\">| Epoch :  124 | Trn. Loss : 7.382e-02 | Val. Loss : 7.812e-02 | LR : 7.802e-04 |\n",
       "</pre>\n"
      ],
      "text/plain": [
       "| Epoch :  124 | Trn. Loss : 7.382e-02 | Val. Loss : 7.812e-02 | LR : 7.802e-04 |\n"
      ]
     },
     "metadata": {},
     "output_type": "display_data"
    },
    {
     "data": {
      "text/html": [
       "<pre style=\"white-space:pre;overflow-x:auto;line-height:normal;font-family:Menlo,'DejaVu Sans Mono',consolas,'Courier New',monospace\">| Epoch :  125 | Trn. Loss : 7.211e-02 | Val. Loss : 1.030e-01 | LR : 7.786e-04 |\n",
       "</pre>\n"
      ],
      "text/plain": [
       "| Epoch :  125 | Trn. Loss : 7.211e-02 | Val. Loss : 1.030e-01 | LR : 7.786e-04 |\n"
      ]
     },
     "metadata": {},
     "output_type": "display_data"
    },
    {
     "data": {
      "text/html": [
       "<pre style=\"white-space:pre;overflow-x:auto;line-height:normal;font-family:Menlo,'DejaVu Sans Mono',consolas,'Courier New',monospace\">| Epoch :  126 | Trn. Loss : 8.088e-02 | Val. Loss : 9.990e-02 | LR : 7.770e-04 |\n",
       "</pre>\n"
      ],
      "text/plain": [
       "| Epoch :  126 | Trn. Loss : 8.088e-02 | Val. Loss : 9.990e-02 | LR : 7.770e-04 |\n"
      ]
     },
     "metadata": {},
     "output_type": "display_data"
    },
    {
     "data": {
      "text/html": [
       "<pre style=\"white-space:pre;overflow-x:auto;line-height:normal;font-family:Menlo,'DejaVu Sans Mono',consolas,'Courier New',monospace\">| Epoch :  127 | Trn. Loss : 7.199e-02 | Val. Loss : 9.041e-02 | LR : 7.755e-04 |\n",
       "</pre>\n"
      ],
      "text/plain": [
       "| Epoch :  127 | Trn. Loss : 7.199e-02 | Val. Loss : 9.041e-02 | LR : 7.755e-04 |\n"
      ]
     },
     "metadata": {},
     "output_type": "display_data"
    },
    {
     "data": {
      "text/html": [
       "<pre style=\"white-space:pre;overflow-x:auto;line-height:normal;font-family:Menlo,'DejaVu Sans Mono',consolas,'Courier New',monospace\">| Epoch :  128 | Trn. Loss : 6.909e-02 | Val. Loss : 9.204e-02 | LR : 7.739e-04 |\n",
       "</pre>\n"
      ],
      "text/plain": [
       "| Epoch :  128 | Trn. Loss : 6.909e-02 | Val. Loss : 9.204e-02 | LR : 7.739e-04 |\n"
      ]
     },
     "metadata": {},
     "output_type": "display_data"
    },
    {
     "data": {
      "text/html": [
       "<pre style=\"white-space:pre;overflow-x:auto;line-height:normal;font-family:Menlo,'DejaVu Sans Mono',consolas,'Courier New',monospace\">| Epoch :  129 | Trn. Loss : 6.367e-02 | Val. Loss : 8.177e-02 | LR : 7.724e-04 |\n",
       "</pre>\n"
      ],
      "text/plain": [
       "| Epoch :  129 | Trn. Loss : 6.367e-02 | Val. Loss : 8.177e-02 | LR : 7.724e-04 |\n"
      ]
     },
     "metadata": {},
     "output_type": "display_data"
    },
    {
     "data": {
      "text/html": [
       "<pre style=\"white-space:pre;overflow-x:auto;line-height:normal;font-family:Menlo,'DejaVu Sans Mono',consolas,'Courier New',monospace\">| Epoch :  130 | Trn. Loss : 6.753e-02 | Val. Loss : 7.405e-02 | LR : 7.709e-04 |\n",
       "</pre>\n"
      ],
      "text/plain": [
       "| Epoch :  130 | Trn. Loss : 6.753e-02 | Val. Loss : 7.405e-02 | LR : 7.709e-04 |\n"
      ]
     },
     "metadata": {},
     "output_type": "display_data"
    },
    {
     "data": {
      "text/html": [
       "<pre style=\"white-space:pre;overflow-x:auto;line-height:normal;font-family:Menlo,'DejaVu Sans Mono',consolas,'Courier New',monospace\">| Epoch :  131 | Trn. Loss : 5.778e-02 | Val. Loss : 7.305e-02 | LR : 7.693e-04 |\n",
       "</pre>\n"
      ],
      "text/plain": [
       "| Epoch :  131 | Trn. Loss : 5.778e-02 | Val. Loss : 7.305e-02 | LR : 7.693e-04 |\n"
      ]
     },
     "metadata": {},
     "output_type": "display_data"
    },
    {
     "data": {
      "text/html": [
       "<pre style=\"white-space:pre;overflow-x:auto;line-height:normal;font-family:Menlo,'DejaVu Sans Mono',consolas,'Courier New',monospace\">| Epoch :  132 | Trn. Loss : 5.766e-02 | Val. Loss : 7.315e-02 | LR : 7.678e-04 |\n",
       "</pre>\n"
      ],
      "text/plain": [
       "| Epoch :  132 | Trn. Loss : 5.766e-02 | Val. Loss : 7.315e-02 | LR : 7.678e-04 |\n"
      ]
     },
     "metadata": {},
     "output_type": "display_data"
    },
    {
     "data": {
      "text/html": [
       "<pre style=\"white-space:pre;overflow-x:auto;line-height:normal;font-family:Menlo,'DejaVu Sans Mono',consolas,'Courier New',monospace\">| Epoch :  133 | Trn. Loss : 6.740e-02 | Val. Loss : 7.878e-02 | LR : 7.662e-04 |\n",
       "</pre>\n"
      ],
      "text/plain": [
       "| Epoch :  133 | Trn. Loss : 6.740e-02 | Val. Loss : 7.878e-02 | LR : 7.662e-04 |\n"
      ]
     },
     "metadata": {},
     "output_type": "display_data"
    },
    {
     "data": {
      "text/html": [
       "<pre style=\"white-space:pre;overflow-x:auto;line-height:normal;font-family:Menlo,'DejaVu Sans Mono',consolas,'Courier New',monospace\">| Epoch :  134 | Trn. Loss : 6.193e-02 | Val. Loss : 8.276e-02 | LR : 7.647e-04 |\n",
       "</pre>\n"
      ],
      "text/plain": [
       "| Epoch :  134 | Trn. Loss : 6.193e-02 | Val. Loss : 8.276e-02 | LR : 7.647e-04 |\n"
      ]
     },
     "metadata": {},
     "output_type": "display_data"
    },
    {
     "data": {
      "text/html": [
       "<pre style=\"white-space:pre;overflow-x:auto;line-height:normal;font-family:Menlo,'DejaVu Sans Mono',consolas,'Courier New',monospace\">| Epoch :  135 | Trn. Loss : 6.240e-02 | Val. Loss : 8.288e-02 | LR : 7.632e-04 |\n",
       "</pre>\n"
      ],
      "text/plain": [
       "| Epoch :  135 | Trn. Loss : 6.240e-02 | Val. Loss : 8.288e-02 | LR : 7.632e-04 |\n"
      ]
     },
     "metadata": {},
     "output_type": "display_data"
    },
    {
     "data": {
      "text/html": [
       "<pre style=\"white-space:pre;overflow-x:auto;line-height:normal;font-family:Menlo,'DejaVu Sans Mono',consolas,'Courier New',monospace\">| Epoch :  136 | Trn. Loss : 5.259e-02 | Val. Loss : 7.368e-02 | LR : 7.616e-04 |\n",
       "</pre>\n"
      ],
      "text/plain": [
       "| Epoch :  136 | Trn. Loss : 5.259e-02 | Val. Loss : 7.368e-02 | LR : 7.616e-04 |\n"
      ]
     },
     "metadata": {},
     "output_type": "display_data"
    },
    {
     "data": {
      "text/html": [
       "<pre style=\"white-space:pre;overflow-x:auto;line-height:normal;font-family:Menlo,'DejaVu Sans Mono',consolas,'Courier New',monospace\">| Epoch :  137 | Trn. Loss : 6.736e-02 | Val. Loss : 7.820e-02 | LR : 7.601e-04 |\n",
       "</pre>\n"
      ],
      "text/plain": [
       "| Epoch :  137 | Trn. Loss : 6.736e-02 | Val. Loss : 7.820e-02 | LR : 7.601e-04 |\n"
      ]
     },
     "metadata": {},
     "output_type": "display_data"
    },
    {
     "data": {
      "text/html": [
       "<pre style=\"white-space:pre;overflow-x:auto;line-height:normal;font-family:Menlo,'DejaVu Sans Mono',consolas,'Courier New',monospace\">| Epoch :  138 | Trn. Loss : 6.004e-02 | Val. Loss : 7.888e-02 | LR : 7.586e-04 |\n",
       "</pre>\n"
      ],
      "text/plain": [
       "| Epoch :  138 | Trn. Loss : 6.004e-02 | Val. Loss : 7.888e-02 | LR : 7.586e-04 |\n"
      ]
     },
     "metadata": {},
     "output_type": "display_data"
    },
    {
     "data": {
      "text/html": [
       "<pre style=\"white-space:pre;overflow-x:auto;line-height:normal;font-family:Menlo,'DejaVu Sans Mono',consolas,'Courier New',monospace\">| Epoch :  139 | Trn. Loss : 5.710e-02 | Val. Loss : 6.895e-02 | LR : 7.571e-04 |\n",
       "</pre>\n"
      ],
      "text/plain": [
       "| Epoch :  139 | Trn. Loss : 5.710e-02 | Val. Loss : 6.895e-02 | LR : 7.571e-04 |\n"
      ]
     },
     "metadata": {},
     "output_type": "display_data"
    },
    {
     "data": {
      "text/html": [
       "<pre style=\"white-space:pre;overflow-x:auto;line-height:normal;font-family:Menlo,'DejaVu Sans Mono',consolas,'Courier New',monospace\">| Epoch :  140 | Trn. Loss : 5.973e-02 | Val. Loss : 7.276e-02 | LR : 7.556e-04 |\n",
       "</pre>\n"
      ],
      "text/plain": [
       "| Epoch :  140 | Trn. Loss : 5.973e-02 | Val. Loss : 7.276e-02 | LR : 7.556e-04 |\n"
      ]
     },
     "metadata": {},
     "output_type": "display_data"
    },
    {
     "data": {
      "text/html": [
       "<pre style=\"white-space:pre;overflow-x:auto;line-height:normal;font-family:Menlo,'DejaVu Sans Mono',consolas,'Courier New',monospace\">| Epoch :  141 | Trn. Loss : 6.086e-02 | Val. Loss : 6.867e-02 | LR : 7.541e-04 |\n",
       "</pre>\n"
      ],
      "text/plain": [
       "| Epoch :  141 | Trn. Loss : 6.086e-02 | Val. Loss : 6.867e-02 | LR : 7.541e-04 |\n"
      ]
     },
     "metadata": {},
     "output_type": "display_data"
    },
    {
     "data": {
      "text/html": [
       "<pre style=\"white-space:pre;overflow-x:auto;line-height:normal;font-family:Menlo,'DejaVu Sans Mono',consolas,'Courier New',monospace\">| Epoch :  142 | Trn. Loss : 6.061e-02 | Val. Loss : 7.653e-02 | LR : 7.526e-04 |\n",
       "</pre>\n"
      ],
      "text/plain": [
       "| Epoch :  142 | Trn. Loss : 6.061e-02 | Val. Loss : 7.653e-02 | LR : 7.526e-04 |\n"
      ]
     },
     "metadata": {},
     "output_type": "display_data"
    },
    {
     "data": {
      "text/html": [
       "<pre style=\"white-space:pre;overflow-x:auto;line-height:normal;font-family:Menlo,'DejaVu Sans Mono',consolas,'Courier New',monospace\">| Epoch :  143 | Trn. Loss : 6.376e-02 | Val. Loss : 9.409e-02 | LR : 7.510e-04 |\n",
       "</pre>\n"
      ],
      "text/plain": [
       "| Epoch :  143 | Trn. Loss : 6.376e-02 | Val. Loss : 9.409e-02 | LR : 7.510e-04 |\n"
      ]
     },
     "metadata": {},
     "output_type": "display_data"
    },
    {
     "data": {
      "text/html": [
       "<pre style=\"white-space:pre;overflow-x:auto;line-height:normal;font-family:Menlo,'DejaVu Sans Mono',consolas,'Courier New',monospace\">| Epoch :  144 | Trn. Loss : 6.870e-02 | Val. Loss : 8.961e-02 | LR : 7.495e-04 |\n",
       "</pre>\n"
      ],
      "text/plain": [
       "| Epoch :  144 | Trn. Loss : 6.870e-02 | Val. Loss : 8.961e-02 | LR : 7.495e-04 |\n"
      ]
     },
     "metadata": {},
     "output_type": "display_data"
    },
    {
     "data": {
      "text/html": [
       "<pre style=\"white-space:pre;overflow-x:auto;line-height:normal;font-family:Menlo,'DejaVu Sans Mono',consolas,'Courier New',monospace\">| Epoch :  145 | Trn. Loss : 5.796e-02 | Val. Loss : 7.565e-02 | LR : 7.480e-04 |\n",
       "</pre>\n"
      ],
      "text/plain": [
       "| Epoch :  145 | Trn. Loss : 5.796e-02 | Val. Loss : 7.565e-02 | LR : 7.480e-04 |\n"
      ]
     },
     "metadata": {},
     "output_type": "display_data"
    },
    {
     "data": {
      "text/html": [
       "<pre style=\"white-space:pre;overflow-x:auto;line-height:normal;font-family:Menlo,'DejaVu Sans Mono',consolas,'Courier New',monospace\">| Epoch :  146 | Trn. Loss : 5.452e-02 | Val. Loss : 8.914e-02 | LR : 7.466e-04 |\n",
       "</pre>\n"
      ],
      "text/plain": [
       "| Epoch :  146 | Trn. Loss : 5.452e-02 | Val. Loss : 8.914e-02 | LR : 7.466e-04 |\n"
      ]
     },
     "metadata": {},
     "output_type": "display_data"
    },
    {
     "data": {
      "text/html": [
       "<pre style=\"white-space:pre;overflow-x:auto;line-height:normal;font-family:Menlo,'DejaVu Sans Mono',consolas,'Courier New',monospace\">| Epoch :  147 | Trn. Loss : 5.697e-02 | Val. Loss : 6.780e-02 | LR : 7.451e-04 |\n",
       "</pre>\n"
      ],
      "text/plain": [
       "| Epoch :  147 | Trn. Loss : 5.697e-02 | Val. Loss : 6.780e-02 | LR : 7.451e-04 |\n"
      ]
     },
     "metadata": {},
     "output_type": "display_data"
    },
    {
     "data": {
      "text/html": [
       "<pre style=\"white-space:pre;overflow-x:auto;line-height:normal;font-family:Menlo,'DejaVu Sans Mono',consolas,'Courier New',monospace\">| Epoch :  148 | Trn. Loss : 5.715e-02 | Val. Loss : 6.767e-02 | LR : 7.436e-04 |\n",
       "</pre>\n"
      ],
      "text/plain": [
       "| Epoch :  148 | Trn. Loss : 5.715e-02 | Val. Loss : 6.767e-02 | LR : 7.436e-04 |\n"
      ]
     },
     "metadata": {},
     "output_type": "display_data"
    },
    {
     "data": {
      "text/html": [
       "<pre style=\"white-space:pre;overflow-x:auto;line-height:normal;font-family:Menlo,'DejaVu Sans Mono',consolas,'Courier New',monospace\">| Epoch :  149 | Trn. Loss : 6.255e-02 | Val. Loss : 8.251e-02 | LR : 7.421e-04 |\n",
       "</pre>\n"
      ],
      "text/plain": [
       "| Epoch :  149 | Trn. Loss : 6.255e-02 | Val. Loss : 8.251e-02 | LR : 7.421e-04 |\n"
      ]
     },
     "metadata": {},
     "output_type": "display_data"
    },
    {
     "data": {
      "text/html": [
       "<pre style=\"white-space:pre;overflow-x:auto;line-height:normal;font-family:Menlo,'DejaVu Sans Mono',consolas,'Courier New',monospace\">| Epoch :  150 | Trn. Loss : 6.086e-02 | Val. Loss : 8.024e-02 | LR : 7.406e-04 |\n",
       "</pre>\n"
      ],
      "text/plain": [
       "| Epoch :  150 | Trn. Loss : 6.086e-02 | Val. Loss : 8.024e-02 | LR : 7.406e-04 |\n"
      ]
     },
     "metadata": {},
     "output_type": "display_data"
    },
    {
     "data": {
      "text/html": [
       "<pre style=\"white-space:pre;overflow-x:auto;line-height:normal;font-family:Menlo,'DejaVu Sans Mono',consolas,'Courier New',monospace\">| Epoch :  151 | Trn. Loss : 5.602e-02 | Val. Loss : 7.948e-02 | LR : 7.391e-04 |\n",
       "</pre>\n"
      ],
      "text/plain": [
       "| Epoch :  151 | Trn. Loss : 5.602e-02 | Val. Loss : 7.948e-02 | LR : 7.391e-04 |\n"
      ]
     },
     "metadata": {},
     "output_type": "display_data"
    },
    {
     "data": {
      "text/html": [
       "<pre style=\"white-space:pre;overflow-x:auto;line-height:normal;font-family:Menlo,'DejaVu Sans Mono',consolas,'Courier New',monospace\">| Epoch :  152 | Trn. Loss : 5.692e-02 | Val. Loss : 8.442e-02 | LR : 7.376e-04 |\n",
       "</pre>\n"
      ],
      "text/plain": [
       "| Epoch :  152 | Trn. Loss : 5.692e-02 | Val. Loss : 8.442e-02 | LR : 7.376e-04 |\n"
      ]
     },
     "metadata": {},
     "output_type": "display_data"
    },
    {
     "data": {
      "text/html": [
       "<pre style=\"white-space:pre;overflow-x:auto;line-height:normal;font-family:Menlo,'DejaVu Sans Mono',consolas,'Courier New',monospace\">| Epoch :  153 | Trn. Loss : 6.299e-02 | Val. Loss : 6.902e-02 | LR : 7.362e-04 |\n",
       "</pre>\n"
      ],
      "text/plain": [
       "| Epoch :  153 | Trn. Loss : 6.299e-02 | Val. Loss : 6.902e-02 | LR : 7.362e-04 |\n"
      ]
     },
     "metadata": {},
     "output_type": "display_data"
    },
    {
     "data": {
      "text/html": [
       "<pre style=\"white-space:pre;overflow-x:auto;line-height:normal;font-family:Menlo,'DejaVu Sans Mono',consolas,'Courier New',monospace\">| Epoch :  154 | Trn. Loss : 5.724e-02 | Val. Loss : 7.215e-02 | LR : 7.347e-04 |\n",
       "</pre>\n"
      ],
      "text/plain": [
       "| Epoch :  154 | Trn. Loss : 5.724e-02 | Val. Loss : 7.215e-02 | LR : 7.347e-04 |\n"
      ]
     },
     "metadata": {},
     "output_type": "display_data"
    },
    {
     "data": {
      "text/html": [
       "<pre style=\"white-space:pre;overflow-x:auto;line-height:normal;font-family:Menlo,'DejaVu Sans Mono',consolas,'Courier New',monospace\">| Epoch :  155 | Trn. Loss : 6.052e-02 | Val. Loss : 7.786e-02 | LR : 7.332e-04 |\n",
       "</pre>\n"
      ],
      "text/plain": [
       "| Epoch :  155 | Trn. Loss : 6.052e-02 | Val. Loss : 7.786e-02 | LR : 7.332e-04 |\n"
      ]
     },
     "metadata": {},
     "output_type": "display_data"
    },
    {
     "data": {
      "text/html": [
       "<pre style=\"white-space:pre;overflow-x:auto;line-height:normal;font-family:Menlo,'DejaVu Sans Mono',consolas,'Courier New',monospace\">| Epoch :  156 | Trn. Loss : 5.286e-02 | Val. Loss : 9.190e-02 | LR : 7.318e-04 |\n",
       "</pre>\n"
      ],
      "text/plain": [
       "| Epoch :  156 | Trn. Loss : 5.286e-02 | Val. Loss : 9.190e-02 | LR : 7.318e-04 |\n"
      ]
     },
     "metadata": {},
     "output_type": "display_data"
    },
    {
     "data": {
      "text/html": [
       "<pre style=\"white-space:pre;overflow-x:auto;line-height:normal;font-family:Menlo,'DejaVu Sans Mono',consolas,'Courier New',monospace\">| Epoch :  157 | Trn. Loss : 6.071e-02 | Val. Loss : 7.079e-02 | LR : 7.303e-04 |\n",
       "</pre>\n"
      ],
      "text/plain": [
       "| Epoch :  157 | Trn. Loss : 6.071e-02 | Val. Loss : 7.079e-02 | LR : 7.303e-04 |\n"
      ]
     },
     "metadata": {},
     "output_type": "display_data"
    },
    {
     "data": {
      "text/html": [
       "<pre style=\"white-space:pre;overflow-x:auto;line-height:normal;font-family:Menlo,'DejaVu Sans Mono',consolas,'Courier New',monospace\">| Epoch :  158 | Trn. Loss : 6.041e-02 | Val. Loss : 8.144e-02 | LR : 7.288e-04 |\n",
       "</pre>\n"
      ],
      "text/plain": [
       "| Epoch :  158 | Trn. Loss : 6.041e-02 | Val. Loss : 8.144e-02 | LR : 7.288e-04 |\n"
      ]
     },
     "metadata": {},
     "output_type": "display_data"
    },
    {
     "data": {
      "text/html": [
       "<pre style=\"white-space:pre;overflow-x:auto;line-height:normal;font-family:Menlo,'DejaVu Sans Mono',consolas,'Courier New',monospace\">| Epoch :  159 | Trn. Loss : 5.129e-02 | Val. Loss : 7.320e-02 | LR : 7.274e-04 |\n",
       "</pre>\n"
      ],
      "text/plain": [
       "| Epoch :  159 | Trn. Loss : 5.129e-02 | Val. Loss : 7.320e-02 | LR : 7.274e-04 |\n"
      ]
     },
     "metadata": {},
     "output_type": "display_data"
    },
    {
     "data": {
      "text/html": [
       "<pre style=\"white-space:pre;overflow-x:auto;line-height:normal;font-family:Menlo,'DejaVu Sans Mono',consolas,'Courier New',monospace\">| Epoch :  160 | Trn. Loss : 6.230e-02 | Val. Loss : 9.943e-02 | LR : 7.259e-04 |\n",
       "</pre>\n"
      ],
      "text/plain": [
       "| Epoch :  160 | Trn. Loss : 6.230e-02 | Val. Loss : 9.943e-02 | LR : 7.259e-04 |\n"
      ]
     },
     "metadata": {},
     "output_type": "display_data"
    },
    {
     "data": {
      "text/html": [
       "<pre style=\"white-space:pre;overflow-x:auto;line-height:normal;font-family:Menlo,'DejaVu Sans Mono',consolas,'Courier New',monospace\">| Epoch :  161 | Trn. Loss : 6.685e-02 | Val. Loss : 7.379e-02 | LR : 7.245e-04 |\n",
       "</pre>\n"
      ],
      "text/plain": [
       "| Epoch :  161 | Trn. Loss : 6.685e-02 | Val. Loss : 7.379e-02 | LR : 7.245e-04 |\n"
      ]
     },
     "metadata": {},
     "output_type": "display_data"
    },
    {
     "data": {
      "text/html": [
       "<pre style=\"white-space:pre;overflow-x:auto;line-height:normal;font-family:Menlo,'DejaVu Sans Mono',consolas,'Courier New',monospace\">| Epoch :  162 | Trn. Loss : 5.456e-02 | Val. Loss : 7.740e-02 | LR : 7.230e-04 |\n",
       "</pre>\n"
      ],
      "text/plain": [
       "| Epoch :  162 | Trn. Loss : 5.456e-02 | Val. Loss : 7.740e-02 | LR : 7.230e-04 |\n"
      ]
     },
     "metadata": {},
     "output_type": "display_data"
    },
    {
     "data": {
      "text/html": [
       "<pre style=\"white-space:pre;overflow-x:auto;line-height:normal;font-family:Menlo,'DejaVu Sans Mono',consolas,'Courier New',monospace\">| Epoch :  163 | Trn. Loss : 5.476e-02 | Val. Loss : 7.060e-02 | LR : 7.216e-04 |\n",
       "</pre>\n"
      ],
      "text/plain": [
       "| Epoch :  163 | Trn. Loss : 5.476e-02 | Val. Loss : 7.060e-02 | LR : 7.216e-04 |\n"
      ]
     },
     "metadata": {},
     "output_type": "display_data"
    },
    {
     "data": {
      "text/html": [
       "<pre style=\"white-space:pre;overflow-x:auto;line-height:normal;font-family:Menlo,'DejaVu Sans Mono',consolas,'Courier New',monospace\">| Epoch :  164 | Trn. Loss : 6.450e-02 | Val. Loss : 8.122e-02 | LR : 7.201e-04 |\n",
       "</pre>\n"
      ],
      "text/plain": [
       "| Epoch :  164 | Trn. Loss : 6.450e-02 | Val. Loss : 8.122e-02 | LR : 7.201e-04 |\n"
      ]
     },
     "metadata": {},
     "output_type": "display_data"
    },
    {
     "data": {
      "text/html": [
       "<pre style=\"white-space:pre;overflow-x:auto;line-height:normal;font-family:Menlo,'DejaVu Sans Mono',consolas,'Courier New',monospace\">| Epoch :  165 | Trn. Loss : 5.345e-02 | Val. Loss : 6.998e-02 | LR : 7.187e-04 |\n",
       "</pre>\n"
      ],
      "text/plain": [
       "| Epoch :  165 | Trn. Loss : 5.345e-02 | Val. Loss : 6.998e-02 | LR : 7.187e-04 |\n"
      ]
     },
     "metadata": {},
     "output_type": "display_data"
    },
    {
     "data": {
      "text/html": [
       "<pre style=\"white-space:pre;overflow-x:auto;line-height:normal;font-family:Menlo,'DejaVu Sans Mono',consolas,'Courier New',monospace\">| Epoch :  166 | Trn. Loss : 5.323e-02 | Val. Loss : 7.287e-02 | LR : 7.172e-04 |\n",
       "</pre>\n"
      ],
      "text/plain": [
       "| Epoch :  166 | Trn. Loss : 5.323e-02 | Val. Loss : 7.287e-02 | LR : 7.172e-04 |\n"
      ]
     },
     "metadata": {},
     "output_type": "display_data"
    },
    {
     "data": {
      "text/html": [
       "<pre style=\"white-space:pre;overflow-x:auto;line-height:normal;font-family:Menlo,'DejaVu Sans Mono',consolas,'Courier New',monospace\">| Epoch :  167 | Trn. Loss : 5.331e-02 | Val. Loss : 7.534e-02 | LR : 7.158e-04 |\n",
       "</pre>\n"
      ],
      "text/plain": [
       "| Epoch :  167 | Trn. Loss : 5.331e-02 | Val. Loss : 7.534e-02 | LR : 7.158e-04 |\n"
      ]
     },
     "metadata": {},
     "output_type": "display_data"
    },
    {
     "data": {
      "text/html": [
       "<pre style=\"white-space:pre;overflow-x:auto;line-height:normal;font-family:Menlo,'DejaVu Sans Mono',consolas,'Courier New',monospace\">| Epoch :  168 | Trn. Loss : 5.223e-02 | Val. Loss : 8.694e-02 | LR : 7.144e-04 |\n",
       "</pre>\n"
      ],
      "text/plain": [
       "| Epoch :  168 | Trn. Loss : 5.223e-02 | Val. Loss : 8.694e-02 | LR : 7.144e-04 |\n"
      ]
     },
     "metadata": {},
     "output_type": "display_data"
    },
    {
     "data": {
      "text/html": [
       "<pre style=\"white-space:pre;overflow-x:auto;line-height:normal;font-family:Menlo,'DejaVu Sans Mono',consolas,'Courier New',monospace\">| Epoch :  169 | Trn. Loss : 5.207e-02 | Val. Loss : 7.341e-02 | LR : 7.130e-04 |\n",
       "</pre>\n"
      ],
      "text/plain": [
       "| Epoch :  169 | Trn. Loss : 5.207e-02 | Val. Loss : 7.341e-02 | LR : 7.130e-04 |\n"
      ]
     },
     "metadata": {},
     "output_type": "display_data"
    },
    {
     "data": {
      "text/html": [
       "<pre style=\"white-space:pre;overflow-x:auto;line-height:normal;font-family:Menlo,'DejaVu Sans Mono',consolas,'Courier New',monospace\">| Epoch :  170 | Trn. Loss : 5.466e-02 | Val. Loss : 6.914e-02 | LR : 7.115e-04 |\n",
       "</pre>\n"
      ],
      "text/plain": [
       "| Epoch :  170 | Trn. Loss : 5.466e-02 | Val. Loss : 6.914e-02 | LR : 7.115e-04 |\n"
      ]
     },
     "metadata": {},
     "output_type": "display_data"
    },
    {
     "data": {
      "text/html": [
       "<pre style=\"white-space:pre;overflow-x:auto;line-height:normal;font-family:Menlo,'DejaVu Sans Mono',consolas,'Courier New',monospace\">| Epoch :  171 | Trn. Loss : 5.058e-02 | Val. Loss : 6.905e-02 | LR : 7.101e-04 |\n",
       "</pre>\n"
      ],
      "text/plain": [
       "| Epoch :  171 | Trn. Loss : 5.058e-02 | Val. Loss : 6.905e-02 | LR : 7.101e-04 |\n"
      ]
     },
     "metadata": {},
     "output_type": "display_data"
    },
    {
     "data": {
      "text/html": [
       "<pre style=\"white-space:pre;overflow-x:auto;line-height:normal;font-family:Menlo,'DejaVu Sans Mono',consolas,'Courier New',monospace\">| Epoch :  172 | Trn. Loss : 5.414e-02 | Val. Loss : 6.444e-02 | LR : 7.087e-04 |\n",
       "</pre>\n"
      ],
      "text/plain": [
       "| Epoch :  172 | Trn. Loss : 5.414e-02 | Val. Loss : 6.444e-02 | LR : 7.087e-04 |\n"
      ]
     },
     "metadata": {},
     "output_type": "display_data"
    },
    {
     "data": {
      "text/html": [
       "<pre style=\"white-space:pre;overflow-x:auto;line-height:normal;font-family:Menlo,'DejaVu Sans Mono',consolas,'Courier New',monospace\">| Epoch :  173 | Trn. Loss : 5.581e-02 | Val. Loss : 7.321e-02 | LR : 7.073e-04 |\n",
       "</pre>\n"
      ],
      "text/plain": [
       "| Epoch :  173 | Trn. Loss : 5.581e-02 | Val. Loss : 7.321e-02 | LR : 7.073e-04 |\n"
      ]
     },
     "metadata": {},
     "output_type": "display_data"
    },
    {
     "data": {
      "text/html": [
       "<pre style=\"white-space:pre;overflow-x:auto;line-height:normal;font-family:Menlo,'DejaVu Sans Mono',consolas,'Courier New',monospace\">| Epoch :  174 | Trn. Loss : 4.769e-02 | Val. Loss : 8.158e-02 | LR : 7.059e-04 |\n",
       "</pre>\n"
      ],
      "text/plain": [
       "| Epoch :  174 | Trn. Loss : 4.769e-02 | Val. Loss : 8.158e-02 | LR : 7.059e-04 |\n"
      ]
     },
     "metadata": {},
     "output_type": "display_data"
    },
    {
     "data": {
      "text/html": [
       "<pre style=\"white-space:pre;overflow-x:auto;line-height:normal;font-family:Menlo,'DejaVu Sans Mono',consolas,'Courier New',monospace\">| Epoch :  175 | Trn. Loss : 5.470e-02 | Val. Loss : 7.128e-02 | LR : 7.044e-04 |\n",
       "</pre>\n"
      ],
      "text/plain": [
       "| Epoch :  175 | Trn. Loss : 5.470e-02 | Val. Loss : 7.128e-02 | LR : 7.044e-04 |\n"
      ]
     },
     "metadata": {},
     "output_type": "display_data"
    },
    {
     "data": {
      "text/html": [
       "<pre style=\"white-space:pre;overflow-x:auto;line-height:normal;font-family:Menlo,'DejaVu Sans Mono',consolas,'Courier New',monospace\">| Epoch :  176 | Trn. Loss : 4.663e-02 | Val. Loss : 7.109e-02 | LR : 7.030e-04 |\n",
       "</pre>\n"
      ],
      "text/plain": [
       "| Epoch :  176 | Trn. Loss : 4.663e-02 | Val. Loss : 7.109e-02 | LR : 7.030e-04 |\n"
      ]
     },
     "metadata": {},
     "output_type": "display_data"
    },
    {
     "data": {
      "text/html": [
       "<pre style=\"white-space:pre;overflow-x:auto;line-height:normal;font-family:Menlo,'DejaVu Sans Mono',consolas,'Courier New',monospace\">| Epoch :  177 | Trn. Loss : 5.685e-02 | Val. Loss : 9.009e-02 | LR : 7.016e-04 |\n",
       "</pre>\n"
      ],
      "text/plain": [
       "| Epoch :  177 | Trn. Loss : 5.685e-02 | Val. Loss : 9.009e-02 | LR : 7.016e-04 |\n"
      ]
     },
     "metadata": {},
     "output_type": "display_data"
    },
    {
     "data": {
      "text/html": [
       "<pre style=\"white-space:pre;overflow-x:auto;line-height:normal;font-family:Menlo,'DejaVu Sans Mono',consolas,'Courier New',monospace\">| Epoch :  178 | Trn. Loss : 6.518e-02 | Val. Loss : 9.476e-02 | LR : 7.002e-04 |\n",
       "</pre>\n"
      ],
      "text/plain": [
       "| Epoch :  178 | Trn. Loss : 6.518e-02 | Val. Loss : 9.476e-02 | LR : 7.002e-04 |\n"
      ]
     },
     "metadata": {},
     "output_type": "display_data"
    },
    {
     "data": {
      "text/html": [
       "<pre style=\"white-space:pre;overflow-x:auto;line-height:normal;font-family:Menlo,'DejaVu Sans Mono',consolas,'Courier New',monospace\">| Epoch :  179 | Trn. Loss : 7.183e-02 | Val. Loss : 7.873e-02 | LR : 6.988e-04 |\n",
       "</pre>\n"
      ],
      "text/plain": [
       "| Epoch :  179 | Trn. Loss : 7.183e-02 | Val. Loss : 7.873e-02 | LR : 6.988e-04 |\n"
      ]
     },
     "metadata": {},
     "output_type": "display_data"
    },
    {
     "data": {
      "text/html": [
       "<pre style=\"white-space:pre;overflow-x:auto;line-height:normal;font-family:Menlo,'DejaVu Sans Mono',consolas,'Courier New',monospace\">| Epoch :  180 | Trn. Loss : 6.604e-02 | Val. Loss : 8.533e-02 | LR : 6.974e-04 |\n",
       "</pre>\n"
      ],
      "text/plain": [
       "| Epoch :  180 | Trn. Loss : 6.604e-02 | Val. Loss : 8.533e-02 | LR : 6.974e-04 |\n"
      ]
     },
     "metadata": {},
     "output_type": "display_data"
    },
    {
     "data": {
      "text/html": [
       "<pre style=\"white-space:pre;overflow-x:auto;line-height:normal;font-family:Menlo,'DejaVu Sans Mono',consolas,'Courier New',monospace\">| Epoch :  181 | Trn. Loss : 6.085e-02 | Val. Loss : 7.208e-02 | LR : 6.960e-04 |\n",
       "</pre>\n"
      ],
      "text/plain": [
       "| Epoch :  181 | Trn. Loss : 6.085e-02 | Val. Loss : 7.208e-02 | LR : 6.960e-04 |\n"
      ]
     },
     "metadata": {},
     "output_type": "display_data"
    },
    {
     "data": {
      "text/html": [
       "<pre style=\"white-space:pre;overflow-x:auto;line-height:normal;font-family:Menlo,'DejaVu Sans Mono',consolas,'Courier New',monospace\">| Epoch :  182 | Trn. Loss : 5.823e-02 | Val. Loss : 7.335e-02 | LR : 6.946e-04 |\n",
       "</pre>\n"
      ],
      "text/plain": [
       "| Epoch :  182 | Trn. Loss : 5.823e-02 | Val. Loss : 7.335e-02 | LR : 6.946e-04 |\n"
      ]
     },
     "metadata": {},
     "output_type": "display_data"
    },
    {
     "data": {
      "text/html": [
       "<pre style=\"white-space:pre;overflow-x:auto;line-height:normal;font-family:Menlo,'DejaVu Sans Mono',consolas,'Courier New',monospace\">| Epoch :  183 | Trn. Loss : 7.141e-02 | Val. Loss : 7.498e-02 | LR : 6.932e-04 |\n",
       "</pre>\n"
      ],
      "text/plain": [
       "| Epoch :  183 | Trn. Loss : 7.141e-02 | Val. Loss : 7.498e-02 | LR : 6.932e-04 |\n"
      ]
     },
     "metadata": {},
     "output_type": "display_data"
    },
    {
     "data": {
      "text/html": [
       "<pre style=\"white-space:pre;overflow-x:auto;line-height:normal;font-family:Menlo,'DejaVu Sans Mono',consolas,'Courier New',monospace\">| Epoch :  184 | Trn. Loss : 6.028e-02 | Val. Loss : 6.671e-02 | LR : 6.919e-04 |\n",
       "</pre>\n"
      ],
      "text/plain": [
       "| Epoch :  184 | Trn. Loss : 6.028e-02 | Val. Loss : 6.671e-02 | LR : 6.919e-04 |\n"
      ]
     },
     "metadata": {},
     "output_type": "display_data"
    },
    {
     "data": {
      "text/html": [
       "<pre style=\"white-space:pre;overflow-x:auto;line-height:normal;font-family:Menlo,'DejaVu Sans Mono',consolas,'Courier New',monospace\">| Epoch :  185 | Trn. Loss : 5.507e-02 | Val. Loss : 7.916e-02 | LR : 6.905e-04 |\n",
       "</pre>\n"
      ],
      "text/plain": [
       "| Epoch :  185 | Trn. Loss : 5.507e-02 | Val. Loss : 7.916e-02 | LR : 6.905e-04 |\n"
      ]
     },
     "metadata": {},
     "output_type": "display_data"
    },
    {
     "data": {
      "text/html": [
       "<pre style=\"white-space:pre;overflow-x:auto;line-height:normal;font-family:Menlo,'DejaVu Sans Mono',consolas,'Courier New',monospace\">| Epoch :  186 | Trn. Loss : 5.620e-02 | Val. Loss : 6.931e-02 | LR : 6.891e-04 |\n",
       "</pre>\n"
      ],
      "text/plain": [
       "| Epoch :  186 | Trn. Loss : 5.620e-02 | Val. Loss : 6.931e-02 | LR : 6.891e-04 |\n"
      ]
     },
     "metadata": {},
     "output_type": "display_data"
    },
    {
     "data": {
      "text/html": [
       "<pre style=\"white-space:pre;overflow-x:auto;line-height:normal;font-family:Menlo,'DejaVu Sans Mono',consolas,'Courier New',monospace\">| Epoch :  187 | Trn. Loss : 4.803e-02 | Val. Loss : 6.393e-02 | LR : 6.877e-04 |\n",
       "</pre>\n"
      ],
      "text/plain": [
       "| Epoch :  187 | Trn. Loss : 4.803e-02 | Val. Loss : 6.393e-02 | LR : 6.877e-04 |\n"
      ]
     },
     "metadata": {},
     "output_type": "display_data"
    },
    {
     "data": {
      "text/html": [
       "<pre style=\"white-space:pre;overflow-x:auto;line-height:normal;font-family:Menlo,'DejaVu Sans Mono',consolas,'Courier New',monospace\">| Epoch :  188 | Trn. Loss : 5.516e-02 | Val. Loss : 7.604e-02 | LR : 6.863e-04 |\n",
       "</pre>\n"
      ],
      "text/plain": [
       "| Epoch :  188 | Trn. Loss : 5.516e-02 | Val. Loss : 7.604e-02 | LR : 6.863e-04 |\n"
      ]
     },
     "metadata": {},
     "output_type": "display_data"
    },
    {
     "data": {
      "text/html": [
       "<pre style=\"white-space:pre;overflow-x:auto;line-height:normal;font-family:Menlo,'DejaVu Sans Mono',consolas,'Courier New',monospace\">| Epoch :  189 | Trn. Loss : 4.921e-02 | Val. Loss : 8.237e-02 | LR : 6.850e-04 |\n",
       "</pre>\n"
      ],
      "text/plain": [
       "| Epoch :  189 | Trn. Loss : 4.921e-02 | Val. Loss : 8.237e-02 | LR : 6.850e-04 |\n"
      ]
     },
     "metadata": {},
     "output_type": "display_data"
    },
    {
     "data": {
      "text/html": [
       "<pre style=\"white-space:pre;overflow-x:auto;line-height:normal;font-family:Menlo,'DejaVu Sans Mono',consolas,'Courier New',monospace\">| Epoch :  190 | Trn. Loss : 4.349e-02 | Val. Loss : 8.394e-02 | LR : 6.836e-04 |\n",
       "</pre>\n"
      ],
      "text/plain": [
       "| Epoch :  190 | Trn. Loss : 4.349e-02 | Val. Loss : 8.394e-02 | LR : 6.836e-04 |\n"
      ]
     },
     "metadata": {},
     "output_type": "display_data"
    },
    {
     "data": {
      "text/html": [
       "<pre style=\"white-space:pre;overflow-x:auto;line-height:normal;font-family:Menlo,'DejaVu Sans Mono',consolas,'Courier New',monospace\">| Epoch :  191 | Trn. Loss : 5.450e-02 | Val. Loss : 7.124e-02 | LR : 6.822e-04 |\n",
       "</pre>\n"
      ],
      "text/plain": [
       "| Epoch :  191 | Trn. Loss : 5.450e-02 | Val. Loss : 7.124e-02 | LR : 6.822e-04 |\n"
      ]
     },
     "metadata": {},
     "output_type": "display_data"
    },
    {
     "data": {
      "text/html": [
       "<pre style=\"white-space:pre;overflow-x:auto;line-height:normal;font-family:Menlo,'DejaVu Sans Mono',consolas,'Courier New',monospace\">| Epoch :  192 | Trn. Loss : 4.276e-02 | Val. Loss : 8.753e-02 | LR : 6.809e-04 |\n",
       "</pre>\n"
      ],
      "text/plain": [
       "| Epoch :  192 | Trn. Loss : 4.276e-02 | Val. Loss : 8.753e-02 | LR : 6.809e-04 |\n"
      ]
     },
     "metadata": {},
     "output_type": "display_data"
    },
    {
     "data": {
      "text/html": [
       "<pre style=\"white-space:pre;overflow-x:auto;line-height:normal;font-family:Menlo,'DejaVu Sans Mono',consolas,'Courier New',monospace\">| Epoch :  193 | Trn. Loss : 5.368e-02 | Val. Loss : 6.997e-02 | LR : 6.795e-04 |\n",
       "</pre>\n"
      ],
      "text/plain": [
       "| Epoch :  193 | Trn. Loss : 5.368e-02 | Val. Loss : 6.997e-02 | LR : 6.795e-04 |\n"
      ]
     },
     "metadata": {},
     "output_type": "display_data"
    },
    {
     "data": {
      "text/html": [
       "<pre style=\"white-space:pre;overflow-x:auto;line-height:normal;font-family:Menlo,'DejaVu Sans Mono',consolas,'Courier New',monospace\">| Epoch :  194 | Trn. Loss : 5.291e-02 | Val. Loss : 7.423e-02 | LR : 6.781e-04 |\n",
       "</pre>\n"
      ],
      "text/plain": [
       "| Epoch :  194 | Trn. Loss : 5.291e-02 | Val. Loss : 7.423e-02 | LR : 6.781e-04 |\n"
      ]
     },
     "metadata": {},
     "output_type": "display_data"
    },
    {
     "data": {
      "text/html": [
       "<pre style=\"white-space:pre;overflow-x:auto;line-height:normal;font-family:Menlo,'DejaVu Sans Mono',consolas,'Courier New',monospace\">| Epoch :  195 | Trn. Loss : 4.886e-02 | Val. Loss : 6.829e-02 | LR : 6.768e-04 |\n",
       "</pre>\n"
      ],
      "text/plain": [
       "| Epoch :  195 | Trn. Loss : 4.886e-02 | Val. Loss : 6.829e-02 | LR : 6.768e-04 |\n"
      ]
     },
     "metadata": {},
     "output_type": "display_data"
    },
    {
     "data": {
      "text/html": [
       "<pre style=\"white-space:pre;overflow-x:auto;line-height:normal;font-family:Menlo,'DejaVu Sans Mono',consolas,'Courier New',monospace\">| Epoch :  196 | Trn. Loss : 5.801e-02 | Val. Loss : 9.106e-02 | LR : 6.754e-04 |\n",
       "</pre>\n"
      ],
      "text/plain": [
       "| Epoch :  196 | Trn. Loss : 5.801e-02 | Val. Loss : 9.106e-02 | LR : 6.754e-04 |\n"
      ]
     },
     "metadata": {},
     "output_type": "display_data"
    },
    {
     "data": {
      "text/html": [
       "<pre style=\"white-space:pre;overflow-x:auto;line-height:normal;font-family:Menlo,'DejaVu Sans Mono',consolas,'Courier New',monospace\">| Epoch :  197 | Trn. Loss : 5.134e-02 | Val. Loss : 7.468e-02 | LR : 6.741e-04 |\n",
       "</pre>\n"
      ],
      "text/plain": [
       "| Epoch :  197 | Trn. Loss : 5.134e-02 | Val. Loss : 7.468e-02 | LR : 6.741e-04 |\n"
      ]
     },
     "metadata": {},
     "output_type": "display_data"
    },
    {
     "data": {
      "text/html": [
       "<pre style=\"white-space:pre;overflow-x:auto;line-height:normal;font-family:Menlo,'DejaVu Sans Mono',consolas,'Courier New',monospace\">| Epoch :  198 | Trn. Loss : 4.815e-02 | Val. Loss : 7.441e-02 | LR : 6.727e-04 |\n",
       "</pre>\n"
      ],
      "text/plain": [
       "| Epoch :  198 | Trn. Loss : 4.815e-02 | Val. Loss : 7.441e-02 | LR : 6.727e-04 |\n"
      ]
     },
     "metadata": {},
     "output_type": "display_data"
    },
    {
     "data": {
      "text/html": [
       "<pre style=\"white-space:pre;overflow-x:auto;line-height:normal;font-family:Menlo,'DejaVu Sans Mono',consolas,'Courier New',monospace\">| Epoch :  199 | Trn. Loss : 4.278e-02 | Val. Loss : 8.656e-02 | LR : 6.714e-04 |\n",
       "</pre>\n"
      ],
      "text/plain": [
       "| Epoch :  199 | Trn. Loss : 4.278e-02 | Val. Loss : 8.656e-02 | LR : 6.714e-04 |\n"
      ]
     },
     "metadata": {},
     "output_type": "display_data"
    },
    {
     "data": {
      "text/html": [
       "<pre style=\"white-space:pre;overflow-x:auto;line-height:normal;font-family:Menlo,'DejaVu Sans Mono',consolas,'Courier New',monospace\"></pre>\n"
      ],
      "text/plain": []
     },
     "metadata": {},
     "output_type": "display_data"
    },
    {
     "data": {
      "text/html": [
       "<pre style=\"white-space:pre;overflow-x:auto;line-height:normal;font-family:Menlo,'DejaVu Sans Mono',consolas,'Courier New',monospace\">\n",
       "</pre>\n"
      ],
      "text/plain": [
       "\n"
      ]
     },
     "metadata": {},
     "output_type": "display_data"
    }
   ],
   "source": [
    "from src.train import Training\n",
    "\n",
    "train = Training(parameters, dataset = dataset, root = DATAPATH + \"/Model\")\n",
    "train.run()"
   ]
  },
  {
   "cell_type": "markdown",
   "id": "48bdf321-77d0-41d1-9dab-aeb1cb328023",
   "metadata": {},
   "source": [
    "# Loss Curve"
   ]
  },
  {
   "cell_type": "code",
   "execution_count": 4,
   "id": "f7a4ac29-94ef-4472-9d01-3dd32fb8ee6d",
   "metadata": {},
   "outputs": [
    {
     "data": {
      "image/png": "[encoded data removed]",
      "text/plain": [
       "<Figure size 1600x1200 with 2 Axes>"
      ]
     },
     "metadata": {},
     "output_type": "display_data"
    }
   ],
   "source": [
    "train.lossCurve()"
   ]
  },
  {
   "cell_type": "markdown",
   "id": "d8c41867-6a3e-4541-b521-432863ff556d",
   "metadata": {},
   "source": [
    "# Test"
   ]
  },
  {
   "cell_type": "code",
   "execution_count": 5,
   "id": "55c3179e-583e-4763-bef5-f4238c28fea7",
   "metadata": {},
   "outputs": [
    {
     "data": {
      "image/png": "[encoded data removed]",
      "text/plain": [
       "<Figure size 1200x1200 with 1 Axes>"
      ]
     },
     "metadata": {},
     "output_type": "display_data"
    }
   ],
   "source": [
    "train.TPPlot()"
   ]
  }
 ],
 "metadata": {
  "kernelspec": {
   "display_name": "Python 3 (ipykernel)",
   "language": "python",
   "name": "python3"
  },
  "language_info": {
   "codemirror_mode": {
    "name": "ipython",
    "version": 3
   },
   "file_extension": ".py",
   "mimetype": "text/x-python",
   "name": "python",
   "nbconvert_exporter": "python",
   "pygments_lexer": "ipython3",
   "version": "3.11.9"
  }
 },
 "nbformat": 4,
 "nbformat_minor": 5
}
