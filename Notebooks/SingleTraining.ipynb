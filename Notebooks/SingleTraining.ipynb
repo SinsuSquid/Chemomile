{
 "cells": [
  {
   "cell_type": "markdown",
   "id": "519333da-717a-4c89-90a0-6a9afc3b8d0e",
   "metadata": {},
   "source": [
    "# Single Training"
   ]
  },
  {
   "cell_type": "markdown",
   "id": "804ad37b-fdf1-4a77-96f5-dde2b312acaf",
   "metadata": {},
   "source": [
    "## Optimized Hyperparameters"
   ]
  },
  {
   "cell_type": "markdown",
   "id": "8a0c7c8e-3d52-43fd-b503-371a8d45ef15",
   "metadata": {},
   "source": [
    "| hyperparameter|ESOL|FP|AIT|FLVL|FLVU|HCOM|\n",
    "|--------------:|---:|-:|--:|---:|---:|---:|\n",
    "| hidden_size | 91 | 84 | 65 | 63 | 68 | 64 |\n",
    "| dropout | 0.282 | 0.360 | 0.266 | 0.362 | 0.335 | 0.435 |\n",
    "| num_layers | 2 | 4 | 4 | 3 | 2 | 4 |\n",
    "| num_timesteps | 4 | 4 | 4 | 3 | 3 | 4 |\n",
    "| lr_init | 0.01 | 0.01 | 0.01 | 0.01 | 0.001 | 0.01 |\n",
    "| gamma | 0.980 | 0.994 | 0.995 | 0.982 | 0.995 | 0.995 |\n",
    "| weight_decay | 6.0 $\\times$ 10$^{-5}$ | 3.5 $\\times$ 10$^{-3}$ | 1.8 $\\times$ 10$^{-3}$ | 1.3 $\\times$ 10$^{-2}$ | 1.2 $\\times$ 10$^{-3}$ | 2.7 $\\times$ 10$^{-3}$ |"
   ]
  },
  {
   "cell_type": "markdown",
   "id": "57d7f52e-4c1d-401d-b0c5-99aee4e6a223",
   "metadata": {},
   "source": [
    "## Hyperparameter Setting"
   ]
  },
  {
   "cell_type": "code",
   "execution_count": 1,
   "id": "94dc75fc-7dec-4740-97c4-c713529ba985",
   "metadata": {},
   "outputs": [],
   "source": [
    "parameters = dict(\n",
    "    subfrag_size = 12,\n",
    "    edge_size = 3,\n",
    "    out_size = 1,\n",
    "    seed = 42,\n",
    "    batch_size = 256,\n",
    "    max_epoch = 200,\n",
    "    verbose = True,\n",
    "    save = False,\n",
    "    \n",
    "    target = 'FP',\n",
    "    hidden_size = 84,\n",
    "    dropout = 0.360,\n",
    "    num_layers = 4,\n",
    "    num_timesteps = 4,\n",
    "    lr_init = 0.01,\n",
    "    gamma = 0.994,\n",
    "    weight_decay = 3.5E-3,\n",
    ")\n",
    "DATAPATH = \"/SSD2/bgkang/Chemomile\""
   ]
  },
  {
   "cell_type": "markdown",
   "id": "a236fd93-e5d6-4369-8ab5-d6f27943bc0c",
   "metadata": {},
   "source": [
    "## Dataset"
   ]
  },
  {
   "cell_type": "code",
   "execution_count": 2,
   "id": "025c988b-ebf9-40b1-a5c9-b08762277419",
   "metadata": {},
   "outputs": [
    {
     "data": {
      "application/vnd.jupyter.widget-view+json": {
       "model_id": "52bb8a3271a947018ea267dc4617c3e4",
       "version_major": 2,
       "version_minor": 0
      },
      "text/plain": [
       "Output()"
      ]
     },
     "metadata": {},
     "output_type": "display_data"
    },
    {
     "name": "stdout",
     "output_type": "stream",
     "text": [
      "\tNo DataDump found for 'FP'. Creating a new one.\n"
     ]
    },
    {
     "data": {
      "text/html": [
       "<pre style=\"white-space:pre;overflow-x:auto;line-height:normal;font-family:Menlo,'DejaVu Sans Mono',consolas,'Courier New',monospace\">Error occured while parsing  C(COC(CCCCCCC\\C=C/CCCCCCCC)=O)(COC(CCCCCCC\\C=C/CCCCCCCC)=O)OC(CCCCCCC\\C=C/CCCCCCCC)=O\n",
       "</pre>\n"
      ],
      "text/plain": [
       "Error occured while parsing  C(COC(CCCCCCC\\C=C/CCCCCCCC)=O)(COC(CCCCCCC\\C=C/CCCCCCCC)=O)OC(CCCCCCC\\C=C/CCCCCCCC)=O\n"
      ]
     },
     "metadata": {},
     "output_type": "display_data"
    },
    {
     "data": {
      "text/html": [
       "<pre style=\"white-space:pre;overflow-x:auto;line-height:normal;font-family:Menlo,'DejaVu Sans Mono',consolas,'Courier New',monospace\">Error occured while parsing  [Ni](C#O)(C#O)(C#O)C#O\n",
       "</pre>\n"
      ],
      "text/plain": [
       "Error occured while parsing  [Ni](C#O)(C#O)(C#O)C#O\n"
      ]
     },
     "metadata": {},
     "output_type": "display_data"
    },
    {
     "data": {
      "text/html": [
       "<pre style=\"white-space:pre;overflow-x:auto;line-height:normal;font-family:Menlo,'DejaVu Sans Mono',consolas,'Courier New',monospace\">Error occured while parsing  C[CH2-][Al+++]1([CH2-]C)[Cl-][Al+++]([CH2-]C)([Cl-])[Cl-]1\n",
       "</pre>\n"
      ],
      "text/plain": [
       "Error occured while parsing  C[CH2-][Al+++]1([CH2-]C)[Cl-][Al+++]([CH2-]C)([Cl-])[Cl-]1\n"
      ]
     },
     "metadata": {},
     "output_type": "display_data"
    },
    {
     "data": {
      "text/html": [
       "<pre style=\"white-space:pre;overflow-x:auto;line-height:normal;font-family:Menlo,'DejaVu Sans Mono',consolas,'Courier New',monospace\">Error occured while parsing  [Fe](C#O)(C#O)(C#O)(C#O)C#O\n",
       "</pre>\n"
      ],
      "text/plain": [
       "Error occured while parsing  [Fe](C#O)(C#O)(C#O)(C#O)C#O\n"
      ]
     },
     "metadata": {},
     "output_type": "display_data"
    },
    {
     "data": {
      "text/html": [
       "<pre style=\"white-space:pre;overflow-x:auto;line-height:normal;font-family:Menlo,'DejaVu Sans Mono',consolas,'Courier New',monospace\"></pre>\n"
      ],
      "text/plain": []
     },
     "metadata": {},
     "output_type": "display_data"
    },
    {
     "data": {
      "text/html": [
       "<pre style=\"white-space:pre;overflow-x:auto;line-height:normal;font-family:Menlo,'DejaVu Sans Mono',consolas,'Courier New',monospace\">\n",
       "</pre>\n"
      ],
      "text/plain": [
       "\n"
      ]
     },
     "metadata": {},
     "output_type": "display_data"
    },
    {
     "name": "stdout",
     "output_type": "stream",
     "text": [
      "Training : 768 | Validation : 96 | Test : 96\n",
      "Total : 960\n"
     ]
    }
   ],
   "source": [
    "import sys\n",
    "sys.path.append(DATAPATH)\n",
    "from src.data import Dataset\n",
    "\n",
    "dataset = Dataset(\n",
    "    target = parameters['target'],\n",
    "    seed = parameters['seed'],\n",
    "    batch_size = parameters['batch_size'],\n",
    "    verbose = parameters['verbose'],\n",
    "    root = DATAPATH\n",
    ")"
   ]
  },
  {
   "cell_type": "markdown",
   "id": "1f240adb-d319-4517-9cfe-52e0f48a1532",
   "metadata": {},
   "source": [
    "## Model Define"
   ]
  },
  {
   "cell_type": "code",
   "execution_count": 3,
   "id": "77d27df2-c5a7-487c-b2cc-83d308b0c9e8",
   "metadata": {},
   "outputs": [],
   "source": [
    "from src.model import Chemomile\n",
    "\n",
    "model = Chemomile(\n",
    "    subfrag_size = parameters['subfrag_size'],\n",
    "    hidden_size = parameters['hidden_size'],\n",
    "    edge_size = parameters['edge_size'],\n",
    "    out_size = parameters['out_size'],\n",
    "    dropout = parameters['dropout'],\n",
    "    num_layers = parameters['num_layers'],\n",
    "    num_timesteps = parameters['num_timesteps'],\n",
    ")"
   ]
  },
  {
   "cell_type": "code",
   "execution_count": 4,
   "id": "2cf839fc-4dc2-44dc-b986-ac33be744a84",
   "metadata": {},
   "outputs": [],
   "source": [
    "from src.train import Training\n",
    "\n",
    "train = Training(\n",
    "    model = model,\n",
    "    parameters = parameters,\n",
    "    dataset = dataset\n",
    ")"
   ]
  },
  {
   "cell_type": "markdown",
   "id": "c5086804-5e96-4032-8f4e-909d0faf3c64",
   "metadata": {},
   "source": [
    "## Training"
   ]
  },
  {
   "cell_type": "code",
   "execution_count": 5,
   "id": "e48b9721-bad3-46bf-9c7d-c89fc69283d1",
   "metadata": {},
   "outputs": [
    {
     "data": {
      "application/vnd.jupyter.widget-view+json": {
       "model_id": "a3206af399e9448e89c06124647b94f8",
       "version_major": 2,
       "version_minor": 0
      },
      "text/plain": [
       "Output()"
      ]
     },
     "metadata": {},
     "output_type": "display_data"
    },
    {
     "data": {
      "text/html": [
       "<pre style=\"white-space:pre;overflow-x:auto;line-height:normal;font-family:Menlo,'DejaVu Sans Mono',consolas,'Courier New',monospace\">| Epoch :    0 | Trn. Loss : 1.418e+00 | Val. Loss : 5.325e+00 | LR : 1.000e-02 |\n",
       "</pre>\n"
      ],
      "text/plain": [
       "| Epoch :    0 | Trn. Loss : 1.418e+00 | Val. Loss : 5.325e+00 | LR : 1.000e-02 |\n"
      ]
     },
     "metadata": {},
     "output_type": "display_data"
    },
    {
     "data": {
      "text/html": [
       "<pre style=\"white-space:pre;overflow-x:auto;line-height:normal;font-family:Menlo,'DejaVu Sans Mono',consolas,'Courier New',monospace\">| Epoch :    1 | Trn. Loss : 9.222e-01 | Val. Loss : 4.419e+00 | LR : 9.940e-03 |\n",
       "</pre>\n"
      ],
      "text/plain": [
       "| Epoch :    1 | Trn. Loss : 9.222e-01 | Val. Loss : 4.419e+00 | LR : 9.940e-03 |\n"
      ]
     },
     "metadata": {},
     "output_type": "display_data"
    },
    {
     "data": {
      "text/html": [
       "<pre style=\"white-space:pre;overflow-x:auto;line-height:normal;font-family:Menlo,'DejaVu Sans Mono',consolas,'Courier New',monospace\">| Epoch :    2 | Trn. Loss : 8.971e-01 | Val. Loss : 2.679e+00 | LR : 9.880e-03 |\n",
       "</pre>\n"
      ],
      "text/plain": [
       "| Epoch :    2 | Trn. Loss : 8.971e-01 | Val. Loss : 2.679e+00 | LR : 9.880e-03 |\n"
      ]
     },
     "metadata": {},
     "output_type": "display_data"
    },
    {
     "data": {
      "text/html": [
       "<pre style=\"white-space:pre;overflow-x:auto;line-height:normal;font-family:Menlo,'DejaVu Sans Mono',consolas,'Courier New',monospace\">| Epoch :    3 | Trn. Loss : 7.920e-01 | Val. Loss : 6.064e+00 | LR : 9.821e-03 |\n",
       "</pre>\n"
      ],
      "text/plain": [
       "| Epoch :    3 | Trn. Loss : 7.920e-01 | Val. Loss : 6.064e+00 | LR : 9.821e-03 |\n"
      ]
     },
     "metadata": {},
     "output_type": "display_data"
    },
    {
     "data": {
      "text/html": [
       "<pre style=\"white-space:pre;overflow-x:auto;line-height:normal;font-family:Menlo,'DejaVu Sans Mono',consolas,'Courier New',monospace\">| Epoch :    4 | Trn. Loss : 7.206e-01 | Val. Loss : 2.212e+00 | LR : 9.762e-03 |\n",
       "</pre>\n"
      ],
      "text/plain": [
       "| Epoch :    4 | Trn. Loss : 7.206e-01 | Val. Loss : 2.212e+00 | LR : 9.762e-03 |\n"
      ]
     },
     "metadata": {},
     "output_type": "display_data"
    },
    {
     "data": {
      "text/html": [
       "<pre style=\"white-space:pre;overflow-x:auto;line-height:normal;font-family:Menlo,'DejaVu Sans Mono',consolas,'Courier New',monospace\">| Epoch :    5 | Trn. Loss : 7.059e-01 | Val. Loss : 1.325e+00 | LR : 9.704e-03 |\n",
       "</pre>\n"
      ],
      "text/plain": [
       "| Epoch :    5 | Trn. Loss : 7.059e-01 | Val. Loss : 1.325e+00 | LR : 9.704e-03 |\n"
      ]
     },
     "metadata": {},
     "output_type": "display_data"
    },
    {
     "data": {
      "text/html": [
       "<pre style=\"white-space:pre;overflow-x:auto;line-height:normal;font-family:Menlo,'DejaVu Sans Mono',consolas,'Courier New',monospace\">| Epoch :    6 | Trn. Loss : 6.842e-01 | Val. Loss : 1.254e+00 | LR : 9.645e-03 |\n",
       "</pre>\n"
      ],
      "text/plain": [
       "| Epoch :    6 | Trn. Loss : 6.842e-01 | Val. Loss : 1.254e+00 | LR : 9.645e-03 |\n"
      ]
     },
     "metadata": {},
     "output_type": "display_data"
    },
    {
     "data": {
      "text/html": [
       "<pre style=\"white-space:pre;overflow-x:auto;line-height:normal;font-family:Menlo,'DejaVu Sans Mono',consolas,'Courier New',monospace\">| Epoch :    7 | Trn. Loss : 6.533e-01 | Val. Loss : 1.565e+00 | LR : 9.587e-03 |\n",
       "</pre>\n"
      ],
      "text/plain": [
       "| Epoch :    7 | Trn. Loss : 6.533e-01 | Val. Loss : 1.565e+00 | LR : 9.587e-03 |\n"
      ]
     },
     "metadata": {},
     "output_type": "display_data"
    },
    {
     "data": {
      "text/html": [
       "<pre style=\"white-space:pre;overflow-x:auto;line-height:normal;font-family:Menlo,'DejaVu Sans Mono',consolas,'Courier New',monospace\">| Epoch :    8 | Trn. Loss : 6.426e-01 | Val. Loss : 8.490e-01 | LR : 9.530e-03 |\n",
       "</pre>\n"
      ],
      "text/plain": [
       "| Epoch :    8 | Trn. Loss : 6.426e-01 | Val. Loss : 8.490e-01 | LR : 9.530e-03 |\n"
      ]
     },
     "metadata": {},
     "output_type": "display_data"
    },
    {
     "data": {
      "text/html": [
       "<pre style=\"white-space:pre;overflow-x:auto;line-height:normal;font-family:Menlo,'DejaVu Sans Mono',consolas,'Courier New',monospace\">| Epoch :    9 | Trn. Loss : 5.401e-01 | Val. Loss : 5.920e-01 | LR : 9.473e-03 |\n",
       "</pre>\n"
      ],
      "text/plain": [
       "| Epoch :    9 | Trn. Loss : 5.401e-01 | Val. Loss : 5.920e-01 | LR : 9.473e-03 |\n"
      ]
     },
     "metadata": {},
     "output_type": "display_data"
    },
    {
     "data": {
      "text/html": [
       "<pre style=\"white-space:pre;overflow-x:auto;line-height:normal;font-family:Menlo,'DejaVu Sans Mono',consolas,'Courier New',monospace\">| Epoch :   10 | Trn. Loss : 5.659e-01 | Val. Loss : 8.230e-01 | LR : 9.416e-03 |\n",
       "</pre>\n"
      ],
      "text/plain": [
       "| Epoch :   10 | Trn. Loss : 5.659e-01 | Val. Loss : 8.230e-01 | LR : 9.416e-03 |\n"
      ]
     },
     "metadata": {},
     "output_type": "display_data"
    },
    {
     "data": {
      "text/html": [
       "<pre style=\"white-space:pre;overflow-x:auto;line-height:normal;font-family:Menlo,'DejaVu Sans Mono',consolas,'Courier New',monospace\">| Epoch :   11 | Trn. Loss : 4.938e-01 | Val. Loss : 6.730e-01 | LR : 9.359e-03 |\n",
       "</pre>\n"
      ],
      "text/plain": [
       "| Epoch :   11 | Trn. Loss : 4.938e-01 | Val. Loss : 6.730e-01 | LR : 9.359e-03 |\n"
      ]
     },
     "metadata": {},
     "output_type": "display_data"
    },
    {
     "data": {
      "text/html": [
       "<pre style=\"white-space:pre;overflow-x:auto;line-height:normal;font-family:Menlo,'DejaVu Sans Mono',consolas,'Courier New',monospace\">| Epoch :   12 | Trn. Loss : 4.975e-01 | Val. Loss : 6.742e-01 | LR : 9.303e-03 |\n",
       "</pre>\n"
      ],
      "text/plain": [
       "| Epoch :   12 | Trn. Loss : 4.975e-01 | Val. Loss : 6.742e-01 | LR : 9.303e-03 |\n"
      ]
     },
     "metadata": {},
     "output_type": "display_data"
    },
    {
     "data": {
      "text/html": [
       "<pre style=\"white-space:pre;overflow-x:auto;line-height:normal;font-family:Menlo,'DejaVu Sans Mono',consolas,'Courier New',monospace\">| Epoch :   13 | Trn. Loss : 4.826e-01 | Val. Loss : 7.102e-01 | LR : 9.247e-03 |\n",
       "</pre>\n"
      ],
      "text/plain": [
       "| Epoch :   13 | Trn. Loss : 4.826e-01 | Val. Loss : 7.102e-01 | LR : 9.247e-03 |\n"
      ]
     },
     "metadata": {},
     "output_type": "display_data"
    },
    {
     "data": {
      "text/html": [
       "<pre style=\"white-space:pre;overflow-x:auto;line-height:normal;font-family:Menlo,'DejaVu Sans Mono',consolas,'Courier New',monospace\">| Epoch :   14 | Trn. Loss : 4.951e-01 | Val. Loss : 7.443e-01 | LR : 9.192e-03 |\n",
       "</pre>\n"
      ],
      "text/plain": [
       "| Epoch :   14 | Trn. Loss : 4.951e-01 | Val. Loss : 7.443e-01 | LR : 9.192e-03 |\n"
      ]
     },
     "metadata": {},
     "output_type": "display_data"
    },
    {
     "data": {
      "text/html": [
       "<pre style=\"white-space:pre;overflow-x:auto;line-height:normal;font-family:Menlo,'DejaVu Sans Mono',consolas,'Courier New',monospace\">| Epoch :   15 | Trn. Loss : 4.582e-01 | Val. Loss : 8.423e-01 | LR : 9.137e-03 |\n",
       "</pre>\n"
      ],
      "text/plain": [
       "| Epoch :   15 | Trn. Loss : 4.582e-01 | Val. Loss : 8.423e-01 | LR : 9.137e-03 |\n"
      ]
     },
     "metadata": {},
     "output_type": "display_data"
    },
    {
     "data": {
      "text/html": [
       "<pre style=\"white-space:pre;overflow-x:auto;line-height:normal;font-family:Menlo,'DejaVu Sans Mono',consolas,'Courier New',monospace\">| Epoch :   16 | Trn. Loss : 4.644e-01 | Val. Loss : 5.833e-01 | LR : 9.082e-03 |\n",
       "</pre>\n"
      ],
      "text/plain": [
       "| Epoch :   16 | Trn. Loss : 4.644e-01 | Val. Loss : 5.833e-01 | LR : 9.082e-03 |\n"
      ]
     },
     "metadata": {},
     "output_type": "display_data"
    },
    {
     "data": {
      "text/html": [
       "<pre style=\"white-space:pre;overflow-x:auto;line-height:normal;font-family:Menlo,'DejaVu Sans Mono',consolas,'Courier New',monospace\">| Epoch :   17 | Trn. Loss : 4.433e-01 | Val. Loss : 5.608e-01 | LR : 9.028e-03 |\n",
       "</pre>\n"
      ],
      "text/plain": [
       "| Epoch :   17 | Trn. Loss : 4.433e-01 | Val. Loss : 5.608e-01 | LR : 9.028e-03 |\n"
      ]
     },
     "metadata": {},
     "output_type": "display_data"
    },
    {
     "data": {
      "text/html": [
       "<pre style=\"white-space:pre;overflow-x:auto;line-height:normal;font-family:Menlo,'DejaVu Sans Mono',consolas,'Courier New',monospace\">| Epoch :   18 | Trn. Loss : 4.244e-01 | Val. Loss : 6.191e-01 | LR : 8.973e-03 |\n",
       "</pre>\n"
      ],
      "text/plain": [
       "| Epoch :   18 | Trn. Loss : 4.244e-01 | Val. Loss : 6.191e-01 | LR : 8.973e-03 |\n"
      ]
     },
     "metadata": {},
     "output_type": "display_data"
    },
    {
     "data": {
      "text/html": [
       "<pre style=\"white-space:pre;overflow-x:auto;line-height:normal;font-family:Menlo,'DejaVu Sans Mono',consolas,'Courier New',monospace\">| Epoch :   19 | Trn. Loss : 4.158e-01 | Val. Loss : 8.478e-01 | LR : 8.920e-03 |\n",
       "</pre>\n"
      ],
      "text/plain": [
       "| Epoch :   19 | Trn. Loss : 4.158e-01 | Val. Loss : 8.478e-01 | LR : 8.920e-03 |\n"
      ]
     },
     "metadata": {},
     "output_type": "display_data"
    },
    {
     "data": {
      "text/html": [
       "<pre style=\"white-space:pre;overflow-x:auto;line-height:normal;font-family:Menlo,'DejaVu Sans Mono',consolas,'Courier New',monospace\">| Epoch :   20 | Trn. Loss : 4.212e-01 | Val. Loss : 6.440e-01 | LR : 8.866e-03 |\n",
       "</pre>\n"
      ],
      "text/plain": [
       "| Epoch :   20 | Trn. Loss : 4.212e-01 | Val. Loss : 6.440e-01 | LR : 8.866e-03 |\n"
      ]
     },
     "metadata": {},
     "output_type": "display_data"
    },
    {
     "data": {
      "text/html": [
       "<pre style=\"white-space:pre;overflow-x:auto;line-height:normal;font-family:Menlo,'DejaVu Sans Mono',consolas,'Courier New',monospace\">| Epoch :   21 | Trn. Loss : 3.842e-01 | Val. Loss : 6.698e-01 | LR : 8.813e-03 |\n",
       "</pre>\n"
      ],
      "text/plain": [
       "| Epoch :   21 | Trn. Loss : 3.842e-01 | Val. Loss : 6.698e-01 | LR : 8.813e-03 |\n"
      ]
     },
     "metadata": {},
     "output_type": "display_data"
    },
    {
     "data": {
      "text/html": [
       "<pre style=\"white-space:pre;overflow-x:auto;line-height:normal;font-family:Menlo,'DejaVu Sans Mono',consolas,'Courier New',monospace\">| Epoch :   22 | Trn. Loss : 3.589e-01 | Val. Loss : 8.525e-01 | LR : 8.760e-03 |\n",
       "</pre>\n"
      ],
      "text/plain": [
       "| Epoch :   22 | Trn. Loss : 3.589e-01 | Val. Loss : 8.525e-01 | LR : 8.760e-03 |\n"
      ]
     },
     "metadata": {},
     "output_type": "display_data"
    },
    {
     "data": {
      "text/html": [
       "<pre style=\"white-space:pre;overflow-x:auto;line-height:normal;font-family:Menlo,'DejaVu Sans Mono',consolas,'Courier New',monospace\">| Epoch :   23 | Trn. Loss : 3.793e-01 | Val. Loss : 6.285e-01 | LR : 8.707e-03 |\n",
       "</pre>\n"
      ],
      "text/plain": [
       "| Epoch :   23 | Trn. Loss : 3.793e-01 | Val. Loss : 6.285e-01 | LR : 8.707e-03 |\n"
      ]
     },
     "metadata": {},
     "output_type": "display_data"
    },
    {
     "data": {
      "text/html": [
       "<pre style=\"white-space:pre;overflow-x:auto;line-height:normal;font-family:Menlo,'DejaVu Sans Mono',consolas,'Courier New',monospace\">| Epoch :   24 | Trn. Loss : 3.657e-01 | Val. Loss : 5.951e-01 | LR : 8.655e-03 |\n",
       "</pre>\n"
      ],
      "text/plain": [
       "| Epoch :   24 | Trn. Loss : 3.657e-01 | Val. Loss : 5.951e-01 | LR : 8.655e-03 |\n"
      ]
     },
     "metadata": {},
     "output_type": "display_data"
    },
    {
     "data": {
      "text/html": [
       "<pre style=\"white-space:pre;overflow-x:auto;line-height:normal;font-family:Menlo,'DejaVu Sans Mono',consolas,'Courier New',monospace\">| Epoch :   25 | Trn. Loss : 3.634e-01 | Val. Loss : 7.902e-01 | LR : 8.603e-03 |\n",
       "</pre>\n"
      ],
      "text/plain": [
       "| Epoch :   25 | Trn. Loss : 3.634e-01 | Val. Loss : 7.902e-01 | LR : 8.603e-03 |\n"
      ]
     },
     "metadata": {},
     "output_type": "display_data"
    },
    {
     "data": {
      "text/html": [
       "<pre style=\"white-space:pre;overflow-x:auto;line-height:normal;font-family:Menlo,'DejaVu Sans Mono',consolas,'Courier New',monospace\">| Epoch :   26 | Trn. Loss : 3.901e-01 | Val. Loss : 8.513e-01 | LR : 8.552e-03 |\n",
       "</pre>\n"
      ],
      "text/plain": [
       "| Epoch :   26 | Trn. Loss : 3.901e-01 | Val. Loss : 8.513e-01 | LR : 8.552e-03 |\n"
      ]
     },
     "metadata": {},
     "output_type": "display_data"
    },
    {
     "data": {
      "text/html": [
       "<pre style=\"white-space:pre;overflow-x:auto;line-height:normal;font-family:Menlo,'DejaVu Sans Mono',consolas,'Courier New',monospace\">| Epoch :   27 | Trn. Loss : 3.398e-01 | Val. Loss : 5.955e-01 | LR : 8.500e-03 |\n",
       "</pre>\n"
      ],
      "text/plain": [
       "| Epoch :   27 | Trn. Loss : 3.398e-01 | Val. Loss : 5.955e-01 | LR : 8.500e-03 |\n"
      ]
     },
     "metadata": {},
     "output_type": "display_data"
    },
    {
     "data": {
      "text/html": [
       "<pre style=\"white-space:pre;overflow-x:auto;line-height:normal;font-family:Menlo,'DejaVu Sans Mono',consolas,'Courier New',monospace\">| Epoch :   28 | Trn. Loss : 3.438e-01 | Val. Loss : 6.154e-01 | LR : 8.449e-03 |\n",
       "</pre>\n"
      ],
      "text/plain": [
       "| Epoch :   28 | Trn. Loss : 3.438e-01 | Val. Loss : 6.154e-01 | LR : 8.449e-03 |\n"
      ]
     },
     "metadata": {},
     "output_type": "display_data"
    },
    {
     "data": {
      "text/html": [
       "<pre style=\"white-space:pre;overflow-x:auto;line-height:normal;font-family:Menlo,'DejaVu Sans Mono',consolas,'Courier New',monospace\">| Epoch :   29 | Trn. Loss : 3.221e-01 | Val. Loss : 7.773e-01 | LR : 8.399e-03 |\n",
       "</pre>\n"
      ],
      "text/plain": [
       "| Epoch :   29 | Trn. Loss : 3.221e-01 | Val. Loss : 7.773e-01 | LR : 8.399e-03 |\n"
      ]
     },
     "metadata": {},
     "output_type": "display_data"
    },
    {
     "data": {
      "text/html": [
       "<pre style=\"white-space:pre;overflow-x:auto;line-height:normal;font-family:Menlo,'DejaVu Sans Mono',consolas,'Courier New',monospace\">| Epoch :   30 | Trn. Loss : 3.406e-01 | Val. Loss : 7.151e-01 | LR : 8.348e-03 |\n",
       "</pre>\n"
      ],
      "text/plain": [
       "| Epoch :   30 | Trn. Loss : 3.406e-01 | Val. Loss : 7.151e-01 | LR : 8.348e-03 |\n"
      ]
     },
     "metadata": {},
     "output_type": "display_data"
    },
    {
     "data": {
      "text/html": [
       "<pre style=\"white-space:pre;overflow-x:auto;line-height:normal;font-family:Menlo,'DejaVu Sans Mono',consolas,'Courier New',monospace\">| Epoch :   31 | Trn. Loss : 2.980e-01 | Val. Loss : 6.586e-01 | LR : 8.298e-03 |\n",
       "</pre>\n"
      ],
      "text/plain": [
       "| Epoch :   31 | Trn. Loss : 2.980e-01 | Val. Loss : 6.586e-01 | LR : 8.298e-03 |\n"
      ]
     },
     "metadata": {},
     "output_type": "display_data"
    },
    {
     "data": {
      "text/html": [
       "<pre style=\"white-space:pre;overflow-x:auto;line-height:normal;font-family:Menlo,'DejaVu Sans Mono',consolas,'Courier New',monospace\">| Epoch :   32 | Trn. Loss : 2.965e-01 | Val. Loss : 5.297e-01 | LR : 8.248e-03 |\n",
       "</pre>\n"
      ],
      "text/plain": [
       "| Epoch :   32 | Trn. Loss : 2.965e-01 | Val. Loss : 5.297e-01 | LR : 8.248e-03 |\n"
      ]
     },
     "metadata": {},
     "output_type": "display_data"
    },
    {
     "data": {
      "text/html": [
       "<pre style=\"white-space:pre;overflow-x:auto;line-height:normal;font-family:Menlo,'DejaVu Sans Mono',consolas,'Courier New',monospace\">| Epoch :   33 | Trn. Loss : 2.904e-01 | Val. Loss : 5.051e-01 | LR : 8.199e-03 |\n",
       "</pre>\n"
      ],
      "text/plain": [
       "| Epoch :   33 | Trn. Loss : 2.904e-01 | Val. Loss : 5.051e-01 | LR : 8.199e-03 |\n"
      ]
     },
     "metadata": {},
     "output_type": "display_data"
    },
    {
     "data": {
      "text/html": [
       "<pre style=\"white-space:pre;overflow-x:auto;line-height:normal;font-family:Menlo,'DejaVu Sans Mono',consolas,'Courier New',monospace\">| Epoch :   34 | Trn. Loss : 2.771e-01 | Val. Loss : 7.495e-01 | LR : 8.150e-03 |\n",
       "</pre>\n"
      ],
      "text/plain": [
       "| Epoch :   34 | Trn. Loss : 2.771e-01 | Val. Loss : 7.495e-01 | LR : 8.150e-03 |\n"
      ]
     },
     "metadata": {},
     "output_type": "display_data"
    },
    {
     "data": {
      "text/html": [
       "<pre style=\"white-space:pre;overflow-x:auto;line-height:normal;font-family:Menlo,'DejaVu Sans Mono',consolas,'Courier New',monospace\">| Epoch :   35 | Trn. Loss : 3.298e-01 | Val. Loss : 4.824e-01 | LR : 8.101e-03 |\n",
       "</pre>\n"
      ],
      "text/plain": [
       "| Epoch :   35 | Trn. Loss : 3.298e-01 | Val. Loss : 4.824e-01 | LR : 8.101e-03 |\n"
      ]
     },
     "metadata": {},
     "output_type": "display_data"
    },
    {
     "data": {
      "text/html": [
       "<pre style=\"white-space:pre;overflow-x:auto;line-height:normal;font-family:Menlo,'DejaVu Sans Mono',consolas,'Courier New',monospace\">| Epoch :   36 | Trn. Loss : 3.044e-01 | Val. Loss : 5.644e-01 | LR : 8.052e-03 |\n",
       "</pre>\n"
      ],
      "text/plain": [
       "| Epoch :   36 | Trn. Loss : 3.044e-01 | Val. Loss : 5.644e-01 | LR : 8.052e-03 |\n"
      ]
     },
     "metadata": {},
     "output_type": "display_data"
    },
    {
     "data": {
      "text/html": [
       "<pre style=\"white-space:pre;overflow-x:auto;line-height:normal;font-family:Menlo,'DejaVu Sans Mono',consolas,'Courier New',monospace\">| Epoch :   37 | Trn. Loss : 2.877e-01 | Val. Loss : 4.757e-01 | LR : 8.004e-03 |\n",
       "</pre>\n"
      ],
      "text/plain": [
       "| Epoch :   37 | Trn. Loss : 2.877e-01 | Val. Loss : 4.757e-01 | LR : 8.004e-03 |\n"
      ]
     },
     "metadata": {},
     "output_type": "display_data"
    },
    {
     "data": {
      "text/html": [
       "<pre style=\"white-space:pre;overflow-x:auto;line-height:normal;font-family:Menlo,'DejaVu Sans Mono',consolas,'Courier New',monospace\">| Epoch :   38 | Trn. Loss : 2.994e-01 | Val. Loss : 4.518e-01 | LR : 7.956e-03 |\n",
       "</pre>\n"
      ],
      "text/plain": [
       "| Epoch :   38 | Trn. Loss : 2.994e-01 | Val. Loss : 4.518e-01 | LR : 7.956e-03 |\n"
      ]
     },
     "metadata": {},
     "output_type": "display_data"
    },
    {
     "data": {
      "text/html": [
       "<pre style=\"white-space:pre;overflow-x:auto;line-height:normal;font-family:Menlo,'DejaVu Sans Mono',consolas,'Courier New',monospace\">| Epoch :   39 | Trn. Loss : 2.913e-01 | Val. Loss : 5.053e-01 | LR : 7.908e-03 |\n",
       "</pre>\n"
      ],
      "text/plain": [
       "| Epoch :   39 | Trn. Loss : 2.913e-01 | Val. Loss : 5.053e-01 | LR : 7.908e-03 |\n"
      ]
     },
     "metadata": {},
     "output_type": "display_data"
    },
    {
     "data": {
      "text/html": [
       "<pre style=\"white-space:pre;overflow-x:auto;line-height:normal;font-family:Menlo,'DejaVu Sans Mono',consolas,'Courier New',monospace\">| Epoch :   40 | Trn. Loss : 2.733e-01 | Val. Loss : 3.726e-01 | LR : 7.861e-03 |\n",
       "</pre>\n"
      ],
      "text/plain": [
       "| Epoch :   40 | Trn. Loss : 2.733e-01 | Val. Loss : 3.726e-01 | LR : 7.861e-03 |\n"
      ]
     },
     "metadata": {},
     "output_type": "display_data"
    },
    {
     "data": {
      "text/html": [
       "<pre style=\"white-space:pre;overflow-x:auto;line-height:normal;font-family:Menlo,'DejaVu Sans Mono',consolas,'Courier New',monospace\">| Epoch :   41 | Trn. Loss : 2.799e-01 | Val. Loss : 3.647e-01 | LR : 7.813e-03 |\n",
       "</pre>\n"
      ],
      "text/plain": [
       "| Epoch :   41 | Trn. Loss : 2.799e-01 | Val. Loss : 3.647e-01 | LR : 7.813e-03 |\n"
      ]
     },
     "metadata": {},
     "output_type": "display_data"
    },
    {
     "data": {
      "text/html": [
       "<pre style=\"white-space:pre;overflow-x:auto;line-height:normal;font-family:Menlo,'DejaVu Sans Mono',consolas,'Courier New',monospace\">| Epoch :   42 | Trn. Loss : 2.994e-01 | Val. Loss : 4.294e-01 | LR : 7.767e-03 |\n",
       "</pre>\n"
      ],
      "text/plain": [
       "| Epoch :   42 | Trn. Loss : 2.994e-01 | Val. Loss : 4.294e-01 | LR : 7.767e-03 |\n"
      ]
     },
     "metadata": {},
     "output_type": "display_data"
    },
    {
     "data": {
      "text/html": [
       "<pre style=\"white-space:pre;overflow-x:auto;line-height:normal;font-family:Menlo,'DejaVu Sans Mono',consolas,'Courier New',monospace\">| Epoch :   43 | Trn. Loss : 2.908e-01 | Val. Loss : 4.097e-01 | LR : 7.720e-03 |\n",
       "</pre>\n"
      ],
      "text/plain": [
       "| Epoch :   43 | Trn. Loss : 2.908e-01 | Val. Loss : 4.097e-01 | LR : 7.720e-03 |\n"
      ]
     },
     "metadata": {},
     "output_type": "display_data"
    },
    {
     "data": {
      "text/html": [
       "<pre style=\"white-space:pre;overflow-x:auto;line-height:normal;font-family:Menlo,'DejaVu Sans Mono',consolas,'Courier New',monospace\">| Epoch :   44 | Trn. Loss : 2.896e-01 | Val. Loss : 3.612e-01 | LR : 7.674e-03 |\n",
       "</pre>\n"
      ],
      "text/plain": [
       "| Epoch :   44 | Trn. Loss : 2.896e-01 | Val. Loss : 3.612e-01 | LR : 7.674e-03 |\n"
      ]
     },
     "metadata": {},
     "output_type": "display_data"
    },
    {
     "data": {
      "text/html": [
       "<pre style=\"white-space:pre;overflow-x:auto;line-height:normal;font-family:Menlo,'DejaVu Sans Mono',consolas,'Courier New',monospace\">| Epoch :   45 | Trn. Loss : 2.736e-01 | Val. Loss : 4.151e-01 | LR : 7.628e-03 |\n",
       "</pre>\n"
      ],
      "text/plain": [
       "| Epoch :   45 | Trn. Loss : 2.736e-01 | Val. Loss : 4.151e-01 | LR : 7.628e-03 |\n"
      ]
     },
     "metadata": {},
     "output_type": "display_data"
    },
    {
     "data": {
      "text/html": [
       "<pre style=\"white-space:pre;overflow-x:auto;line-height:normal;font-family:Menlo,'DejaVu Sans Mono',consolas,'Courier New',monospace\">| Epoch :   46 | Trn. Loss : 2.510e-01 | Val. Loss : 4.203e-01 | LR : 7.582e-03 |\n",
       "</pre>\n"
      ],
      "text/plain": [
       "| Epoch :   46 | Trn. Loss : 2.510e-01 | Val. Loss : 4.203e-01 | LR : 7.582e-03 |\n"
      ]
     },
     "metadata": {},
     "output_type": "display_data"
    },
    {
     "data": {
      "text/html": [
       "<pre style=\"white-space:pre;overflow-x:auto;line-height:normal;font-family:Menlo,'DejaVu Sans Mono',consolas,'Courier New',monospace\">| Epoch :   47 | Trn. Loss : 2.687e-01 | Val. Loss : 3.106e-01 | LR : 7.536e-03 |\n",
       "</pre>\n"
      ],
      "text/plain": [
       "| Epoch :   47 | Trn. Loss : 2.687e-01 | Val. Loss : 3.106e-01 | LR : 7.536e-03 |\n"
      ]
     },
     "metadata": {},
     "output_type": "display_data"
    },
    {
     "data": {
      "text/html": [
       "<pre style=\"white-space:pre;overflow-x:auto;line-height:normal;font-family:Menlo,'DejaVu Sans Mono',consolas,'Courier New',monospace\">| Epoch :   48 | Trn. Loss : 2.421e-01 | Val. Loss : 4.684e-01 | LR : 7.491e-03 |\n",
       "</pre>\n"
      ],
      "text/plain": [
       "| Epoch :   48 | Trn. Loss : 2.421e-01 | Val. Loss : 4.684e-01 | LR : 7.491e-03 |\n"
      ]
     },
     "metadata": {},
     "output_type": "display_data"
    },
    {
     "data": {
      "text/html": [
       "<pre style=\"white-space:pre;overflow-x:auto;line-height:normal;font-family:Menlo,'DejaVu Sans Mono',consolas,'Courier New',monospace\">| Epoch :   49 | Trn. Loss : 2.455e-01 | Val. Loss : 3.988e-01 | LR : 7.446e-03 |\n",
       "</pre>\n"
      ],
      "text/plain": [
       "| Epoch :   49 | Trn. Loss : 2.455e-01 | Val. Loss : 3.988e-01 | LR : 7.446e-03 |\n"
      ]
     },
     "metadata": {},
     "output_type": "display_data"
    },
    {
     "data": {
      "text/html": [
       "<pre style=\"white-space:pre;overflow-x:auto;line-height:normal;font-family:Menlo,'DejaVu Sans Mono',consolas,'Courier New',monospace\">| Epoch :   50 | Trn. Loss : 2.620e-01 | Val. Loss : 3.356e-01 | LR : 7.401e-03 |\n",
       "</pre>\n"
      ],
      "text/plain": [
       "| Epoch :   50 | Trn. Loss : 2.620e-01 | Val. Loss : 3.356e-01 | LR : 7.401e-03 |\n"
      ]
     },
     "metadata": {},
     "output_type": "display_data"
    },
    {
     "data": {
      "text/html": [
       "<pre style=\"white-space:pre;overflow-x:auto;line-height:normal;font-family:Menlo,'DejaVu Sans Mono',consolas,'Courier New',monospace\">| Epoch :   51 | Trn. Loss : 2.722e-01 | Val. Loss : 6.899e-01 | LR : 7.357e-03 |\n",
       "</pre>\n"
      ],
      "text/plain": [
       "| Epoch :   51 | Trn. Loss : 2.722e-01 | Val. Loss : 6.899e-01 | LR : 7.357e-03 |\n"
      ]
     },
     "metadata": {},
     "output_type": "display_data"
    },
    {
     "data": {
      "text/html": [
       "<pre style=\"white-space:pre;overflow-x:auto;line-height:normal;font-family:Menlo,'DejaVu Sans Mono',consolas,'Courier New',monospace\">| Epoch :   52 | Trn. Loss : 2.585e-01 | Val. Loss : 4.597e-01 | LR : 7.313e-03 |\n",
       "</pre>\n"
      ],
      "text/plain": [
       "| Epoch :   52 | Trn. Loss : 2.585e-01 | Val. Loss : 4.597e-01 | LR : 7.313e-03 |\n"
      ]
     },
     "metadata": {},
     "output_type": "display_data"
    },
    {
     "data": {
      "text/html": [
       "<pre style=\"white-space:pre;overflow-x:auto;line-height:normal;font-family:Menlo,'DejaVu Sans Mono',consolas,'Courier New',monospace\">| Epoch :   53 | Trn. Loss : 2.412e-01 | Val. Loss : 3.669e-01 | LR : 7.269e-03 |\n",
       "</pre>\n"
      ],
      "text/plain": [
       "| Epoch :   53 | Trn. Loss : 2.412e-01 | Val. Loss : 3.669e-01 | LR : 7.269e-03 |\n"
      ]
     },
     "metadata": {},
     "output_type": "display_data"
    },
    {
     "data": {
      "text/html": [
       "<pre style=\"white-space:pre;overflow-x:auto;line-height:normal;font-family:Menlo,'DejaVu Sans Mono',consolas,'Courier New',monospace\">| Epoch :   54 | Trn. Loss : 2.566e-01 | Val. Loss : 3.070e-01 | LR : 7.225e-03 |\n",
       "</pre>\n"
      ],
      "text/plain": [
       "| Epoch :   54 | Trn. Loss : 2.566e-01 | Val. Loss : 3.070e-01 | LR : 7.225e-03 |\n"
      ]
     },
     "metadata": {},
     "output_type": "display_data"
    },
    {
     "data": {
      "text/html": [
       "<pre style=\"white-space:pre;overflow-x:auto;line-height:normal;font-family:Menlo,'DejaVu Sans Mono',consolas,'Courier New',monospace\">| Epoch :   55 | Trn. Loss : 2.418e-01 | Val. Loss : 7.601e-01 | LR : 7.182e-03 |\n",
       "</pre>\n"
      ],
      "text/plain": [
       "| Epoch :   55 | Trn. Loss : 2.418e-01 | Val. Loss : 7.601e-01 | LR : 7.182e-03 |\n"
      ]
     },
     "metadata": {},
     "output_type": "display_data"
    },
    {
     "data": {
      "text/html": [
       "<pre style=\"white-space:pre;overflow-x:auto;line-height:normal;font-family:Menlo,'DejaVu Sans Mono',consolas,'Courier New',monospace\">| Epoch :   56 | Trn. Loss : 2.508e-01 | Val. Loss : 2.747e-01 | LR : 7.139e-03 |\n",
       "</pre>\n"
      ],
      "text/plain": [
       "| Epoch :   56 | Trn. Loss : 2.508e-01 | Val. Loss : 2.747e-01 | LR : 7.139e-03 |\n"
      ]
     },
     "metadata": {},
     "output_type": "display_data"
    },
    {
     "data": {
      "text/html": [
       "<pre style=\"white-space:pre;overflow-x:auto;line-height:normal;font-family:Menlo,'DejaVu Sans Mono',consolas,'Courier New',monospace\">| Epoch :   57 | Trn. Loss : 2.257e-01 | Val. Loss : 3.086e-01 | LR : 7.096e-03 |\n",
       "</pre>\n"
      ],
      "text/plain": [
       "| Epoch :   57 | Trn. Loss : 2.257e-01 | Val. Loss : 3.086e-01 | LR : 7.096e-03 |\n"
      ]
     },
     "metadata": {},
     "output_type": "display_data"
    },
    {
     "data": {
      "text/html": [
       "<pre style=\"white-space:pre;overflow-x:auto;line-height:normal;font-family:Menlo,'DejaVu Sans Mono',consolas,'Courier New',monospace\">| Epoch :   58 | Trn. Loss : 2.307e-01 | Val. Loss : 4.306e-01 | LR : 7.054e-03 |\n",
       "</pre>\n"
      ],
      "text/plain": [
       "| Epoch :   58 | Trn. Loss : 2.307e-01 | Val. Loss : 4.306e-01 | LR : 7.054e-03 |\n"
      ]
     },
     "metadata": {},
     "output_type": "display_data"
    },
    {
     "data": {
      "text/html": [
       "<pre style=\"white-space:pre;overflow-x:auto;line-height:normal;font-family:Menlo,'DejaVu Sans Mono',consolas,'Courier New',monospace\">| Epoch :   59 | Trn. Loss : 2.315e-01 | Val. Loss : 3.702e-01 | LR : 7.011e-03 |\n",
       "</pre>\n"
      ],
      "text/plain": [
       "| Epoch :   59 | Trn. Loss : 2.315e-01 | Val. Loss : 3.702e-01 | LR : 7.011e-03 |\n"
      ]
     },
     "metadata": {},
     "output_type": "display_data"
    },
    {
     "data": {
      "text/html": [
       "<pre style=\"white-space:pre;overflow-x:auto;line-height:normal;font-family:Menlo,'DejaVu Sans Mono',consolas,'Courier New',monospace\">| Epoch :   60 | Trn. Loss : 2.243e-01 | Val. Loss : 2.858e-01 | LR : 6.969e-03 |\n",
       "</pre>\n"
      ],
      "text/plain": [
       "| Epoch :   60 | Trn. Loss : 2.243e-01 | Val. Loss : 2.858e-01 | LR : 6.969e-03 |\n"
      ]
     },
     "metadata": {},
     "output_type": "display_data"
    },
    {
     "data": {
      "text/html": [
       "<pre style=\"white-space:pre;overflow-x:auto;line-height:normal;font-family:Menlo,'DejaVu Sans Mono',consolas,'Courier New',monospace\">| Epoch :   61 | Trn. Loss : 2.204e-01 | Val. Loss : 3.457e-01 | LR : 6.927e-03 |\n",
       "</pre>\n"
      ],
      "text/plain": [
       "| Epoch :   61 | Trn. Loss : 2.204e-01 | Val. Loss : 3.457e-01 | LR : 6.927e-03 |\n"
      ]
     },
     "metadata": {},
     "output_type": "display_data"
    },
    {
     "data": {
      "text/html": [
       "<pre style=\"white-space:pre;overflow-x:auto;line-height:normal;font-family:Menlo,'DejaVu Sans Mono',consolas,'Courier New',monospace\">| Epoch :   62 | Trn. Loss : 2.243e-01 | Val. Loss : 2.754e-01 | LR : 6.886e-03 |\n",
       "</pre>\n"
      ],
      "text/plain": [
       "| Epoch :   62 | Trn. Loss : 2.243e-01 | Val. Loss : 2.754e-01 | LR : 6.886e-03 |\n"
      ]
     },
     "metadata": {},
     "output_type": "display_data"
    },
    {
     "data": {
      "text/html": [
       "<pre style=\"white-space:pre;overflow-x:auto;line-height:normal;font-family:Menlo,'DejaVu Sans Mono',consolas,'Courier New',monospace\">| Epoch :   63 | Trn. Loss : 2.315e-01 | Val. Loss : 3.553e-01 | LR : 6.845e-03 |\n",
       "</pre>\n"
      ],
      "text/plain": [
       "| Epoch :   63 | Trn. Loss : 2.315e-01 | Val. Loss : 3.553e-01 | LR : 6.845e-03 |\n"
      ]
     },
     "metadata": {},
     "output_type": "display_data"
    },
    {
     "data": {
      "text/html": [
       "<pre style=\"white-space:pre;overflow-x:auto;line-height:normal;font-family:Menlo,'DejaVu Sans Mono',consolas,'Courier New',monospace\">| Epoch :   64 | Trn. Loss : 2.354e-01 | Val. Loss : 5.368e-01 | LR : 6.803e-03 |\n",
       "</pre>\n"
      ],
      "text/plain": [
       "| Epoch :   64 | Trn. Loss : 2.354e-01 | Val. Loss : 5.368e-01 | LR : 6.803e-03 |\n"
      ]
     },
     "metadata": {},
     "output_type": "display_data"
    },
    {
     "data": {
      "text/html": [
       "<pre style=\"white-space:pre;overflow-x:auto;line-height:normal;font-family:Menlo,'DejaVu Sans Mono',consolas,'Courier New',monospace\">| Epoch :   65 | Trn. Loss : 2.294e-01 | Val. Loss : 2.229e-01 | LR : 6.763e-03 |\n",
       "</pre>\n"
      ],
      "text/plain": [
       "| Epoch :   65 | Trn. Loss : 2.294e-01 | Val. Loss : 2.229e-01 | LR : 6.763e-03 |\n"
      ]
     },
     "metadata": {},
     "output_type": "display_data"
    },
    {
     "data": {
      "text/html": [
       "<pre style=\"white-space:pre;overflow-x:auto;line-height:normal;font-family:Menlo,'DejaVu Sans Mono',consolas,'Courier New',monospace\">| Epoch :   66 | Trn. Loss : 2.277e-01 | Val. Loss : 2.574e-01 | LR : 6.722e-03 |\n",
       "</pre>\n"
      ],
      "text/plain": [
       "| Epoch :   66 | Trn. Loss : 2.277e-01 | Val. Loss : 2.574e-01 | LR : 6.722e-03 |\n"
      ]
     },
     "metadata": {},
     "output_type": "display_data"
    },
    {
     "data": {
      "text/html": [
       "<pre style=\"white-space:pre;overflow-x:auto;line-height:normal;font-family:Menlo,'DejaVu Sans Mono',consolas,'Courier New',monospace\">| Epoch :   67 | Trn. Loss : 2.475e-01 | Val. Loss : 3.921e-01 | LR : 6.682e-03 |\n",
       "</pre>\n"
      ],
      "text/plain": [
       "| Epoch :   67 | Trn. Loss : 2.475e-01 | Val. Loss : 3.921e-01 | LR : 6.682e-03 |\n"
      ]
     },
     "metadata": {},
     "output_type": "display_data"
    },
    {
     "data": {
      "text/html": [
       "<pre style=\"white-space:pre;overflow-x:auto;line-height:normal;font-family:Menlo,'DejaVu Sans Mono',consolas,'Courier New',monospace\">| Epoch :   68 | Trn. Loss : 2.101e-01 | Val. Loss : 3.107e-01 | LR : 6.642e-03 |\n",
       "</pre>\n"
      ],
      "text/plain": [
       "| Epoch :   68 | Trn. Loss : 2.101e-01 | Val. Loss : 3.107e-01 | LR : 6.642e-03 |\n"
      ]
     },
     "metadata": {},
     "output_type": "display_data"
    },
    {
     "data": {
      "text/html": [
       "<pre style=\"white-space:pre;overflow-x:auto;line-height:normal;font-family:Menlo,'DejaVu Sans Mono',consolas,'Courier New',monospace\">| Epoch :   69 | Trn. Loss : 2.240e-01 | Val. Loss : 2.730e-01 | LR : 6.602e-03 |\n",
       "</pre>\n"
      ],
      "text/plain": [
       "| Epoch :   69 | Trn. Loss : 2.240e-01 | Val. Loss : 2.730e-01 | LR : 6.602e-03 |\n"
      ]
     },
     "metadata": {},
     "output_type": "display_data"
    },
    {
     "data": {
      "text/html": [
       "<pre style=\"white-space:pre;overflow-x:auto;line-height:normal;font-family:Menlo,'DejaVu Sans Mono',consolas,'Courier New',monospace\">| Epoch :   70 | Trn. Loss : 2.281e-01 | Val. Loss : 2.299e-01 | LR : 6.562e-03 |\n",
       "</pre>\n"
      ],
      "text/plain": [
       "| Epoch :   70 | Trn. Loss : 2.281e-01 | Val. Loss : 2.299e-01 | LR : 6.562e-03 |\n"
      ]
     },
     "metadata": {},
     "output_type": "display_data"
    },
    {
     "data": {
      "text/html": [
       "<pre style=\"white-space:pre;overflow-x:auto;line-height:normal;font-family:Menlo,'DejaVu Sans Mono',consolas,'Courier New',monospace\">| Epoch :   71 | Trn. Loss : 2.042e-01 | Val. Loss : 2.215e-01 | LR : 6.523e-03 |\n",
       "</pre>\n"
      ],
      "text/plain": [
       "| Epoch :   71 | Trn. Loss : 2.042e-01 | Val. Loss : 2.215e-01 | LR : 6.523e-03 |\n"
      ]
     },
     "metadata": {},
     "output_type": "display_data"
    },
    {
     "data": {
      "text/html": [
       "<pre style=\"white-space:pre;overflow-x:auto;line-height:normal;font-family:Menlo,'DejaVu Sans Mono',consolas,'Courier New',monospace\">| Epoch :   72 | Trn. Loss : 2.104e-01 | Val. Loss : 3.448e-01 | LR : 6.484e-03 |\n",
       "</pre>\n"
      ],
      "text/plain": [
       "| Epoch :   72 | Trn. Loss : 2.104e-01 | Val. Loss : 3.448e-01 | LR : 6.484e-03 |\n"
      ]
     },
     "metadata": {},
     "output_type": "display_data"
    },
    {
     "data": {
      "text/html": [
       "<pre style=\"white-space:pre;overflow-x:auto;line-height:normal;font-family:Menlo,'DejaVu Sans Mono',consolas,'Courier New',monospace\">| Epoch :   73 | Trn. Loss : 2.125e-01 | Val. Loss : 3.723e-01 | LR : 6.445e-03 |\n",
       "</pre>\n"
      ],
      "text/plain": [
       "| Epoch :   73 | Trn. Loss : 2.125e-01 | Val. Loss : 3.723e-01 | LR : 6.445e-03 |\n"
      ]
     },
     "metadata": {},
     "output_type": "display_data"
    },
    {
     "data": {
      "text/html": [
       "<pre style=\"white-space:pre;overflow-x:auto;line-height:normal;font-family:Menlo,'DejaVu Sans Mono',consolas,'Courier New',monospace\">| Epoch :   74 | Trn. Loss : 2.013e-01 | Val. Loss : 2.796e-01 | LR : 6.406e-03 |\n",
       "</pre>\n"
      ],
      "text/plain": [
       "| Epoch :   74 | Trn. Loss : 2.013e-01 | Val. Loss : 2.796e-01 | LR : 6.406e-03 |\n"
      ]
     },
     "metadata": {},
     "output_type": "display_data"
    },
    {
     "data": {
      "text/html": [
       "<pre style=\"white-space:pre;overflow-x:auto;line-height:normal;font-family:Menlo,'DejaVu Sans Mono',consolas,'Courier New',monospace\">| Epoch :   75 | Trn. Loss : 2.081e-01 | Val. Loss : 2.464e-01 | LR : 6.368e-03 |\n",
       "</pre>\n"
      ],
      "text/plain": [
       "| Epoch :   75 | Trn. Loss : 2.081e-01 | Val. Loss : 2.464e-01 | LR : 6.368e-03 |\n"
      ]
     },
     "metadata": {},
     "output_type": "display_data"
    },
    {
     "data": {
      "text/html": [
       "<pre style=\"white-space:pre;overflow-x:auto;line-height:normal;font-family:Menlo,'DejaVu Sans Mono',consolas,'Courier New',monospace\">| Epoch :   76 | Trn. Loss : 2.101e-01 | Val. Loss : 7.687e-01 | LR : 6.329e-03 |\n",
       "</pre>\n"
      ],
      "text/plain": [
       "| Epoch :   76 | Trn. Loss : 2.101e-01 | Val. Loss : 7.687e-01 | LR : 6.329e-03 |\n"
      ]
     },
     "metadata": {},
     "output_type": "display_data"
    },
    {
     "data": {
      "text/html": [
       "<pre style=\"white-space:pre;overflow-x:auto;line-height:normal;font-family:Menlo,'DejaVu Sans Mono',consolas,'Courier New',monospace\">| Epoch :   77 | Trn. Loss : 2.290e-01 | Val. Loss : 3.544e-01 | LR : 6.291e-03 |\n",
       "</pre>\n"
      ],
      "text/plain": [
       "| Epoch :   77 | Trn. Loss : 2.290e-01 | Val. Loss : 3.544e-01 | LR : 6.291e-03 |\n"
      ]
     },
     "metadata": {},
     "output_type": "display_data"
    },
    {
     "data": {
      "text/html": [
       "<pre style=\"white-space:pre;overflow-x:auto;line-height:normal;font-family:Menlo,'DejaVu Sans Mono',consolas,'Courier New',monospace\">| Epoch :   78 | Trn. Loss : 2.402e-01 | Val. Loss : 4.212e-01 | LR : 6.254e-03 |\n",
       "</pre>\n"
      ],
      "text/plain": [
       "| Epoch :   78 | Trn. Loss : 2.402e-01 | Val. Loss : 4.212e-01 | LR : 6.254e-03 |\n"
      ]
     },
     "metadata": {},
     "output_type": "display_data"
    },
    {
     "data": {
      "text/html": [
       "<pre style=\"white-space:pre;overflow-x:auto;line-height:normal;font-family:Menlo,'DejaVu Sans Mono',consolas,'Courier New',monospace\">| Epoch :   79 | Trn. Loss : 2.516e-01 | Val. Loss : 4.144e-01 | LR : 6.216e-03 |\n",
       "</pre>\n"
      ],
      "text/plain": [
       "| Epoch :   79 | Trn. Loss : 2.516e-01 | Val. Loss : 4.144e-01 | LR : 6.216e-03 |\n"
      ]
     },
     "metadata": {},
     "output_type": "display_data"
    },
    {
     "data": {
      "text/html": [
       "<pre style=\"white-space:pre;overflow-x:auto;line-height:normal;font-family:Menlo,'DejaVu Sans Mono',consolas,'Courier New',monospace\">| Epoch :   80 | Trn. Loss : 2.459e-01 | Val. Loss : 2.832e-01 | LR : 6.179e-03 |\n",
       "</pre>\n"
      ],
      "text/plain": [
       "| Epoch :   80 | Trn. Loss : 2.459e-01 | Val. Loss : 2.832e-01 | LR : 6.179e-03 |\n"
      ]
     },
     "metadata": {},
     "output_type": "display_data"
    },
    {
     "data": {
      "text/html": [
       "<pre style=\"white-space:pre;overflow-x:auto;line-height:normal;font-family:Menlo,'DejaVu Sans Mono',consolas,'Courier New',monospace\">| Epoch :   81 | Trn. Loss : 2.257e-01 | Val. Loss : 5.082e-01 | LR : 6.142e-03 |\n",
       "</pre>\n"
      ],
      "text/plain": [
       "| Epoch :   81 | Trn. Loss : 2.257e-01 | Val. Loss : 5.082e-01 | LR : 6.142e-03 |\n"
      ]
     },
     "metadata": {},
     "output_type": "display_data"
    },
    {
     "data": {
      "text/html": [
       "<pre style=\"white-space:pre;overflow-x:auto;line-height:normal;font-family:Menlo,'DejaVu Sans Mono',consolas,'Courier New',monospace\">| Epoch :   82 | Trn. Loss : 2.276e-01 | Val. Loss : 3.253e-01 | LR : 6.105e-03 |\n",
       "</pre>\n"
      ],
      "text/plain": [
       "| Epoch :   82 | Trn. Loss : 2.276e-01 | Val. Loss : 3.253e-01 | LR : 6.105e-03 |\n"
      ]
     },
     "metadata": {},
     "output_type": "display_data"
    },
    {
     "data": {
      "text/html": [
       "<pre style=\"white-space:pre;overflow-x:auto;line-height:normal;font-family:Menlo,'DejaVu Sans Mono',consolas,'Courier New',monospace\">| Epoch :   83 | Trn. Loss : 2.313e-01 | Val. Loss : 7.521e-01 | LR : 6.068e-03 |\n",
       "</pre>\n"
      ],
      "text/plain": [
       "| Epoch :   83 | Trn. Loss : 2.313e-01 | Val. Loss : 7.521e-01 | LR : 6.068e-03 |\n"
      ]
     },
     "metadata": {},
     "output_type": "display_data"
    },
    {
     "data": {
      "text/html": [
       "<pre style=\"white-space:pre;overflow-x:auto;line-height:normal;font-family:Menlo,'DejaVu Sans Mono',consolas,'Courier New',monospace\">| Epoch :   84 | Trn. Loss : 2.342e-01 | Val. Loss : 3.023e-01 | LR : 6.032e-03 |\n",
       "</pre>\n"
      ],
      "text/plain": [
       "| Epoch :   84 | Trn. Loss : 2.342e-01 | Val. Loss : 3.023e-01 | LR : 6.032e-03 |\n"
      ]
     },
     "metadata": {},
     "output_type": "display_data"
    },
    {
     "data": {
      "text/html": [
       "<pre style=\"white-space:pre;overflow-x:auto;line-height:normal;font-family:Menlo,'DejaVu Sans Mono',consolas,'Courier New',monospace\">| Epoch :   85 | Trn. Loss : 2.176e-01 | Val. Loss : 2.789e-01 | LR : 5.996e-03 |\n",
       "</pre>\n"
      ],
      "text/plain": [
       "| Epoch :   85 | Trn. Loss : 2.176e-01 | Val. Loss : 2.789e-01 | LR : 5.996e-03 |\n"
      ]
     },
     "metadata": {},
     "output_type": "display_data"
    },
    {
     "data": {
      "text/html": [
       "<pre style=\"white-space:pre;overflow-x:auto;line-height:normal;font-family:Menlo,'DejaVu Sans Mono',consolas,'Courier New',monospace\">| Epoch :   86 | Trn. Loss : 2.346e-01 | Val. Loss : 2.530e-01 | LR : 5.960e-03 |\n",
       "</pre>\n"
      ],
      "text/plain": [
       "| Epoch :   86 | Trn. Loss : 2.346e-01 | Val. Loss : 2.530e-01 | LR : 5.960e-03 |\n"
      ]
     },
     "metadata": {},
     "output_type": "display_data"
    },
    {
     "data": {
      "text/html": [
       "<pre style=\"white-space:pre;overflow-x:auto;line-height:normal;font-family:Menlo,'DejaVu Sans Mono',consolas,'Courier New',monospace\">| Epoch :   87 | Trn. Loss : 2.128e-01 | Val. Loss : 1.190e+00 | LR : 5.924e-03 |\n",
       "</pre>\n"
      ],
      "text/plain": [
       "| Epoch :   87 | Trn. Loss : 2.128e-01 | Val. Loss : 1.190e+00 | LR : 5.924e-03 |\n"
      ]
     },
     "metadata": {},
     "output_type": "display_data"
    },
    {
     "data": {
      "text/html": [
       "<pre style=\"white-space:pre;overflow-x:auto;line-height:normal;font-family:Menlo,'DejaVu Sans Mono',consolas,'Courier New',monospace\">| Epoch :   88 | Trn. Loss : 2.212e-01 | Val. Loss : 2.663e-01 | LR : 5.888e-03 |\n",
       "</pre>\n"
      ],
      "text/plain": [
       "| Epoch :   88 | Trn. Loss : 2.212e-01 | Val. Loss : 2.663e-01 | LR : 5.888e-03 |\n"
      ]
     },
     "metadata": {},
     "output_type": "display_data"
    },
    {
     "data": {
      "text/html": [
       "<pre style=\"white-space:pre;overflow-x:auto;line-height:normal;font-family:Menlo,'DejaVu Sans Mono',consolas,'Courier New',monospace\">| Epoch :   89 | Trn. Loss : 2.342e-01 | Val. Loss : 2.855e-01 | LR : 5.853e-03 |\n",
       "</pre>\n"
      ],
      "text/plain": [
       "| Epoch :   89 | Trn. Loss : 2.342e-01 | Val. Loss : 2.855e-01 | LR : 5.853e-03 |\n"
      ]
     },
     "metadata": {},
     "output_type": "display_data"
    },
    {
     "data": {
      "text/html": [
       "<pre style=\"white-space:pre;overflow-x:auto;line-height:normal;font-family:Menlo,'DejaVu Sans Mono',consolas,'Courier New',monospace\">| Epoch :   90 | Trn. Loss : 2.283e-01 | Val. Loss : 2.897e-01 | LR : 5.818e-03 |\n",
       "</pre>\n"
      ],
      "text/plain": [
       "| Epoch :   90 | Trn. Loss : 2.283e-01 | Val. Loss : 2.897e-01 | LR : 5.818e-03 |\n"
      ]
     },
     "metadata": {},
     "output_type": "display_data"
    },
    {
     "data": {
      "text/html": [
       "<pre style=\"white-space:pre;overflow-x:auto;line-height:normal;font-family:Menlo,'DejaVu Sans Mono',consolas,'Courier New',monospace\">| Epoch :   91 | Trn. Loss : 2.174e-01 | Val. Loss : 2.237e-01 | LR : 5.783e-03 |\n",
       "</pre>\n"
      ],
      "text/plain": [
       "| Epoch :   91 | Trn. Loss : 2.174e-01 | Val. Loss : 2.237e-01 | LR : 5.783e-03 |\n"
      ]
     },
     "metadata": {},
     "output_type": "display_data"
    },
    {
     "data": {
      "text/html": [
       "<pre style=\"white-space:pre;overflow-x:auto;line-height:normal;font-family:Menlo,'DejaVu Sans Mono',consolas,'Courier New',monospace\">| Epoch :   92 | Trn. Loss : 1.972e-01 | Val. Loss : 1.204e+00 | LR : 5.748e-03 |\n",
       "</pre>\n"
      ],
      "text/plain": [
       "| Epoch :   92 | Trn. Loss : 1.972e-01 | Val. Loss : 1.204e+00 | LR : 5.748e-03 |\n"
      ]
     },
     "metadata": {},
     "output_type": "display_data"
    },
    {
     "data": {
      "text/html": [
       "<pre style=\"white-space:pre;overflow-x:auto;line-height:normal;font-family:Menlo,'DejaVu Sans Mono',consolas,'Courier New',monospace\">| Epoch :   93 | Trn. Loss : 2.099e-01 | Val. Loss : 2.698e-01 | LR : 5.714e-03 |\n",
       "</pre>\n"
      ],
      "text/plain": [
       "| Epoch :   93 | Trn. Loss : 2.099e-01 | Val. Loss : 2.698e-01 | LR : 5.714e-03 |\n"
      ]
     },
     "metadata": {},
     "output_type": "display_data"
    },
    {
     "data": {
      "text/html": [
       "<pre style=\"white-space:pre;overflow-x:auto;line-height:normal;font-family:Menlo,'DejaVu Sans Mono',consolas,'Courier New',monospace\">| Epoch :   94 | Trn. Loss : 2.019e-01 | Val. Loss : 3.108e-01 | LR : 5.680e-03 |\n",
       "</pre>\n"
      ],
      "text/plain": [
       "| Epoch :   94 | Trn. Loss : 2.019e-01 | Val. Loss : 3.108e-01 | LR : 5.680e-03 |\n"
      ]
     },
     "metadata": {},
     "output_type": "display_data"
    },
    {
     "data": {
      "text/html": [
       "<pre style=\"white-space:pre;overflow-x:auto;line-height:normal;font-family:Menlo,'DejaVu Sans Mono',consolas,'Courier New',monospace\">| Epoch :   95 | Trn. Loss : 1.993e-01 | Val. Loss : 3.146e-01 | LR : 5.646e-03 |\n",
       "</pre>\n"
      ],
      "text/plain": [
       "| Epoch :   95 | Trn. Loss : 1.993e-01 | Val. Loss : 3.146e-01 | LR : 5.646e-03 |\n"
      ]
     },
     "metadata": {},
     "output_type": "display_data"
    },
    {
     "data": {
      "text/html": [
       "<pre style=\"white-space:pre;overflow-x:auto;line-height:normal;font-family:Menlo,'DejaVu Sans Mono',consolas,'Courier New',monospace\">| Epoch :   96 | Trn. Loss : 1.969e-01 | Val. Loss : 4.677e-01 | LR : 5.612e-03 |\n",
       "</pre>\n"
      ],
      "text/plain": [
       "| Epoch :   96 | Trn. Loss : 1.969e-01 | Val. Loss : 4.677e-01 | LR : 5.612e-03 |\n"
      ]
     },
     "metadata": {},
     "output_type": "display_data"
    },
    {
     "data": {
      "text/html": [
       "<pre style=\"white-space:pre;overflow-x:auto;line-height:normal;font-family:Menlo,'DejaVu Sans Mono',consolas,'Courier New',monospace\">| Epoch :   97 | Trn. Loss : 1.963e-01 | Val. Loss : 3.969e-01 | LR : 5.578e-03 |\n",
       "</pre>\n"
      ],
      "text/plain": [
       "| Epoch :   97 | Trn. Loss : 1.963e-01 | Val. Loss : 3.969e-01 | LR : 5.578e-03 |\n"
      ]
     },
     "metadata": {},
     "output_type": "display_data"
    },
    {
     "data": {
      "text/html": [
       "<pre style=\"white-space:pre;overflow-x:auto;line-height:normal;font-family:Menlo,'DejaVu Sans Mono',consolas,'Courier New',monospace\">| Epoch :   98 | Trn. Loss : 1.886e-01 | Val. Loss : 2.175e-01 | LR : 5.545e-03 |\n",
       "</pre>\n"
      ],
      "text/plain": [
       "| Epoch :   98 | Trn. Loss : 1.886e-01 | Val. Loss : 2.175e-01 | LR : 5.545e-03 |\n"
      ]
     },
     "metadata": {},
     "output_type": "display_data"
    },
    {
     "data": {
      "text/html": [
       "<pre style=\"white-space:pre;overflow-x:auto;line-height:normal;font-family:Menlo,'DejaVu Sans Mono',consolas,'Courier New',monospace\">| Epoch :   99 | Trn. Loss : 1.991e-01 | Val. Loss : 2.859e-01 | LR : 5.511e-03 |\n",
       "</pre>\n"
      ],
      "text/plain": [
       "| Epoch :   99 | Trn. Loss : 1.991e-01 | Val. Loss : 2.859e-01 | LR : 5.511e-03 |\n"
      ]
     },
     "metadata": {},
     "output_type": "display_data"
    },
    {
     "data": {
      "text/html": [
       "<pre style=\"white-space:pre;overflow-x:auto;line-height:normal;font-family:Menlo,'DejaVu Sans Mono',consolas,'Courier New',monospace\">| Epoch :  100 | Trn. Loss : 1.988e-01 | Val. Loss : 6.329e-01 | LR : 5.478e-03 |\n",
       "</pre>\n"
      ],
      "text/plain": [
       "| Epoch :  100 | Trn. Loss : 1.988e-01 | Val. Loss : 6.329e-01 | LR : 5.478e-03 |\n"
      ]
     },
     "metadata": {},
     "output_type": "display_data"
    },
    {
     "data": {
      "text/html": [
       "<pre style=\"white-space:pre;overflow-x:auto;line-height:normal;font-family:Menlo,'DejaVu Sans Mono',consolas,'Courier New',monospace\">| Epoch :  101 | Trn. Loss : 2.012e-01 | Val. Loss : 3.264e-01 | LR : 5.445e-03 |\n",
       "</pre>\n"
      ],
      "text/plain": [
       "| Epoch :  101 | Trn. Loss : 2.012e-01 | Val. Loss : 3.264e-01 | LR : 5.445e-03 |\n"
      ]
     },
     "metadata": {},
     "output_type": "display_data"
    },
    {
     "data": {
      "text/html": [
       "<pre style=\"white-space:pre;overflow-x:auto;line-height:normal;font-family:Menlo,'DejaVu Sans Mono',consolas,'Courier New',monospace\">| Epoch :  102 | Trn. Loss : 2.059e-01 | Val. Loss : 3.433e-01 | LR : 5.413e-03 |\n",
       "</pre>\n"
      ],
      "text/plain": [
       "| Epoch :  102 | Trn. Loss : 2.059e-01 | Val. Loss : 3.433e-01 | LR : 5.413e-03 |\n"
      ]
     },
     "metadata": {},
     "output_type": "display_data"
    },
    {
     "data": {
      "text/html": [
       "<pre style=\"white-space:pre;overflow-x:auto;line-height:normal;font-family:Menlo,'DejaVu Sans Mono',consolas,'Courier New',monospace\">| Epoch :  103 | Trn. Loss : 1.943e-01 | Val. Loss : 2.837e-01 | LR : 5.380e-03 |\n",
       "</pre>\n"
      ],
      "text/plain": [
       "| Epoch :  103 | Trn. Loss : 1.943e-01 | Val. Loss : 2.837e-01 | LR : 5.380e-03 |\n"
      ]
     },
     "metadata": {},
     "output_type": "display_data"
    },
    {
     "data": {
      "text/html": [
       "<pre style=\"white-space:pre;overflow-x:auto;line-height:normal;font-family:Menlo,'DejaVu Sans Mono',consolas,'Courier New',monospace\">| Epoch :  104 | Trn. Loss : 2.073e-01 | Val. Loss : 2.540e-01 | LR : 5.348e-03 |\n",
       "</pre>\n"
      ],
      "text/plain": [
       "| Epoch :  104 | Trn. Loss : 2.073e-01 | Val. Loss : 2.540e-01 | LR : 5.348e-03 |\n"
      ]
     },
     "metadata": {},
     "output_type": "display_data"
    },
    {
     "data": {
      "text/html": [
       "<pre style=\"white-space:pre;overflow-x:auto;line-height:normal;font-family:Menlo,'DejaVu Sans Mono',consolas,'Courier New',monospace\">| Epoch :  105 | Trn. Loss : 1.743e-01 | Val. Loss : 2.400e-01 | LR : 5.316e-03 |\n",
       "</pre>\n"
      ],
      "text/plain": [
       "| Epoch :  105 | Trn. Loss : 1.743e-01 | Val. Loss : 2.400e-01 | LR : 5.316e-03 |\n"
      ]
     },
     "metadata": {},
     "output_type": "display_data"
    },
    {
     "data": {
      "text/html": [
       "<pre style=\"white-space:pre;overflow-x:auto;line-height:normal;font-family:Menlo,'DejaVu Sans Mono',consolas,'Courier New',monospace\">| Epoch :  106 | Trn. Loss : 1.981e-01 | Val. Loss : 6.721e-01 | LR : 5.284e-03 |\n",
       "</pre>\n"
      ],
      "text/plain": [
       "| Epoch :  106 | Trn. Loss : 1.981e-01 | Val. Loss : 6.721e-01 | LR : 5.284e-03 |\n"
      ]
     },
     "metadata": {},
     "output_type": "display_data"
    },
    {
     "data": {
      "text/html": [
       "<pre style=\"white-space:pre;overflow-x:auto;line-height:normal;font-family:Menlo,'DejaVu Sans Mono',consolas,'Courier New',monospace\">| Epoch :  107 | Trn. Loss : 2.044e-01 | Val. Loss : 2.117e-01 | LR : 5.252e-03 |\n",
       "</pre>\n"
      ],
      "text/plain": [
       "| Epoch :  107 | Trn. Loss : 2.044e-01 | Val. Loss : 2.117e-01 | LR : 5.252e-03 |\n"
      ]
     },
     "metadata": {},
     "output_type": "display_data"
    },
    {
     "data": {
      "text/html": [
       "<pre style=\"white-space:pre;overflow-x:auto;line-height:normal;font-family:Menlo,'DejaVu Sans Mono',consolas,'Courier New',monospace\">| Epoch :  108 | Trn. Loss : 1.963e-01 | Val. Loss : 3.454e-01 | LR : 5.221e-03 |\n",
       "</pre>\n"
      ],
      "text/plain": [
       "| Epoch :  108 | Trn. Loss : 1.963e-01 | Val. Loss : 3.454e-01 | LR : 5.221e-03 |\n"
      ]
     },
     "metadata": {},
     "output_type": "display_data"
    },
    {
     "data": {
      "text/html": [
       "<pre style=\"white-space:pre;overflow-x:auto;line-height:normal;font-family:Menlo,'DejaVu Sans Mono',consolas,'Courier New',monospace\">| Epoch :  109 | Trn. Loss : 1.854e-01 | Val. Loss : 3.481e-01 | LR : 5.189e-03 |\n",
       "</pre>\n"
      ],
      "text/plain": [
       "| Epoch :  109 | Trn. Loss : 1.854e-01 | Val. Loss : 3.481e-01 | LR : 5.189e-03 |\n"
      ]
     },
     "metadata": {},
     "output_type": "display_data"
    },
    {
     "data": {
      "text/html": [
       "<pre style=\"white-space:pre;overflow-x:auto;line-height:normal;font-family:Menlo,'DejaVu Sans Mono',consolas,'Courier New',monospace\">| Epoch :  110 | Trn. Loss : 1.848e-01 | Val. Loss : 2.299e-01 | LR : 5.158e-03 |\n",
       "</pre>\n"
      ],
      "text/plain": [
       "| Epoch :  110 | Trn. Loss : 1.848e-01 | Val. Loss : 2.299e-01 | LR : 5.158e-03 |\n"
      ]
     },
     "metadata": {},
     "output_type": "display_data"
    },
    {
     "data": {
      "text/html": [
       "<pre style=\"white-space:pre;overflow-x:auto;line-height:normal;font-family:Menlo,'DejaVu Sans Mono',consolas,'Courier New',monospace\">| Epoch :  111 | Trn. Loss : 1.886e-01 | Val. Loss : 3.455e-01 | LR : 5.127e-03 |\n",
       "</pre>\n"
      ],
      "text/plain": [
       "| Epoch :  111 | Trn. Loss : 1.886e-01 | Val. Loss : 3.455e-01 | LR : 5.127e-03 |\n"
      ]
     },
     "metadata": {},
     "output_type": "display_data"
    },
    {
     "data": {
      "text/html": [
       "<pre style=\"white-space:pre;overflow-x:auto;line-height:normal;font-family:Menlo,'DejaVu Sans Mono',consolas,'Courier New',monospace\">| Epoch :  112 | Trn. Loss : 1.844e-01 | Val. Loss : 2.088e-01 | LR : 5.097e-03 |\n",
       "</pre>\n"
      ],
      "text/plain": [
       "| Epoch :  112 | Trn. Loss : 1.844e-01 | Val. Loss : 2.088e-01 | LR : 5.097e-03 |\n"
      ]
     },
     "metadata": {},
     "output_type": "display_data"
    },
    {
     "data": {
      "text/html": [
       "<pre style=\"white-space:pre;overflow-x:auto;line-height:normal;font-family:Menlo,'DejaVu Sans Mono',consolas,'Courier New',monospace\">| Epoch :  113 | Trn. Loss : 1.728e-01 | Val. Loss : 2.055e-01 | LR : 5.066e-03 |\n",
       "</pre>\n"
      ],
      "text/plain": [
       "| Epoch :  113 | Trn. Loss : 1.728e-01 | Val. Loss : 2.055e-01 | LR : 5.066e-03 |\n"
      ]
     },
     "metadata": {},
     "output_type": "display_data"
    },
    {
     "data": {
      "text/html": [
       "<pre style=\"white-space:pre;overflow-x:auto;line-height:normal;font-family:Menlo,'DejaVu Sans Mono',consolas,'Courier New',monospace\">| Epoch :  114 | Trn. Loss : 2.111e-01 | Val. Loss : 5.130e-01 | LR : 5.036e-03 |\n",
       "</pre>\n"
      ],
      "text/plain": [
       "| Epoch :  114 | Trn. Loss : 2.111e-01 | Val. Loss : 5.130e-01 | LR : 5.036e-03 |\n"
      ]
     },
     "metadata": {},
     "output_type": "display_data"
    },
    {
     "data": {
      "text/html": [
       "<pre style=\"white-space:pre;overflow-x:auto;line-height:normal;font-family:Menlo,'DejaVu Sans Mono',consolas,'Courier New',monospace\">| Epoch :  115 | Trn. Loss : 2.109e-01 | Val. Loss : 2.996e-01 | LR : 5.005e-03 |\n",
       "</pre>\n"
      ],
      "text/plain": [
       "| Epoch :  115 | Trn. Loss : 2.109e-01 | Val. Loss : 2.996e-01 | LR : 5.005e-03 |\n"
      ]
     },
     "metadata": {},
     "output_type": "display_data"
    },
    {
     "data": {
      "text/html": [
       "<pre style=\"white-space:pre;overflow-x:auto;line-height:normal;font-family:Menlo,'DejaVu Sans Mono',consolas,'Courier New',monospace\">| Epoch :  116 | Trn. Loss : 2.075e-01 | Val. Loss : 2.521e-01 | LR : 4.975e-03 |\n",
       "</pre>\n"
      ],
      "text/plain": [
       "| Epoch :  116 | Trn. Loss : 2.075e-01 | Val. Loss : 2.521e-01 | LR : 4.975e-03 |\n"
      ]
     },
     "metadata": {},
     "output_type": "display_data"
    },
    {
     "data": {
      "text/html": [
       "<pre style=\"white-space:pre;overflow-x:auto;line-height:normal;font-family:Menlo,'DejaVu Sans Mono',consolas,'Courier New',monospace\">| Epoch :  117 | Trn. Loss : 2.187e-01 | Val. Loss : 7.156e-01 | LR : 4.945e-03 |\n",
       "</pre>\n"
      ],
      "text/plain": [
       "| Epoch :  117 | Trn. Loss : 2.187e-01 | Val. Loss : 7.156e-01 | LR : 4.945e-03 |\n"
      ]
     },
     "metadata": {},
     "output_type": "display_data"
    },
    {
     "data": {
      "text/html": [
       "<pre style=\"white-space:pre;overflow-x:auto;line-height:normal;font-family:Menlo,'DejaVu Sans Mono',consolas,'Courier New',monospace\">| Epoch :  118 | Trn. Loss : 2.140e-01 | Val. Loss : 1.945e-01 | LR : 4.916e-03 |\n",
       "</pre>\n"
      ],
      "text/plain": [
       "| Epoch :  118 | Trn. Loss : 2.140e-01 | Val. Loss : 1.945e-01 | LR : 4.916e-03 |\n"
      ]
     },
     "metadata": {},
     "output_type": "display_data"
    },
    {
     "data": {
      "text/html": [
       "<pre style=\"white-space:pre;overflow-x:auto;line-height:normal;font-family:Menlo,'DejaVu Sans Mono',consolas,'Courier New',monospace\">| Epoch :  119 | Trn. Loss : 2.012e-01 | Val. Loss : 2.342e-01 | LR : 4.886e-03 |\n",
       "</pre>\n"
      ],
      "text/plain": [
       "| Epoch :  119 | Trn. Loss : 2.012e-01 | Val. Loss : 2.342e-01 | LR : 4.886e-03 |\n"
      ]
     },
     "metadata": {},
     "output_type": "display_data"
    },
    {
     "data": {
      "text/html": [
       "<pre style=\"white-space:pre;overflow-x:auto;line-height:normal;font-family:Menlo,'DejaVu Sans Mono',consolas,'Courier New',monospace\">| Epoch :  120 | Trn. Loss : 2.139e-01 | Val. Loss : 1.959e-01 | LR : 4.857e-03 |\n",
       "</pre>\n"
      ],
      "text/plain": [
       "| Epoch :  120 | Trn. Loss : 2.139e-01 | Val. Loss : 1.959e-01 | LR : 4.857e-03 |\n"
      ]
     },
     "metadata": {},
     "output_type": "display_data"
    },
    {
     "data": {
      "text/html": [
       "<pre style=\"white-space:pre;overflow-x:auto;line-height:normal;font-family:Menlo,'DejaVu Sans Mono',consolas,'Courier New',monospace\">| Epoch :  121 | Trn. Loss : 2.174e-01 | Val. Loss : 2.147e-01 | LR : 4.828e-03 |\n",
       "</pre>\n"
      ],
      "text/plain": [
       "| Epoch :  121 | Trn. Loss : 2.174e-01 | Val. Loss : 2.147e-01 | LR : 4.828e-03 |\n"
      ]
     },
     "metadata": {},
     "output_type": "display_data"
    },
    {
     "data": {
      "text/html": [
       "<pre style=\"white-space:pre;overflow-x:auto;line-height:normal;font-family:Menlo,'DejaVu Sans Mono',consolas,'Courier New',monospace\">| Epoch :  122 | Trn. Loss : 2.010e-01 | Val. Loss : 2.227e-01 | LR : 4.799e-03 |\n",
       "</pre>\n"
      ],
      "text/plain": [
       "| Epoch :  122 | Trn. Loss : 2.010e-01 | Val. Loss : 2.227e-01 | LR : 4.799e-03 |\n"
      ]
     },
     "metadata": {},
     "output_type": "display_data"
    },
    {
     "data": {
      "text/html": [
       "<pre style=\"white-space:pre;overflow-x:auto;line-height:normal;font-family:Menlo,'DejaVu Sans Mono',consolas,'Courier New',monospace\">| Epoch :  123 | Trn. Loss : 2.022e-01 | Val. Loss : 2.087e-01 | LR : 4.770e-03 |\n",
       "</pre>\n"
      ],
      "text/plain": [
       "| Epoch :  123 | Trn. Loss : 2.022e-01 | Val. Loss : 2.087e-01 | LR : 4.770e-03 |\n"
      ]
     },
     "metadata": {},
     "output_type": "display_data"
    },
    {
     "data": {
      "text/html": [
       "<pre style=\"white-space:pre;overflow-x:auto;line-height:normal;font-family:Menlo,'DejaVu Sans Mono',consolas,'Courier New',monospace\">| Epoch :  124 | Trn. Loss : 1.772e-01 | Val. Loss : 2.254e-01 | LR : 4.741e-03 |\n",
       "</pre>\n"
      ],
      "text/plain": [
       "| Epoch :  124 | Trn. Loss : 1.772e-01 | Val. Loss : 2.254e-01 | LR : 4.741e-03 |\n"
      ]
     },
     "metadata": {},
     "output_type": "display_data"
    },
    {
     "data": {
      "text/html": [
       "<pre style=\"white-space:pre;overflow-x:auto;line-height:normal;font-family:Menlo,'DejaVu Sans Mono',consolas,'Courier New',monospace\">| Epoch :  125 | Trn. Loss : 1.763e-01 | Val. Loss : 2.072e-01 | LR : 4.713e-03 |\n",
       "</pre>\n"
      ],
      "text/plain": [
       "| Epoch :  125 | Trn. Loss : 1.763e-01 | Val. Loss : 2.072e-01 | LR : 4.713e-03 |\n"
      ]
     },
     "metadata": {},
     "output_type": "display_data"
    },
    {
     "data": {
      "text/html": [
       "<pre style=\"white-space:pre;overflow-x:auto;line-height:normal;font-family:Menlo,'DejaVu Sans Mono',consolas,'Courier New',monospace\">| Epoch :  126 | Trn. Loss : 1.840e-01 | Val. Loss : 2.269e-01 | LR : 4.685e-03 |\n",
       "</pre>\n"
      ],
      "text/plain": [
       "| Epoch :  126 | Trn. Loss : 1.840e-01 | Val. Loss : 2.269e-01 | LR : 4.685e-03 |\n"
      ]
     },
     "metadata": {},
     "output_type": "display_data"
    },
    {
     "data": {
      "text/html": [
       "<pre style=\"white-space:pre;overflow-x:auto;line-height:normal;font-family:Menlo,'DejaVu Sans Mono',consolas,'Courier New',monospace\">| Epoch :  127 | Trn. Loss : 1.932e-01 | Val. Loss : 2.585e-01 | LR : 4.657e-03 |\n",
       "</pre>\n"
      ],
      "text/plain": [
       "| Epoch :  127 | Trn. Loss : 1.932e-01 | Val. Loss : 2.585e-01 | LR : 4.657e-03 |\n"
      ]
     },
     "metadata": {},
     "output_type": "display_data"
    },
    {
     "data": {
      "text/html": [
       "<pre style=\"white-space:pre;overflow-x:auto;line-height:normal;font-family:Menlo,'DejaVu Sans Mono',consolas,'Courier New',monospace\">| Epoch :  128 | Trn. Loss : 1.731e-01 | Val. Loss : 2.000e-01 | LR : 4.629e-03 |\n",
       "</pre>\n"
      ],
      "text/plain": [
       "| Epoch :  128 | Trn. Loss : 1.731e-01 | Val. Loss : 2.000e-01 | LR : 4.629e-03 |\n"
      ]
     },
     "metadata": {},
     "output_type": "display_data"
    },
    {
     "data": {
      "text/html": [
       "<pre style=\"white-space:pre;overflow-x:auto;line-height:normal;font-family:Menlo,'DejaVu Sans Mono',consolas,'Courier New',monospace\">| Epoch :  129 | Trn. Loss : 1.629e-01 | Val. Loss : 2.714e-01 | LR : 4.601e-03 |\n",
       "</pre>\n"
      ],
      "text/plain": [
       "| Epoch :  129 | Trn. Loss : 1.629e-01 | Val. Loss : 2.714e-01 | LR : 4.601e-03 |\n"
      ]
     },
     "metadata": {},
     "output_type": "display_data"
    },
    {
     "data": {
      "text/html": [
       "<pre style=\"white-space:pre;overflow-x:auto;line-height:normal;font-family:Menlo,'DejaVu Sans Mono',consolas,'Courier New',monospace\">| Epoch :  130 | Trn. Loss : 1.725e-01 | Val. Loss : 3.995e-01 | LR : 4.573e-03 |\n",
       "</pre>\n"
      ],
      "text/plain": [
       "| Epoch :  130 | Trn. Loss : 1.725e-01 | Val. Loss : 3.995e-01 | LR : 4.573e-03 |\n"
      ]
     },
     "metadata": {},
     "output_type": "display_data"
    },
    {
     "data": {
      "text/html": [
       "<pre style=\"white-space:pre;overflow-x:auto;line-height:normal;font-family:Menlo,'DejaVu Sans Mono',consolas,'Courier New',monospace\">| Epoch :  131 | Trn. Loss : 1.743e-01 | Val. Loss : 2.020e-01 | LR : 4.546e-03 |\n",
       "</pre>\n"
      ],
      "text/plain": [
       "| Epoch :  131 | Trn. Loss : 1.743e-01 | Val. Loss : 2.020e-01 | LR : 4.546e-03 |\n"
      ]
     },
     "metadata": {},
     "output_type": "display_data"
    },
    {
     "data": {
      "text/html": [
       "<pre style=\"white-space:pre;overflow-x:auto;line-height:normal;font-family:Menlo,'DejaVu Sans Mono',consolas,'Courier New',monospace\">| Epoch :  132 | Trn. Loss : 1.819e-01 | Val. Loss : 3.175e-01 | LR : 4.519e-03 |\n",
       "</pre>\n"
      ],
      "text/plain": [
       "| Epoch :  132 | Trn. Loss : 1.819e-01 | Val. Loss : 3.175e-01 | LR : 4.519e-03 |\n"
      ]
     },
     "metadata": {},
     "output_type": "display_data"
    },
    {
     "data": {
      "text/html": [
       "<pre style=\"white-space:pre;overflow-x:auto;line-height:normal;font-family:Menlo,'DejaVu Sans Mono',consolas,'Courier New',monospace\">| Epoch :  133 | Trn. Loss : 1.687e-01 | Val. Loss : 2.973e-01 | LR : 4.491e-03 |\n",
       "</pre>\n"
      ],
      "text/plain": [
       "| Epoch :  133 | Trn. Loss : 1.687e-01 | Val. Loss : 2.973e-01 | LR : 4.491e-03 |\n"
      ]
     },
     "metadata": {},
     "output_type": "display_data"
    },
    {
     "data": {
      "text/html": [
       "<pre style=\"white-space:pre;overflow-x:auto;line-height:normal;font-family:Menlo,'DejaVu Sans Mono',consolas,'Courier New',monospace\">| Epoch :  134 | Trn. Loss : 1.735e-01 | Val. Loss : 2.551e-01 | LR : 4.465e-03 |\n",
       "</pre>\n"
      ],
      "text/plain": [
       "| Epoch :  134 | Trn. Loss : 1.735e-01 | Val. Loss : 2.551e-01 | LR : 4.465e-03 |\n"
      ]
     },
     "metadata": {},
     "output_type": "display_data"
    },
    {
     "data": {
      "text/html": [
       "<pre style=\"white-space:pre;overflow-x:auto;line-height:normal;font-family:Menlo,'DejaVu Sans Mono',consolas,'Courier New',monospace\">| Epoch :  135 | Trn. Loss : 1.762e-01 | Val. Loss : 3.403e-01 | LR : 4.438e-03 |\n",
       "</pre>\n"
      ],
      "text/plain": [
       "| Epoch :  135 | Trn. Loss : 1.762e-01 | Val. Loss : 3.403e-01 | LR : 4.438e-03 |\n"
      ]
     },
     "metadata": {},
     "output_type": "display_data"
    },
    {
     "data": {
      "text/html": [
       "<pre style=\"white-space:pre;overflow-x:auto;line-height:normal;font-family:Menlo,'DejaVu Sans Mono',consolas,'Courier New',monospace\">| Epoch :  136 | Trn. Loss : 1.797e-01 | Val. Loss : 2.435e-01 | LR : 4.411e-03 |\n",
       "</pre>\n"
      ],
      "text/plain": [
       "| Epoch :  136 | Trn. Loss : 1.797e-01 | Val. Loss : 2.435e-01 | LR : 4.411e-03 |\n"
      ]
     },
     "metadata": {},
     "output_type": "display_data"
    },
    {
     "data": {
      "text/html": [
       "<pre style=\"white-space:pre;overflow-x:auto;line-height:normal;font-family:Menlo,'DejaVu Sans Mono',consolas,'Courier New',monospace\">| Epoch :  137 | Trn. Loss : 1.882e-01 | Val. Loss : 5.136e-01 | LR : 4.385e-03 |\n",
       "</pre>\n"
      ],
      "text/plain": [
       "| Epoch :  137 | Trn. Loss : 1.882e-01 | Val. Loss : 5.136e-01 | LR : 4.385e-03 |\n"
      ]
     },
     "metadata": {},
     "output_type": "display_data"
    },
    {
     "data": {
      "text/html": [
       "<pre style=\"white-space:pre;overflow-x:auto;line-height:normal;font-family:Menlo,'DejaVu Sans Mono',consolas,'Courier New',monospace\">| Epoch :  138 | Trn. Loss : 1.786e-01 | Val. Loss : 2.287e-01 | LR : 4.358e-03 |\n",
       "</pre>\n"
      ],
      "text/plain": [
       "| Epoch :  138 | Trn. Loss : 1.786e-01 | Val. Loss : 2.287e-01 | LR : 4.358e-03 |\n"
      ]
     },
     "metadata": {},
     "output_type": "display_data"
    },
    {
     "data": {
      "text/html": [
       "<pre style=\"white-space:pre;overflow-x:auto;line-height:normal;font-family:Menlo,'DejaVu Sans Mono',consolas,'Courier New',monospace\">| Epoch :  139 | Trn. Loss : 1.779e-01 | Val. Loss : 2.245e-01 | LR : 4.332e-03 |\n",
       "</pre>\n"
      ],
      "text/plain": [
       "| Epoch :  139 | Trn. Loss : 1.779e-01 | Val. Loss : 2.245e-01 | LR : 4.332e-03 |\n"
      ]
     },
     "metadata": {},
     "output_type": "display_data"
    },
    {
     "data": {
      "text/html": [
       "<pre style=\"white-space:pre;overflow-x:auto;line-height:normal;font-family:Menlo,'DejaVu Sans Mono',consolas,'Courier New',monospace\">| Epoch :  140 | Trn. Loss : 1.918e-01 | Val. Loss : 2.305e-01 | LR : 4.306e-03 |\n",
       "</pre>\n"
      ],
      "text/plain": [
       "| Epoch :  140 | Trn. Loss : 1.918e-01 | Val. Loss : 2.305e-01 | LR : 4.306e-03 |\n"
      ]
     },
     "metadata": {},
     "output_type": "display_data"
    },
    {
     "data": {
      "text/html": [
       "<pre style=\"white-space:pre;overflow-x:auto;line-height:normal;font-family:Menlo,'DejaVu Sans Mono',consolas,'Courier New',monospace\">| Epoch :  141 | Trn. Loss : 1.613e-01 | Val. Loss : 2.279e-01 | LR : 4.280e-03 |\n",
       "</pre>\n"
      ],
      "text/plain": [
       "| Epoch :  141 | Trn. Loss : 1.613e-01 | Val. Loss : 2.279e-01 | LR : 4.280e-03 |\n"
      ]
     },
     "metadata": {},
     "output_type": "display_data"
    },
    {
     "data": {
      "text/html": [
       "<pre style=\"white-space:pre;overflow-x:auto;line-height:normal;font-family:Menlo,'DejaVu Sans Mono',consolas,'Courier New',monospace\">| Epoch :  142 | Trn. Loss : 1.749e-01 | Val. Loss : 5.825e-01 | LR : 4.255e-03 |\n",
       "</pre>\n"
      ],
      "text/plain": [
       "| Epoch :  142 | Trn. Loss : 1.749e-01 | Val. Loss : 5.825e-01 | LR : 4.255e-03 |\n"
      ]
     },
     "metadata": {},
     "output_type": "display_data"
    },
    {
     "data": {
      "text/html": [
       "<pre style=\"white-space:pre;overflow-x:auto;line-height:normal;font-family:Menlo,'DejaVu Sans Mono',consolas,'Courier New',monospace\">| Epoch :  143 | Trn. Loss : 1.856e-01 | Val. Loss : 2.149e-01 | LR : 4.229e-03 |\n",
       "</pre>\n"
      ],
      "text/plain": [
       "| Epoch :  143 | Trn. Loss : 1.856e-01 | Val. Loss : 2.149e-01 | LR : 4.229e-03 |\n"
      ]
     },
     "metadata": {},
     "output_type": "display_data"
    },
    {
     "data": {
      "text/html": [
       "<pre style=\"white-space:pre;overflow-x:auto;line-height:normal;font-family:Menlo,'DejaVu Sans Mono',consolas,'Courier New',monospace\">| Epoch :  144 | Trn. Loss : 1.751e-01 | Val. Loss : 2.574e-01 | LR : 4.204e-03 |\n",
       "</pre>\n"
      ],
      "text/plain": [
       "| Epoch :  144 | Trn. Loss : 1.751e-01 | Val. Loss : 2.574e-01 | LR : 4.204e-03 |\n"
      ]
     },
     "metadata": {},
     "output_type": "display_data"
    },
    {
     "data": {
      "text/html": [
       "<pre style=\"white-space:pre;overflow-x:auto;line-height:normal;font-family:Menlo,'DejaVu Sans Mono',consolas,'Courier New',monospace\">| Epoch :  145 | Trn. Loss : 1.870e-01 | Val. Loss : 2.635e-01 | LR : 4.179e-03 |\n",
       "</pre>\n"
      ],
      "text/plain": [
       "| Epoch :  145 | Trn. Loss : 1.870e-01 | Val. Loss : 2.635e-01 | LR : 4.179e-03 |\n"
      ]
     },
     "metadata": {},
     "output_type": "display_data"
    },
    {
     "data": {
      "text/html": [
       "<pre style=\"white-space:pre;overflow-x:auto;line-height:normal;font-family:Menlo,'DejaVu Sans Mono',consolas,'Courier New',monospace\">| Epoch :  146 | Trn. Loss : 1.870e-01 | Val. Loss : 3.357e-01 | LR : 4.153e-03 |\n",
       "</pre>\n"
      ],
      "text/plain": [
       "| Epoch :  146 | Trn. Loss : 1.870e-01 | Val. Loss : 3.357e-01 | LR : 4.153e-03 |\n"
      ]
     },
     "metadata": {},
     "output_type": "display_data"
    },
    {
     "data": {
      "text/html": [
       "<pre style=\"white-space:pre;overflow-x:auto;line-height:normal;font-family:Menlo,'DejaVu Sans Mono',consolas,'Courier New',monospace\">| Epoch :  147 | Trn. Loss : 1.708e-01 | Val. Loss : 2.187e-01 | LR : 4.129e-03 |\n",
       "</pre>\n"
      ],
      "text/plain": [
       "| Epoch :  147 | Trn. Loss : 1.708e-01 | Val. Loss : 2.187e-01 | LR : 4.129e-03 |\n"
      ]
     },
     "metadata": {},
     "output_type": "display_data"
    },
    {
     "data": {
      "text/html": [
       "<pre style=\"white-space:pre;overflow-x:auto;line-height:normal;font-family:Menlo,'DejaVu Sans Mono',consolas,'Courier New',monospace\">| Epoch :  148 | Trn. Loss : 1.637e-01 | Val. Loss : 3.063e-01 | LR : 4.104e-03 |\n",
       "</pre>\n"
      ],
      "text/plain": [
       "| Epoch :  148 | Trn. Loss : 1.637e-01 | Val. Loss : 3.063e-01 | LR : 4.104e-03 |\n"
      ]
     },
     "metadata": {},
     "output_type": "display_data"
    },
    {
     "data": {
      "text/html": [
       "<pre style=\"white-space:pre;overflow-x:auto;line-height:normal;font-family:Menlo,'DejaVu Sans Mono',consolas,'Courier New',monospace\">| Epoch :  149 | Trn. Loss : 1.842e-01 | Val. Loss : 4.448e-01 | LR : 4.079e-03 |\n",
       "</pre>\n"
      ],
      "text/plain": [
       "| Epoch :  149 | Trn. Loss : 1.842e-01 | Val. Loss : 4.448e-01 | LR : 4.079e-03 |\n"
      ]
     },
     "metadata": {},
     "output_type": "display_data"
    },
    {
     "data": {
      "text/html": [
       "<pre style=\"white-space:pre;overflow-x:auto;line-height:normal;font-family:Menlo,'DejaVu Sans Mono',consolas,'Courier New',monospace\">| Epoch :  150 | Trn. Loss : 1.693e-01 | Val. Loss : 2.141e-01 | LR : 4.055e-03 |\n",
       "</pre>\n"
      ],
      "text/plain": [
       "| Epoch :  150 | Trn. Loss : 1.693e-01 | Val. Loss : 2.141e-01 | LR : 4.055e-03 |\n"
      ]
     },
     "metadata": {},
     "output_type": "display_data"
    },
    {
     "data": {
      "text/html": [
       "<pre style=\"white-space:pre;overflow-x:auto;line-height:normal;font-family:Menlo,'DejaVu Sans Mono',consolas,'Courier New',monospace\">| Epoch :  151 | Trn. Loss : 1.591e-01 | Val. Loss : 2.686e-01 | LR : 4.030e-03 |\n",
       "</pre>\n"
      ],
      "text/plain": [
       "| Epoch :  151 | Trn. Loss : 1.591e-01 | Val. Loss : 2.686e-01 | LR : 4.030e-03 |\n"
      ]
     },
     "metadata": {},
     "output_type": "display_data"
    },
    {
     "data": {
      "text/html": [
       "<pre style=\"white-space:pre;overflow-x:auto;line-height:normal;font-family:Menlo,'DejaVu Sans Mono',consolas,'Courier New',monospace\">| Epoch :  152 | Trn. Loss : 1.836e-01 | Val. Loss : 2.964e-01 | LR : 4.006e-03 |\n",
       "</pre>\n"
      ],
      "text/plain": [
       "| Epoch :  152 | Trn. Loss : 1.836e-01 | Val. Loss : 2.964e-01 | LR : 4.006e-03 |\n"
      ]
     },
     "metadata": {},
     "output_type": "display_data"
    },
    {
     "data": {
      "text/html": [
       "<pre style=\"white-space:pre;overflow-x:auto;line-height:normal;font-family:Menlo,'DejaVu Sans Mono',consolas,'Courier New',monospace\">| Epoch :  153 | Trn. Loss : 1.795e-01 | Val. Loss : 2.923e-01 | LR : 3.982e-03 |\n",
       "</pre>\n"
      ],
      "text/plain": [
       "| Epoch :  153 | Trn. Loss : 1.795e-01 | Val. Loss : 2.923e-01 | LR : 3.982e-03 |\n"
      ]
     },
     "metadata": {},
     "output_type": "display_data"
    },
    {
     "data": {
      "text/html": [
       "<pre style=\"white-space:pre;overflow-x:auto;line-height:normal;font-family:Menlo,'DejaVu Sans Mono',consolas,'Courier New',monospace\">| Epoch :  154 | Trn. Loss : 1.537e-01 | Val. Loss : 3.267e-01 | LR : 3.958e-03 |\n",
       "</pre>\n"
      ],
      "text/plain": [
       "| Epoch :  154 | Trn. Loss : 1.537e-01 | Val. Loss : 3.267e-01 | LR : 3.958e-03 |\n"
      ]
     },
     "metadata": {},
     "output_type": "display_data"
    },
    {
     "data": {
      "text/html": [
       "<pre style=\"white-space:pre;overflow-x:auto;line-height:normal;font-family:Menlo,'DejaVu Sans Mono',consolas,'Courier New',monospace\">| Epoch :  155 | Trn. Loss : 1.713e-01 | Val. Loss : 2.850e-01 | LR : 3.935e-03 |\n",
       "</pre>\n"
      ],
      "text/plain": [
       "| Epoch :  155 | Trn. Loss : 1.713e-01 | Val. Loss : 2.850e-01 | LR : 3.935e-03 |\n"
      ]
     },
     "metadata": {},
     "output_type": "display_data"
    },
    {
     "data": {
      "text/html": [
       "<pre style=\"white-space:pre;overflow-x:auto;line-height:normal;font-family:Menlo,'DejaVu Sans Mono',consolas,'Courier New',monospace\">| Epoch :  156 | Trn. Loss : 1.635e-01 | Val. Loss : 4.675e-01 | LR : 3.911e-03 |\n",
       "</pre>\n"
      ],
      "text/plain": [
       "| Epoch :  156 | Trn. Loss : 1.635e-01 | Val. Loss : 4.675e-01 | LR : 3.911e-03 |\n"
      ]
     },
     "metadata": {},
     "output_type": "display_data"
    },
    {
     "data": {
      "text/html": [
       "<pre style=\"white-space:pre;overflow-x:auto;line-height:normal;font-family:Menlo,'DejaVu Sans Mono',consolas,'Courier New',monospace\">| Epoch :  157 | Trn. Loss : 1.782e-01 | Val. Loss : 2.225e-01 | LR : 3.887e-03 |\n",
       "</pre>\n"
      ],
      "text/plain": [
       "| Epoch :  157 | Trn. Loss : 1.782e-01 | Val. Loss : 2.225e-01 | LR : 3.887e-03 |\n"
      ]
     },
     "metadata": {},
     "output_type": "display_data"
    },
    {
     "data": {
      "text/html": [
       "<pre style=\"white-space:pre;overflow-x:auto;line-height:normal;font-family:Menlo,'DejaVu Sans Mono',consolas,'Courier New',monospace\">| Epoch :  158 | Trn. Loss : 1.588e-01 | Val. Loss : 2.110e-01 | LR : 3.864e-03 |\n",
       "</pre>\n"
      ],
      "text/plain": [
       "| Epoch :  158 | Trn. Loss : 1.588e-01 | Val. Loss : 2.110e-01 | LR : 3.864e-03 |\n"
      ]
     },
     "metadata": {},
     "output_type": "display_data"
    },
    {
     "data": {
      "text/html": [
       "<pre style=\"white-space:pre;overflow-x:auto;line-height:normal;font-family:Menlo,'DejaVu Sans Mono',consolas,'Courier New',monospace\">| Epoch :  159 | Trn. Loss : 1.595e-01 | Val. Loss : 3.195e-01 | LR : 3.841e-03 |\n",
       "</pre>\n"
      ],
      "text/plain": [
       "| Epoch :  159 | Trn. Loss : 1.595e-01 | Val. Loss : 3.195e-01 | LR : 3.841e-03 |\n"
      ]
     },
     "metadata": {},
     "output_type": "display_data"
    },
    {
     "data": {
      "text/html": [
       "<pre style=\"white-space:pre;overflow-x:auto;line-height:normal;font-family:Menlo,'DejaVu Sans Mono',consolas,'Courier New',monospace\">| Epoch :  160 | Trn. Loss : 1.574e-01 | Val. Loss : 2.471e-01 | LR : 3.818e-03 |\n",
       "</pre>\n"
      ],
      "text/plain": [
       "| Epoch :  160 | Trn. Loss : 1.574e-01 | Val. Loss : 2.471e-01 | LR : 3.818e-03 |\n"
      ]
     },
     "metadata": {},
     "output_type": "display_data"
    },
    {
     "data": {
      "text/html": [
       "<pre style=\"white-space:pre;overflow-x:auto;line-height:normal;font-family:Menlo,'DejaVu Sans Mono',consolas,'Courier New',monospace\">| Epoch :  161 | Trn. Loss : 1.718e-01 | Val. Loss : 3.378e-01 | LR : 3.795e-03 |\n",
       "</pre>\n"
      ],
      "text/plain": [
       "| Epoch :  161 | Trn. Loss : 1.718e-01 | Val. Loss : 3.378e-01 | LR : 3.795e-03 |\n"
      ]
     },
     "metadata": {},
     "output_type": "display_data"
    },
    {
     "data": {
      "text/html": [
       "<pre style=\"white-space:pre;overflow-x:auto;line-height:normal;font-family:Menlo,'DejaVu Sans Mono',consolas,'Courier New',monospace\">| Epoch :  162 | Trn. Loss : 1.802e-01 | Val. Loss : 2.512e-01 | LR : 3.772e-03 |\n",
       "</pre>\n"
      ],
      "text/plain": [
       "| Epoch :  162 | Trn. Loss : 1.802e-01 | Val. Loss : 2.512e-01 | LR : 3.772e-03 |\n"
      ]
     },
     "metadata": {},
     "output_type": "display_data"
    },
    {
     "data": {
      "text/html": [
       "<pre style=\"white-space:pre;overflow-x:auto;line-height:normal;font-family:Menlo,'DejaVu Sans Mono',consolas,'Courier New',monospace\">| Epoch :  163 | Trn. Loss : 1.757e-01 | Val. Loss : 3.073e-01 | LR : 3.750e-03 |\n",
       "</pre>\n"
      ],
      "text/plain": [
       "| Epoch :  163 | Trn. Loss : 1.757e-01 | Val. Loss : 3.073e-01 | LR : 3.750e-03 |\n"
      ]
     },
     "metadata": {},
     "output_type": "display_data"
    },
    {
     "data": {
      "text/html": [
       "<pre style=\"white-space:pre;overflow-x:auto;line-height:normal;font-family:Menlo,'DejaVu Sans Mono',consolas,'Courier New',monospace\">| Epoch :  164 | Trn. Loss : 1.840e-01 | Val. Loss : 2.193e-01 | LR : 3.727e-03 |\n",
       "</pre>\n"
      ],
      "text/plain": [
       "| Epoch :  164 | Trn. Loss : 1.840e-01 | Val. Loss : 2.193e-01 | LR : 3.727e-03 |\n"
      ]
     },
     "metadata": {},
     "output_type": "display_data"
    },
    {
     "data": {
      "text/html": [
       "<pre style=\"white-space:pre;overflow-x:auto;line-height:normal;font-family:Menlo,'DejaVu Sans Mono',consolas,'Courier New',monospace\">| Epoch :  165 | Trn. Loss : 1.862e-01 | Val. Loss : 4.735e-01 | LR : 3.705e-03 |\n",
       "</pre>\n"
      ],
      "text/plain": [
       "| Epoch :  165 | Trn. Loss : 1.862e-01 | Val. Loss : 4.735e-01 | LR : 3.705e-03 |\n"
      ]
     },
     "metadata": {},
     "output_type": "display_data"
    },
    {
     "data": {
      "text/html": [
       "<pre style=\"white-space:pre;overflow-x:auto;line-height:normal;font-family:Menlo,'DejaVu Sans Mono',consolas,'Courier New',monospace\">| Epoch :  166 | Trn. Loss : 1.824e-01 | Val. Loss : 3.127e-01 | LR : 3.682e-03 |\n",
       "</pre>\n"
      ],
      "text/plain": [
       "| Epoch :  166 | Trn. Loss : 1.824e-01 | Val. Loss : 3.127e-01 | LR : 3.682e-03 |\n"
      ]
     },
     "metadata": {},
     "output_type": "display_data"
    },
    {
     "data": {
      "text/html": [
       "<pre style=\"white-space:pre;overflow-x:auto;line-height:normal;font-family:Menlo,'DejaVu Sans Mono',consolas,'Courier New',monospace\">| Epoch :  167 | Trn. Loss : 1.627e-01 | Val. Loss : 3.690e-01 | LR : 3.660e-03 |\n",
       "</pre>\n"
      ],
      "text/plain": [
       "| Epoch :  167 | Trn. Loss : 1.627e-01 | Val. Loss : 3.690e-01 | LR : 3.660e-03 |\n"
      ]
     },
     "metadata": {},
     "output_type": "display_data"
    },
    {
     "data": {
      "text/html": [
       "<pre style=\"white-space:pre;overflow-x:auto;line-height:normal;font-family:Menlo,'DejaVu Sans Mono',consolas,'Courier New',monospace\">| Epoch :  168 | Trn. Loss : 1.463e-01 | Val. Loss : 1.939e-01 | LR : 3.638e-03 |\n",
       "</pre>\n"
      ],
      "text/plain": [
       "| Epoch :  168 | Trn. Loss : 1.463e-01 | Val. Loss : 1.939e-01 | LR : 3.638e-03 |\n"
      ]
     },
     "metadata": {},
     "output_type": "display_data"
    },
    {
     "data": {
      "text/html": [
       "<pre style=\"white-space:pre;overflow-x:auto;line-height:normal;font-family:Menlo,'DejaVu Sans Mono',consolas,'Courier New',monospace\">| Epoch :  169 | Trn. Loss : 1.680e-01 | Val. Loss : 3.705e-01 | LR : 3.617e-03 |\n",
       "</pre>\n"
      ],
      "text/plain": [
       "| Epoch :  169 | Trn. Loss : 1.680e-01 | Val. Loss : 3.705e-01 | LR : 3.617e-03 |\n"
      ]
     },
     "metadata": {},
     "output_type": "display_data"
    },
    {
     "data": {
      "text/html": [
       "<pre style=\"white-space:pre;overflow-x:auto;line-height:normal;font-family:Menlo,'DejaVu Sans Mono',consolas,'Courier New',monospace\">| Epoch :  170 | Trn. Loss : 1.773e-01 | Val. Loss : 1.756e-01 | LR : 3.595e-03 |\n",
       "</pre>\n"
      ],
      "text/plain": [
       "| Epoch :  170 | Trn. Loss : 1.773e-01 | Val. Loss : 1.756e-01 | LR : 3.595e-03 |\n"
      ]
     },
     "metadata": {},
     "output_type": "display_data"
    },
    {
     "data": {
      "text/html": [
       "<pre style=\"white-space:pre;overflow-x:auto;line-height:normal;font-family:Menlo,'DejaVu Sans Mono',consolas,'Courier New',monospace\">| Epoch :  171 | Trn. Loss : 1.603e-01 | Val. Loss : 2.538e-01 | LR : 3.573e-03 |\n",
       "</pre>\n"
      ],
      "text/plain": [
       "| Epoch :  171 | Trn. Loss : 1.603e-01 | Val. Loss : 2.538e-01 | LR : 3.573e-03 |\n"
      ]
     },
     "metadata": {},
     "output_type": "display_data"
    },
    {
     "data": {
      "text/html": [
       "<pre style=\"white-space:pre;overflow-x:auto;line-height:normal;font-family:Menlo,'DejaVu Sans Mono',consolas,'Courier New',monospace\">| Epoch :  172 | Trn. Loss : 1.698e-01 | Val. Loss : 2.427e-01 | LR : 3.552e-03 |\n",
       "</pre>\n"
      ],
      "text/plain": [
       "| Epoch :  172 | Trn. Loss : 1.698e-01 | Val. Loss : 2.427e-01 | LR : 3.552e-03 |\n"
      ]
     },
     "metadata": {},
     "output_type": "display_data"
    },
    {
     "data": {
      "text/html": [
       "<pre style=\"white-space:pre;overflow-x:auto;line-height:normal;font-family:Menlo,'DejaVu Sans Mono',consolas,'Courier New',monospace\">| Epoch :  173 | Trn. Loss : 1.689e-01 | Val. Loss : 3.626e-01 | LR : 3.531e-03 |\n",
       "</pre>\n"
      ],
      "text/plain": [
       "| Epoch :  173 | Trn. Loss : 1.689e-01 | Val. Loss : 3.626e-01 | LR : 3.531e-03 |\n"
      ]
     },
     "metadata": {},
     "output_type": "display_data"
    },
    {
     "data": {
      "text/html": [
       "<pre style=\"white-space:pre;overflow-x:auto;line-height:normal;font-family:Menlo,'DejaVu Sans Mono',consolas,'Courier New',monospace\">| Epoch :  174 | Trn. Loss : 1.629e-01 | Val. Loss : 2.001e-01 | LR : 3.509e-03 |\n",
       "</pre>\n"
      ],
      "text/plain": [
       "| Epoch :  174 | Trn. Loss : 1.629e-01 | Val. Loss : 2.001e-01 | LR : 3.509e-03 |\n"
      ]
     },
     "metadata": {},
     "output_type": "display_data"
    },
    {
     "data": {
      "text/html": [
       "<pre style=\"white-space:pre;overflow-x:auto;line-height:normal;font-family:Menlo,'DejaVu Sans Mono',consolas,'Courier New',monospace\">| Epoch :  175 | Trn. Loss : 1.617e-01 | Val. Loss : 1.999e-01 | LR : 3.488e-03 |\n",
       "</pre>\n"
      ],
      "text/plain": [
       "| Epoch :  175 | Trn. Loss : 1.617e-01 | Val. Loss : 1.999e-01 | LR : 3.488e-03 |\n"
      ]
     },
     "metadata": {},
     "output_type": "display_data"
    },
    {
     "data": {
      "text/html": [
       "<pre style=\"white-space:pre;overflow-x:auto;line-height:normal;font-family:Menlo,'DejaVu Sans Mono',consolas,'Courier New',monospace\">| Epoch :  176 | Trn. Loss : 1.534e-01 | Val. Loss : 2.819e-01 | LR : 3.467e-03 |\n",
       "</pre>\n"
      ],
      "text/plain": [
       "| Epoch :  176 | Trn. Loss : 1.534e-01 | Val. Loss : 2.819e-01 | LR : 3.467e-03 |\n"
      ]
     },
     "metadata": {},
     "output_type": "display_data"
    },
    {
     "data": {
      "text/html": [
       "<pre style=\"white-space:pre;overflow-x:auto;line-height:normal;font-family:Menlo,'DejaVu Sans Mono',consolas,'Courier New',monospace\">| Epoch :  177 | Trn. Loss : 1.543e-01 | Val. Loss : 2.332e-01 | LR : 3.447e-03 |\n",
       "</pre>\n"
      ],
      "text/plain": [
       "| Epoch :  177 | Trn. Loss : 1.543e-01 | Val. Loss : 2.332e-01 | LR : 3.447e-03 |\n"
      ]
     },
     "metadata": {},
     "output_type": "display_data"
    },
    {
     "data": {
      "text/html": [
       "<pre style=\"white-space:pre;overflow-x:auto;line-height:normal;font-family:Menlo,'DejaVu Sans Mono',consolas,'Courier New',monospace\">| Epoch :  178 | Trn. Loss : 1.578e-01 | Val. Loss : 3.151e-01 | LR : 3.426e-03 |\n",
       "</pre>\n"
      ],
      "text/plain": [
       "| Epoch :  178 | Trn. Loss : 1.578e-01 | Val. Loss : 3.151e-01 | LR : 3.426e-03 |\n"
      ]
     },
     "metadata": {},
     "output_type": "display_data"
    },
    {
     "data": {
      "text/html": [
       "<pre style=\"white-space:pre;overflow-x:auto;line-height:normal;font-family:Menlo,'DejaVu Sans Mono',consolas,'Courier New',monospace\">| Epoch :  179 | Trn. Loss : 1.621e-01 | Val. Loss : 2.418e-01 | LR : 3.405e-03 |\n",
       "</pre>\n"
      ],
      "text/plain": [
       "| Epoch :  179 | Trn. Loss : 1.621e-01 | Val. Loss : 2.418e-01 | LR : 3.405e-03 |\n"
      ]
     },
     "metadata": {},
     "output_type": "display_data"
    },
    {
     "data": {
      "text/html": [
       "<pre style=\"white-space:pre;overflow-x:auto;line-height:normal;font-family:Menlo,'DejaVu Sans Mono',consolas,'Courier New',monospace\">| Epoch :  180 | Trn. Loss : 1.511e-01 | Val. Loss : 2.952e-01 | LR : 3.385e-03 |\n",
       "</pre>\n"
      ],
      "text/plain": [
       "| Epoch :  180 | Trn. Loss : 1.511e-01 | Val. Loss : 2.952e-01 | LR : 3.385e-03 |\n"
      ]
     },
     "metadata": {},
     "output_type": "display_data"
    },
    {
     "data": {
      "text/html": [
       "<pre style=\"white-space:pre;overflow-x:auto;line-height:normal;font-family:Menlo,'DejaVu Sans Mono',consolas,'Courier New',monospace\">| Epoch :  181 | Trn. Loss : 1.605e-01 | Val. Loss : 4.478e-01 | LR : 3.365e-03 |\n",
       "</pre>\n"
      ],
      "text/plain": [
       "| Epoch :  181 | Trn. Loss : 1.605e-01 | Val. Loss : 4.478e-01 | LR : 3.365e-03 |\n"
      ]
     },
     "metadata": {},
     "output_type": "display_data"
    },
    {
     "data": {
      "text/html": [
       "<pre style=\"white-space:pre;overflow-x:auto;line-height:normal;font-family:Menlo,'DejaVu Sans Mono',consolas,'Courier New',monospace\">| Epoch :  182 | Trn. Loss : 1.675e-01 | Val. Loss : 2.273e-01 | LR : 3.344e-03 |\n",
       "</pre>\n"
      ],
      "text/plain": [
       "| Epoch :  182 | Trn. Loss : 1.675e-01 | Val. Loss : 2.273e-01 | LR : 3.344e-03 |\n"
      ]
     },
     "metadata": {},
     "output_type": "display_data"
    },
    {
     "data": {
      "text/html": [
       "<pre style=\"white-space:pre;overflow-x:auto;line-height:normal;font-family:Menlo,'DejaVu Sans Mono',consolas,'Courier New',monospace\">| Epoch :  183 | Trn. Loss : 1.552e-01 | Val. Loss : 3.437e-01 | LR : 3.324e-03 |\n",
       "</pre>\n"
      ],
      "text/plain": [
       "| Epoch :  183 | Trn. Loss : 1.552e-01 | Val. Loss : 3.437e-01 | LR : 3.324e-03 |\n"
      ]
     },
     "metadata": {},
     "output_type": "display_data"
    },
    {
     "data": {
      "text/html": [
       "<pre style=\"white-space:pre;overflow-x:auto;line-height:normal;font-family:Menlo,'DejaVu Sans Mono',consolas,'Courier New',monospace\">| Epoch :  184 | Trn. Loss : 1.729e-01 | Val. Loss : 3.643e-01 | LR : 3.304e-03 |\n",
       "</pre>\n"
      ],
      "text/plain": [
       "| Epoch :  184 | Trn. Loss : 1.729e-01 | Val. Loss : 3.643e-01 | LR : 3.304e-03 |\n"
      ]
     },
     "metadata": {},
     "output_type": "display_data"
    },
    {
     "data": {
      "text/html": [
       "<pre style=\"white-space:pre;overflow-x:auto;line-height:normal;font-family:Menlo,'DejaVu Sans Mono',consolas,'Courier New',monospace\">| Epoch :  185 | Trn. Loss : 1.664e-01 | Val. Loss : 1.883e-01 | LR : 3.285e-03 |\n",
       "</pre>\n"
      ],
      "text/plain": [
       "| Epoch :  185 | Trn. Loss : 1.664e-01 | Val. Loss : 1.883e-01 | LR : 3.285e-03 |\n"
      ]
     },
     "metadata": {},
     "output_type": "display_data"
    },
    {
     "data": {
      "text/html": [
       "<pre style=\"white-space:pre;overflow-x:auto;line-height:normal;font-family:Menlo,'DejaVu Sans Mono',consolas,'Courier New',monospace\">| Epoch :  186 | Trn. Loss : 1.645e-01 | Val. Loss : 4.624e-01 | LR : 3.265e-03 |\n",
       "</pre>\n"
      ],
      "text/plain": [
       "| Epoch :  186 | Trn. Loss : 1.645e-01 | Val. Loss : 4.624e-01 | LR : 3.265e-03 |\n"
      ]
     },
     "metadata": {},
     "output_type": "display_data"
    },
    {
     "data": {
      "text/html": [
       "<pre style=\"white-space:pre;overflow-x:auto;line-height:normal;font-family:Menlo,'DejaVu Sans Mono',consolas,'Courier New',monospace\">| Epoch :  187 | Trn. Loss : 1.576e-01 | Val. Loss : 1.742e-01 | LR : 3.245e-03 |\n",
       "</pre>\n"
      ],
      "text/plain": [
       "| Epoch :  187 | Trn. Loss : 1.576e-01 | Val. Loss : 1.742e-01 | LR : 3.245e-03 |\n"
      ]
     },
     "metadata": {},
     "output_type": "display_data"
    },
    {
     "data": {
      "text/html": [
       "<pre style=\"white-space:pre;overflow-x:auto;line-height:normal;font-family:Menlo,'DejaVu Sans Mono',consolas,'Courier New',monospace\">| Epoch :  188 | Trn. Loss : 1.718e-01 | Val. Loss : 1.958e-01 | LR : 3.226e-03 |\n",
       "</pre>\n"
      ],
      "text/plain": [
       "| Epoch :  188 | Trn. Loss : 1.718e-01 | Val. Loss : 1.958e-01 | LR : 3.226e-03 |\n"
      ]
     },
     "metadata": {},
     "output_type": "display_data"
    },
    {
     "data": {
      "text/html": [
       "<pre style=\"white-space:pre;overflow-x:auto;line-height:normal;font-family:Menlo,'DejaVu Sans Mono',consolas,'Courier New',monospace\">| Epoch :  189 | Trn. Loss : 1.739e-01 | Val. Loss : 2.253e-01 | LR : 3.206e-03 |\n",
       "</pre>\n"
      ],
      "text/plain": [
       "| Epoch :  189 | Trn. Loss : 1.739e-01 | Val. Loss : 2.253e-01 | LR : 3.206e-03 |\n"
      ]
     },
     "metadata": {},
     "output_type": "display_data"
    },
    {
     "data": {
      "text/html": [
       "<pre style=\"white-space:pre;overflow-x:auto;line-height:normal;font-family:Menlo,'DejaVu Sans Mono',consolas,'Courier New',monospace\">| Epoch :  190 | Trn. Loss : 1.649e-01 | Val. Loss : 2.092e-01 | LR : 3.187e-03 |\n",
       "</pre>\n"
      ],
      "text/plain": [
       "| Epoch :  190 | Trn. Loss : 1.649e-01 | Val. Loss : 2.092e-01 | LR : 3.187e-03 |\n"
      ]
     },
     "metadata": {},
     "output_type": "display_data"
    },
    {
     "data": {
      "text/html": [
       "<pre style=\"white-space:pre;overflow-x:auto;line-height:normal;font-family:Menlo,'DejaVu Sans Mono',consolas,'Courier New',monospace\">| Epoch :  191 | Trn. Loss : 1.542e-01 | Val. Loss : 4.553e-01 | LR : 3.168e-03 |\n",
       "</pre>\n"
      ],
      "text/plain": [
       "| Epoch :  191 | Trn. Loss : 1.542e-01 | Val. Loss : 4.553e-01 | LR : 3.168e-03 |\n"
      ]
     },
     "metadata": {},
     "output_type": "display_data"
    },
    {
     "data": {
      "text/html": [
       "<pre style=\"white-space:pre;overflow-x:auto;line-height:normal;font-family:Menlo,'DejaVu Sans Mono',consolas,'Courier New',monospace\">| Epoch :  192 | Trn. Loss : 1.697e-01 | Val. Loss : 1.923e-01 | LR : 3.149e-03 |\n",
       "</pre>\n"
      ],
      "text/plain": [
       "| Epoch :  192 | Trn. Loss : 1.697e-01 | Val. Loss : 1.923e-01 | LR : 3.149e-03 |\n"
      ]
     },
     "metadata": {},
     "output_type": "display_data"
    },
    {
     "data": {
      "text/html": [
       "<pre style=\"white-space:pre;overflow-x:auto;line-height:normal;font-family:Menlo,'DejaVu Sans Mono',consolas,'Courier New',monospace\">| Epoch :  193 | Trn. Loss : 1.510e-01 | Val. Loss : 3.951e-01 | LR : 3.130e-03 |\n",
       "</pre>\n"
      ],
      "text/plain": [
       "| Epoch :  193 | Trn. Loss : 1.510e-01 | Val. Loss : 3.951e-01 | LR : 3.130e-03 |\n"
      ]
     },
     "metadata": {},
     "output_type": "display_data"
    },
    {
     "data": {
      "text/html": [
       "<pre style=\"white-space:pre;overflow-x:auto;line-height:normal;font-family:Menlo,'DejaVu Sans Mono',consolas,'Courier New',monospace\">| Epoch :  194 | Trn. Loss : 1.489e-01 | Val. Loss : 2.304e-01 | LR : 3.111e-03 |\n",
       "</pre>\n"
      ],
      "text/plain": [
       "| Epoch :  194 | Trn. Loss : 1.489e-01 | Val. Loss : 2.304e-01 | LR : 3.111e-03 |\n"
      ]
     },
     "metadata": {},
     "output_type": "display_data"
    },
    {
     "data": {
      "text/html": [
       "<pre style=\"white-space:pre;overflow-x:auto;line-height:normal;font-family:Menlo,'DejaVu Sans Mono',consolas,'Courier New',monospace\">| Epoch :  195 | Trn. Loss : 1.473e-01 | Val. Loss : 1.968e-01 | LR : 3.093e-03 |\n",
       "</pre>\n"
      ],
      "text/plain": [
       "| Epoch :  195 | Trn. Loss : 1.473e-01 | Val. Loss : 1.968e-01 | LR : 3.093e-03 |\n"
      ]
     },
     "metadata": {},
     "output_type": "display_data"
    },
    {
     "data": {
      "text/html": [
       "<pre style=\"white-space:pre;overflow-x:auto;line-height:normal;font-family:Menlo,'DejaVu Sans Mono',consolas,'Courier New',monospace\">| Epoch :  196 | Trn. Loss : 1.647e-01 | Val. Loss : 1.786e-01 | LR : 3.074e-03 |\n",
       "</pre>\n"
      ],
      "text/plain": [
       "| Epoch :  196 | Trn. Loss : 1.647e-01 | Val. Loss : 1.786e-01 | LR : 3.074e-03 |\n"
      ]
     },
     "metadata": {},
     "output_type": "display_data"
    },
    {
     "data": {
      "text/html": [
       "<pre style=\"white-space:pre;overflow-x:auto;line-height:normal;font-family:Menlo,'DejaVu Sans Mono',consolas,'Courier New',monospace\">| Epoch :  197 | Trn. Loss : 1.530e-01 | Val. Loss : 2.001e-01 | LR : 3.056e-03 |\n",
       "</pre>\n"
      ],
      "text/plain": [
       "| Epoch :  197 | Trn. Loss : 1.530e-01 | Val. Loss : 2.001e-01 | LR : 3.056e-03 |\n"
      ]
     },
     "metadata": {},
     "output_type": "display_data"
    },
    {
     "data": {
      "text/html": [
       "<pre style=\"white-space:pre;overflow-x:auto;line-height:normal;font-family:Menlo,'DejaVu Sans Mono',consolas,'Courier New',monospace\">| Epoch :  198 | Trn. Loss : 1.555e-01 | Val. Loss : 2.068e-01 | LR : 3.037e-03 |\n",
       "</pre>\n"
      ],
      "text/plain": [
       "| Epoch :  198 | Trn. Loss : 1.555e-01 | Val. Loss : 2.068e-01 | LR : 3.037e-03 |\n"
      ]
     },
     "metadata": {},
     "output_type": "display_data"
    },
    {
     "data": {
      "text/html": [
       "<pre style=\"white-space:pre;overflow-x:auto;line-height:normal;font-family:Menlo,'DejaVu Sans Mono',consolas,'Courier New',monospace\">| Epoch :  199 | Trn. Loss : 1.419e-01 | Val. Loss : 1.680e-01 | LR : 3.019e-03 |\n",
       "</pre>\n"
      ],
      "text/plain": [
       "| Epoch :  199 | Trn. Loss : 1.419e-01 | Val. Loss : 1.680e-01 | LR : 3.019e-03 |\n"
      ]
     },
     "metadata": {},
     "output_type": "display_data"
    },
    {
     "data": {
      "text/html": [
       "<pre style=\"white-space:pre;overflow-x:auto;line-height:normal;font-family:Menlo,'DejaVu Sans Mono',consolas,'Courier New',monospace\"></pre>\n"
      ],
      "text/plain": []
     },
     "metadata": {},
     "output_type": "display_data"
    },
    {
     "data": {
      "text/html": [
       "<pre style=\"white-space:pre;overflow-x:auto;line-height:normal;font-family:Menlo,'DejaVu Sans Mono',consolas,'Courier New',monospace\">\n",
       "</pre>\n"
      ],
      "text/plain": [
       "\n"
      ]
     },
     "metadata": {},
     "output_type": "display_data"
    }
   ],
   "source": [
    "train.run()"
   ]
  },
  {
   "cell_type": "markdown",
   "id": "e77bb6f5-83c3-446f-891a-760ba340cdfb",
   "metadata": {},
   "source": [
    "## Loss Curve"
   ]
  },
  {
   "cell_type": "code",
   "execution_count": 6,
   "id": "4efb4f86-7a1d-4f7e-980b-3944026c327b",
   "metadata": {},
   "outputs": [
    {
     "data": {
      "image/png": "[encoded data removed]",
      "text/plain": [
       "<Figure size 1600x1200 with 2 Axes>"
      ]
     },
     "metadata": {},
     "output_type": "display_data"
    }
   ],
   "source": [
    "train.lossCurve()"
   ]
  },
  {
   "cell_type": "markdown",
   "id": "d8c22183-d46b-48b5-92fc-888911617126",
   "metadata": {},
   "source": [
    "## ParityPlot"
   ]
  },
  {
   "cell_type": "code",
   "execution_count": 7,
   "id": "b052295a-bb49-47fc-b7b9-b03024a23bf5",
   "metadata": {},
   "outputs": [
    {
     "data": {
      "image/png": "[encoded data removed]",
      "text/plain": [
       "<Figure size 1600x1200 with 1 Axes>"
      ]
     },
     "metadata": {},
     "output_type": "display_data"
    }
   ],
   "source": [
    "train.TPPlot()"
   ]
  }
 ],
 "metadata": {
  "kernelspec": {
   "display_name": "Python 3 (ipykernel)",
   "language": "python",
   "name": "python3"
  },
  "language_info": {
   "codemirror_mode": {
    "name": "ipython",
    "version": 3
   },
   "file_extension": ".py",
   "mimetype": "text/x-python",
   "name": "python",
   "nbconvert_exporter": "python",
   "pygments_lexer": "ipython3",
   "version": "3.11.9"
  }
 },
 "nbformat": 4,
 "nbformat_minor": 5
}
