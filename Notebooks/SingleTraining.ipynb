{
 "cells": [
  {
   "cell_type": "markdown",
   "id": "519333da-717a-4c89-90a0-6a9afc3b8d0e",
   "metadata": {},
   "source": [
    "# Single Training"
   ]
  },
  {
   "cell_type": "markdown",
   "id": "804ad37b-fdf1-4a77-96f5-dde2b312acaf",
   "metadata": {},
   "source": [
    "## Optimized Hyperparameters"
   ]
  },
  {
   "cell_type": "markdown",
   "id": "8a0c7c8e-3d52-43fd-b503-371a8d45ef15",
   "metadata": {},
   "source": [
    "| hyperparameter|FP|AIT|FLVL|FLVU|HCOM|\n",
    "|--------------:|-:|--:|---:|---:|---:|\n",
    "| hidden_size | 64 | 128 | 256 | 512 | 256 |\n",
    "| dropout | 0.279 | 0.298 | 0.238 | 0.268 | 0.276 |\n",
    "| num_layers | 3 | 3 | 4 | 6 | 7 |\n",
    "| num_timesteps | 5 | 8 | 5 | 6 | 4 |\n",
    "| lr_init | 0.01 | 0.001 | 0.0001 | 0.0001 | 0.0001 |\n",
    "| gamma | 0.978 | 0.982 | 0.979 | 0.979 | 0.986 |\n",
    "| weight_decay | 3.82 $\\times$ 10$^{-3}$ | 2.37 $\\times$ 10$^{-4}$ | 1.39 $\\times$ 10$^{-2}$ | 6.36 $\\times$ 10$^{-2}$ | 6.72 $\\times$ 10$^{-3}$ |"
   ]
  },
  {
   "cell_type": "markdown",
   "id": "57d7f52e-4c1d-401d-b0c5-99aee4e6a223",
   "metadata": {},
   "source": [
    "## Hyperparameter Setting"
   ]
  },
  {
   "cell_type": "code",
   "execution_count": 1,
   "id": "94dc75fc-7dec-4740-97c4-c713529ba985",
   "metadata": {},
   "outputs": [],
   "source": [
    "parameters = dict(\n",
    "    subfrag_size = 12,\n",
    "    edge_size = 3,\n",
    "    out_size = 1,\n",
    "    seed = 42,\n",
    "    batch_size = 128,\n",
    "    max_epoch = 200,\n",
    "    verbose = True,\n",
    "    save = True,\n",
    "    \n",
    "    target = 'HCOM',\n",
    "    hidden_size = 256,\n",
    "    dropout = 0.276,\n",
    "    num_layers = 7,\n",
    "    num_timesteps = 4,\n",
    "    lr_init = 0.0001,\n",
    "    gamma = 0.986,\n",
    "    weight_decay = 6.72E-3,\n",
    ")\n",
    "DATAPATH = \"/SSD2/bgkang/Chemomile\""
   ]
  },
  {
   "cell_type": "markdown",
   "id": "a236fd93-e5d6-4369-8ab5-d6f27943bc0c",
   "metadata": {},
   "source": [
    "## Dataset"
   ]
  },
  {
   "cell_type": "code",
   "execution_count": 2,
   "id": "025c988b-ebf9-40b1-a5c9-b08762277419",
   "metadata": {},
   "outputs": [
    {
     "data": {
      "application/vnd.jupyter.widget-view+json": {
       "model_id": "ec3c1d2d5c4e4f3ab42f14a97091c662",
       "version_major": 2,
       "version_minor": 0
      },
      "text/plain": [
       "Output()"
      ]
     },
     "metadata": {},
     "output_type": "display_data"
    },
    {
     "name": "stdout",
     "output_type": "stream",
     "text": [
      "\tNo DataDump found for 'HCOM'. Creating a new one.\n"
     ]
    },
    {
     "data": {
      "text/html": [
       "<pre style=\"white-space:pre;overflow-x:auto;line-height:normal;font-family:Menlo,'DejaVu Sans Mono',consolas,'Courier New',monospace\">Error occured while parsing  [C+]#[O-]\n",
       "</pre>\n"
      ],
      "text/plain": [
       "Error occured while parsing  [C+]#[O-]\n"
      ]
     },
     "metadata": {},
     "output_type": "display_data"
    },
    {
     "data": {
      "text/html": [
       "<pre style=\"white-space:pre;overflow-x:auto;line-height:normal;font-family:Menlo,'DejaVu Sans Mono',consolas,'Courier New',monospace\">Error occured while parsing  [H][B]1([H])[H][B]([H])([H])[H]1\n",
       "</pre>\n"
      ],
      "text/plain": [
       "Error occured while parsing  [H][B]1([H])[H][B]([H])([H])[H]1\n"
      ]
     },
     "metadata": {},
     "output_type": "display_data"
    },
    {
     "data": {
      "text/html": [
       "<pre style=\"white-space:pre;overflow-x:auto;line-height:normal;font-family:Menlo,'DejaVu Sans Mono',consolas,'Courier New',monospace\">Error occured while parsing  O=C(CCCCCCCCCCC)OCC(OC(CCCCCCCCCCC)=O)COC(CCCCCCCCCCC)=O\n",
       "</pre>\n"
      ],
      "text/plain": [
       "Error occured while parsing  O=C(CCCCCCCCCCC)OCC(OC(CCCCCCCCCCC)=O)COC(CCCCCCCCCCC)=O\n"
      ]
     },
     "metadata": {},
     "output_type": "display_data"
    },
    {
     "data": {
      "text/html": [
       "<pre style=\"white-space:pre;overflow-x:auto;line-height:normal;font-family:Menlo,'DejaVu Sans Mono',consolas,'Courier New',monospace\">Error occured while parsing  O=C(CCCCCCCCCCCCC)OCC(OC(CCCCCCCCCCCCC)=O)COC(CCCCCCCCCCCCC)=O\n",
       "</pre>\n"
      ],
      "text/plain": [
       "Error occured while parsing  O=C(CCCCCCCCCCCCC)OCC(OC(CCCCCCCCCCCCC)=O)COC(CCCCCCCCCCCCC)=O\n"
      ]
     },
     "metadata": {},
     "output_type": "display_data"
    },
    {
     "data": {
      "text/html": [
       "<pre style=\"white-space:pre;overflow-x:auto;line-height:normal;font-family:Menlo,'DejaVu Sans Mono',consolas,'Courier New',monospace\">Error occured while parsing  \n",
       "CC/C=C\\C/C=C\\C/C=C\\CCCCCCCC(=O)OCC(OC(=O)CCCCCCC/C=C\\C/C=C\\C/C=C\\CC)COC(=O)CCCCCCC/C=C\\C/C=C\\C/C=C\\CC\n",
       "</pre>\n"
      ],
      "text/plain": [
       "Error occured while parsing  \n",
       "CC/C=C\\C/C=C\\C/C=C\\CCCCCCCC(=O)OCC(OC(=O)CCCCCCC/C=C\\C/C=C\\C/C=C\\CC)COC(=O)CCCCCCC/C=C\\C/C=C\\C/C=C\\CC\n"
      ]
     },
     "metadata": {},
     "output_type": "display_data"
    },
    {
     "data": {
      "text/html": [
       "<pre style=\"white-space:pre;overflow-x:auto;line-height:normal;font-family:Menlo,'DejaVu Sans Mono',consolas,'Courier New',monospace\">Error occured while parsing  \n",
       "CCCCCCCC/C=C\\CCCCCCCCCCCC(=O)OCC(OC(=O)CCCCCCCCCCC/C=C\\CCCCCCCC)COC(=O)CCCCCCCCCCC/C=C\\CCCCCCCC\n",
       "</pre>\n"
      ],
      "text/plain": [
       "Error occured while parsing  \n",
       "CCCCCCCC/C=C\\CCCCCCCCCCCC(=O)OCC(OC(=O)CCCCCCCCCCC/C=C\\CCCCCCCC)COC(=O)CCCCCCCCCCC/C=C\\CCCCCCCC\n"
      ]
     },
     "metadata": {},
     "output_type": "display_data"
    },
    {
     "data": {
      "text/html": [
       "<pre style=\"white-space:pre;overflow-x:auto;line-height:normal;font-family:Menlo,'DejaVu Sans Mono',consolas,'Courier New',monospace\">Error occured while parsing  C(COC(CCCCCCC\\C=C/CCCCCCCC)=O)(COC(CCCCCCC\\C=C/CCCCCCCC)=O)OC(CCCCCCC\\C=C/CCCCCCCC)=O\n",
       "</pre>\n"
      ],
      "text/plain": [
       "Error occured while parsing  C(COC(CCCCCCC\\C=C/CCCCCCCC)=O)(COC(CCCCCCC\\C=C/CCCCCCCC)=O)OC(CCCCCCC\\C=C/CCCCCCCC)=O\n"
      ]
     },
     "metadata": {},
     "output_type": "display_data"
    },
    {
     "data": {
      "text/html": [
       "<pre style=\"white-space:pre;overflow-x:auto;line-height:normal;font-family:Menlo,'DejaVu Sans Mono',consolas,'Courier New',monospace\">Error occured while parsing  [Ni](C#O)(C#O)(C#O)C#O\n",
       "</pre>\n"
      ],
      "text/plain": [
       "Error occured while parsing  [Ni](C#O)(C#O)(C#O)C#O\n"
      ]
     },
     "metadata": {},
     "output_type": "display_data"
    },
    {
     "data": {
      "text/html": [
       "<pre style=\"white-space:pre;overflow-x:auto;line-height:normal;font-family:Menlo,'DejaVu Sans Mono',consolas,'Courier New',monospace\">Error occured while parsing  [Fe](C#O)(C#O)(C#O)(C#O)C#O\n",
       "</pre>\n"
      ],
      "text/plain": [
       "Error occured while parsing  [Fe](C#O)(C#O)(C#O)(C#O)C#O\n"
      ]
     },
     "metadata": {},
     "output_type": "display_data"
    },
    {
     "data": {
      "text/html": [
       "<pre style=\"white-space:pre;overflow-x:auto;line-height:normal;font-family:Menlo,'DejaVu Sans Mono',consolas,'Courier New',monospace\"></pre>\n"
      ],
      "text/plain": []
     },
     "metadata": {},
     "output_type": "display_data"
    },
    {
     "data": {
      "text/html": [
       "<pre style=\"white-space:pre;overflow-x:auto;line-height:normal;font-family:Menlo,'DejaVu Sans Mono',consolas,'Courier New',monospace\">\n",
       "</pre>\n"
      ],
      "text/plain": [
       "\n"
      ]
     },
     "metadata": {},
     "output_type": "display_data"
    },
    {
     "name": "stdout",
     "output_type": "stream",
     "text": [
      "Training : 727 | Validation : 91 | Test : 91\n",
      "Total : 909\n"
     ]
    }
   ],
   "source": [
    "import sys\n",
    "sys.path.append(DATAPATH)\n",
    "from src.data import Dataset\n",
    "\n",
    "dataset = Dataset(\n",
    "    target = parameters['target'],\n",
    "    seed = parameters['seed'],\n",
    "    batch_size = parameters['batch_size'],\n",
    "    verbose = parameters['verbose'],\n",
    "    root = DATAPATH\n",
    ")"
   ]
  },
  {
   "cell_type": "markdown",
   "id": "1f240adb-d319-4517-9cfe-52e0f48a1532",
   "metadata": {},
   "source": [
    "## Model Define"
   ]
  },
  {
   "cell_type": "code",
   "execution_count": 3,
   "id": "77d27df2-c5a7-487c-b2cc-83d308b0c9e8",
   "metadata": {},
   "outputs": [],
   "source": [
    "from src.model import Chemomile\n",
    "\n",
    "model = Chemomile(\n",
    "    subfrag_size = parameters['subfrag_size'],\n",
    "    hidden_size = parameters['hidden_size'],\n",
    "    edge_size = parameters['edge_size'],\n",
    "    out_size = parameters['out_size'],\n",
    "    dropout = parameters['dropout'],\n",
    "    num_layers = parameters['num_layers'],\n",
    "    num_timesteps = parameters['num_timesteps'],\n",
    ")"
   ]
  },
  {
   "cell_type": "code",
   "execution_count": 4,
   "id": "2cf839fc-4dc2-44dc-b986-ac33be744a84",
   "metadata": {},
   "outputs": [],
   "source": [
    "from src.train import Training\n",
    "\n",
    "train = Training(\n",
    "    model = model,\n",
    "    parameters = parameters,\n",
    "    dataset = dataset,\n",
    "    root = \"/SSD2/bgkang/Chemomile/Model\",\n",
    ")"
   ]
  },
  {
   "cell_type": "markdown",
   "id": "c5086804-5e96-4032-8f4e-909d0faf3c64",
   "metadata": {},
   "source": [
    "## Training"
   ]
  },
  {
   "cell_type": "code",
   "execution_count": 5,
   "id": "e48b9721-bad3-46bf-9c7d-c89fc69283d1",
   "metadata": {},
   "outputs": [
    {
     "data": {
      "application/vnd.jupyter.widget-view+json": {
       "model_id": "ad97ba19307846dda315d95e2118987a",
       "version_major": 2,
       "version_minor": 0
      },
      "text/plain": [
       "Output()"
      ]
     },
     "metadata": {},
     "output_type": "display_data"
    },
    {
     "data": {
      "text/html": [
       "<pre style=\"white-space:pre;overflow-x:auto;line-height:normal;font-family:Menlo,'DejaVu Sans Mono',consolas,'Courier New',monospace\">| Epoch :    0 | Trn. Loss : 2.947e-01 | Val. Loss : 7.206e-01 | LR : 1.000e-04 |\n",
       "</pre>\n"
      ],
      "text/plain": [
       "| Epoch :    0 | Trn. Loss : 2.947e-01 | Val. Loss : 7.206e-01 | LR : 1.000e-04 |\n"
      ]
     },
     "metadata": {},
     "output_type": "display_data"
    },
    {
     "data": {
      "text/html": [
       "<pre style=\"white-space:pre;overflow-x:auto;line-height:normal;font-family:Menlo,'DejaVu Sans Mono',consolas,'Courier New',monospace\">        Saving the best model with valLoss : 0.721\n",
       "</pre>\n"
      ],
      "text/plain": [
       "        Saving the best model with valLoss : 0.721\n"
      ]
     },
     "metadata": {},
     "output_type": "display_data"
    },
    {
     "data": {
      "text/html": [
       "<pre style=\"white-space:pre;overflow-x:auto;line-height:normal;font-family:Menlo,'DejaVu Sans Mono',consolas,'Courier New',monospace\">| Epoch :    1 | Trn. Loss : 2.340e-01 | Val. Loss : 7.098e-01 | LR : 9.860e-05 |\n",
       "</pre>\n"
      ],
      "text/plain": [
       "| Epoch :    1 | Trn. Loss : 2.340e-01 | Val. Loss : 7.098e-01 | LR : 9.860e-05 |\n"
      ]
     },
     "metadata": {},
     "output_type": "display_data"
    },
    {
     "data": {
      "text/html": [
       "<pre style=\"white-space:pre;overflow-x:auto;line-height:normal;font-family:Menlo,'DejaVu Sans Mono',consolas,'Courier New',monospace\">        Saving the best model with valLoss : 0.710\n",
       "</pre>\n"
      ],
      "text/plain": [
       "        Saving the best model with valLoss : 0.710\n"
      ]
     },
     "metadata": {},
     "output_type": "display_data"
    },
    {
     "data": {
      "text/html": [
       "<pre style=\"white-space:pre;overflow-x:auto;line-height:normal;font-family:Menlo,'DejaVu Sans Mono',consolas,'Courier New',monospace\">| Epoch :    2 | Trn. Loss : 2.273e-01 | Val. Loss : 6.948e-01 | LR : 9.722e-05 |\n",
       "</pre>\n"
      ],
      "text/plain": [
       "| Epoch :    2 | Trn. Loss : 2.273e-01 | Val. Loss : 6.948e-01 | LR : 9.722e-05 |\n"
      ]
     },
     "metadata": {},
     "output_type": "display_data"
    },
    {
     "data": {
      "text/html": [
       "<pre style=\"white-space:pre;overflow-x:auto;line-height:normal;font-family:Menlo,'DejaVu Sans Mono',consolas,'Courier New',monospace\">        Saving the best model with valLoss : 0.695\n",
       "</pre>\n"
      ],
      "text/plain": [
       "        Saving the best model with valLoss : 0.695\n"
      ]
     },
     "metadata": {},
     "output_type": "display_data"
    },
    {
     "data": {
      "text/html": [
       "<pre style=\"white-space:pre;overflow-x:auto;line-height:normal;font-family:Menlo,'DejaVu Sans Mono',consolas,'Courier New',monospace\">| Epoch :    3 | Trn. Loss : 1.884e-01 | Val. Loss : 6.838e-01 | LR : 9.586e-05 |\n",
       "</pre>\n"
      ],
      "text/plain": [
       "| Epoch :    3 | Trn. Loss : 1.884e-01 | Val. Loss : 6.838e-01 | LR : 9.586e-05 |\n"
      ]
     },
     "metadata": {},
     "output_type": "display_data"
    },
    {
     "data": {
      "text/html": [
       "<pre style=\"white-space:pre;overflow-x:auto;line-height:normal;font-family:Menlo,'DejaVu Sans Mono',consolas,'Courier New',monospace\">        Saving the best model with valLoss : 0.684\n",
       "</pre>\n"
      ],
      "text/plain": [
       "        Saving the best model with valLoss : 0.684\n"
      ]
     },
     "metadata": {},
     "output_type": "display_data"
    },
    {
     "data": {
      "text/html": [
       "<pre style=\"white-space:pre;overflow-x:auto;line-height:normal;font-family:Menlo,'DejaVu Sans Mono',consolas,'Courier New',monospace\">| Epoch :    4 | Trn. Loss : 1.669e-01 | Val. Loss : 6.611e-01 | LR : 9.452e-05 |\n",
       "</pre>\n"
      ],
      "text/plain": [
       "| Epoch :    4 | Trn. Loss : 1.669e-01 | Val. Loss : 6.611e-01 | LR : 9.452e-05 |\n"
      ]
     },
     "metadata": {},
     "output_type": "display_data"
    },
    {
     "data": {
      "text/html": [
       "<pre style=\"white-space:pre;overflow-x:auto;line-height:normal;font-family:Menlo,'DejaVu Sans Mono',consolas,'Courier New',monospace\">        Saving the best model with valLoss : 0.661\n",
       "</pre>\n"
      ],
      "text/plain": [
       "        Saving the best model with valLoss : 0.661\n"
      ]
     },
     "metadata": {},
     "output_type": "display_data"
    },
    {
     "data": {
      "text/html": [
       "<pre style=\"white-space:pre;overflow-x:auto;line-height:normal;font-family:Menlo,'DejaVu Sans Mono',consolas,'Courier New',monospace\">| Epoch :    5 | Trn. Loss : 1.935e-01 | Val. Loss : 6.122e-01 | LR : 9.319e-05 |\n",
       "</pre>\n"
      ],
      "text/plain": [
       "| Epoch :    5 | Trn. Loss : 1.935e-01 | Val. Loss : 6.122e-01 | LR : 9.319e-05 |\n"
      ]
     },
     "metadata": {},
     "output_type": "display_data"
    },
    {
     "data": {
      "text/html": [
       "<pre style=\"white-space:pre;overflow-x:auto;line-height:normal;font-family:Menlo,'DejaVu Sans Mono',consolas,'Courier New',monospace\">        Saving the best model with valLoss : 0.612\n",
       "</pre>\n"
      ],
      "text/plain": [
       "        Saving the best model with valLoss : 0.612\n"
      ]
     },
     "metadata": {},
     "output_type": "display_data"
    },
    {
     "data": {
      "text/html": [
       "<pre style=\"white-space:pre;overflow-x:auto;line-height:normal;font-family:Menlo,'DejaVu Sans Mono',consolas,'Courier New',monospace\">| Epoch :    6 | Trn. Loss : 2.179e-01 | Val. Loss : 5.921e-01 | LR : 9.189e-05 |\n",
       "</pre>\n"
      ],
      "text/plain": [
       "| Epoch :    6 | Trn. Loss : 2.179e-01 | Val. Loss : 5.921e-01 | LR : 9.189e-05 |\n"
      ]
     },
     "metadata": {},
     "output_type": "display_data"
    },
    {
     "data": {
      "text/html": [
       "<pre style=\"white-space:pre;overflow-x:auto;line-height:normal;font-family:Menlo,'DejaVu Sans Mono',consolas,'Courier New',monospace\">        Saving the best model with valLoss : 0.592\n",
       "</pre>\n"
      ],
      "text/plain": [
       "        Saving the best model with valLoss : 0.592\n"
      ]
     },
     "metadata": {},
     "output_type": "display_data"
    },
    {
     "data": {
      "text/html": [
       "<pre style=\"white-space:pre;overflow-x:auto;line-height:normal;font-family:Menlo,'DejaVu Sans Mono',consolas,'Courier New',monospace\">| Epoch :    7 | Trn. Loss : 1.800e-01 | Val. Loss : 5.517e-01 | LR : 9.060e-05 |\n",
       "</pre>\n"
      ],
      "text/plain": [
       "| Epoch :    7 | Trn. Loss : 1.800e-01 | Val. Loss : 5.517e-01 | LR : 9.060e-05 |\n"
      ]
     },
     "metadata": {},
     "output_type": "display_data"
    },
    {
     "data": {
      "text/html": [
       "<pre style=\"white-space:pre;overflow-x:auto;line-height:normal;font-family:Menlo,'DejaVu Sans Mono',consolas,'Courier New',monospace\">        Saving the best model with valLoss : 0.552\n",
       "</pre>\n"
      ],
      "text/plain": [
       "        Saving the best model with valLoss : 0.552\n"
      ]
     },
     "metadata": {},
     "output_type": "display_data"
    },
    {
     "data": {
      "text/html": [
       "<pre style=\"white-space:pre;overflow-x:auto;line-height:normal;font-family:Menlo,'DejaVu Sans Mono',consolas,'Courier New',monospace\">| Epoch :    8 | Trn. Loss : 1.463e-01 | Val. Loss : 4.697e-01 | LR : 8.933e-05 |\n",
       "</pre>\n"
      ],
      "text/plain": [
       "| Epoch :    8 | Trn. Loss : 1.463e-01 | Val. Loss : 4.697e-01 | LR : 8.933e-05 |\n"
      ]
     },
     "metadata": {},
     "output_type": "display_data"
    },
    {
     "data": {
      "text/html": [
       "<pre style=\"white-space:pre;overflow-x:auto;line-height:normal;font-family:Menlo,'DejaVu Sans Mono',consolas,'Courier New',monospace\">        Saving the best model with valLoss : 0.470\n",
       "</pre>\n"
      ],
      "text/plain": [
       "        Saving the best model with valLoss : 0.470\n"
      ]
     },
     "metadata": {},
     "output_type": "display_data"
    },
    {
     "data": {
      "text/html": [
       "<pre style=\"white-space:pre;overflow-x:auto;line-height:normal;font-family:Menlo,'DejaVu Sans Mono',consolas,'Courier New',monospace\">| Epoch :    9 | Trn. Loss : 1.489e-01 | Val. Loss : 4.051e-01 | LR : 8.808e-05 |\n",
       "</pre>\n"
      ],
      "text/plain": [
       "| Epoch :    9 | Trn. Loss : 1.489e-01 | Val. Loss : 4.051e-01 | LR : 8.808e-05 |\n"
      ]
     },
     "metadata": {},
     "output_type": "display_data"
    },
    {
     "data": {
      "text/html": [
       "<pre style=\"white-space:pre;overflow-x:auto;line-height:normal;font-family:Menlo,'DejaVu Sans Mono',consolas,'Courier New',monospace\">        Saving the best model with valLoss : 0.405\n",
       "</pre>\n"
      ],
      "text/plain": [
       "        Saving the best model with valLoss : 0.405\n"
      ]
     },
     "metadata": {},
     "output_type": "display_data"
    },
    {
     "data": {
      "text/html": [
       "<pre style=\"white-space:pre;overflow-x:auto;line-height:normal;font-family:Menlo,'DejaVu Sans Mono',consolas,'Courier New',monospace\">| Epoch :   10 | Trn. Loss : 1.599e-01 | Val. Loss : 3.335e-01 | LR : 8.685e-05 |\n",
       "</pre>\n"
      ],
      "text/plain": [
       "| Epoch :   10 | Trn. Loss : 1.599e-01 | Val. Loss : 3.335e-01 | LR : 8.685e-05 |\n"
      ]
     },
     "metadata": {},
     "output_type": "display_data"
    },
    {
     "data": {
      "text/html": [
       "<pre style=\"white-space:pre;overflow-x:auto;line-height:normal;font-family:Menlo,'DejaVu Sans Mono',consolas,'Courier New',monospace\">        Saving the best model with valLoss : 0.333\n",
       "</pre>\n"
      ],
      "text/plain": [
       "        Saving the best model with valLoss : 0.333\n"
      ]
     },
     "metadata": {},
     "output_type": "display_data"
    },
    {
     "data": {
      "text/html": [
       "<pre style=\"white-space:pre;overflow-x:auto;line-height:normal;font-family:Menlo,'DejaVu Sans Mono',consolas,'Courier New',monospace\">| Epoch :   11 | Trn. Loss : 1.159e-01 | Val. Loss : 2.247e-01 | LR : 8.563e-05 |\n",
       "</pre>\n"
      ],
      "text/plain": [
       "| Epoch :   11 | Trn. Loss : 1.159e-01 | Val. Loss : 2.247e-01 | LR : 8.563e-05 |\n"
      ]
     },
     "metadata": {},
     "output_type": "display_data"
    },
    {
     "data": {
      "text/html": [
       "<pre style=\"white-space:pre;overflow-x:auto;line-height:normal;font-family:Menlo,'DejaVu Sans Mono',consolas,'Courier New',monospace\">        Saving the best model with valLoss : 0.225\n",
       "</pre>\n"
      ],
      "text/plain": [
       "        Saving the best model with valLoss : 0.225\n"
      ]
     },
     "metadata": {},
     "output_type": "display_data"
    },
    {
     "data": {
      "text/html": [
       "<pre style=\"white-space:pre;overflow-x:auto;line-height:normal;font-family:Menlo,'DejaVu Sans Mono',consolas,'Courier New',monospace\">| Epoch :   12 | Trn. Loss : 1.346e-01 | Val. Loss : 1.807e-01 | LR : 8.444e-05 |\n",
       "</pre>\n"
      ],
      "text/plain": [
       "| Epoch :   12 | Trn. Loss : 1.346e-01 | Val. Loss : 1.807e-01 | LR : 8.444e-05 |\n"
      ]
     },
     "metadata": {},
     "output_type": "display_data"
    },
    {
     "data": {
      "text/html": [
       "<pre style=\"white-space:pre;overflow-x:auto;line-height:normal;font-family:Menlo,'DejaVu Sans Mono',consolas,'Courier New',monospace\">        Saving the best model with valLoss : 0.181\n",
       "</pre>\n"
      ],
      "text/plain": [
       "        Saving the best model with valLoss : 0.181\n"
      ]
     },
     "metadata": {},
     "output_type": "display_data"
    },
    {
     "data": {
      "text/html": [
       "<pre style=\"white-space:pre;overflow-x:auto;line-height:normal;font-family:Menlo,'DejaVu Sans Mono',consolas,'Courier New',monospace\">| Epoch :   13 | Trn. Loss : 1.201e-01 | Val. Loss : 1.528e-01 | LR : 8.325e-05 |\n",
       "</pre>\n"
      ],
      "text/plain": [
       "| Epoch :   13 | Trn. Loss : 1.201e-01 | Val. Loss : 1.528e-01 | LR : 8.325e-05 |\n"
      ]
     },
     "metadata": {},
     "output_type": "display_data"
    },
    {
     "data": {
      "text/html": [
       "<pre style=\"white-space:pre;overflow-x:auto;line-height:normal;font-family:Menlo,'DejaVu Sans Mono',consolas,'Courier New',monospace\">        Saving the best model with valLoss : 0.153\n",
       "</pre>\n"
      ],
      "text/plain": [
       "        Saving the best model with valLoss : 0.153\n"
      ]
     },
     "metadata": {},
     "output_type": "display_data"
    },
    {
     "data": {
      "text/html": [
       "<pre style=\"white-space:pre;overflow-x:auto;line-height:normal;font-family:Menlo,'DejaVu Sans Mono',consolas,'Courier New',monospace\">| Epoch :   14 | Trn. Loss : 1.161e-01 | Val. Loss : 7.254e-02 | LR : 8.209e-05 |\n",
       "</pre>\n"
      ],
      "text/plain": [
       "| Epoch :   14 | Trn. Loss : 1.161e-01 | Val. Loss : 7.254e-02 | LR : 8.209e-05 |\n"
      ]
     },
     "metadata": {},
     "output_type": "display_data"
    },
    {
     "data": {
      "text/html": [
       "<pre style=\"white-space:pre;overflow-x:auto;line-height:normal;font-family:Menlo,'DejaVu Sans Mono',consolas,'Courier New',monospace\">        Saving the best model with valLoss : 0.073\n",
       "</pre>\n"
      ],
      "text/plain": [
       "        Saving the best model with valLoss : 0.073\n"
      ]
     },
     "metadata": {},
     "output_type": "display_data"
    },
    {
     "data": {
      "text/html": [
       "<pre style=\"white-space:pre;overflow-x:auto;line-height:normal;font-family:Menlo,'DejaVu Sans Mono',consolas,'Courier New',monospace\">| Epoch :   15 | Trn. Loss : 1.234e-01 | Val. Loss : 8.895e-02 | LR : 8.094e-05 |\n",
       "</pre>\n"
      ],
      "text/plain": [
       "| Epoch :   15 | Trn. Loss : 1.234e-01 | Val. Loss : 8.895e-02 | LR : 8.094e-05 |\n"
      ]
     },
     "metadata": {},
     "output_type": "display_data"
    },
    {
     "data": {
      "text/html": [
       "<pre style=\"white-space:pre;overflow-x:auto;line-height:normal;font-family:Menlo,'DejaVu Sans Mono',consolas,'Courier New',monospace\">| Epoch :   16 | Trn. Loss : 1.018e-01 | Val. Loss : 7.041e-02 | LR : 7.981e-05 |\n",
       "</pre>\n"
      ],
      "text/plain": [
       "| Epoch :   16 | Trn. Loss : 1.018e-01 | Val. Loss : 7.041e-02 | LR : 7.981e-05 |\n"
      ]
     },
     "metadata": {},
     "output_type": "display_data"
    },
    {
     "data": {
      "text/html": [
       "<pre style=\"white-space:pre;overflow-x:auto;line-height:normal;font-family:Menlo,'DejaVu Sans Mono',consolas,'Courier New',monospace\">        Saving the best model with valLoss : 0.070\n",
       "</pre>\n"
      ],
      "text/plain": [
       "        Saving the best model with valLoss : 0.070\n"
      ]
     },
     "metadata": {},
     "output_type": "display_data"
    },
    {
     "data": {
      "text/html": [
       "<pre style=\"white-space:pre;overflow-x:auto;line-height:normal;font-family:Menlo,'DejaVu Sans Mono',consolas,'Courier New',monospace\">| Epoch :   17 | Trn. Loss : 9.893e-02 | Val. Loss : 5.722e-02 | LR : 7.869e-05 |\n",
       "</pre>\n"
      ],
      "text/plain": [
       "| Epoch :   17 | Trn. Loss : 9.893e-02 | Val. Loss : 5.722e-02 | LR : 7.869e-05 |\n"
      ]
     },
     "metadata": {},
     "output_type": "display_data"
    },
    {
     "data": {
      "text/html": [
       "<pre style=\"white-space:pre;overflow-x:auto;line-height:normal;font-family:Menlo,'DejaVu Sans Mono',consolas,'Courier New',monospace\">        Saving the best model with valLoss : 0.057\n",
       "</pre>\n"
      ],
      "text/plain": [
       "        Saving the best model with valLoss : 0.057\n"
      ]
     },
     "metadata": {},
     "output_type": "display_data"
    },
    {
     "data": {
      "text/html": [
       "<pre style=\"white-space:pre;overflow-x:auto;line-height:normal;font-family:Menlo,'DejaVu Sans Mono',consolas,'Courier New',monospace\">| Epoch :   18 | Trn. Loss : 1.053e-01 | Val. Loss : 9.414e-02 | LR : 7.759e-05 |\n",
       "</pre>\n"
      ],
      "text/plain": [
       "| Epoch :   18 | Trn. Loss : 1.053e-01 | Val. Loss : 9.414e-02 | LR : 7.759e-05 |\n"
      ]
     },
     "metadata": {},
     "output_type": "display_data"
    },
    {
     "data": {
      "text/html": [
       "<pre style=\"white-space:pre;overflow-x:auto;line-height:normal;font-family:Menlo,'DejaVu Sans Mono',consolas,'Courier New',monospace\">| Epoch :   19 | Trn. Loss : 9.319e-02 | Val. Loss : 5.558e-02 | LR : 7.650e-05 |\n",
       "</pre>\n"
      ],
      "text/plain": [
       "| Epoch :   19 | Trn. Loss : 9.319e-02 | Val. Loss : 5.558e-02 | LR : 7.650e-05 |\n"
      ]
     },
     "metadata": {},
     "output_type": "display_data"
    },
    {
     "data": {
      "text/html": [
       "<pre style=\"white-space:pre;overflow-x:auto;line-height:normal;font-family:Menlo,'DejaVu Sans Mono',consolas,'Courier New',monospace\">        Saving the best model with valLoss : 0.056\n",
       "</pre>\n"
      ],
      "text/plain": [
       "        Saving the best model with valLoss : 0.056\n"
      ]
     },
     "metadata": {},
     "output_type": "display_data"
    },
    {
     "data": {
      "text/html": [
       "<pre style=\"white-space:pre;overflow-x:auto;line-height:normal;font-family:Menlo,'DejaVu Sans Mono',consolas,'Courier New',monospace\">| Epoch :   20 | Trn. Loss : 1.012e-01 | Val. Loss : 4.109e-02 | LR : 7.543e-05 |\n",
       "</pre>\n"
      ],
      "text/plain": [
       "| Epoch :   20 | Trn. Loss : 1.012e-01 | Val. Loss : 4.109e-02 | LR : 7.543e-05 |\n"
      ]
     },
     "metadata": {},
     "output_type": "display_data"
    },
    {
     "data": {
      "text/html": [
       "<pre style=\"white-space:pre;overflow-x:auto;line-height:normal;font-family:Menlo,'DejaVu Sans Mono',consolas,'Courier New',monospace\">        Saving the best model with valLoss : 0.041\n",
       "</pre>\n"
      ],
      "text/plain": [
       "        Saving the best model with valLoss : 0.041\n"
      ]
     },
     "metadata": {},
     "output_type": "display_data"
    },
    {
     "data": {
      "text/html": [
       "<pre style=\"white-space:pre;overflow-x:auto;line-height:normal;font-family:Menlo,'DejaVu Sans Mono',consolas,'Courier New',monospace\">| Epoch :   21 | Trn. Loss : 9.577e-02 | Val. Loss : 7.749e-02 | LR : 7.437e-05 |\n",
       "</pre>\n"
      ],
      "text/plain": [
       "| Epoch :   21 | Trn. Loss : 9.577e-02 | Val. Loss : 7.749e-02 | LR : 7.437e-05 |\n"
      ]
     },
     "metadata": {},
     "output_type": "display_data"
    },
    {
     "data": {
      "text/html": [
       "<pre style=\"white-space:pre;overflow-x:auto;line-height:normal;font-family:Menlo,'DejaVu Sans Mono',consolas,'Courier New',monospace\">| Epoch :   22 | Trn. Loss : 9.067e-02 | Val. Loss : 4.160e-02 | LR : 7.333e-05 |\n",
       "</pre>\n"
      ],
      "text/plain": [
       "| Epoch :   22 | Trn. Loss : 9.067e-02 | Val. Loss : 4.160e-02 | LR : 7.333e-05 |\n"
      ]
     },
     "metadata": {},
     "output_type": "display_data"
    },
    {
     "data": {
      "text/html": [
       "<pre style=\"white-space:pre;overflow-x:auto;line-height:normal;font-family:Menlo,'DejaVu Sans Mono',consolas,'Courier New',monospace\">| Epoch :   23 | Trn. Loss : 8.018e-02 | Val. Loss : 5.173e-02 | LR : 7.231e-05 |\n",
       "</pre>\n"
      ],
      "text/plain": [
       "| Epoch :   23 | Trn. Loss : 8.018e-02 | Val. Loss : 5.173e-02 | LR : 7.231e-05 |\n"
      ]
     },
     "metadata": {},
     "output_type": "display_data"
    },
    {
     "data": {
      "text/html": [
       "<pre style=\"white-space:pre;overflow-x:auto;line-height:normal;font-family:Menlo,'DejaVu Sans Mono',consolas,'Courier New',monospace\">| Epoch :   24 | Trn. Loss : 8.256e-02 | Val. Loss : 6.434e-02 | LR : 7.129e-05 |\n",
       "</pre>\n"
      ],
      "text/plain": [
       "| Epoch :   24 | Trn. Loss : 8.256e-02 | Val. Loss : 6.434e-02 | LR : 7.129e-05 |\n"
      ]
     },
     "metadata": {},
     "output_type": "display_data"
    },
    {
     "data": {
      "text/html": [
       "<pre style=\"white-space:pre;overflow-x:auto;line-height:normal;font-family:Menlo,'DejaVu Sans Mono',consolas,'Courier New',monospace\">| Epoch :   25 | Trn. Loss : 8.103e-02 | Val. Loss : 3.969e-02 | LR : 7.029e-05 |\n",
       "</pre>\n"
      ],
      "text/plain": [
       "| Epoch :   25 | Trn. Loss : 8.103e-02 | Val. Loss : 3.969e-02 | LR : 7.029e-05 |\n"
      ]
     },
     "metadata": {},
     "output_type": "display_data"
    },
    {
     "data": {
      "text/html": [
       "<pre style=\"white-space:pre;overflow-x:auto;line-height:normal;font-family:Menlo,'DejaVu Sans Mono',consolas,'Courier New',monospace\">        Saving the best model with valLoss : 0.040\n",
       "</pre>\n"
      ],
      "text/plain": [
       "        Saving the best model with valLoss : 0.040\n"
      ]
     },
     "metadata": {},
     "output_type": "display_data"
    },
    {
     "data": {
      "text/html": [
       "<pre style=\"white-space:pre;overflow-x:auto;line-height:normal;font-family:Menlo,'DejaVu Sans Mono',consolas,'Courier New',monospace\">| Epoch :   26 | Trn. Loss : 7.586e-02 | Val. Loss : 2.607e-02 | LR : 6.931e-05 |\n",
       "</pre>\n"
      ],
      "text/plain": [
       "| Epoch :   26 | Trn. Loss : 7.586e-02 | Val. Loss : 2.607e-02 | LR : 6.931e-05 |\n"
      ]
     },
     "metadata": {},
     "output_type": "display_data"
    },
    {
     "data": {
      "text/html": [
       "<pre style=\"white-space:pre;overflow-x:auto;line-height:normal;font-family:Menlo,'DejaVu Sans Mono',consolas,'Courier New',monospace\">        Saving the best model with valLoss : 0.026\n",
       "</pre>\n"
      ],
      "text/plain": [
       "        Saving the best model with valLoss : 0.026\n"
      ]
     },
     "metadata": {},
     "output_type": "display_data"
    },
    {
     "data": {
      "text/html": [
       "<pre style=\"white-space:pre;overflow-x:auto;line-height:normal;font-family:Menlo,'DejaVu Sans Mono',consolas,'Courier New',monospace\">| Epoch :   27 | Trn. Loss : 7.885e-02 | Val. Loss : 5.031e-02 | LR : 6.834e-05 |\n",
       "</pre>\n"
      ],
      "text/plain": [
       "| Epoch :   27 | Trn. Loss : 7.885e-02 | Val. Loss : 5.031e-02 | LR : 6.834e-05 |\n"
      ]
     },
     "metadata": {},
     "output_type": "display_data"
    },
    {
     "data": {
      "text/html": [
       "<pre style=\"white-space:pre;overflow-x:auto;line-height:normal;font-family:Menlo,'DejaVu Sans Mono',consolas,'Courier New',monospace\">| Epoch :   28 | Trn. Loss : 7.659e-02 | Val. Loss : 5.676e-02 | LR : 6.738e-05 |\n",
       "</pre>\n"
      ],
      "text/plain": [
       "| Epoch :   28 | Trn. Loss : 7.659e-02 | Val. Loss : 5.676e-02 | LR : 6.738e-05 |\n"
      ]
     },
     "metadata": {},
     "output_type": "display_data"
    },
    {
     "data": {
      "text/html": [
       "<pre style=\"white-space:pre;overflow-x:auto;line-height:normal;font-family:Menlo,'DejaVu Sans Mono',consolas,'Courier New',monospace\">| Epoch :   29 | Trn. Loss : 7.823e-02 | Val. Loss : 3.688e-02 | LR : 6.644e-05 |\n",
       "</pre>\n"
      ],
      "text/plain": [
       "| Epoch :   29 | Trn. Loss : 7.823e-02 | Val. Loss : 3.688e-02 | LR : 6.644e-05 |\n"
      ]
     },
     "metadata": {},
     "output_type": "display_data"
    },
    {
     "data": {
      "text/html": [
       "<pre style=\"white-space:pre;overflow-x:auto;line-height:normal;font-family:Menlo,'DejaVu Sans Mono',consolas,'Courier New',monospace\">| Epoch :   30 | Trn. Loss : 7.705e-02 | Val. Loss : 4.054e-02 | LR : 6.551e-05 |\n",
       "</pre>\n"
      ],
      "text/plain": [
       "| Epoch :   30 | Trn. Loss : 7.705e-02 | Val. Loss : 4.054e-02 | LR : 6.551e-05 |\n"
      ]
     },
     "metadata": {},
     "output_type": "display_data"
    },
    {
     "data": {
      "text/html": [
       "<pre style=\"white-space:pre;overflow-x:auto;line-height:normal;font-family:Menlo,'DejaVu Sans Mono',consolas,'Courier New',monospace\">| Epoch :   31 | Trn. Loss : 6.988e-02 | Val. Loss : 4.483e-02 | LR : 6.459e-05 |\n",
       "</pre>\n"
      ],
      "text/plain": [
       "| Epoch :   31 | Trn. Loss : 6.988e-02 | Val. Loss : 4.483e-02 | LR : 6.459e-05 |\n"
      ]
     },
     "metadata": {},
     "output_type": "display_data"
    },
    {
     "data": {
      "text/html": [
       "<pre style=\"white-space:pre;overflow-x:auto;line-height:normal;font-family:Menlo,'DejaVu Sans Mono',consolas,'Courier New',monospace\">| Epoch :   32 | Trn. Loss : 6.626e-02 | Val. Loss : 3.088e-02 | LR : 6.369e-05 |\n",
       "</pre>\n"
      ],
      "text/plain": [
       "| Epoch :   32 | Trn. Loss : 6.626e-02 | Val. Loss : 3.088e-02 | LR : 6.369e-05 |\n"
      ]
     },
     "metadata": {},
     "output_type": "display_data"
    },
    {
     "data": {
      "text/html": [
       "<pre style=\"white-space:pre;overflow-x:auto;line-height:normal;font-family:Menlo,'DejaVu Sans Mono',consolas,'Courier New',monospace\">| Epoch :   33 | Trn. Loss : 6.414e-02 | Val. Loss : 2.810e-02 | LR : 6.280e-05 |\n",
       "</pre>\n"
      ],
      "text/plain": [
       "| Epoch :   33 | Trn. Loss : 6.414e-02 | Val. Loss : 2.810e-02 | LR : 6.280e-05 |\n"
      ]
     },
     "metadata": {},
     "output_type": "display_data"
    },
    {
     "data": {
      "text/html": [
       "<pre style=\"white-space:pre;overflow-x:auto;line-height:normal;font-family:Menlo,'DejaVu Sans Mono',consolas,'Courier New',monospace\">| Epoch :   34 | Trn. Loss : 6.246e-02 | Val. Loss : 2.732e-02 | LR : 6.192e-05 |\n",
       "</pre>\n"
      ],
      "text/plain": [
       "| Epoch :   34 | Trn. Loss : 6.246e-02 | Val. Loss : 2.732e-02 | LR : 6.192e-05 |\n"
      ]
     },
     "metadata": {},
     "output_type": "display_data"
    },
    {
     "data": {
      "text/html": [
       "<pre style=\"white-space:pre;overflow-x:auto;line-height:normal;font-family:Menlo,'DejaVu Sans Mono',consolas,'Courier New',monospace\">| Epoch :   35 | Trn. Loss : 6.630e-02 | Val. Loss : 3.869e-02 | LR : 6.105e-05 |\n",
       "</pre>\n"
      ],
      "text/plain": [
       "| Epoch :   35 | Trn. Loss : 6.630e-02 | Val. Loss : 3.869e-02 | LR : 6.105e-05 |\n"
      ]
     },
     "metadata": {},
     "output_type": "display_data"
    },
    {
     "data": {
      "text/html": [
       "<pre style=\"white-space:pre;overflow-x:auto;line-height:normal;font-family:Menlo,'DejaVu Sans Mono',consolas,'Courier New',monospace\">| Epoch :   36 | Trn. Loss : 6.243e-02 | Val. Loss : 2.958e-02 | LR : 6.020e-05 |\n",
       "</pre>\n"
      ],
      "text/plain": [
       "| Epoch :   36 | Trn. Loss : 6.243e-02 | Val. Loss : 2.958e-02 | LR : 6.020e-05 |\n"
      ]
     },
     "metadata": {},
     "output_type": "display_data"
    },
    {
     "data": {
      "text/html": [
       "<pre style=\"white-space:pre;overflow-x:auto;line-height:normal;font-family:Menlo,'DejaVu Sans Mono',consolas,'Courier New',monospace\">| Epoch :   37 | Trn. Loss : 6.271e-02 | Val. Loss : 4.462e-02 | LR : 5.935e-05 |\n",
       "</pre>\n"
      ],
      "text/plain": [
       "| Epoch :   37 | Trn. Loss : 6.271e-02 | Val. Loss : 4.462e-02 | LR : 5.935e-05 |\n"
      ]
     },
     "metadata": {},
     "output_type": "display_data"
    },
    {
     "data": {
      "text/html": [
       "<pre style=\"white-space:pre;overflow-x:auto;line-height:normal;font-family:Menlo,'DejaVu Sans Mono',consolas,'Courier New',monospace\">| Epoch :   38 | Trn. Loss : 6.092e-02 | Val. Loss : 2.737e-02 | LR : 5.852e-05 |\n",
       "</pre>\n"
      ],
      "text/plain": [
       "| Epoch :   38 | Trn. Loss : 6.092e-02 | Val. Loss : 2.737e-02 | LR : 5.852e-05 |\n"
      ]
     },
     "metadata": {},
     "output_type": "display_data"
    },
    {
     "data": {
      "text/html": [
       "<pre style=\"white-space:pre;overflow-x:auto;line-height:normal;font-family:Menlo,'DejaVu Sans Mono',consolas,'Courier New',monospace\">| Epoch :   39 | Trn. Loss : 5.583e-02 | Val. Loss : 2.225e-02 | LR : 5.770e-05 |\n",
       "</pre>\n"
      ],
      "text/plain": [
       "| Epoch :   39 | Trn. Loss : 5.583e-02 | Val. Loss : 2.225e-02 | LR : 5.770e-05 |\n"
      ]
     },
     "metadata": {},
     "output_type": "display_data"
    },
    {
     "data": {
      "text/html": [
       "<pre style=\"white-space:pre;overflow-x:auto;line-height:normal;font-family:Menlo,'DejaVu Sans Mono',consolas,'Courier New',monospace\">        Saving the best model with valLoss : 0.022\n",
       "</pre>\n"
      ],
      "text/plain": [
       "        Saving the best model with valLoss : 0.022\n"
      ]
     },
     "metadata": {},
     "output_type": "display_data"
    },
    {
     "data": {
      "text/html": [
       "<pre style=\"white-space:pre;overflow-x:auto;line-height:normal;font-family:Menlo,'DejaVu Sans Mono',consolas,'Courier New',monospace\">| Epoch :   40 | Trn. Loss : 6.899e-02 | Val. Loss : 4.476e-02 | LR : 5.690e-05 |\n",
       "</pre>\n"
      ],
      "text/plain": [
       "| Epoch :   40 | Trn. Loss : 6.899e-02 | Val. Loss : 4.476e-02 | LR : 5.690e-05 |\n"
      ]
     },
     "metadata": {},
     "output_type": "display_data"
    },
    {
     "data": {
      "text/html": [
       "<pre style=\"white-space:pre;overflow-x:auto;line-height:normal;font-family:Menlo,'DejaVu Sans Mono',consolas,'Courier New',monospace\">| Epoch :   41 | Trn. Loss : 6.458e-02 | Val. Loss : 3.056e-02 | LR : 5.610e-05 |\n",
       "</pre>\n"
      ],
      "text/plain": [
       "| Epoch :   41 | Trn. Loss : 6.458e-02 | Val. Loss : 3.056e-02 | LR : 5.610e-05 |\n"
      ]
     },
     "metadata": {},
     "output_type": "display_data"
    },
    {
     "data": {
      "text/html": [
       "<pre style=\"white-space:pre;overflow-x:auto;line-height:normal;font-family:Menlo,'DejaVu Sans Mono',consolas,'Courier New',monospace\">| Epoch :   42 | Trn. Loss : 6.293e-02 | Val. Loss : 1.915e-02 | LR : 5.531e-05 |\n",
       "</pre>\n"
      ],
      "text/plain": [
       "| Epoch :   42 | Trn. Loss : 6.293e-02 | Val. Loss : 1.915e-02 | LR : 5.531e-05 |\n"
      ]
     },
     "metadata": {},
     "output_type": "display_data"
    },
    {
     "data": {
      "text/html": [
       "<pre style=\"white-space:pre;overflow-x:auto;line-height:normal;font-family:Menlo,'DejaVu Sans Mono',consolas,'Courier New',monospace\">        Saving the best model with valLoss : 0.019\n",
       "</pre>\n"
      ],
      "text/plain": [
       "        Saving the best model with valLoss : 0.019\n"
      ]
     },
     "metadata": {},
     "output_type": "display_data"
    },
    {
     "data": {
      "text/html": [
       "<pre style=\"white-space:pre;overflow-x:auto;line-height:normal;font-family:Menlo,'DejaVu Sans Mono',consolas,'Courier New',monospace\">| Epoch :   43 | Trn. Loss : 5.451e-02 | Val. Loss : 2.320e-02 | LR : 5.454e-05 |\n",
       "</pre>\n"
      ],
      "text/plain": [
       "| Epoch :   43 | Trn. Loss : 5.451e-02 | Val. Loss : 2.320e-02 | LR : 5.454e-05 |\n"
      ]
     },
     "metadata": {},
     "output_type": "display_data"
    },
    {
     "data": {
      "text/html": [
       "<pre style=\"white-space:pre;overflow-x:auto;line-height:normal;font-family:Menlo,'DejaVu Sans Mono',consolas,'Courier New',monospace\">| Epoch :   44 | Trn. Loss : 5.824e-02 | Val. Loss : 2.927e-02 | LR : 5.378e-05 |\n",
       "</pre>\n"
      ],
      "text/plain": [
       "| Epoch :   44 | Trn. Loss : 5.824e-02 | Val. Loss : 2.927e-02 | LR : 5.378e-05 |\n"
      ]
     },
     "metadata": {},
     "output_type": "display_data"
    },
    {
     "data": {
      "text/html": [
       "<pre style=\"white-space:pre;overflow-x:auto;line-height:normal;font-family:Menlo,'DejaVu Sans Mono',consolas,'Courier New',monospace\">| Epoch :   45 | Trn. Loss : 5.124e-02 | Val. Loss : 2.565e-02 | LR : 5.302e-05 |\n",
       "</pre>\n"
      ],
      "text/plain": [
       "| Epoch :   45 | Trn. Loss : 5.124e-02 | Val. Loss : 2.565e-02 | LR : 5.302e-05 |\n"
      ]
     },
     "metadata": {},
     "output_type": "display_data"
    },
    {
     "data": {
      "text/html": [
       "<pre style=\"white-space:pre;overflow-x:auto;line-height:normal;font-family:Menlo,'DejaVu Sans Mono',consolas,'Courier New',monospace\">| Epoch :   46 | Trn. Loss : 5.689e-02 | Val. Loss : 2.355e-02 | LR : 5.228e-05 |\n",
       "</pre>\n"
      ],
      "text/plain": [
       "| Epoch :   46 | Trn. Loss : 5.689e-02 | Val. Loss : 2.355e-02 | LR : 5.228e-05 |\n"
      ]
     },
     "metadata": {},
     "output_type": "display_data"
    },
    {
     "data": {
      "text/html": [
       "<pre style=\"white-space:pre;overflow-x:auto;line-height:normal;font-family:Menlo,'DejaVu Sans Mono',consolas,'Courier New',monospace\">| Epoch :   47 | Trn. Loss : 5.413e-02 | Val. Loss : 2.346e-02 | LR : 5.155e-05 |\n",
       "</pre>\n"
      ],
      "text/plain": [
       "| Epoch :   47 | Trn. Loss : 5.413e-02 | Val. Loss : 2.346e-02 | LR : 5.155e-05 |\n"
      ]
     },
     "metadata": {},
     "output_type": "display_data"
    },
    {
     "data": {
      "text/html": [
       "<pre style=\"white-space:pre;overflow-x:auto;line-height:normal;font-family:Menlo,'DejaVu Sans Mono',consolas,'Courier New',monospace\">| Epoch :   48 | Trn. Loss : 4.733e-02 | Val. Loss : 2.294e-02 | LR : 5.083e-05 |\n",
       "</pre>\n"
      ],
      "text/plain": [
       "| Epoch :   48 | Trn. Loss : 4.733e-02 | Val. Loss : 2.294e-02 | LR : 5.083e-05 |\n"
      ]
     },
     "metadata": {},
     "output_type": "display_data"
    },
    {
     "data": {
      "text/html": [
       "<pre style=\"white-space:pre;overflow-x:auto;line-height:normal;font-family:Menlo,'DejaVu Sans Mono',consolas,'Courier New',monospace\">| Epoch :   49 | Trn. Loss : 4.766e-02 | Val. Loss : 2.984e-02 | LR : 5.012e-05 |\n",
       "</pre>\n"
      ],
      "text/plain": [
       "| Epoch :   49 | Trn. Loss : 4.766e-02 | Val. Loss : 2.984e-02 | LR : 5.012e-05 |\n"
      ]
     },
     "metadata": {},
     "output_type": "display_data"
    },
    {
     "data": {
      "text/html": [
       "<pre style=\"white-space:pre;overflow-x:auto;line-height:normal;font-family:Menlo,'DejaVu Sans Mono',consolas,'Courier New',monospace\">| Epoch :   50 | Trn. Loss : 5.026e-02 | Val. Loss : 2.434e-02 | LR : 4.941e-05 |\n",
       "</pre>\n"
      ],
      "text/plain": [
       "| Epoch :   50 | Trn. Loss : 5.026e-02 | Val. Loss : 2.434e-02 | LR : 4.941e-05 |\n"
      ]
     },
     "metadata": {},
     "output_type": "display_data"
    },
    {
     "data": {
      "text/html": [
       "<pre style=\"white-space:pre;overflow-x:auto;line-height:normal;font-family:Menlo,'DejaVu Sans Mono',consolas,'Courier New',monospace\">| Epoch :   51 | Trn. Loss : 5.532e-02 | Val. Loss : 1.744e-02 | LR : 4.872e-05 |\n",
       "</pre>\n"
      ],
      "text/plain": [
       "| Epoch :   51 | Trn. Loss : 5.532e-02 | Val. Loss : 1.744e-02 | LR : 4.872e-05 |\n"
      ]
     },
     "metadata": {},
     "output_type": "display_data"
    },
    {
     "data": {
      "text/html": [
       "<pre style=\"white-space:pre;overflow-x:auto;line-height:normal;font-family:Menlo,'DejaVu Sans Mono',consolas,'Courier New',monospace\">        Saving the best model with valLoss : 0.017\n",
       "</pre>\n"
      ],
      "text/plain": [
       "        Saving the best model with valLoss : 0.017\n"
      ]
     },
     "metadata": {},
     "output_type": "display_data"
    },
    {
     "data": {
      "text/html": [
       "<pre style=\"white-space:pre;overflow-x:auto;line-height:normal;font-family:Menlo,'DejaVu Sans Mono',consolas,'Courier New',monospace\">| Epoch :   52 | Trn. Loss : 5.202e-02 | Val. Loss : 2.294e-02 | LR : 4.804e-05 |\n",
       "</pre>\n"
      ],
      "text/plain": [
       "| Epoch :   52 | Trn. Loss : 5.202e-02 | Val. Loss : 2.294e-02 | LR : 4.804e-05 |\n"
      ]
     },
     "metadata": {},
     "output_type": "display_data"
    },
    {
     "data": {
      "text/html": [
       "<pre style=\"white-space:pre;overflow-x:auto;line-height:normal;font-family:Menlo,'DejaVu Sans Mono',consolas,'Courier New',monospace\">| Epoch :   53 | Trn. Loss : 4.538e-02 | Val. Loss : 2.050e-02 | LR : 4.737e-05 |\n",
       "</pre>\n"
      ],
      "text/plain": [
       "| Epoch :   53 | Trn. Loss : 4.538e-02 | Val. Loss : 2.050e-02 | LR : 4.737e-05 |\n"
      ]
     },
     "metadata": {},
     "output_type": "display_data"
    },
    {
     "data": {
      "text/html": [
       "<pre style=\"white-space:pre;overflow-x:auto;line-height:normal;font-family:Menlo,'DejaVu Sans Mono',consolas,'Courier New',monospace\">| Epoch :   54 | Trn. Loss : 4.360e-02 | Val. Loss : 3.616e-02 | LR : 4.670e-05 |\n",
       "</pre>\n"
      ],
      "text/plain": [
       "| Epoch :   54 | Trn. Loss : 4.360e-02 | Val. Loss : 3.616e-02 | LR : 4.670e-05 |\n"
      ]
     },
     "metadata": {},
     "output_type": "display_data"
    },
    {
     "data": {
      "text/html": [
       "<pre style=\"white-space:pre;overflow-x:auto;line-height:normal;font-family:Menlo,'DejaVu Sans Mono',consolas,'Courier New',monospace\">| Epoch :   55 | Trn. Loss : 4.475e-02 | Val. Loss : 2.198e-02 | LR : 4.605e-05 |\n",
       "</pre>\n"
      ],
      "text/plain": [
       "| Epoch :   55 | Trn. Loss : 4.475e-02 | Val. Loss : 2.198e-02 | LR : 4.605e-05 |\n"
      ]
     },
     "metadata": {},
     "output_type": "display_data"
    },
    {
     "data": {
      "text/html": [
       "<pre style=\"white-space:pre;overflow-x:auto;line-height:normal;font-family:Menlo,'DejaVu Sans Mono',consolas,'Courier New',monospace\">| Epoch :   56 | Trn. Loss : 4.855e-02 | Val. Loss : 1.814e-02 | LR : 4.541e-05 |\n",
       "</pre>\n"
      ],
      "text/plain": [
       "| Epoch :   56 | Trn. Loss : 4.855e-02 | Val. Loss : 1.814e-02 | LR : 4.541e-05 |\n"
      ]
     },
     "metadata": {},
     "output_type": "display_data"
    },
    {
     "data": {
      "text/html": [
       "<pre style=\"white-space:pre;overflow-x:auto;line-height:normal;font-family:Menlo,'DejaVu Sans Mono',consolas,'Courier New',monospace\">| Epoch :   57 | Trn. Loss : 4.678e-02 | Val. Loss : 2.762e-02 | LR : 4.477e-05 |\n",
       "</pre>\n"
      ],
      "text/plain": [
       "| Epoch :   57 | Trn. Loss : 4.678e-02 | Val. Loss : 2.762e-02 | LR : 4.477e-05 |\n"
      ]
     },
     "metadata": {},
     "output_type": "display_data"
    },
    {
     "data": {
      "text/html": [
       "<pre style=\"white-space:pre;overflow-x:auto;line-height:normal;font-family:Menlo,'DejaVu Sans Mono',consolas,'Courier New',monospace\">| Epoch :   58 | Trn. Loss : 4.897e-02 | Val. Loss : 2.377e-02 | LR : 4.414e-05 |\n",
       "</pre>\n"
      ],
      "text/plain": [
       "| Epoch :   58 | Trn. Loss : 4.897e-02 | Val. Loss : 2.377e-02 | LR : 4.414e-05 |\n"
      ]
     },
     "metadata": {},
     "output_type": "display_data"
    },
    {
     "data": {
      "text/html": [
       "<pre style=\"white-space:pre;overflow-x:auto;line-height:normal;font-family:Menlo,'DejaVu Sans Mono',consolas,'Courier New',monospace\">| Epoch :   59 | Trn. Loss : 4.794e-02 | Val. Loss : 2.264e-02 | LR : 4.352e-05 |\n",
       "</pre>\n"
      ],
      "text/plain": [
       "| Epoch :   59 | Trn. Loss : 4.794e-02 | Val. Loss : 2.264e-02 | LR : 4.352e-05 |\n"
      ]
     },
     "metadata": {},
     "output_type": "display_data"
    },
    {
     "data": {
      "text/html": [
       "<pre style=\"white-space:pre;overflow-x:auto;line-height:normal;font-family:Menlo,'DejaVu Sans Mono',consolas,'Courier New',monospace\">| Epoch :   60 | Trn. Loss : 4.488e-02 | Val. Loss : 2.002e-02 | LR : 4.292e-05 |\n",
       "</pre>\n"
      ],
      "text/plain": [
       "| Epoch :   60 | Trn. Loss : 4.488e-02 | Val. Loss : 2.002e-02 | LR : 4.292e-05 |\n"
      ]
     },
     "metadata": {},
     "output_type": "display_data"
    },
    {
     "data": {
      "text/html": [
       "<pre style=\"white-space:pre;overflow-x:auto;line-height:normal;font-family:Menlo,'DejaVu Sans Mono',consolas,'Courier New',monospace\">| Epoch :   61 | Trn. Loss : 4.475e-02 | Val. Loss : 2.371e-02 | LR : 4.231e-05 |\n",
       "</pre>\n"
      ],
      "text/plain": [
       "| Epoch :   61 | Trn. Loss : 4.475e-02 | Val. Loss : 2.371e-02 | LR : 4.231e-05 |\n"
      ]
     },
     "metadata": {},
     "output_type": "display_data"
    },
    {
     "data": {
      "text/html": [
       "<pre style=\"white-space:pre;overflow-x:auto;line-height:normal;font-family:Menlo,'DejaVu Sans Mono',consolas,'Courier New',monospace\">| Epoch :   62 | Trn. Loss : 4.864e-02 | Val. Loss : 2.127e-02 | LR : 4.172e-05 |\n",
       "</pre>\n"
      ],
      "text/plain": [
       "| Epoch :   62 | Trn. Loss : 4.864e-02 | Val. Loss : 2.127e-02 | LR : 4.172e-05 |\n"
      ]
     },
     "metadata": {},
     "output_type": "display_data"
    },
    {
     "data": {
      "text/html": [
       "<pre style=\"white-space:pre;overflow-x:auto;line-height:normal;font-family:Menlo,'DejaVu Sans Mono',consolas,'Courier New',monospace\">| Epoch :   63 | Trn. Loss : 4.863e-02 | Val. Loss : 2.496e-02 | LR : 4.114e-05 |\n",
       "</pre>\n"
      ],
      "text/plain": [
       "| Epoch :   63 | Trn. Loss : 4.863e-02 | Val. Loss : 2.496e-02 | LR : 4.114e-05 |\n"
      ]
     },
     "metadata": {},
     "output_type": "display_data"
    },
    {
     "data": {
      "text/html": [
       "<pre style=\"white-space:pre;overflow-x:auto;line-height:normal;font-family:Menlo,'DejaVu Sans Mono',consolas,'Courier New',monospace\">| Epoch :   64 | Trn. Loss : 4.316e-02 | Val. Loss : 1.791e-02 | LR : 4.056e-05 |\n",
       "</pre>\n"
      ],
      "text/plain": [
       "| Epoch :   64 | Trn. Loss : 4.316e-02 | Val. Loss : 1.791e-02 | LR : 4.056e-05 |\n"
      ]
     },
     "metadata": {},
     "output_type": "display_data"
    },
    {
     "data": {
      "text/html": [
       "<pre style=\"white-space:pre;overflow-x:auto;line-height:normal;font-family:Menlo,'DejaVu Sans Mono',consolas,'Courier New',monospace\">| Epoch :   65 | Trn. Loss : 4.774e-02 | Val. Loss : 1.659e-02 | LR : 3.999e-05 |\n",
       "</pre>\n"
      ],
      "text/plain": [
       "| Epoch :   65 | Trn. Loss : 4.774e-02 | Val. Loss : 1.659e-02 | LR : 3.999e-05 |\n"
      ]
     },
     "metadata": {},
     "output_type": "display_data"
    },
    {
     "data": {
      "text/html": [
       "<pre style=\"white-space:pre;overflow-x:auto;line-height:normal;font-family:Menlo,'DejaVu Sans Mono',consolas,'Courier New',monospace\">        Saving the best model with valLoss : 0.017\n",
       "</pre>\n"
      ],
      "text/plain": [
       "        Saving the best model with valLoss : 0.017\n"
      ]
     },
     "metadata": {},
     "output_type": "display_data"
    },
    {
     "data": {
      "text/html": [
       "<pre style=\"white-space:pre;overflow-x:auto;line-height:normal;font-family:Menlo,'DejaVu Sans Mono',consolas,'Courier New',monospace\">| Epoch :   66 | Trn. Loss : 3.830e-02 | Val. Loss : 1.935e-02 | LR : 3.943e-05 |\n",
       "</pre>\n"
      ],
      "text/plain": [
       "| Epoch :   66 | Trn. Loss : 3.830e-02 | Val. Loss : 1.935e-02 | LR : 3.943e-05 |\n"
      ]
     },
     "metadata": {},
     "output_type": "display_data"
    },
    {
     "data": {
      "text/html": [
       "<pre style=\"white-space:pre;overflow-x:auto;line-height:normal;font-family:Menlo,'DejaVu Sans Mono',consolas,'Courier New',monospace\">| Epoch :   67 | Trn. Loss : 4.424e-02 | Val. Loss : 2.621e-02 | LR : 3.888e-05 |\n",
       "</pre>\n"
      ],
      "text/plain": [
       "| Epoch :   67 | Trn. Loss : 4.424e-02 | Val. Loss : 2.621e-02 | LR : 3.888e-05 |\n"
      ]
     },
     "metadata": {},
     "output_type": "display_data"
    },
    {
     "data": {
      "text/html": [
       "<pre style=\"white-space:pre;overflow-x:auto;line-height:normal;font-family:Menlo,'DejaVu Sans Mono',consolas,'Courier New',monospace\">| Epoch :   68 | Trn. Loss : 4.022e-02 | Val. Loss : 2.504e-02 | LR : 3.834e-05 |\n",
       "</pre>\n"
      ],
      "text/plain": [
       "| Epoch :   68 | Trn. Loss : 4.022e-02 | Val. Loss : 2.504e-02 | LR : 3.834e-05 |\n"
      ]
     },
     "metadata": {},
     "output_type": "display_data"
    },
    {
     "data": {
      "text/html": [
       "<pre style=\"white-space:pre;overflow-x:auto;line-height:normal;font-family:Menlo,'DejaVu Sans Mono',consolas,'Courier New',monospace\">| Epoch :   69 | Trn. Loss : 4.920e-02 | Val. Loss : 2.168e-02 | LR : 3.780e-05 |\n",
       "</pre>\n"
      ],
      "text/plain": [
       "| Epoch :   69 | Trn. Loss : 4.920e-02 | Val. Loss : 2.168e-02 | LR : 3.780e-05 |\n"
      ]
     },
     "metadata": {},
     "output_type": "display_data"
    },
    {
     "data": {
      "text/html": [
       "<pre style=\"white-space:pre;overflow-x:auto;line-height:normal;font-family:Menlo,'DejaVu Sans Mono',consolas,'Courier New',monospace\">| Epoch :   70 | Trn. Loss : 4.323e-02 | Val. Loss : 2.136e-02 | LR : 3.727e-05 |\n",
       "</pre>\n"
      ],
      "text/plain": [
       "| Epoch :   70 | Trn. Loss : 4.323e-02 | Val. Loss : 2.136e-02 | LR : 3.727e-05 |\n"
      ]
     },
     "metadata": {},
     "output_type": "display_data"
    },
    {
     "data": {
      "text/html": [
       "<pre style=\"white-space:pre;overflow-x:auto;line-height:normal;font-family:Menlo,'DejaVu Sans Mono',consolas,'Courier New',monospace\">| Epoch :   71 | Trn. Loss : 3.964e-02 | Val. Loss : 1.843e-02 | LR : 3.675e-05 |\n",
       "</pre>\n"
      ],
      "text/plain": [
       "| Epoch :   71 | Trn. Loss : 3.964e-02 | Val. Loss : 1.843e-02 | LR : 3.675e-05 |\n"
      ]
     },
     "metadata": {},
     "output_type": "display_data"
    },
    {
     "data": {
      "text/html": [
       "<pre style=\"white-space:pre;overflow-x:auto;line-height:normal;font-family:Menlo,'DejaVu Sans Mono',consolas,'Courier New',monospace\">| Epoch :   72 | Trn. Loss : 4.523e-02 | Val. Loss : 1.791e-02 | LR : 3.624e-05 |\n",
       "</pre>\n"
      ],
      "text/plain": [
       "| Epoch :   72 | Trn. Loss : 4.523e-02 | Val. Loss : 1.791e-02 | LR : 3.624e-05 |\n"
      ]
     },
     "metadata": {},
     "output_type": "display_data"
    },
    {
     "data": {
      "text/html": [
       "<pre style=\"white-space:pre;overflow-x:auto;line-height:normal;font-family:Menlo,'DejaVu Sans Mono',consolas,'Courier New',monospace\">| Epoch :   73 | Trn. Loss : 4.206e-02 | Val. Loss : 1.764e-02 | LR : 3.573e-05 |\n",
       "</pre>\n"
      ],
      "text/plain": [
       "| Epoch :   73 | Trn. Loss : 4.206e-02 | Val. Loss : 1.764e-02 | LR : 3.573e-05 |\n"
      ]
     },
     "metadata": {},
     "output_type": "display_data"
    },
    {
     "data": {
      "text/html": [
       "<pre style=\"white-space:pre;overflow-x:auto;line-height:normal;font-family:Menlo,'DejaVu Sans Mono',consolas,'Courier New',monospace\">| Epoch :   74 | Trn. Loss : 4.240e-02 | Val. Loss : 2.074e-02 | LR : 3.523e-05 |\n",
       "</pre>\n"
      ],
      "text/plain": [
       "| Epoch :   74 | Trn. Loss : 4.240e-02 | Val. Loss : 2.074e-02 | LR : 3.523e-05 |\n"
      ]
     },
     "metadata": {},
     "output_type": "display_data"
    },
    {
     "data": {
      "text/html": [
       "<pre style=\"white-space:pre;overflow-x:auto;line-height:normal;font-family:Menlo,'DejaVu Sans Mono',consolas,'Courier New',monospace\">| Epoch :   75 | Trn. Loss : 3.867e-02 | Val. Loss : 2.169e-02 | LR : 3.474e-05 |\n",
       "</pre>\n"
      ],
      "text/plain": [
       "| Epoch :   75 | Trn. Loss : 3.867e-02 | Val. Loss : 2.169e-02 | LR : 3.474e-05 |\n"
      ]
     },
     "metadata": {},
     "output_type": "display_data"
    },
    {
     "data": {
      "text/html": [
       "<pre style=\"white-space:pre;overflow-x:auto;line-height:normal;font-family:Menlo,'DejaVu Sans Mono',consolas,'Courier New',monospace\">| Epoch :   76 | Trn. Loss : 3.949e-02 | Val. Loss : 1.763e-02 | LR : 3.425e-05 |\n",
       "</pre>\n"
      ],
      "text/plain": [
       "| Epoch :   76 | Trn. Loss : 3.949e-02 | Val. Loss : 1.763e-02 | LR : 3.425e-05 |\n"
      ]
     },
     "metadata": {},
     "output_type": "display_data"
    },
    {
     "data": {
      "text/html": [
       "<pre style=\"white-space:pre;overflow-x:auto;line-height:normal;font-family:Menlo,'DejaVu Sans Mono',consolas,'Courier New',monospace\">| Epoch :   77 | Trn. Loss : 3.519e-02 | Val. Loss : 1.540e-02 | LR : 3.377e-05 |\n",
       "</pre>\n"
      ],
      "text/plain": [
       "| Epoch :   77 | Trn. Loss : 3.519e-02 | Val. Loss : 1.540e-02 | LR : 3.377e-05 |\n"
      ]
     },
     "metadata": {},
     "output_type": "display_data"
    },
    {
     "data": {
      "text/html": [
       "<pre style=\"white-space:pre;overflow-x:auto;line-height:normal;font-family:Menlo,'DejaVu Sans Mono',consolas,'Courier New',monospace\">        Saving the best model with valLoss : 0.015\n",
       "</pre>\n"
      ],
      "text/plain": [
       "        Saving the best model with valLoss : 0.015\n"
      ]
     },
     "metadata": {},
     "output_type": "display_data"
    },
    {
     "data": {
      "text/html": [
       "<pre style=\"white-space:pre;overflow-x:auto;line-height:normal;font-family:Menlo,'DejaVu Sans Mono',consolas,'Courier New',monospace\">| Epoch :   78 | Trn. Loss : 3.819e-02 | Val. Loss : 1.702e-02 | LR : 3.330e-05 |\n",
       "</pre>\n"
      ],
      "text/plain": [
       "| Epoch :   78 | Trn. Loss : 3.819e-02 | Val. Loss : 1.702e-02 | LR : 3.330e-05 |\n"
      ]
     },
     "metadata": {},
     "output_type": "display_data"
    },
    {
     "data": {
      "text/html": [
       "<pre style=\"white-space:pre;overflow-x:auto;line-height:normal;font-family:Menlo,'DejaVu Sans Mono',consolas,'Courier New',monospace\">| Epoch :   79 | Trn. Loss : 4.232e-02 | Val. Loss : 1.862e-02 | LR : 3.283e-05 |\n",
       "</pre>\n"
      ],
      "text/plain": [
       "| Epoch :   79 | Trn. Loss : 4.232e-02 | Val. Loss : 1.862e-02 | LR : 3.283e-05 |\n"
      ]
     },
     "metadata": {},
     "output_type": "display_data"
    },
    {
     "data": {
      "text/html": [
       "<pre style=\"white-space:pre;overflow-x:auto;line-height:normal;font-family:Menlo,'DejaVu Sans Mono',consolas,'Courier New',monospace\">| Epoch :   80 | Trn. Loss : 3.482e-02 | Val. Loss : 1.973e-02 | LR : 3.237e-05 |\n",
       "</pre>\n"
      ],
      "text/plain": [
       "| Epoch :   80 | Trn. Loss : 3.482e-02 | Val. Loss : 1.973e-02 | LR : 3.237e-05 |\n"
      ]
     },
     "metadata": {},
     "output_type": "display_data"
    },
    {
     "data": {
      "text/html": [
       "<pre style=\"white-space:pre;overflow-x:auto;line-height:normal;font-family:Menlo,'DejaVu Sans Mono',consolas,'Courier New',monospace\">| Epoch :   81 | Trn. Loss : 4.096e-02 | Val. Loss : 2.033e-02 | LR : 3.192e-05 |\n",
       "</pre>\n"
      ],
      "text/plain": [
       "| Epoch :   81 | Trn. Loss : 4.096e-02 | Val. Loss : 2.033e-02 | LR : 3.192e-05 |\n"
      ]
     },
     "metadata": {},
     "output_type": "display_data"
    },
    {
     "data": {
      "text/html": [
       "<pre style=\"white-space:pre;overflow-x:auto;line-height:normal;font-family:Menlo,'DejaVu Sans Mono',consolas,'Courier New',monospace\">| Epoch :   82 | Trn. Loss : 4.085e-02 | Val. Loss : 3.214e-02 | LR : 3.147e-05 |\n",
       "</pre>\n"
      ],
      "text/plain": [
       "| Epoch :   82 | Trn. Loss : 4.085e-02 | Val. Loss : 3.214e-02 | LR : 3.147e-05 |\n"
      ]
     },
     "metadata": {},
     "output_type": "display_data"
    },
    {
     "data": {
      "text/html": [
       "<pre style=\"white-space:pre;overflow-x:auto;line-height:normal;font-family:Menlo,'DejaVu Sans Mono',consolas,'Courier New',monospace\">| Epoch :   83 | Trn. Loss : 4.129e-02 | Val. Loss : 1.997e-02 | LR : 3.103e-05 |\n",
       "</pre>\n"
      ],
      "text/plain": [
       "| Epoch :   83 | Trn. Loss : 4.129e-02 | Val. Loss : 1.997e-02 | LR : 3.103e-05 |\n"
      ]
     },
     "metadata": {},
     "output_type": "display_data"
    },
    {
     "data": {
      "text/html": [
       "<pre style=\"white-space:pre;overflow-x:auto;line-height:normal;font-family:Menlo,'DejaVu Sans Mono',consolas,'Courier New',monospace\">| Epoch :   84 | Trn. Loss : 4.070e-02 | Val. Loss : 1.706e-02 | LR : 3.060e-05 |\n",
       "</pre>\n"
      ],
      "text/plain": [
       "| Epoch :   84 | Trn. Loss : 4.070e-02 | Val. Loss : 1.706e-02 | LR : 3.060e-05 |\n"
      ]
     },
     "metadata": {},
     "output_type": "display_data"
    },
    {
     "data": {
      "text/html": [
       "<pre style=\"white-space:pre;overflow-x:auto;line-height:normal;font-family:Menlo,'DejaVu Sans Mono',consolas,'Courier New',monospace\">| Epoch :   85 | Trn. Loss : 3.727e-02 | Val. Loss : 1.920e-02 | LR : 3.017e-05 |\n",
       "</pre>\n"
      ],
      "text/plain": [
       "| Epoch :   85 | Trn. Loss : 3.727e-02 | Val. Loss : 1.920e-02 | LR : 3.017e-05 |\n"
      ]
     },
     "metadata": {},
     "output_type": "display_data"
    },
    {
     "data": {
      "text/html": [
       "<pre style=\"white-space:pre;overflow-x:auto;line-height:normal;font-family:Menlo,'DejaVu Sans Mono',consolas,'Courier New',monospace\">| Epoch :   86 | Trn. Loss : 3.442e-02 | Val. Loss : 1.980e-02 | LR : 2.975e-05 |\n",
       "</pre>\n"
      ],
      "text/plain": [
       "| Epoch :   86 | Trn. Loss : 3.442e-02 | Val. Loss : 1.980e-02 | LR : 2.975e-05 |\n"
      ]
     },
     "metadata": {},
     "output_type": "display_data"
    },
    {
     "data": {
      "text/html": [
       "<pre style=\"white-space:pre;overflow-x:auto;line-height:normal;font-family:Menlo,'DejaVu Sans Mono',consolas,'Courier New',monospace\">| Epoch :   87 | Trn. Loss : 4.218e-02 | Val. Loss : 2.166e-02 | LR : 2.933e-05 |\n",
       "</pre>\n"
      ],
      "text/plain": [
       "| Epoch :   87 | Trn. Loss : 4.218e-02 | Val. Loss : 2.166e-02 | LR : 2.933e-05 |\n"
      ]
     },
     "metadata": {},
     "output_type": "display_data"
    },
    {
     "data": {
      "text/html": [
       "<pre style=\"white-space:pre;overflow-x:auto;line-height:normal;font-family:Menlo,'DejaVu Sans Mono',consolas,'Courier New',monospace\">| Epoch :   88 | Trn. Loss : 4.028e-02 | Val. Loss : 1.507e-02 | LR : 2.892e-05 |\n",
       "</pre>\n"
      ],
      "text/plain": [
       "| Epoch :   88 | Trn. Loss : 4.028e-02 | Val. Loss : 1.507e-02 | LR : 2.892e-05 |\n"
      ]
     },
     "metadata": {},
     "output_type": "display_data"
    },
    {
     "data": {
      "text/html": [
       "<pre style=\"white-space:pre;overflow-x:auto;line-height:normal;font-family:Menlo,'DejaVu Sans Mono',consolas,'Courier New',monospace\">        Saving the best model with valLoss : 0.015\n",
       "</pre>\n"
      ],
      "text/plain": [
       "        Saving the best model with valLoss : 0.015\n"
      ]
     },
     "metadata": {},
     "output_type": "display_data"
    },
    {
     "data": {
      "text/html": [
       "<pre style=\"white-space:pre;overflow-x:auto;line-height:normal;font-family:Menlo,'DejaVu Sans Mono',consolas,'Courier New',monospace\">| Epoch :   89 | Trn. Loss : 3.827e-02 | Val. Loss : 1.495e-02 | LR : 2.851e-05 |\n",
       "</pre>\n"
      ],
      "text/plain": [
       "| Epoch :   89 | Trn. Loss : 3.827e-02 | Val. Loss : 1.495e-02 | LR : 2.851e-05 |\n"
      ]
     },
     "metadata": {},
     "output_type": "display_data"
    },
    {
     "data": {
      "text/html": [
       "<pre style=\"white-space:pre;overflow-x:auto;line-height:normal;font-family:Menlo,'DejaVu Sans Mono',consolas,'Courier New',monospace\">        Saving the best model with valLoss : 0.015\n",
       "</pre>\n"
      ],
      "text/plain": [
       "        Saving the best model with valLoss : 0.015\n"
      ]
     },
     "metadata": {},
     "output_type": "display_data"
    },
    {
     "data": {
      "text/html": [
       "<pre style=\"white-space:pre;overflow-x:auto;line-height:normal;font-family:Menlo,'DejaVu Sans Mono',consolas,'Courier New',monospace\">| Epoch :   90 | Trn. Loss : 4.181e-02 | Val. Loss : 1.922e-02 | LR : 2.811e-05 |\n",
       "</pre>\n"
      ],
      "text/plain": [
       "| Epoch :   90 | Trn. Loss : 4.181e-02 | Val. Loss : 1.922e-02 | LR : 2.811e-05 |\n"
      ]
     },
     "metadata": {},
     "output_type": "display_data"
    },
    {
     "data": {
      "text/html": [
       "<pre style=\"white-space:pre;overflow-x:auto;line-height:normal;font-family:Menlo,'DejaVu Sans Mono',consolas,'Courier New',monospace\">| Epoch :   91 | Trn. Loss : 3.875e-02 | Val. Loss : 1.901e-02 | LR : 2.772e-05 |\n",
       "</pre>\n"
      ],
      "text/plain": [
       "| Epoch :   91 | Trn. Loss : 3.875e-02 | Val. Loss : 1.901e-02 | LR : 2.772e-05 |\n"
      ]
     },
     "metadata": {},
     "output_type": "display_data"
    },
    {
     "data": {
      "text/html": [
       "<pre style=\"white-space:pre;overflow-x:auto;line-height:normal;font-family:Menlo,'DejaVu Sans Mono',consolas,'Courier New',monospace\">| Epoch :   92 | Trn. Loss : 3.953e-02 | Val. Loss : 1.803e-02 | LR : 2.733e-05 |\n",
       "</pre>\n"
      ],
      "text/plain": [
       "| Epoch :   92 | Trn. Loss : 3.953e-02 | Val. Loss : 1.803e-02 | LR : 2.733e-05 |\n"
      ]
     },
     "metadata": {},
     "output_type": "display_data"
    },
    {
     "data": {
      "text/html": [
       "<pre style=\"white-space:pre;overflow-x:auto;line-height:normal;font-family:Menlo,'DejaVu Sans Mono',consolas,'Courier New',monospace\">| Epoch :   93 | Trn. Loss : 3.766e-02 | Val. Loss : 1.423e-02 | LR : 2.695e-05 |\n",
       "</pre>\n"
      ],
      "text/plain": [
       "| Epoch :   93 | Trn. Loss : 3.766e-02 | Val. Loss : 1.423e-02 | LR : 2.695e-05 |\n"
      ]
     },
     "metadata": {},
     "output_type": "display_data"
    },
    {
     "data": {
      "text/html": [
       "<pre style=\"white-space:pre;overflow-x:auto;line-height:normal;font-family:Menlo,'DejaVu Sans Mono',consolas,'Courier New',monospace\">        Saving the best model with valLoss : 0.014\n",
       "</pre>\n"
      ],
      "text/plain": [
       "        Saving the best model with valLoss : 0.014\n"
      ]
     },
     "metadata": {},
     "output_type": "display_data"
    },
    {
     "data": {
      "text/html": [
       "<pre style=\"white-space:pre;overflow-x:auto;line-height:normal;font-family:Menlo,'DejaVu Sans Mono',consolas,'Courier New',monospace\">| Epoch :   94 | Trn. Loss : 4.337e-02 | Val. Loss : 1.691e-02 | LR : 2.657e-05 |\n",
       "</pre>\n"
      ],
      "text/plain": [
       "| Epoch :   94 | Trn. Loss : 4.337e-02 | Val. Loss : 1.691e-02 | LR : 2.657e-05 |\n"
      ]
     },
     "metadata": {},
     "output_type": "display_data"
    },
    {
     "data": {
      "text/html": [
       "<pre style=\"white-space:pre;overflow-x:auto;line-height:normal;font-family:Menlo,'DejaVu Sans Mono',consolas,'Courier New',monospace\">| Epoch :   95 | Trn. Loss : 3.844e-02 | Val. Loss : 2.006e-02 | LR : 2.620e-05 |\n",
       "</pre>\n"
      ],
      "text/plain": [
       "| Epoch :   95 | Trn. Loss : 3.844e-02 | Val. Loss : 2.006e-02 | LR : 2.620e-05 |\n"
      ]
     },
     "metadata": {},
     "output_type": "display_data"
    },
    {
     "data": {
      "text/html": [
       "<pre style=\"white-space:pre;overflow-x:auto;line-height:normal;font-family:Menlo,'DejaVu Sans Mono',consolas,'Courier New',monospace\">| Epoch :   96 | Trn. Loss : 4.047e-02 | Val. Loss : 2.287e-02 | LR : 2.583e-05 |\n",
       "</pre>\n"
      ],
      "text/plain": [
       "| Epoch :   96 | Trn. Loss : 4.047e-02 | Val. Loss : 2.287e-02 | LR : 2.583e-05 |\n"
      ]
     },
     "metadata": {},
     "output_type": "display_data"
    },
    {
     "data": {
      "text/html": [
       "<pre style=\"white-space:pre;overflow-x:auto;line-height:normal;font-family:Menlo,'DejaVu Sans Mono',consolas,'Courier New',monospace\">| Epoch :   97 | Trn. Loss : 3.951e-02 | Val. Loss : 1.531e-02 | LR : 2.547e-05 |\n",
       "</pre>\n"
      ],
      "text/plain": [
       "| Epoch :   97 | Trn. Loss : 3.951e-02 | Val. Loss : 1.531e-02 | LR : 2.547e-05 |\n"
      ]
     },
     "metadata": {},
     "output_type": "display_data"
    },
    {
     "data": {
      "text/html": [
       "<pre style=\"white-space:pre;overflow-x:auto;line-height:normal;font-family:Menlo,'DejaVu Sans Mono',consolas,'Courier New',monospace\">| Epoch :   98 | Trn. Loss : 3.665e-02 | Val. Loss : 1.565e-02 | LR : 2.512e-05 |\n",
       "</pre>\n"
      ],
      "text/plain": [
       "| Epoch :   98 | Trn. Loss : 3.665e-02 | Val. Loss : 1.565e-02 | LR : 2.512e-05 |\n"
      ]
     },
     "metadata": {},
     "output_type": "display_data"
    },
    {
     "data": {
      "text/html": [
       "<pre style=\"white-space:pre;overflow-x:auto;line-height:normal;font-family:Menlo,'DejaVu Sans Mono',consolas,'Courier New',monospace\">| Epoch :   99 | Trn. Loss : 3.757e-02 | Val. Loss : 1.903e-02 | LR : 2.476e-05 |\n",
       "</pre>\n"
      ],
      "text/plain": [
       "| Epoch :   99 | Trn. Loss : 3.757e-02 | Val. Loss : 1.903e-02 | LR : 2.476e-05 |\n"
      ]
     },
     "metadata": {},
     "output_type": "display_data"
    },
    {
     "data": {
      "text/html": [
       "<pre style=\"white-space:pre;overflow-x:auto;line-height:normal;font-family:Menlo,'DejaVu Sans Mono',consolas,'Courier New',monospace\">| Epoch :  100 | Trn. Loss : 3.528e-02 | Val. Loss : 1.588e-02 | LR : 2.442e-05 |\n",
       "</pre>\n"
      ],
      "text/plain": [
       "| Epoch :  100 | Trn. Loss : 3.528e-02 | Val. Loss : 1.588e-02 | LR : 2.442e-05 |\n"
      ]
     },
     "metadata": {},
     "output_type": "display_data"
    },
    {
     "data": {
      "text/html": [
       "<pre style=\"white-space:pre;overflow-x:auto;line-height:normal;font-family:Menlo,'DejaVu Sans Mono',consolas,'Courier New',monospace\">| Epoch :  101 | Trn. Loss : 3.803e-02 | Val. Loss : 1.635e-02 | LR : 2.408e-05 |\n",
       "</pre>\n"
      ],
      "text/plain": [
       "| Epoch :  101 | Trn. Loss : 3.803e-02 | Val. Loss : 1.635e-02 | LR : 2.408e-05 |\n"
      ]
     },
     "metadata": {},
     "output_type": "display_data"
    },
    {
     "data": {
      "text/html": [
       "<pre style=\"white-space:pre;overflow-x:auto;line-height:normal;font-family:Menlo,'DejaVu Sans Mono',consolas,'Courier New',monospace\">| Epoch :  102 | Trn. Loss : 3.708e-02 | Val. Loss : 1.873e-02 | LR : 2.374e-05 |\n",
       "</pre>\n"
      ],
      "text/plain": [
       "| Epoch :  102 | Trn. Loss : 3.708e-02 | Val. Loss : 1.873e-02 | LR : 2.374e-05 |\n"
      ]
     },
     "metadata": {},
     "output_type": "display_data"
    },
    {
     "data": {
      "text/html": [
       "<pre style=\"white-space:pre;overflow-x:auto;line-height:normal;font-family:Menlo,'DejaVu Sans Mono',consolas,'Courier New',monospace\">| Epoch :  103 | Trn. Loss : 4.165e-02 | Val. Loss : 1.591e-02 | LR : 2.341e-05 |\n",
       "</pre>\n"
      ],
      "text/plain": [
       "| Epoch :  103 | Trn. Loss : 4.165e-02 | Val. Loss : 1.591e-02 | LR : 2.341e-05 |\n"
      ]
     },
     "metadata": {},
     "output_type": "display_data"
    },
    {
     "data": {
      "text/html": [
       "<pre style=\"white-space:pre;overflow-x:auto;line-height:normal;font-family:Menlo,'DejaVu Sans Mono',consolas,'Courier New',monospace\">| Epoch :  104 | Trn. Loss : 3.443e-02 | Val. Loss : 1.741e-02 | LR : 2.308e-05 |\n",
       "</pre>\n"
      ],
      "text/plain": [
       "| Epoch :  104 | Trn. Loss : 3.443e-02 | Val. Loss : 1.741e-02 | LR : 2.308e-05 |\n"
      ]
     },
     "metadata": {},
     "output_type": "display_data"
    },
    {
     "data": {
      "text/html": [
       "<pre style=\"white-space:pre;overflow-x:auto;line-height:normal;font-family:Menlo,'DejaVu Sans Mono',consolas,'Courier New',monospace\">| Epoch :  105 | Trn. Loss : 3.986e-02 | Val. Loss : 2.564e-02 | LR : 2.275e-05 |\n",
       "</pre>\n"
      ],
      "text/plain": [
       "| Epoch :  105 | Trn. Loss : 3.986e-02 | Val. Loss : 2.564e-02 | LR : 2.275e-05 |\n"
      ]
     },
     "metadata": {},
     "output_type": "display_data"
    },
    {
     "data": {
      "text/html": [
       "<pre style=\"white-space:pre;overflow-x:auto;line-height:normal;font-family:Menlo,'DejaVu Sans Mono',consolas,'Courier New',monospace\">| Epoch :  106 | Trn. Loss : 3.662e-02 | Val. Loss : 2.022e-02 | LR : 2.244e-05 |\n",
       "</pre>\n"
      ],
      "text/plain": [
       "| Epoch :  106 | Trn. Loss : 3.662e-02 | Val. Loss : 2.022e-02 | LR : 2.244e-05 |\n"
      ]
     },
     "metadata": {},
     "output_type": "display_data"
    },
    {
     "data": {
      "text/html": [
       "<pre style=\"white-space:pre;overflow-x:auto;line-height:normal;font-family:Menlo,'DejaVu Sans Mono',consolas,'Courier New',monospace\">| Epoch :  107 | Trn. Loss : 3.243e-02 | Val. Loss : 1.888e-02 | LR : 2.212e-05 |\n",
       "</pre>\n"
      ],
      "text/plain": [
       "| Epoch :  107 | Trn. Loss : 3.243e-02 | Val. Loss : 1.888e-02 | LR : 2.212e-05 |\n"
      ]
     },
     "metadata": {},
     "output_type": "display_data"
    },
    {
     "data": {
      "text/html": [
       "<pre style=\"white-space:pre;overflow-x:auto;line-height:normal;font-family:Menlo,'DejaVu Sans Mono',consolas,'Courier New',monospace\">| Epoch :  108 | Trn. Loss : 3.802e-02 | Val. Loss : 1.951e-02 | LR : 2.181e-05 |\n",
       "</pre>\n"
      ],
      "text/plain": [
       "| Epoch :  108 | Trn. Loss : 3.802e-02 | Val. Loss : 1.951e-02 | LR : 2.181e-05 |\n"
      ]
     },
     "metadata": {},
     "output_type": "display_data"
    },
    {
     "data": {
      "text/html": [
       "<pre style=\"white-space:pre;overflow-x:auto;line-height:normal;font-family:Menlo,'DejaVu Sans Mono',consolas,'Courier New',monospace\">| Epoch :  109 | Trn. Loss : 3.836e-02 | Val. Loss : 1.559e-02 | LR : 2.151e-05 |\n",
       "</pre>\n"
      ],
      "text/plain": [
       "| Epoch :  109 | Trn. Loss : 3.836e-02 | Val. Loss : 1.559e-02 | LR : 2.151e-05 |\n"
      ]
     },
     "metadata": {},
     "output_type": "display_data"
    },
    {
     "data": {
      "text/html": [
       "<pre style=\"white-space:pre;overflow-x:auto;line-height:normal;font-family:Menlo,'DejaVu Sans Mono',consolas,'Courier New',monospace\">| Epoch :  110 | Trn. Loss : 3.438e-02 | Val. Loss : 1.717e-02 | LR : 2.121e-05 |\n",
       "</pre>\n"
      ],
      "text/plain": [
       "| Epoch :  110 | Trn. Loss : 3.438e-02 | Val. Loss : 1.717e-02 | LR : 2.121e-05 |\n"
      ]
     },
     "metadata": {},
     "output_type": "display_data"
    },
    {
     "data": {
      "text/html": [
       "<pre style=\"white-space:pre;overflow-x:auto;line-height:normal;font-family:Menlo,'DejaVu Sans Mono',consolas,'Courier New',monospace\">| Epoch :  111 | Trn. Loss : 3.586e-02 | Val. Loss : 2.336e-02 | LR : 2.091e-05 |\n",
       "</pre>\n"
      ],
      "text/plain": [
       "| Epoch :  111 | Trn. Loss : 3.586e-02 | Val. Loss : 2.336e-02 | LR : 2.091e-05 |\n"
      ]
     },
     "metadata": {},
     "output_type": "display_data"
    },
    {
     "data": {
      "text/html": [
       "<pre style=\"white-space:pre;overflow-x:auto;line-height:normal;font-family:Menlo,'DejaVu Sans Mono',consolas,'Courier New',monospace\">| Epoch :  112 | Trn. Loss : 3.672e-02 | Val. Loss : 2.423e-02 | LR : 2.062e-05 |\n",
       "</pre>\n"
      ],
      "text/plain": [
       "| Epoch :  112 | Trn. Loss : 3.672e-02 | Val. Loss : 2.423e-02 | LR : 2.062e-05 |\n"
      ]
     },
     "metadata": {},
     "output_type": "display_data"
    },
    {
     "data": {
      "text/html": [
       "<pre style=\"white-space:pre;overflow-x:auto;line-height:normal;font-family:Menlo,'DejaVu Sans Mono',consolas,'Courier New',monospace\">| Epoch :  113 | Trn. Loss : 3.066e-02 | Val. Loss : 1.542e-02 | LR : 2.033e-05 |\n",
       "</pre>\n"
      ],
      "text/plain": [
       "| Epoch :  113 | Trn. Loss : 3.066e-02 | Val. Loss : 1.542e-02 | LR : 2.033e-05 |\n"
      ]
     },
     "metadata": {},
     "output_type": "display_data"
    },
    {
     "data": {
      "text/html": [
       "<pre style=\"white-space:pre;overflow-x:auto;line-height:normal;font-family:Menlo,'DejaVu Sans Mono',consolas,'Courier New',monospace\">| Epoch :  114 | Trn. Loss : 3.840e-02 | Val. Loss : 1.847e-02 | LR : 2.004e-05 |\n",
       "</pre>\n"
      ],
      "text/plain": [
       "| Epoch :  114 | Trn. Loss : 3.840e-02 | Val. Loss : 1.847e-02 | LR : 2.004e-05 |\n"
      ]
     },
     "metadata": {},
     "output_type": "display_data"
    },
    {
     "data": {
      "text/html": [
       "<pre style=\"white-space:pre;overflow-x:auto;line-height:normal;font-family:Menlo,'DejaVu Sans Mono',consolas,'Courier New',monospace\">| Epoch :  115 | Trn. Loss : 3.319e-02 | Val. Loss : 2.028e-02 | LR : 1.976e-05 |\n",
       "</pre>\n"
      ],
      "text/plain": [
       "| Epoch :  115 | Trn. Loss : 3.319e-02 | Val. Loss : 2.028e-02 | LR : 1.976e-05 |\n"
      ]
     },
     "metadata": {},
     "output_type": "display_data"
    },
    {
     "data": {
      "text/html": [
       "<pre style=\"white-space:pre;overflow-x:auto;line-height:normal;font-family:Menlo,'DejaVu Sans Mono',consolas,'Courier New',monospace\">| Epoch :  116 | Trn. Loss : 3.229e-02 | Val. Loss : 1.677e-02 | LR : 1.949e-05 |\n",
       "</pre>\n"
      ],
      "text/plain": [
       "| Epoch :  116 | Trn. Loss : 3.229e-02 | Val. Loss : 1.677e-02 | LR : 1.949e-05 |\n"
      ]
     },
     "metadata": {},
     "output_type": "display_data"
    },
    {
     "data": {
      "text/html": [
       "<pre style=\"white-space:pre;overflow-x:auto;line-height:normal;font-family:Menlo,'DejaVu Sans Mono',consolas,'Courier New',monospace\">| Epoch :  117 | Trn. Loss : 3.461e-02 | Val. Loss : 1.848e-02 | LR : 1.921e-05 |\n",
       "</pre>\n"
      ],
      "text/plain": [
       "| Epoch :  117 | Trn. Loss : 3.461e-02 | Val. Loss : 1.848e-02 | LR : 1.921e-05 |\n"
      ]
     },
     "metadata": {},
     "output_type": "display_data"
    },
    {
     "data": {
      "text/html": [
       "<pre style=\"white-space:pre;overflow-x:auto;line-height:normal;font-family:Menlo,'DejaVu Sans Mono',consolas,'Courier New',monospace\">| Epoch :  118 | Trn. Loss : 3.967e-02 | Val. Loss : 2.421e-02 | LR : 1.894e-05 |\n",
       "</pre>\n"
      ],
      "text/plain": [
       "| Epoch :  118 | Trn. Loss : 3.967e-02 | Val. Loss : 2.421e-02 | LR : 1.894e-05 |\n"
      ]
     },
     "metadata": {},
     "output_type": "display_data"
    },
    {
     "data": {
      "text/html": [
       "<pre style=\"white-space:pre;overflow-x:auto;line-height:normal;font-family:Menlo,'DejaVu Sans Mono',consolas,'Courier New',monospace\">| Epoch :  119 | Trn. Loss : 3.497e-02 | Val. Loss : 1.638e-02 | LR : 1.868e-05 |\n",
       "</pre>\n"
      ],
      "text/plain": [
       "| Epoch :  119 | Trn. Loss : 3.497e-02 | Val. Loss : 1.638e-02 | LR : 1.868e-05 |\n"
      ]
     },
     "metadata": {},
     "output_type": "display_data"
    },
    {
     "data": {
      "text/html": [
       "<pre style=\"white-space:pre;overflow-x:auto;line-height:normal;font-family:Menlo,'DejaVu Sans Mono',consolas,'Courier New',monospace\">| Epoch :  120 | Trn. Loss : 3.142e-02 | Val. Loss : 1.678e-02 | LR : 1.842e-05 |\n",
       "</pre>\n"
      ],
      "text/plain": [
       "| Epoch :  120 | Trn. Loss : 3.142e-02 | Val. Loss : 1.678e-02 | LR : 1.842e-05 |\n"
      ]
     },
     "metadata": {},
     "output_type": "display_data"
    },
    {
     "data": {
      "text/html": [
       "<pre style=\"white-space:pre;overflow-x:auto;line-height:normal;font-family:Menlo,'DejaVu Sans Mono',consolas,'Courier New',monospace\">| Epoch :  121 | Trn. Loss : 3.454e-02 | Val. Loss : 1.720e-02 | LR : 1.816e-05 |\n",
       "</pre>\n"
      ],
      "text/plain": [
       "| Epoch :  121 | Trn. Loss : 3.454e-02 | Val. Loss : 1.720e-02 | LR : 1.816e-05 |\n"
      ]
     },
     "metadata": {},
     "output_type": "display_data"
    },
    {
     "data": {
      "text/html": [
       "<pre style=\"white-space:pre;overflow-x:auto;line-height:normal;font-family:Menlo,'DejaVu Sans Mono',consolas,'Courier New',monospace\">| Epoch :  122 | Trn. Loss : 3.430e-02 | Val. Loss : 2.005e-02 | LR : 1.791e-05 |\n",
       "</pre>\n"
      ],
      "text/plain": [
       "| Epoch :  122 | Trn. Loss : 3.430e-02 | Val. Loss : 2.005e-02 | LR : 1.791e-05 |\n"
      ]
     },
     "metadata": {},
     "output_type": "display_data"
    },
    {
     "data": {
      "text/html": [
       "<pre style=\"white-space:pre;overflow-x:auto;line-height:normal;font-family:Menlo,'DejaVu Sans Mono',consolas,'Courier New',monospace\">| Epoch :  123 | Trn. Loss : 3.443e-02 | Val. Loss : 1.791e-02 | LR : 1.765e-05 |\n",
       "</pre>\n"
      ],
      "text/plain": [
       "| Epoch :  123 | Trn. Loss : 3.443e-02 | Val. Loss : 1.791e-02 | LR : 1.765e-05 |\n"
      ]
     },
     "metadata": {},
     "output_type": "display_data"
    },
    {
     "data": {
      "text/html": [
       "<pre style=\"white-space:pre;overflow-x:auto;line-height:normal;font-family:Menlo,'DejaVu Sans Mono',consolas,'Courier New',monospace\">| Epoch :  124 | Trn. Loss : 3.534e-02 | Val. Loss : 1.914e-02 | LR : 1.741e-05 |\n",
       "</pre>\n"
      ],
      "text/plain": [
       "| Epoch :  124 | Trn. Loss : 3.534e-02 | Val. Loss : 1.914e-02 | LR : 1.741e-05 |\n"
      ]
     },
     "metadata": {},
     "output_type": "display_data"
    },
    {
     "data": {
      "text/html": [
       "<pre style=\"white-space:pre;overflow-x:auto;line-height:normal;font-family:Menlo,'DejaVu Sans Mono',consolas,'Courier New',monospace\">| Epoch :  125 | Trn. Loss : 3.369e-02 | Val. Loss : 1.687e-02 | LR : 1.716e-05 |\n",
       "</pre>\n"
      ],
      "text/plain": [
       "| Epoch :  125 | Trn. Loss : 3.369e-02 | Val. Loss : 1.687e-02 | LR : 1.716e-05 |\n"
      ]
     },
     "metadata": {},
     "output_type": "display_data"
    },
    {
     "data": {
      "text/html": [
       "<pre style=\"white-space:pre;overflow-x:auto;line-height:normal;font-family:Menlo,'DejaVu Sans Mono',consolas,'Courier New',monospace\">| Epoch :  126 | Trn. Loss : 3.383e-02 | Val. Loss : 1.651e-02 | LR : 1.692e-05 |\n",
       "</pre>\n"
      ],
      "text/plain": [
       "| Epoch :  126 | Trn. Loss : 3.383e-02 | Val. Loss : 1.651e-02 | LR : 1.692e-05 |\n"
      ]
     },
     "metadata": {},
     "output_type": "display_data"
    },
    {
     "data": {
      "text/html": [
       "<pre style=\"white-space:pre;overflow-x:auto;line-height:normal;font-family:Menlo,'DejaVu Sans Mono',consolas,'Courier New',monospace\">| Epoch :  127 | Trn. Loss : 3.161e-02 | Val. Loss : 1.686e-02 | LR : 1.669e-05 |\n",
       "</pre>\n"
      ],
      "text/plain": [
       "| Epoch :  127 | Trn. Loss : 3.161e-02 | Val. Loss : 1.686e-02 | LR : 1.669e-05 |\n"
      ]
     },
     "metadata": {},
     "output_type": "display_data"
    },
    {
     "data": {
      "text/html": [
       "<pre style=\"white-space:pre;overflow-x:auto;line-height:normal;font-family:Menlo,'DejaVu Sans Mono',consolas,'Courier New',monospace\">| Epoch :  128 | Trn. Loss : 3.605e-02 | Val. Loss : 1.700e-02 | LR : 1.645e-05 |\n",
       "</pre>\n"
      ],
      "text/plain": [
       "| Epoch :  128 | Trn. Loss : 3.605e-02 | Val. Loss : 1.700e-02 | LR : 1.645e-05 |\n"
      ]
     },
     "metadata": {},
     "output_type": "display_data"
    },
    {
     "data": {
      "text/html": [
       "<pre style=\"white-space:pre;overflow-x:auto;line-height:normal;font-family:Menlo,'DejaVu Sans Mono',consolas,'Courier New',monospace\">| Epoch :  129 | Trn. Loss : 3.472e-02 | Val. Loss : 1.785e-02 | LR : 1.622e-05 |\n",
       "</pre>\n"
      ],
      "text/plain": [
       "| Epoch :  129 | Trn. Loss : 3.472e-02 | Val. Loss : 1.785e-02 | LR : 1.622e-05 |\n"
      ]
     },
     "metadata": {},
     "output_type": "display_data"
    },
    {
     "data": {
      "text/html": [
       "<pre style=\"white-space:pre;overflow-x:auto;line-height:normal;font-family:Menlo,'DejaVu Sans Mono',consolas,'Courier New',monospace\">| Epoch :  130 | Trn. Loss : 3.322e-02 | Val. Loss : 1.949e-02 | LR : 1.600e-05 |\n",
       "</pre>\n"
      ],
      "text/plain": [
       "| Epoch :  130 | Trn. Loss : 3.322e-02 | Val. Loss : 1.949e-02 | LR : 1.600e-05 |\n"
      ]
     },
     "metadata": {},
     "output_type": "display_data"
    },
    {
     "data": {
      "text/html": [
       "<pre style=\"white-space:pre;overflow-x:auto;line-height:normal;font-family:Menlo,'DejaVu Sans Mono',consolas,'Courier New',monospace\">| Epoch :  131 | Trn. Loss : 3.575e-02 | Val. Loss : 1.900e-02 | LR : 1.577e-05 |\n",
       "</pre>\n"
      ],
      "text/plain": [
       "| Epoch :  131 | Trn. Loss : 3.575e-02 | Val. Loss : 1.900e-02 | LR : 1.577e-05 |\n"
      ]
     },
     "metadata": {},
     "output_type": "display_data"
    },
    {
     "data": {
      "text/html": [
       "<pre style=\"white-space:pre;overflow-x:auto;line-height:normal;font-family:Menlo,'DejaVu Sans Mono',consolas,'Courier New',monospace\">| Epoch :  132 | Trn. Loss : 3.269e-02 | Val. Loss : 1.743e-02 | LR : 1.555e-05 |\n",
       "</pre>\n"
      ],
      "text/plain": [
       "| Epoch :  132 | Trn. Loss : 3.269e-02 | Val. Loss : 1.743e-02 | LR : 1.555e-05 |\n"
      ]
     },
     "metadata": {},
     "output_type": "display_data"
    },
    {
     "data": {
      "text/html": [
       "<pre style=\"white-space:pre;overflow-x:auto;line-height:normal;font-family:Menlo,'DejaVu Sans Mono',consolas,'Courier New',monospace\">| Epoch :  133 | Trn. Loss : 3.353e-02 | Val. Loss : 1.623e-02 | LR : 1.533e-05 |\n",
       "</pre>\n"
      ],
      "text/plain": [
       "| Epoch :  133 | Trn. Loss : 3.353e-02 | Val. Loss : 1.623e-02 | LR : 1.533e-05 |\n"
      ]
     },
     "metadata": {},
     "output_type": "display_data"
    },
    {
     "data": {
      "text/html": [
       "<pre style=\"white-space:pre;overflow-x:auto;line-height:normal;font-family:Menlo,'DejaVu Sans Mono',consolas,'Courier New',monospace\">| Epoch :  134 | Trn. Loss : 3.442e-02 | Val. Loss : 1.716e-02 | LR : 1.512e-05 |\n",
       "</pre>\n"
      ],
      "text/plain": [
       "| Epoch :  134 | Trn. Loss : 3.442e-02 | Val. Loss : 1.716e-02 | LR : 1.512e-05 |\n"
      ]
     },
     "metadata": {},
     "output_type": "display_data"
    },
    {
     "data": {
      "text/html": [
       "<pre style=\"white-space:pre;overflow-x:auto;line-height:normal;font-family:Menlo,'DejaVu Sans Mono',consolas,'Courier New',monospace\">| Epoch :  135 | Trn. Loss : 3.273e-02 | Val. Loss : 1.465e-02 | LR : 1.491e-05 |\n",
       "</pre>\n"
      ],
      "text/plain": [
       "| Epoch :  135 | Trn. Loss : 3.273e-02 | Val. Loss : 1.465e-02 | LR : 1.491e-05 |\n"
      ]
     },
     "metadata": {},
     "output_type": "display_data"
    },
    {
     "data": {
      "text/html": [
       "<pre style=\"white-space:pre;overflow-x:auto;line-height:normal;font-family:Menlo,'DejaVu Sans Mono',consolas,'Courier New',monospace\">| Epoch :  136 | Trn. Loss : 3.061e-02 | Val. Loss : 1.379e-02 | LR : 1.470e-05 |\n",
       "</pre>\n"
      ],
      "text/plain": [
       "| Epoch :  136 | Trn. Loss : 3.061e-02 | Val. Loss : 1.379e-02 | LR : 1.470e-05 |\n"
      ]
     },
     "metadata": {},
     "output_type": "display_data"
    },
    {
     "data": {
      "text/html": [
       "<pre style=\"white-space:pre;overflow-x:auto;line-height:normal;font-family:Menlo,'DejaVu Sans Mono',consolas,'Courier New',monospace\">        Saving the best model with valLoss : 0.014\n",
       "</pre>\n"
      ],
      "text/plain": [
       "        Saving the best model with valLoss : 0.014\n"
      ]
     },
     "metadata": {},
     "output_type": "display_data"
    },
    {
     "data": {
      "text/html": [
       "<pre style=\"white-space:pre;overflow-x:auto;line-height:normal;font-family:Menlo,'DejaVu Sans Mono',consolas,'Courier New',monospace\">| Epoch :  137 | Trn. Loss : 2.994e-02 | Val. Loss : 1.509e-02 | LR : 1.449e-05 |\n",
       "</pre>\n"
      ],
      "text/plain": [
       "| Epoch :  137 | Trn. Loss : 2.994e-02 | Val. Loss : 1.509e-02 | LR : 1.449e-05 |\n"
      ]
     },
     "metadata": {},
     "output_type": "display_data"
    },
    {
     "data": {
      "text/html": [
       "<pre style=\"white-space:pre;overflow-x:auto;line-height:normal;font-family:Menlo,'DejaVu Sans Mono',consolas,'Courier New',monospace\">| Epoch :  138 | Trn. Loss : 3.519e-02 | Val. Loss : 1.735e-02 | LR : 1.429e-05 |\n",
       "</pre>\n"
      ],
      "text/plain": [
       "| Epoch :  138 | Trn. Loss : 3.519e-02 | Val. Loss : 1.735e-02 | LR : 1.429e-05 |\n"
      ]
     },
     "metadata": {},
     "output_type": "display_data"
    },
    {
     "data": {
      "text/html": [
       "<pre style=\"white-space:pre;overflow-x:auto;line-height:normal;font-family:Menlo,'DejaVu Sans Mono',consolas,'Courier New',monospace\">| Epoch :  139 | Trn. Loss : 3.366e-02 | Val. Loss : 1.588e-02 | LR : 1.409e-05 |\n",
       "</pre>\n"
      ],
      "text/plain": [
       "| Epoch :  139 | Trn. Loss : 3.366e-02 | Val. Loss : 1.588e-02 | LR : 1.409e-05 |\n"
      ]
     },
     "metadata": {},
     "output_type": "display_data"
    },
    {
     "data": {
      "text/html": [
       "<pre style=\"white-space:pre;overflow-x:auto;line-height:normal;font-family:Menlo,'DejaVu Sans Mono',consolas,'Courier New',monospace\">| Epoch :  140 | Trn. Loss : 3.573e-02 | Val. Loss : 1.510e-02 | LR : 1.389e-05 |\n",
       "</pre>\n"
      ],
      "text/plain": [
       "| Epoch :  140 | Trn. Loss : 3.573e-02 | Val. Loss : 1.510e-02 | LR : 1.389e-05 |\n"
      ]
     },
     "metadata": {},
     "output_type": "display_data"
    },
    {
     "data": {
      "text/html": [
       "<pre style=\"white-space:pre;overflow-x:auto;line-height:normal;font-family:Menlo,'DejaVu Sans Mono',consolas,'Courier New',monospace\">| Epoch :  141 | Trn. Loss : 3.036e-02 | Val. Loss : 1.452e-02 | LR : 1.370e-05 |\n",
       "</pre>\n"
      ],
      "text/plain": [
       "| Epoch :  141 | Trn. Loss : 3.036e-02 | Val. Loss : 1.452e-02 | LR : 1.370e-05 |\n"
      ]
     },
     "metadata": {},
     "output_type": "display_data"
    },
    {
     "data": {
      "text/html": [
       "<pre style=\"white-space:pre;overflow-x:auto;line-height:normal;font-family:Menlo,'DejaVu Sans Mono',consolas,'Courier New',monospace\">| Epoch :  142 | Trn. Loss : 3.211e-02 | Val. Loss : 1.518e-02 | LR : 1.351e-05 |\n",
       "</pre>\n"
      ],
      "text/plain": [
       "| Epoch :  142 | Trn. Loss : 3.211e-02 | Val. Loss : 1.518e-02 | LR : 1.351e-05 |\n"
      ]
     },
     "metadata": {},
     "output_type": "display_data"
    },
    {
     "data": {
      "text/html": [
       "<pre style=\"white-space:pre;overflow-x:auto;line-height:normal;font-family:Menlo,'DejaVu Sans Mono',consolas,'Courier New',monospace\">| Epoch :  143 | Trn. Loss : 3.319e-02 | Val. Loss : 1.752e-02 | LR : 1.332e-05 |\n",
       "</pre>\n"
      ],
      "text/plain": [
       "| Epoch :  143 | Trn. Loss : 3.319e-02 | Val. Loss : 1.752e-02 | LR : 1.332e-05 |\n"
      ]
     },
     "metadata": {},
     "output_type": "display_data"
    },
    {
     "data": {
      "text/html": [
       "<pre style=\"white-space:pre;overflow-x:auto;line-height:normal;font-family:Menlo,'DejaVu Sans Mono',consolas,'Courier New',monospace\">| Epoch :  144 | Trn. Loss : 3.204e-02 | Val. Loss : 1.690e-02 | LR : 1.313e-05 |\n",
       "</pre>\n"
      ],
      "text/plain": [
       "| Epoch :  144 | Trn. Loss : 3.204e-02 | Val. Loss : 1.690e-02 | LR : 1.313e-05 |\n"
      ]
     },
     "metadata": {},
     "output_type": "display_data"
    },
    {
     "data": {
      "text/html": [
       "<pre style=\"white-space:pre;overflow-x:auto;line-height:normal;font-family:Menlo,'DejaVu Sans Mono',consolas,'Courier New',monospace\">| Epoch :  145 | Trn. Loss : 3.080e-02 | Val. Loss : 1.582e-02 | LR : 1.295e-05 |\n",
       "</pre>\n"
      ],
      "text/plain": [
       "| Epoch :  145 | Trn. Loss : 3.080e-02 | Val. Loss : 1.582e-02 | LR : 1.295e-05 |\n"
      ]
     },
     "metadata": {},
     "output_type": "display_data"
    },
    {
     "data": {
      "text/html": [
       "<pre style=\"white-space:pre;overflow-x:auto;line-height:normal;font-family:Menlo,'DejaVu Sans Mono',consolas,'Courier New',monospace\">| Epoch :  146 | Trn. Loss : 3.118e-02 | Val. Loss : 1.553e-02 | LR : 1.277e-05 |\n",
       "</pre>\n"
      ],
      "text/plain": [
       "| Epoch :  146 | Trn. Loss : 3.118e-02 | Val. Loss : 1.553e-02 | LR : 1.277e-05 |\n"
      ]
     },
     "metadata": {},
     "output_type": "display_data"
    },
    {
     "data": {
      "text/html": [
       "<pre style=\"white-space:pre;overflow-x:auto;line-height:normal;font-family:Menlo,'DejaVu Sans Mono',consolas,'Courier New',monospace\">| Epoch :  147 | Trn. Loss : 3.306e-02 | Val. Loss : 1.719e-02 | LR : 1.259e-05 |\n",
       "</pre>\n"
      ],
      "text/plain": [
       "| Epoch :  147 | Trn. Loss : 3.306e-02 | Val. Loss : 1.719e-02 | LR : 1.259e-05 |\n"
      ]
     },
     "metadata": {},
     "output_type": "display_data"
    },
    {
     "data": {
      "text/html": [
       "<pre style=\"white-space:pre;overflow-x:auto;line-height:normal;font-family:Menlo,'DejaVu Sans Mono',consolas,'Courier New',monospace\">| Epoch :  148 | Trn. Loss : 3.001e-02 | Val. Loss : 1.709e-02 | LR : 1.241e-05 |\n",
       "</pre>\n"
      ],
      "text/plain": [
       "| Epoch :  148 | Trn. Loss : 3.001e-02 | Val. Loss : 1.709e-02 | LR : 1.241e-05 |\n"
      ]
     },
     "metadata": {},
     "output_type": "display_data"
    },
    {
     "data": {
      "text/html": [
       "<pre style=\"white-space:pre;overflow-x:auto;line-height:normal;font-family:Menlo,'DejaVu Sans Mono',consolas,'Courier New',monospace\">| Epoch :  149 | Trn. Loss : 2.878e-02 | Val. Loss : 1.703e-02 | LR : 1.224e-05 |\n",
       "</pre>\n"
      ],
      "text/plain": [
       "| Epoch :  149 | Trn. Loss : 2.878e-02 | Val. Loss : 1.703e-02 | LR : 1.224e-05 |\n"
      ]
     },
     "metadata": {},
     "output_type": "display_data"
    },
    {
     "data": {
      "text/html": [
       "<pre style=\"white-space:pre;overflow-x:auto;line-height:normal;font-family:Menlo,'DejaVu Sans Mono',consolas,'Courier New',monospace\">| Epoch :  150 | Trn. Loss : 3.655e-02 | Val. Loss : 1.894e-02 | LR : 1.207e-05 |\n",
       "</pre>\n"
      ],
      "text/plain": [
       "| Epoch :  150 | Trn. Loss : 3.655e-02 | Val. Loss : 1.894e-02 | LR : 1.207e-05 |\n"
      ]
     },
     "metadata": {},
     "output_type": "display_data"
    },
    {
     "data": {
      "text/html": [
       "<pre style=\"white-space:pre;overflow-x:auto;line-height:normal;font-family:Menlo,'DejaVu Sans Mono',consolas,'Courier New',monospace\">| Epoch :  151 | Trn. Loss : 3.202e-02 | Val. Loss : 2.045e-02 | LR : 1.190e-05 |\n",
       "</pre>\n"
      ],
      "text/plain": [
       "| Epoch :  151 | Trn. Loss : 3.202e-02 | Val. Loss : 2.045e-02 | LR : 1.190e-05 |\n"
      ]
     },
     "metadata": {},
     "output_type": "display_data"
    },
    {
     "data": {
      "text/html": [
       "<pre style=\"white-space:pre;overflow-x:auto;line-height:normal;font-family:Menlo,'DejaVu Sans Mono',consolas,'Courier New',monospace\">| Epoch :  152 | Trn. Loss : 3.659e-02 | Val. Loss : 1.832e-02 | LR : 1.173e-05 |\n",
       "</pre>\n"
      ],
      "text/plain": [
       "| Epoch :  152 | Trn. Loss : 3.659e-02 | Val. Loss : 1.832e-02 | LR : 1.173e-05 |\n"
      ]
     },
     "metadata": {},
     "output_type": "display_data"
    },
    {
     "data": {
      "text/html": [
       "<pre style=\"white-space:pre;overflow-x:auto;line-height:normal;font-family:Menlo,'DejaVu Sans Mono',consolas,'Courier New',monospace\">| Epoch :  153 | Trn. Loss : 3.156e-02 | Val. Loss : 1.635e-02 | LR : 1.157e-05 |\n",
       "</pre>\n"
      ],
      "text/plain": [
       "| Epoch :  153 | Trn. Loss : 3.156e-02 | Val. Loss : 1.635e-02 | LR : 1.157e-05 |\n"
      ]
     },
     "metadata": {},
     "output_type": "display_data"
    },
    {
     "data": {
      "text/html": [
       "<pre style=\"white-space:pre;overflow-x:auto;line-height:normal;font-family:Menlo,'DejaVu Sans Mono',consolas,'Courier New',monospace\">| Epoch :  154 | Trn. Loss : 2.806e-02 | Val. Loss : 1.570e-02 | LR : 1.140e-05 |\n",
       "</pre>\n"
      ],
      "text/plain": [
       "| Epoch :  154 | Trn. Loss : 2.806e-02 | Val. Loss : 1.570e-02 | LR : 1.140e-05 |\n"
      ]
     },
     "metadata": {},
     "output_type": "display_data"
    },
    {
     "data": {
      "text/html": [
       "<pre style=\"white-space:pre;overflow-x:auto;line-height:normal;font-family:Menlo,'DejaVu Sans Mono',consolas,'Courier New',monospace\">| Epoch :  155 | Trn. Loss : 3.030e-02 | Val. Loss : 1.656e-02 | LR : 1.124e-05 |\n",
       "</pre>\n"
      ],
      "text/plain": [
       "| Epoch :  155 | Trn. Loss : 3.030e-02 | Val. Loss : 1.656e-02 | LR : 1.124e-05 |\n"
      ]
     },
     "metadata": {},
     "output_type": "display_data"
    },
    {
     "data": {
      "text/html": [
       "<pre style=\"white-space:pre;overflow-x:auto;line-height:normal;font-family:Menlo,'DejaVu Sans Mono',consolas,'Courier New',monospace\">| Epoch :  156 | Trn. Loss : 3.213e-02 | Val. Loss : 1.601e-02 | LR : 1.109e-05 |\n",
       "</pre>\n"
      ],
      "text/plain": [
       "| Epoch :  156 | Trn. Loss : 3.213e-02 | Val. Loss : 1.601e-02 | LR : 1.109e-05 |\n"
      ]
     },
     "metadata": {},
     "output_type": "display_data"
    },
    {
     "data": {
      "text/html": [
       "<pre style=\"white-space:pre;overflow-x:auto;line-height:normal;font-family:Menlo,'DejaVu Sans Mono',consolas,'Courier New',monospace\">| Epoch :  157 | Trn. Loss : 3.210e-02 | Val. Loss : 1.602e-02 | LR : 1.093e-05 |\n",
       "</pre>\n"
      ],
      "text/plain": [
       "| Epoch :  157 | Trn. Loss : 3.210e-02 | Val. Loss : 1.602e-02 | LR : 1.093e-05 |\n"
      ]
     },
     "metadata": {},
     "output_type": "display_data"
    },
    {
     "data": {
      "text/html": [
       "<pre style=\"white-space:pre;overflow-x:auto;line-height:normal;font-family:Menlo,'DejaVu Sans Mono',consolas,'Courier New',monospace\">| Epoch :  158 | Trn. Loss : 3.217e-02 | Val. Loss : 1.907e-02 | LR : 1.078e-05 |\n",
       "</pre>\n"
      ],
      "text/plain": [
       "| Epoch :  158 | Trn. Loss : 3.217e-02 | Val. Loss : 1.907e-02 | LR : 1.078e-05 |\n"
      ]
     },
     "metadata": {},
     "output_type": "display_data"
    },
    {
     "data": {
      "text/html": [
       "<pre style=\"white-space:pre;overflow-x:auto;line-height:normal;font-family:Menlo,'DejaVu Sans Mono',consolas,'Courier New',monospace\">| Epoch :  159 | Trn. Loss : 3.034e-02 | Val. Loss : 1.652e-02 | LR : 1.063e-05 |\n",
       "</pre>\n"
      ],
      "text/plain": [
       "| Epoch :  159 | Trn. Loss : 3.034e-02 | Val. Loss : 1.652e-02 | LR : 1.063e-05 |\n"
      ]
     },
     "metadata": {},
     "output_type": "display_data"
    },
    {
     "data": {
      "text/html": [
       "<pre style=\"white-space:pre;overflow-x:auto;line-height:normal;font-family:Menlo,'DejaVu Sans Mono',consolas,'Courier New',monospace\">| Epoch :  160 | Trn. Loss : 3.289e-02 | Val. Loss : 1.549e-02 | LR : 1.048e-05 |\n",
       "</pre>\n"
      ],
      "text/plain": [
       "| Epoch :  160 | Trn. Loss : 3.289e-02 | Val. Loss : 1.549e-02 | LR : 1.048e-05 |\n"
      ]
     },
     "metadata": {},
     "output_type": "display_data"
    },
    {
     "data": {
      "text/html": [
       "<pre style=\"white-space:pre;overflow-x:auto;line-height:normal;font-family:Menlo,'DejaVu Sans Mono',consolas,'Courier New',monospace\">| Epoch :  161 | Trn. Loss : 3.371e-02 | Val. Loss : 1.739e-02 | LR : 1.033e-05 |\n",
       "</pre>\n"
      ],
      "text/plain": [
       "| Epoch :  161 | Trn. Loss : 3.371e-02 | Val. Loss : 1.739e-02 | LR : 1.033e-05 |\n"
      ]
     },
     "metadata": {},
     "output_type": "display_data"
    },
    {
     "data": {
      "text/html": [
       "<pre style=\"white-space:pre;overflow-x:auto;line-height:normal;font-family:Menlo,'DejaVu Sans Mono',consolas,'Courier New',monospace\">| Epoch :  162 | Trn. Loss : 3.012e-02 | Val. Loss : 1.938e-02 | LR : 1.019e-05 |\n",
       "</pre>\n"
      ],
      "text/plain": [
       "| Epoch :  162 | Trn. Loss : 3.012e-02 | Val. Loss : 1.938e-02 | LR : 1.019e-05 |\n"
      ]
     },
     "metadata": {},
     "output_type": "display_data"
    },
    {
     "data": {
      "text/html": [
       "<pre style=\"white-space:pre;overflow-x:auto;line-height:normal;font-family:Menlo,'DejaVu Sans Mono',consolas,'Courier New',monospace\">| Epoch :  163 | Trn. Loss : 3.075e-02 | Val. Loss : 1.785e-02 | LR : 1.004e-05 |\n",
       "</pre>\n"
      ],
      "text/plain": [
       "| Epoch :  163 | Trn. Loss : 3.075e-02 | Val. Loss : 1.785e-02 | LR : 1.004e-05 |\n"
      ]
     },
     "metadata": {},
     "output_type": "display_data"
    },
    {
     "data": {
      "text/html": [
       "<pre style=\"white-space:pre;overflow-x:auto;line-height:normal;font-family:Menlo,'DejaVu Sans Mono',consolas,'Courier New',monospace\">| Epoch :  164 | Trn. Loss : 3.020e-02 | Val. Loss : 1.730e-02 | LR : 9.904e-06 |\n",
       "</pre>\n"
      ],
      "text/plain": [
       "| Epoch :  164 | Trn. Loss : 3.020e-02 | Val. Loss : 1.730e-02 | LR : 9.904e-06 |\n"
      ]
     },
     "metadata": {},
     "output_type": "display_data"
    },
    {
     "data": {
      "text/html": [
       "<pre style=\"white-space:pre;overflow-x:auto;line-height:normal;font-family:Menlo,'DejaVu Sans Mono',consolas,'Courier New',monospace\">| Epoch :  165 | Trn. Loss : 3.275e-02 | Val. Loss : 1.453e-02 | LR : 9.765e-06 |\n",
       "</pre>\n"
      ],
      "text/plain": [
       "| Epoch :  165 | Trn. Loss : 3.275e-02 | Val. Loss : 1.453e-02 | LR : 9.765e-06 |\n"
      ]
     },
     "metadata": {},
     "output_type": "display_data"
    },
    {
     "data": {
      "text/html": [
       "<pre style=\"white-space:pre;overflow-x:auto;line-height:normal;font-family:Menlo,'DejaVu Sans Mono',consolas,'Courier New',monospace\">| Epoch :  166 | Trn. Loss : 3.385e-02 | Val. Loss : 1.612e-02 | LR : 9.629e-06 |\n",
       "</pre>\n"
      ],
      "text/plain": [
       "| Epoch :  166 | Trn. Loss : 3.385e-02 | Val. Loss : 1.612e-02 | LR : 9.629e-06 |\n"
      ]
     },
     "metadata": {},
     "output_type": "display_data"
    },
    {
     "data": {
      "text/html": [
       "<pre style=\"white-space:pre;overflow-x:auto;line-height:normal;font-family:Menlo,'DejaVu Sans Mono',consolas,'Courier New',monospace\">| Epoch :  167 | Trn. Loss : 3.387e-02 | Val. Loss : 1.768e-02 | LR : 9.494e-06 |\n",
       "</pre>\n"
      ],
      "text/plain": [
       "| Epoch :  167 | Trn. Loss : 3.387e-02 | Val. Loss : 1.768e-02 | LR : 9.494e-06 |\n"
      ]
     },
     "metadata": {},
     "output_type": "display_data"
    },
    {
     "data": {
      "text/html": [
       "<pre style=\"white-space:pre;overflow-x:auto;line-height:normal;font-family:Menlo,'DejaVu Sans Mono',consolas,'Courier New',monospace\">| Epoch :  168 | Trn. Loss : 3.064e-02 | Val. Loss : 1.587e-02 | LR : 9.361e-06 |\n",
       "</pre>\n"
      ],
      "text/plain": [
       "| Epoch :  168 | Trn. Loss : 3.064e-02 | Val. Loss : 1.587e-02 | LR : 9.361e-06 |\n"
      ]
     },
     "metadata": {},
     "output_type": "display_data"
    },
    {
     "data": {
      "text/html": [
       "<pre style=\"white-space:pre;overflow-x:auto;line-height:normal;font-family:Menlo,'DejaVu Sans Mono',consolas,'Courier New',monospace\">| Epoch :  169 | Trn. Loss : 3.162e-02 | Val. Loss : 1.620e-02 | LR : 9.230e-06 |\n",
       "</pre>\n"
      ],
      "text/plain": [
       "| Epoch :  169 | Trn. Loss : 3.162e-02 | Val. Loss : 1.620e-02 | LR : 9.230e-06 |\n"
      ]
     },
     "metadata": {},
     "output_type": "display_data"
    },
    {
     "data": {
      "text/html": [
       "<pre style=\"white-space:pre;overflow-x:auto;line-height:normal;font-family:Menlo,'DejaVu Sans Mono',consolas,'Courier New',monospace\">| Epoch :  170 | Trn. Loss : 2.915e-02 | Val. Loss : 1.682e-02 | LR : 9.101e-06 |\n",
       "</pre>\n"
      ],
      "text/plain": [
       "| Epoch :  170 | Trn. Loss : 2.915e-02 | Val. Loss : 1.682e-02 | LR : 9.101e-06 |\n"
      ]
     },
     "metadata": {},
     "output_type": "display_data"
    },
    {
     "data": {
      "text/html": [
       "<pre style=\"white-space:pre;overflow-x:auto;line-height:normal;font-family:Menlo,'DejaVu Sans Mono',consolas,'Courier New',monospace\">| Epoch :  171 | Trn. Loss : 3.014e-02 | Val. Loss : 1.796e-02 | LR : 8.973e-06 |\n",
       "</pre>\n"
      ],
      "text/plain": [
       "| Epoch :  171 | Trn. Loss : 3.014e-02 | Val. Loss : 1.796e-02 | LR : 8.973e-06 |\n"
      ]
     },
     "metadata": {},
     "output_type": "display_data"
    },
    {
     "data": {
      "text/html": [
       "<pre style=\"white-space:pre;overflow-x:auto;line-height:normal;font-family:Menlo,'DejaVu Sans Mono',consolas,'Courier New',monospace\">| Epoch :  172 | Trn. Loss : 3.279e-02 | Val. Loss : 1.957e-02 | LR : 8.848e-06 |\n",
       "</pre>\n"
      ],
      "text/plain": [
       "| Epoch :  172 | Trn. Loss : 3.279e-02 | Val. Loss : 1.957e-02 | LR : 8.848e-06 |\n"
      ]
     },
     "metadata": {},
     "output_type": "display_data"
    },
    {
     "data": {
      "text/html": [
       "<pre style=\"white-space:pre;overflow-x:auto;line-height:normal;font-family:Menlo,'DejaVu Sans Mono',consolas,'Courier New',monospace\">| Epoch :  173 | Trn. Loss : 3.072e-02 | Val. Loss : 1.892e-02 | LR : 8.724e-06 |\n",
       "</pre>\n"
      ],
      "text/plain": [
       "| Epoch :  173 | Trn. Loss : 3.072e-02 | Val. Loss : 1.892e-02 | LR : 8.724e-06 |\n"
      ]
     },
     "metadata": {},
     "output_type": "display_data"
    },
    {
     "data": {
      "text/html": [
       "<pre style=\"white-space:pre;overflow-x:auto;line-height:normal;font-family:Menlo,'DejaVu Sans Mono',consolas,'Courier New',monospace\">| Epoch :  174 | Trn. Loss : 3.029e-02 | Val. Loss : 1.806e-02 | LR : 8.602e-06 |\n",
       "</pre>\n"
      ],
      "text/plain": [
       "| Epoch :  174 | Trn. Loss : 3.029e-02 | Val. Loss : 1.806e-02 | LR : 8.602e-06 |\n"
      ]
     },
     "metadata": {},
     "output_type": "display_data"
    },
    {
     "data": {
      "text/html": [
       "<pre style=\"white-space:pre;overflow-x:auto;line-height:normal;font-family:Menlo,'DejaVu Sans Mono',consolas,'Courier New',monospace\">| Epoch :  175 | Trn. Loss : 2.987e-02 | Val. Loss : 1.708e-02 | LR : 8.481e-06 |\n",
       "</pre>\n"
      ],
      "text/plain": [
       "| Epoch :  175 | Trn. Loss : 2.987e-02 | Val. Loss : 1.708e-02 | LR : 8.481e-06 |\n"
      ]
     },
     "metadata": {},
     "output_type": "display_data"
    },
    {
     "data": {
      "text/html": [
       "<pre style=\"white-space:pre;overflow-x:auto;line-height:normal;font-family:Menlo,'DejaVu Sans Mono',consolas,'Courier New',monospace\">| Epoch :  176 | Trn. Loss : 3.016e-02 | Val. Loss : 1.516e-02 | LR : 8.363e-06 |\n",
       "</pre>\n"
      ],
      "text/plain": [
       "| Epoch :  176 | Trn. Loss : 3.016e-02 | Val. Loss : 1.516e-02 | LR : 8.363e-06 |\n"
      ]
     },
     "metadata": {},
     "output_type": "display_data"
    },
    {
     "data": {
      "text/html": [
       "<pre style=\"white-space:pre;overflow-x:auto;line-height:normal;font-family:Menlo,'DejaVu Sans Mono',consolas,'Courier New',monospace\">| Epoch :  177 | Trn. Loss : 2.822e-02 | Val. Loss : 1.562e-02 | LR : 8.245e-06 |\n",
       "</pre>\n"
      ],
      "text/plain": [
       "| Epoch :  177 | Trn. Loss : 2.822e-02 | Val. Loss : 1.562e-02 | LR : 8.245e-06 |\n"
      ]
     },
     "metadata": {},
     "output_type": "display_data"
    },
    {
     "data": {
      "text/html": [
       "<pre style=\"white-space:pre;overflow-x:auto;line-height:normal;font-family:Menlo,'DejaVu Sans Mono',consolas,'Courier New',monospace\">| Epoch :  178 | Trn. Loss : 3.017e-02 | Val. Loss : 1.679e-02 | LR : 8.130e-06 |\n",
       "</pre>\n"
      ],
      "text/plain": [
       "| Epoch :  178 | Trn. Loss : 3.017e-02 | Val. Loss : 1.679e-02 | LR : 8.130e-06 |\n"
      ]
     },
     "metadata": {},
     "output_type": "display_data"
    },
    {
     "data": {
      "text/html": [
       "<pre style=\"white-space:pre;overflow-x:auto;line-height:normal;font-family:Menlo,'DejaVu Sans Mono',consolas,'Courier New',monospace\">| Epoch :  179 | Trn. Loss : 2.864e-02 | Val. Loss : 1.540e-02 | LR : 8.016e-06 |\n",
       "</pre>\n"
      ],
      "text/plain": [
       "| Epoch :  179 | Trn. Loss : 2.864e-02 | Val. Loss : 1.540e-02 | LR : 8.016e-06 |\n"
      ]
     },
     "metadata": {},
     "output_type": "display_data"
    },
    {
     "data": {
      "text/html": [
       "<pre style=\"white-space:pre;overflow-x:auto;line-height:normal;font-family:Menlo,'DejaVu Sans Mono',consolas,'Courier New',monospace\">| Epoch :  180 | Trn. Loss : 3.092e-02 | Val. Loss : 1.467e-02 | LR : 7.904e-06 |\n",
       "</pre>\n"
      ],
      "text/plain": [
       "| Epoch :  180 | Trn. Loss : 3.092e-02 | Val. Loss : 1.467e-02 | LR : 7.904e-06 |\n"
      ]
     },
     "metadata": {},
     "output_type": "display_data"
    },
    {
     "data": {
      "text/html": [
       "<pre style=\"white-space:pre;overflow-x:auto;line-height:normal;font-family:Menlo,'DejaVu Sans Mono',consolas,'Courier New',monospace\">| Epoch :  181 | Trn. Loss : 3.256e-02 | Val. Loss : 1.518e-02 | LR : 7.793e-06 |\n",
       "</pre>\n"
      ],
      "text/plain": [
       "| Epoch :  181 | Trn. Loss : 3.256e-02 | Val. Loss : 1.518e-02 | LR : 7.793e-06 |\n"
      ]
     },
     "metadata": {},
     "output_type": "display_data"
    },
    {
     "data": {
      "text/html": [
       "<pre style=\"white-space:pre;overflow-x:auto;line-height:normal;font-family:Menlo,'DejaVu Sans Mono',consolas,'Courier New',monospace\">| Epoch :  182 | Trn. Loss : 2.901e-02 | Val. Loss : 1.789e-02 | LR : 7.684e-06 |\n",
       "</pre>\n"
      ],
      "text/plain": [
       "| Epoch :  182 | Trn. Loss : 2.901e-02 | Val. Loss : 1.789e-02 | LR : 7.684e-06 |\n"
      ]
     },
     "metadata": {},
     "output_type": "display_data"
    },
    {
     "data": {
      "text/html": [
       "<pre style=\"white-space:pre;overflow-x:auto;line-height:normal;font-family:Menlo,'DejaVu Sans Mono',consolas,'Courier New',monospace\">| Epoch :  183 | Trn. Loss : 3.243e-02 | Val. Loss : 1.763e-02 | LR : 7.577e-06 |\n",
       "</pre>\n"
      ],
      "text/plain": [
       "| Epoch :  183 | Trn. Loss : 3.243e-02 | Val. Loss : 1.763e-02 | LR : 7.577e-06 |\n"
      ]
     },
     "metadata": {},
     "output_type": "display_data"
    },
    {
     "data": {
      "text/html": [
       "<pre style=\"white-space:pre;overflow-x:auto;line-height:normal;font-family:Menlo,'DejaVu Sans Mono',consolas,'Courier New',monospace\">| Epoch :  184 | Trn. Loss : 3.130e-02 | Val. Loss : 1.716e-02 | LR : 7.471e-06 |\n",
       "</pre>\n"
      ],
      "text/plain": [
       "| Epoch :  184 | Trn. Loss : 3.130e-02 | Val. Loss : 1.716e-02 | LR : 7.471e-06 |\n"
      ]
     },
     "metadata": {},
     "output_type": "display_data"
    },
    {
     "data": {
      "text/html": [
       "<pre style=\"white-space:pre;overflow-x:auto;line-height:normal;font-family:Menlo,'DejaVu Sans Mono',consolas,'Courier New',monospace\">| Epoch :  185 | Trn. Loss : 3.290e-02 | Val. Loss : 1.654e-02 | LR : 7.366e-06 |\n",
       "</pre>\n"
      ],
      "text/plain": [
       "| Epoch :  185 | Trn. Loss : 3.290e-02 | Val. Loss : 1.654e-02 | LR : 7.366e-06 |\n"
      ]
     },
     "metadata": {},
     "output_type": "display_data"
    },
    {
     "data": {
      "text/html": [
       "<pre style=\"white-space:pre;overflow-x:auto;line-height:normal;font-family:Menlo,'DejaVu Sans Mono',consolas,'Courier New',monospace\">| Epoch :  186 | Trn. Loss : 2.883e-02 | Val. Loss : 1.568e-02 | LR : 7.263e-06 |\n",
       "</pre>\n"
      ],
      "text/plain": [
       "| Epoch :  186 | Trn. Loss : 2.883e-02 | Val. Loss : 1.568e-02 | LR : 7.263e-06 |\n"
      ]
     },
     "metadata": {},
     "output_type": "display_data"
    },
    {
     "data": {
      "text/html": [
       "<pre style=\"white-space:pre;overflow-x:auto;line-height:normal;font-family:Menlo,'DejaVu Sans Mono',consolas,'Courier New',monospace\">| Epoch :  187 | Trn. Loss : 3.263e-02 | Val. Loss : 1.499e-02 | LR : 7.161e-06 |\n",
       "</pre>\n"
      ],
      "text/plain": [
       "| Epoch :  187 | Trn. Loss : 3.263e-02 | Val. Loss : 1.499e-02 | LR : 7.161e-06 |\n"
      ]
     },
     "metadata": {},
     "output_type": "display_data"
    },
    {
     "data": {
      "text/html": [
       "<pre style=\"white-space:pre;overflow-x:auto;line-height:normal;font-family:Menlo,'DejaVu Sans Mono',consolas,'Courier New',monospace\">| Epoch :  188 | Trn. Loss : 3.309e-02 | Val. Loss : 1.525e-02 | LR : 7.061e-06 |\n",
       "</pre>\n"
      ],
      "text/plain": [
       "| Epoch :  188 | Trn. Loss : 3.309e-02 | Val. Loss : 1.525e-02 | LR : 7.061e-06 |\n"
      ]
     },
     "metadata": {},
     "output_type": "display_data"
    },
    {
     "data": {
      "text/html": [
       "<pre style=\"white-space:pre;overflow-x:auto;line-height:normal;font-family:Menlo,'DejaVu Sans Mono',consolas,'Courier New',monospace\">| Epoch :  189 | Trn. Loss : 3.061e-02 | Val. Loss : 1.757e-02 | LR : 6.962e-06 |\n",
       "</pre>\n"
      ],
      "text/plain": [
       "| Epoch :  189 | Trn. Loss : 3.061e-02 | Val. Loss : 1.757e-02 | LR : 6.962e-06 |\n"
      ]
     },
     "metadata": {},
     "output_type": "display_data"
    },
    {
     "data": {
      "text/html": [
       "<pre style=\"white-space:pre;overflow-x:auto;line-height:normal;font-family:Menlo,'DejaVu Sans Mono',consolas,'Courier New',monospace\">| Epoch :  190 | Trn. Loss : 2.789e-02 | Val. Loss : 1.761e-02 | LR : 6.865e-06 |\n",
       "</pre>\n"
      ],
      "text/plain": [
       "| Epoch :  190 | Trn. Loss : 2.789e-02 | Val. Loss : 1.761e-02 | LR : 6.865e-06 |\n"
      ]
     },
     "metadata": {},
     "output_type": "display_data"
    },
    {
     "data": {
      "text/html": [
       "<pre style=\"white-space:pre;overflow-x:auto;line-height:normal;font-family:Menlo,'DejaVu Sans Mono',consolas,'Courier New',monospace\">| Epoch :  191 | Trn. Loss : 2.962e-02 | Val. Loss : 1.706e-02 | LR : 6.768e-06 |\n",
       "</pre>\n"
      ],
      "text/plain": [
       "| Epoch :  191 | Trn. Loss : 2.962e-02 | Val. Loss : 1.706e-02 | LR : 6.768e-06 |\n"
      ]
     },
     "metadata": {},
     "output_type": "display_data"
    },
    {
     "data": {
      "text/html": [
       "<pre style=\"white-space:pre;overflow-x:auto;line-height:normal;font-family:Menlo,'DejaVu Sans Mono',consolas,'Courier New',monospace\">| Epoch :  192 | Trn. Loss : 2.963e-02 | Val. Loss : 1.619e-02 | LR : 6.674e-06 |\n",
       "</pre>\n"
      ],
      "text/plain": [
       "| Epoch :  192 | Trn. Loss : 2.963e-02 | Val. Loss : 1.619e-02 | LR : 6.674e-06 |\n"
      ]
     },
     "metadata": {},
     "output_type": "display_data"
    },
    {
     "data": {
      "text/html": [
       "<pre style=\"white-space:pre;overflow-x:auto;line-height:normal;font-family:Menlo,'DejaVu Sans Mono',consolas,'Courier New',monospace\">| Epoch :  193 | Trn. Loss : 3.363e-02 | Val. Loss : 1.865e-02 | LR : 6.580e-06 |\n",
       "</pre>\n"
      ],
      "text/plain": [
       "| Epoch :  193 | Trn. Loss : 3.363e-02 | Val. Loss : 1.865e-02 | LR : 6.580e-06 |\n"
      ]
     },
     "metadata": {},
     "output_type": "display_data"
    },
    {
     "data": {
      "text/html": [
       "<pre style=\"white-space:pre;overflow-x:auto;line-height:normal;font-family:Menlo,'DejaVu Sans Mono',consolas,'Courier New',monospace\">| Epoch :  194 | Trn. Loss : 3.128e-02 | Val. Loss : 1.707e-02 | LR : 6.488e-06 |\n",
       "</pre>\n"
      ],
      "text/plain": [
       "| Epoch :  194 | Trn. Loss : 3.128e-02 | Val. Loss : 1.707e-02 | LR : 6.488e-06 |\n"
      ]
     },
     "metadata": {},
     "output_type": "display_data"
    },
    {
     "data": {
      "text/html": [
       "<pre style=\"white-space:pre;overflow-x:auto;line-height:normal;font-family:Menlo,'DejaVu Sans Mono',consolas,'Courier New',monospace\">| Epoch :  195 | Trn. Loss : 2.634e-02 | Val. Loss : 1.509e-02 | LR : 6.397e-06 |\n",
       "</pre>\n"
      ],
      "text/plain": [
       "| Epoch :  195 | Trn. Loss : 2.634e-02 | Val. Loss : 1.509e-02 | LR : 6.397e-06 |\n"
      ]
     },
     "metadata": {},
     "output_type": "display_data"
    },
    {
     "data": {
      "text/html": [
       "<pre style=\"white-space:pre;overflow-x:auto;line-height:normal;font-family:Menlo,'DejaVu Sans Mono',consolas,'Courier New',monospace\">| Epoch :  196 | Trn. Loss : 2.881e-02 | Val. Loss : 1.479e-02 | LR : 6.308e-06 |\n",
       "</pre>\n"
      ],
      "text/plain": [
       "| Epoch :  196 | Trn. Loss : 2.881e-02 | Val. Loss : 1.479e-02 | LR : 6.308e-06 |\n"
      ]
     },
     "metadata": {},
     "output_type": "display_data"
    },
    {
     "data": {
      "text/html": [
       "<pre style=\"white-space:pre;overflow-x:auto;line-height:normal;font-family:Menlo,'DejaVu Sans Mono',consolas,'Courier New',monospace\">| Epoch :  197 | Trn. Loss : 2.856e-02 | Val. Loss : 1.545e-02 | LR : 6.219e-06 |\n",
       "</pre>\n"
      ],
      "text/plain": [
       "| Epoch :  197 | Trn. Loss : 2.856e-02 | Val. Loss : 1.545e-02 | LR : 6.219e-06 |\n"
      ]
     },
     "metadata": {},
     "output_type": "display_data"
    },
    {
     "data": {
      "text/html": [
       "<pre style=\"white-space:pre;overflow-x:auto;line-height:normal;font-family:Menlo,'DejaVu Sans Mono',consolas,'Courier New',monospace\">| Epoch :  198 | Trn. Loss : 3.012e-02 | Val. Loss : 1.577e-02 | LR : 6.132e-06 |\n",
       "</pre>\n"
      ],
      "text/plain": [
       "| Epoch :  198 | Trn. Loss : 3.012e-02 | Val. Loss : 1.577e-02 | LR : 6.132e-06 |\n"
      ]
     },
     "metadata": {},
     "output_type": "display_data"
    },
    {
     "data": {
      "text/html": [
       "<pre style=\"white-space:pre;overflow-x:auto;line-height:normal;font-family:Menlo,'DejaVu Sans Mono',consolas,'Courier New',monospace\">| Epoch :  199 | Trn. Loss : 3.292e-02 | Val. Loss : 1.714e-02 | LR : 6.047e-06 |\n",
       "</pre>\n"
      ],
      "text/plain": [
       "| Epoch :  199 | Trn. Loss : 3.292e-02 | Val. Loss : 1.714e-02 | LR : 6.047e-06 |\n"
      ]
     },
     "metadata": {},
     "output_type": "display_data"
    },
    {
     "data": {
      "text/html": [
       "<pre style=\"white-space:pre;overflow-x:auto;line-height:normal;font-family:Menlo,'DejaVu Sans Mono',consolas,'Courier New',monospace\"></pre>\n"
      ],
      "text/plain": []
     },
     "metadata": {},
     "output_type": "display_data"
    },
    {
     "data": {
      "text/html": [
       "<pre style=\"white-space:pre;overflow-x:auto;line-height:normal;font-family:Menlo,'DejaVu Sans Mono',consolas,'Courier New',monospace\">\n",
       "</pre>\n"
      ],
      "text/plain": [
       "\n"
      ]
     },
     "metadata": {},
     "output_type": "display_data"
    }
   ],
   "source": [
    "train.run()"
   ]
  },
  {
   "cell_type": "markdown",
   "id": "e77bb6f5-83c3-446f-891a-760ba340cdfb",
   "metadata": {},
   "source": [
    "## Loss Curve"
   ]
  },
  {
   "cell_type": "code",
   "execution_count": 6,
   "id": "4efb4f86-7a1d-4f7e-980b-3944026c327b",
   "metadata": {},
   "outputs": [
    {
     "data": {
      "image/png": "[encoded data removed]",
      "text/plain": [
       "<Figure size 1600x1200 with 2 Axes>"
      ]
     },
     "metadata": {},
     "output_type": "display_data"
    }
   ],
   "source": [
    "train.lossCurve()"
   ]
  },
  {
   "cell_type": "markdown",
   "id": "d8c22183-d46b-48b5-92fc-888911617126",
   "metadata": {},
   "source": [
    "## ParityPlot"
   ]
  },
  {
   "cell_type": "code",
   "execution_count": 7,
   "id": "b052295a-bb49-47fc-b7b9-b03024a23bf5",
   "metadata": {},
   "outputs": [
    {
     "data": {
      "image/png": "[encoded data removed]",
      "text/plain": [
       "<Figure size 1600x1200 with 1 Axes>"
      ]
     },
     "metadata": {},
     "output_type": "display_data"
    }
   ],
   "source": [
    "train.TPPlot()"
   ]
  }
 ],
 "metadata": {
  "kernelspec": {
   "display_name": "Python 3 (ipykernel)",
   "language": "python",
   "name": "python3"
  },
  "language_info": {
   "codemirror_mode": {
    "name": "ipython",
    "version": 3
   },
   "file_extension": ".py",
   "mimetype": "text/x-python",
   "name": "python",
   "nbconvert_exporter": "python",
   "pygments_lexer": "ipython3",
   "version": "3.11.9"
  }
 },
 "nbformat": 4,
 "nbformat_minor": 5
}
